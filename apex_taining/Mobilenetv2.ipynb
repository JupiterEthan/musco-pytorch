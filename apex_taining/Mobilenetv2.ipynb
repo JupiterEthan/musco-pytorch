{
 "cells": [
  {
   "cell_type": "code",
   "execution_count": 1,
   "metadata": {},
   "outputs": [],
   "source": [
    "import os\n",
    "os.environ[\"CUDA_DEVICE_ORDER\"]=\"PCI_BUS_ID\"  \n",
    "os.environ[\"CUDA_VISIBLE_DEVICES\"]=\"1\" "
   ]
  },
  {
   "cell_type": "code",
   "execution_count": 5,
   "metadata": {},
   "outputs": [],
   "source": [
    "import torch\n",
    "from collections import OrderedDict\n",
    "import time\n",
    "\n",
    "from torchvision.models import resnet50, resnet34, resnet18\n",
    "from mobilenetv2 import MobileNetV2\n",
    "\n",
    "import sys\n",
    "sys.path.append('../')\n",
    "\n",
    "from flopco import FlopCo"
   ]
  },
  {
   "cell_type": "code",
   "execution_count": 6,
   "metadata": {},
   "outputs": [
    {
     "data": {
      "text/plain": [
       "True"
      ]
     },
     "execution_count": 6,
     "metadata": {},
     "output_type": "execute_result"
    }
   ],
   "source": [
    "torch.backends.cudnn.enabled"
   ]
  },
  {
   "cell_type": "code",
   "execution_count": 7,
   "metadata": {},
   "outputs": [],
   "source": [
    "mresnet50 = resnet50()\n",
    "mresnet18 = resnet18()\n",
    "mresnet34 = resnet34()\n",
    "\n",
    "\n",
    "mb_profiles = ['normal', '0.7flops']\n",
    "mb_pathes = ['mobilenetv2_imagenet_71.814.pth.tar',\\\n",
    "             'mobilenetv2_imagenet_0.7amc_70.854.pth.tar',\\\n",
    "#              'mobilenet_imagenet_0.5flops_70.5.pth.tar', \\\n",
    "#              'mobilenet_imagenet_0.5time_70.2.pth.tar'\n",
    "            ]\n",
    "\n",
    "path_to_mbnet = \"/gpfs/gpfs0/y.gusak/pretrained/amc-compressed-models\"\n",
    "img_size = (1, 3, 224, 224)"
   ]
  },
  {
   "cell_type": "code",
   "execution_count": 8,
   "metadata": {},
   "outputs": [
    {
     "name": "stdout",
     "output_type": "stream",
     "text": [
      "mobilenetv2_imagenet_0.7amc_70.854.pth.tar 18.65939792416775 16.650757185855568 8.253485538552349\n",
      "mobilenetv2_imagenet_71.814.pth.tar 13.10637595631399 11.69550510268425 5.797254812716178\n"
     ]
    }
   ],
   "source": [
    "mresnet50_flops = FlopCo(model=mresnet50, img_size=img_size)\n",
    "mresnet34_flops = FlopCo(model=mresnet34, img_size=img_size)\n",
    "mresnet18_flops = FlopCo(model=mresnet18, img_size=img_size)\n",
    "\n",
    "\n",
    "for mb_profile, mbpath in zip(mb_profiles[::-1], mb_pathes[::-1]):\n",
    "\n",
    "    mbnet = MobileNetV2(profile = mb_profile)\n",
    "\n",
    "    model_dict = mbnet.state_dict()\n",
    "    pretrained_dict = torch.load('{}/{}'.format(path_to_mbnet, mbpath),\n",
    "                                 map_location='cpu')['state_dict']\n",
    "    pretrained_dict = {k.strip('.module') : v for k,v in pretrained_dict.items()}\n",
    "    model_dict.update(pretrained_dict)\n",
    "\n",
    "    mbnet.load_state_dict(model_dict)\n",
    "    \n",
    "    mbnet_flops = FlopCo(model=mbnet, img_size=img_size)    \n",
    "    print(mbpath, mresnet50_flops.total_flops/mbnet_flops.total_flops,\\\n",
    "          mresnet34_flops.total_flops/mbnet_flops.total_flops,\\\n",
    "          mresnet18_flops.total_flops/mbnet_flops.total_flops)  "
   ]
  },
  {
   "cell_type": "code",
   "execution_count": 9,
   "metadata": {},
   "outputs": [],
   "source": [
    "mresnet50.to('cuda')\n",
    "mresnet34.to('cuda')\n",
    "mresnet18.to('cuda')\n",
    "\n",
    "mbnet.to('cuda')\n",
    "\n",
    "x = torch.randn(1, 3, 224, 224).cuda()"
   ]
  },
  {
   "cell_type": "code",
   "execution_count": 10,
   "metadata": {},
   "outputs": [
    {
     "name": "stdout",
     "output_type": "stream",
     "text": [
      "9.53 ms ± 428 µs per loop (mean ± std. dev. of 7 runs, 100 loops each)\n"
     ]
    }
   ],
   "source": [
    "%timeit y = mresnet50(x)"
   ]
  },
  {
   "cell_type": "code",
   "execution_count": 11,
   "metadata": {},
   "outputs": [
    {
     "name": "stdout",
     "output_type": "stream",
     "text": [
      "7.39 ms ± 464 µs per loop (mean ± std. dev. of 7 runs, 100 loops each)\n"
     ]
    }
   ],
   "source": [
    "%timeit y = mresnet34(x)"
   ]
  },
  {
   "cell_type": "code",
   "execution_count": 12,
   "metadata": {},
   "outputs": [
    {
     "name": "stdout",
     "output_type": "stream",
     "text": [
      "4.23 ms ± 23.1 µs per loop (mean ± std. dev. of 7 runs, 100 loops each)\n"
     ]
    }
   ],
   "source": [
    "%timeit y = mresnet18(x)"
   ]
  },
  {
   "cell_type": "code",
   "execution_count": 13,
   "metadata": {},
   "outputs": [
    {
     "name": "stdout",
     "output_type": "stream",
     "text": [
      "8.52 ms ± 751 µs per loop (mean ± std. dev. of 7 runs, 100 loops each)\n"
     ]
    }
   ],
   "source": [
    "%timeit y = mbnet(x)"
   ]
  },
  {
   "cell_type": "code",
   "execution_count": 24,
   "metadata": {},
   "outputs": [],
   "source": [
    "mresnet50.to('cuda')\n",
    "mresnet34.to('cuda')\n",
    "mresnet18.to('cuda')\n",
    "\n",
    "mbnet.to('cuda')\n",
    "\n",
    "x = torch.randn(32, 3, 224, 224).cuda()"
   ]
  },
  {
   "cell_type": "code",
   "execution_count": 25,
   "metadata": {},
   "outputs": [
    {
     "name": "stdout",
     "output_type": "stream",
     "text": [
      "41.1 ms ± 1.39 ms per loop (mean ± std. dev. of 7 runs, 10 loops each)\n"
     ]
    }
   ],
   "source": [
    "%timeit y = mresnet50(x)"
   ]
  },
  {
   "cell_type": "code",
   "execution_count": 26,
   "metadata": {},
   "outputs": [
    {
     "name": "stdout",
     "output_type": "stream",
     "text": [
      "19.5 ms ± 421 µs per loop (mean ± std. dev. of 7 runs, 100 loops each)\n"
     ]
    }
   ],
   "source": [
    "%timeit y = mresnet34(x)"
   ]
  },
  {
   "cell_type": "code",
   "execution_count": 27,
   "metadata": {},
   "outputs": [
    {
     "name": "stdout",
     "output_type": "stream",
     "text": [
      "11.4 ms ± 1.14 ms per loop (mean ± std. dev. of 7 runs, 100 loops each)\n"
     ]
    }
   ],
   "source": [
    "%timeit y = mresnet18(x)"
   ]
  },
  {
   "cell_type": "code",
   "execution_count": 28,
   "metadata": {},
   "outputs": [
    {
     "name": "stdout",
     "output_type": "stream",
     "text": [
      "11.7 ms ± 1.53 ms per loop (mean ± std. dev. of 7 runs, 100 loops each)\n"
     ]
    }
   ],
   "source": [
    "%timeit y = mbnet(x)"
   ]
  },
  {
   "cell_type": "code",
   "execution_count": 14,
   "metadata": {},
   "outputs": [],
   "source": [
    "mresnet50.to('cpu')\n",
    "mresnet34.to('cpu')\n",
    "mresnet18.to('cpu')\n",
    "\n",
    "mbnet.to('cpu')\n",
    "\n",
    "x = torch.randn(1, 3, 224, 224)"
   ]
  },
  {
   "cell_type": "code",
   "execution_count": 15,
   "metadata": {},
   "outputs": [
    {
     "name": "stdout",
     "output_type": "stream",
     "text": [
      "9.85 s ± 123 ms per loop (mean ± std. dev. of 7 runs, 1 loop each)\n"
     ]
    }
   ],
   "source": [
    "%timeit y = mresnet50(x)"
   ]
  },
  {
   "cell_type": "code",
   "execution_count": 16,
   "metadata": {},
   "outputs": [
    {
     "name": "stdout",
     "output_type": "stream",
     "text": [
      "6.7 s ± 128 ms per loop (mean ± std. dev. of 7 runs, 1 loop each)\n"
     ]
    }
   ],
   "source": [
    "%timeit y = mresnet34(x)"
   ]
  },
  {
   "cell_type": "code",
   "execution_count": 17,
   "metadata": {},
   "outputs": [
    {
     "name": "stdout",
     "output_type": "stream",
     "text": [
      "3.69 s ± 151 ms per loop (mean ± std. dev. of 7 runs, 1 loop each)\n"
     ]
    }
   ],
   "source": [
    "%timeit y = mresnet18(x)"
   ]
  },
  {
   "cell_type": "code",
   "execution_count": 18,
   "metadata": {},
   "outputs": [
    {
     "name": "stdout",
     "output_type": "stream",
     "text": [
      "9.48 s ± 425 ms per loop (mean ± std. dev. of 7 runs, 1 loop each)\n"
     ]
    }
   ],
   "source": [
    "%timeit y = mbnet(x)"
   ]
  },
  {
   "cell_type": "code",
   "execution_count": null,
   "metadata": {},
   "outputs": [],
   "source": []
  }
 ],
 "metadata": {
  "kernelspec": {
   "display_name": "Python 3",
   "language": "python",
   "name": "python3"
  },
  "language_info": {
   "codemirror_mode": {
    "name": "ipython",
    "version": 3
   },
   "file_extension": ".py",
   "mimetype": "text/x-python",
   "name": "python",
   "nbconvert_exporter": "python",
   "pygments_lexer": "ipython3",
   "version": "3.6.8"
  }
 },
 "nbformat": 4,
 "nbformat_minor": 2
}
