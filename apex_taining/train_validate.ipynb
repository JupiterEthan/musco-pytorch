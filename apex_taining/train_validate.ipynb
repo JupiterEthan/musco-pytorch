{
 "cells": [
  {
   "cell_type": "markdown",
   "metadata": {},
   "source": [
    "## Accuracy"
   ]
  },
  {
   "cell_type": "code",
   "execution_count": 5,
   "metadata": {
    "collapsed": true
   },
   "outputs": [
    {
     "name": "stdout",
     "output_type": "stream",
     "text": [
      "Thu Jun 27 07:58:30 2019       \n",
      "+-----------------------------------------------------------------------------+\n",
      "| NVIDIA-SMI 418.67       Driver Version: 418.67       CUDA Version: 10.1     |\n",
      "|-------------------------------+----------------------+----------------------+\n",
      "| GPU  Name        Persistence-M| Bus-Id        Disp.A | Volatile Uncorr. ECC |\n",
      "| Fan  Temp  Perf  Pwr:Usage/Cap|         Memory-Usage | GPU-Util  Compute M. |\n",
      "|===============================+======================+======================|\n",
      "|   0  Tesla V100-SXM2...  On   | 00000000:1A:00.0 Off |                    0 |\n",
      "| N/A   34C    P0    73W / 300W |   1446MiB / 16130MiB |     98%      Default |\n",
      "+-------------------------------+----------------------+----------------------+\n",
      "|   1  Tesla V100-SXM2...  On   | 00000000:1C:00.0 Off |                    0 |\n",
      "| N/A   30C    P0    55W / 300W |   1178MiB / 16130MiB |      0%      Default |\n",
      "+-------------------------------+----------------------+----------------------+\n",
      "|   2  Tesla V100-SXM2...  On   | 00000000:1D:00.0 Off |                    0 |\n",
      "| N/A   29C    P0    55W / 300W |   1178MiB / 16130MiB |      0%      Default |\n",
      "+-------------------------------+----------------------+----------------------+\n",
      "|   3  Tesla V100-SXM2...  On   | 00000000:1E:00.0 Off |                    0 |\n",
      "| N/A   30C    P0    55W / 300W |   1178MiB / 16130MiB |      0%      Default |\n",
      "+-------------------------------+----------------------+----------------------+\n",
      "                                                                               \n",
      "+-----------------------------------------------------------------------------+\n",
      "| Processes:                                                       GPU Memory |\n",
      "|  GPU       PID   Type   Process name                             Usage      |\n",
      "|=============================================================================|\n",
      "|    0     26797      C   ....burashnikova/env-python3/bin/python3.6   397MiB |\n",
      "|    0     27694      C   ....burashnikova/env-python3/bin/python3.6   519MiB |\n",
      "|    0     28354      C   ....burashnikova/env-python3/bin/python3.6   519MiB |\n",
      "|    1     26797      C   ....burashnikova/env-python3/bin/python3.6   389MiB |\n",
      "|    1     27694      C   ....burashnikova/env-python3/bin/python3.6   389MiB |\n",
      "|    1     28354      C   ....burashnikova/env-python3/bin/python3.6   389MiB |\n",
      "|    2     26797      C   ....burashnikova/env-python3/bin/python3.6   389MiB |\n",
      "|    2     27694      C   ....burashnikova/env-python3/bin/python3.6   389MiB |\n",
      "|    2     28354      C   ....burashnikova/env-python3/bin/python3.6   389MiB |\n",
      "|    3     26797      C   ....burashnikova/env-python3/bin/python3.6   389MiB |\n",
      "|    3     27694      C   ....burashnikova/env-python3/bin/python3.6   389MiB |\n",
      "|    3     28354      C   ....burashnikova/env-python3/bin/python3.6   389MiB |\n",
      "+-----------------------------------------------------------------------------+\n"
     ]
    }
   ],
   "source": [
    "!nvidia-smi"
   ]
  },
  {
   "cell_type": "code",
   "execution_count": 1,
   "metadata": {},
   "outputs": [],
   "source": [
    "import os\n",
    "os.environ[\"CUDA_DEVICE_ORDER\"]=\"PCI_BUS_ID\"  \n",
    "os.environ[\"CUDA_VISIBLE_DEVICES\"]=\"3\" "
   ]
  },
  {
   "cell_type": "code",
   "execution_count": 3,
   "metadata": {},
   "outputs": [
    {
     "ename": "ImportError",
     "evalue": "cannot import name 'Callback'",
     "output_type": "error",
     "traceback": [
      "\u001b[0;31m---------------------------------------------------------------------------\u001b[0m",
      "\u001b[0;31mImportError\u001b[0m                               Traceback (most recent call last)",
      "\u001b[0;32m<ipython-input-3-701fe0458777>\u001b[0m in \u001b[0;36m<module>\u001b[0;34m\u001b[0m\n\u001b[1;32m      1\u001b[0m \u001b[0;32mimport\u001b[0m \u001b[0msys\u001b[0m\u001b[0;34m\u001b[0m\u001b[0;34m\u001b[0m\u001b[0m\n\u001b[1;32m      2\u001b[0m \u001b[0msys\u001b[0m\u001b[0;34m.\u001b[0m\u001b[0mpath\u001b[0m\u001b[0;34m.\u001b[0m\u001b[0mappend\u001b[0m\u001b[0;34m(\u001b[0m\u001b[0;34m\"/trinity/home/y.gusak/catalyst\"\u001b[0m\u001b[0;34m)\u001b[0m\u001b[0;34m\u001b[0m\u001b[0;34m\u001b[0m\u001b[0m\n\u001b[0;32m----> 3\u001b[0;31m \u001b[0;32mfrom\u001b[0m \u001b[0mcatalyst\u001b[0m\u001b[0;34m.\u001b[0m\u001b[0mdl\u001b[0m\u001b[0;34m.\u001b[0m\u001b[0mcallbacks\u001b[0m \u001b[0;32mimport\u001b[0m \u001b[0mCallback\u001b[0m\u001b[0;34m,\u001b[0m \u001b[0mAccuracyCallback\u001b[0m\u001b[0;34m\u001b[0m\u001b[0;34m\u001b[0m\u001b[0m\n\u001b[0m\u001b[1;32m      4\u001b[0m \u001b[0;32mfrom\u001b[0m \u001b[0mcatalyst\u001b[0m\u001b[0;34m.\u001b[0m\u001b[0mdl\u001b[0m\u001b[0;34m.\u001b[0m\u001b[0mexperiments\u001b[0m \u001b[0;32mimport\u001b[0m \u001b[0mSupervisedRunner\u001b[0m\u001b[0;34m\u001b[0m\u001b[0;34m\u001b[0m\u001b[0m\n\u001b[1;32m      5\u001b[0m \u001b[0;34m\u001b[0m\u001b[0m\n",
      "\u001b[0;31mImportError\u001b[0m: cannot import name 'Callback'"
     ]
    }
   ],
   "source": [
    "import sys\n",
    "sys.path.append(\"/trinity/home/y.gusak/catalyst\")\n",
    "from catalyst.dl.callbacks import Callback, AccuracyCallback\n",
    "from catalyst.dl.experiments import SupervisedRunner\n",
    "\n",
    "from collections import OrderedDict, defaultdict\n",
    "\n",
    "import torch\n",
    "import numpy as np"
   ]
  },
  {
   "cell_type": "code",
   "execution_count": 3,
   "metadata": {},
   "outputs": [],
   "source": [
    "loaders = OrderedDict()"
   ]
  },
  {
   "cell_type": "code",
   "execution_count": 4,
   "metadata": {},
   "outputs": [
    {
     "name": "stdout",
     "output_type": "stream",
     "text": [
      "Building imagenet data loader with 32 workers\n",
      "Building imagenet data loader with 32 workers\n"
     ]
    }
   ],
   "source": [
    "import sys\n",
    "sys.path.append('../')\n",
    "import dataloaders\n",
    "\n",
    "import torchvision.datasets as datasets\n",
    "from torchvision import transforms\n",
    "\n",
    "# DATA_ROOT = \"/workspace/raid/data/datasets\"\n",
    "DATA_ROOT = \"/gpfs/gpfs0/e.ponomarev/\"\n",
    "dataset_name = 'imagenet'\n",
    "\n",
    "bs = 128\n",
    "num_workers = 32\n",
    "\n",
    "if dataset_name == 'cifar10':\n",
    "    normalize = transforms.Normalize(mean=[0.485, 0.456, 0.406],\n",
    "                                     std=[0.229, 0.224, 0.225])\n",
    "    DATA_PATH = \"{}/cifar10\".format(DATA_ROOT)\n",
    "\n",
    "    loaders[\"valid\"] = torch.utils.data.DataLoader(\n",
    "        datasets.CIFAR10(root=DATA_PATH, train=False, transform=transforms.Compose([\n",
    "            transforms.ToTensor(),\n",
    "            normalize,\n",
    "        ]),  download = True),\n",
    "        batch_size=bs, shuffle=False,\n",
    "        num_workers=num_workers, pin_memory=True)\n",
    "elif dataset_name == 'imagenet':\n",
    "    loaders[\"valid\"] = dataloaders.get_loader(batch_size=bs,\n",
    "                                        data_name = 'imagenet',\n",
    "                                        data_root = DATA_ROOT,\n",
    "                                        num_workers = num_workers, \n",
    "                                        pin_memory = True)['val']\n",
    "    loaders[\"train\"] = dataloaders.get_loader(batch_size=bs,\n",
    "                                    data_name = 'imagenet',\n",
    "                                    data_root = DATA_ROOT,\n",
    "                                    num_workers = num_workers, \n",
    "                                    pin_memory = True)['train']"
   ]
  },
  {
   "cell_type": "code",
   "execution_count": 5,
   "metadata": {},
   "outputs": [],
   "source": [
    "class ValCallback(Callback):\n",
    "    \n",
    "    \n",
    "    def __init__(self, out_dir=None, out_prefix=None):\n",
    "        self.out_dir = out_dir\n",
    "        self.out_prefix = out_prefix\n",
    "        self.predictions = defaultdict(lambda: [])\n",
    "        self._keys_from_state = [\"out_dir\", \"out_prefix\"]\n",
    "\n",
    "    def on_stage_start(self, state):\n",
    "        for key in self._keys_from_state:\n",
    "            value = getattr(state, key, None)\n",
    "            if value is not None:\n",
    "                setattr(self, key, value)\n",
    "        # assert self.out_prefix is not None\n",
    "        if self.out_dir is not None:\n",
    "            self.out_prefix = str(self.out_dir) + \"/\" + str(self.out_prefix)\n",
    "        if self.out_prefix is not None:\n",
    "            os.makedirs(os.path.dirname(self.out_prefix), exist_ok=True)\n",
    "\n",
    "    def on_loader_start(self, state):\n",
    "        self.predictions = defaultdict(lambda: [])\n",
    "        self.inputs = defaultdict(lambda: [])\n",
    "\n",
    "    def on_batch_end(self, state):\n",
    "        dct = state.output\n",
    "        dct = {key: value.detach().cpu().numpy() for key, value in dct.items()}\n",
    "        for key, value in dct.items():\n",
    "            self.predictions[key].append(value)\n",
    "            \n",
    "        dct = state.input\n",
    "        dct = {key: value.detach().cpu().numpy() for key, value in dct.items()}\n",
    "        for key, value in dct.items():\n",
    "            self.inputs[key].append(value)\n",
    "\n",
    "    def on_loader_end(self, state):\n",
    "        from catalyst.dl.metrics import accuracy\n",
    "        self.predictions = {\n",
    "            key: np.concatenate(value, axis=0)\n",
    "            for key, value in self.predictions.items()\n",
    "        }\n",
    "        self.inputs = {\n",
    "            key: np.concatenate(value, axis=0)\n",
    "            for key, value in self.inputs.items()\n",
    "        }\n",
    "        y_true = torch.tensor(self.inputs['targets'])\n",
    "        y_pred = torch.tensor(self.predictions['logits'])\n",
    "        self.accuracy_score = torch.stack(accuracy(y_pred,y_true,topk=(1,5))).numpy().astype('float32')\n",
    "        self.accuracy_score = np.squeeze(self.accuracy_score)"
   ]
  },
  {
   "cell_type": "code",
   "execution_count": 6,
   "metadata": {},
   "outputs": [],
   "source": [
    "import sys\n",
    "sys.path.append('../')\n",
    "\n",
    "from model_utils import load_model\n",
    "from torchvision.models import resnet34\n",
    "\n",
    "# MODEL_NAME = 'vgg16_imagenet'\n",
    "# MODEL_NAME = 'resnet50_imagenet'\n",
    "# MODEL_NAME = 'resnet18_imagenet'\n",
    "MODEL_NAME = 'resnet34_imagenet'\n",
    "\n",
    "# MODEL_NAME = 'faster_rcnn_vgg16\n",
    "# MODEL_NAME = 'faster_rcnn_resnet50'\n",
    "\n",
    "\n",
    "# # Uncomment if MODEL_NAME = 'faster_rcnn_resnet50'\n",
    "# sys.path.append('/workspace/home/jgusak/maxvol_objects/facebook_frcnn/')\n",
    "# import maskrcnn_benchmark\n",
    "\n",
    "# model = load_model(MODEL_NAME)\n",
    "\n",
    "model = resnet34(pretrained = True)"
   ]
  },
  {
   "cell_type": "code",
   "execution_count": null,
   "metadata": {},
   "outputs": [
    {
     "name": "stdout",
     "output_type": "stream",
     "text": [
      "0/15 * Epoch (valid): 100% 391/391 [01:09<00:00,  5.13it/s, _timers/_fps=770.842, accuracy01=46.250, accuracy05=86.250, loss=1.938]   \n",
      "0/15 * Epoch (train):   2% 189/10010 [00:59<29:18,  5.58it/s, _timers/_fps=3329.246, accuracy01=4.688, accuracy05=15.625, loss=5.538]  "
     ]
    },
    {
     "name": "stderr",
     "output_type": "stream",
     "text": [
      "/trinity/shared/opt/python-3.7.1/lib/python3.7/site-packages/PIL/TiffImagePlugin.py:754: UserWarning:\n",
      "\n",
      "Possibly corrupt EXIF data.  Expecting to read 2555904 bytes but only got 0. Skipping tag 0\n",
      "\n"
     ]
    },
    {
     "name": "stdout",
     "output_type": "stream",
     "text": [
      "0/15 * Epoch (train):  22% 2232/10010 [11:21<27:35,  4.70it/s, _timers/_fps=4496.783, accuracy01=32.812, accuracy05=56.250, loss=3.249]  "
     ]
    },
    {
     "name": "stderr",
     "output_type": "stream",
     "text": [
      "/trinity/shared/opt/python-3.7.1/lib/python3.7/site-packages/PIL/TiffImagePlugin.py:754: UserWarning:\n",
      "\n",
      "Possibly corrupt EXIF data.  Expecting to read 2555904 bytes but only got 0. Skipping tag 0\n",
      "\n"
     ]
    },
    {
     "name": "stdout",
     "output_type": "stream",
     "text": [
      "0/15 * Epoch (train):  52% 5215/10010 [27:03<14:36,  5.47it/s, _timers/_fps=3250.650, accuracy01=38.281, accuracy05=57.812, loss=3.081]  "
     ]
    },
    {
     "name": "stderr",
     "output_type": "stream",
     "text": [
      "/trinity/shared/opt/python-3.7.1/lib/python3.7/site-packages/PIL/TiffImagePlugin.py:754: UserWarning:\n",
      "\n",
      "Possibly corrupt EXIF data.  Expecting to read 2555904 bytes but only got 0. Skipping tag 0\n",
      "\n"
     ]
    },
    {
     "name": "stdout",
     "output_type": "stream",
     "text": [
      "0/15 * Epoch (train):  56% 5651/10010 [29:23<16:26,  4.42it/s, _timers/_fps=3493.866, accuracy01=38.281, accuracy05=63.281, loss=2.635]  "
     ]
    },
    {
     "name": "stderr",
     "output_type": "stream",
     "text": [
      "/trinity/shared/opt/python-3.7.1/lib/python3.7/site-packages/PIL/TiffImagePlugin.py:754: UserWarning:\n",
      "\n",
      "Possibly corrupt EXIF data.  Expecting to read 19660800 bytes but only got 0. Skipping tag 0\n",
      "\n",
      "/trinity/shared/opt/python-3.7.1/lib/python3.7/site-packages/PIL/TiffImagePlugin.py:754: UserWarning:\n",
      "\n",
      "Possibly corrupt EXIF data.  Expecting to read 18481152 bytes but only got 0. Skipping tag 0\n",
      "\n",
      "/trinity/shared/opt/python-3.7.1/lib/python3.7/site-packages/PIL/TiffImagePlugin.py:754: UserWarning:\n",
      "\n",
      "Possibly corrupt EXIF data.  Expecting to read 37093376 bytes but only got 0. Skipping tag 0\n",
      "\n",
      "/trinity/shared/opt/python-3.7.1/lib/python3.7/site-packages/PIL/TiffImagePlugin.py:754: UserWarning:\n",
      "\n",
      "Possibly corrupt EXIF data.  Expecting to read 39976960 bytes but only got 0. Skipping tag 0\n",
      "\n",
      "/trinity/shared/opt/python-3.7.1/lib/python3.7/site-packages/PIL/TiffImagePlugin.py:754: UserWarning:\n",
      "\n",
      "Possibly corrupt EXIF data.  Expecting to read 34865152 bytes but only got 0. Skipping tag 0\n",
      "\n",
      "/trinity/shared/opt/python-3.7.1/lib/python3.7/site-packages/PIL/TiffImagePlugin.py:771: UserWarning:\n",
      "\n",
      "Corrupt EXIF data.  Expecting to read 12 bytes but only got 10. \n",
      "\n"
     ]
    },
    {
     "name": "stdout",
     "output_type": "stream",
     "text": [
      "0/15 * Epoch (train):  57% 5683/10010 [29:33<12:57,  5.56it/s, _timers/_fps=3201.912, accuracy01=50.000, accuracy05=68.750, loss=2.411]  "
     ]
    },
    {
     "name": "stderr",
     "output_type": "stream",
     "text": [
      "/trinity/shared/opt/python-3.7.1/lib/python3.7/site-packages/PIL/TiffImagePlugin.py:754: UserWarning:\n",
      "\n",
      "Possibly corrupt EXIF data.  Expecting to read 2555904 bytes but only got 0. Skipping tag 0\n",
      "\n"
     ]
    },
    {
     "name": "stdout",
     "output_type": "stream",
     "text": [
      "0/15 * Epoch (train):  59% 5911/10010 [30:54<45:04,  1.52it/s, _timers/_fps=3472.218, accuracy01=42.969, accuracy05=60.156, loss=2.979]  "
     ]
    },
    {
     "name": "stderr",
     "output_type": "stream",
     "text": [
      "/trinity/shared/opt/python-3.7.1/lib/python3.7/site-packages/PIL/TiffImagePlugin.py:754: UserWarning:\n",
      "\n",
      "Possibly corrupt EXIF data.  Expecting to read 1835008 bytes but only got 0. Skipping tag 0\n",
      "\n"
     ]
    },
    {
     "name": "stdout",
     "output_type": "stream",
     "text": [
      "0/15 * Epoch (train):  77% 7673/10010 [40:02<07:40,  5.08it/s, _timers/_fps=3201.262, accuracy01=45.312, accuracy05=71.875, loss=2.432]  "
     ]
    },
    {
     "name": "stderr",
     "output_type": "stream",
     "text": [
      "/trinity/shared/opt/python-3.7.1/lib/python3.7/site-packages/PIL/TiffImagePlugin.py:754: UserWarning:\n",
      "\n",
      "Possibly corrupt EXIF data.  Expecting to read 2555904 bytes but only got 0. Skipping tag 0\n",
      "\n"
     ]
    },
    {
     "name": "stdout",
     "output_type": "stream",
     "text": [
      "0/15 * Epoch (train):  79% 7949/10010 [41:32<07:46,  4.42it/s, _timers/_fps=3439.408, accuracy01=37.500, accuracy05=63.281, loss=2.770]"
     ]
    },
    {
     "name": "stderr",
     "output_type": "stream",
     "text": [
      "/trinity/shared/opt/python-3.7.1/lib/python3.7/site-packages/PIL/TiffImagePlugin.py:754: UserWarning:\n",
      "\n",
      "Possibly corrupt EXIF data.  Expecting to read 2555904 bytes but only got 0. Skipping tag 0\n",
      "\n"
     ]
    },
    {
     "name": "stdout",
     "output_type": "stream",
     "text": [
      "0/15 * Epoch (train):  80% 8037/10010 [42:00<17:16,  1.90it/s, _timers/_fps=122.614, accuracy01=37.500, accuracy05=64.844, loss=2.854] "
     ]
    },
    {
     "name": "stderr",
     "output_type": "stream",
     "text": [
      "/trinity/shared/opt/python-3.7.1/lib/python3.7/site-packages/PIL/TiffImagePlugin.py:771: UserWarning:\n",
      "\n",
      "Corrupt EXIF data.  Expecting to read 4 bytes but only got 0. \n",
      "\n"
     ]
    },
    {
     "name": "stdout",
     "output_type": "stream",
     "text": [
      "0/15 * Epoch (train): 100% 10010/10010 [52:35<00:00,  4.36it/s, _timers/_fps=677.910, accuracy01=33.333, accuracy05=53.333, loss=3.357]  \n",
      "[2019-06-22 23:20:36,094] \n",
      "0/15 * Epoch 0 (valid): _base/lr=0.0020 | _base/momentum=0.9000 | _timers/_fps=8969.4241 | _timers/batch_time=0.1293 | _timers/data_time=0.1207 | _timers/model_time=0.0086 | accuracy01=73.2880 | accuracy05=91.4150 | loss=1.0821\n",
      "0/15 * Epoch 0 (train): _base/lr=0.0020 | _base/momentum=0.9000 | _timers/_fps=3011.7372 | _timers/batch_time=0.1725 | _timers/data_time=0.1639 | _timers/model_time=0.0086 | accuracy01=34.4491 | accuracy05=58.4730 | loss=3.1618\n",
      "1/15 * Epoch (valid): 100% 391/391 [01:18<00:00,  4.98it/s, _timers/_fps=10011.205, accuracy01=12.500, accuracy05=37.500, loss=4.782]\n",
      "1/15 * Epoch (train):   7% 698/10010 [03:16<28:00,  5.54it/s, _timers/_fps=3208.149, accuracy01=42.188, accuracy05=65.625, loss=2.899]  "
     ]
    },
    {
     "name": "stderr",
     "output_type": "stream",
     "text": [
      "/trinity/shared/opt/python-3.7.1/lib/python3.7/site-packages/PIL/TiffImagePlugin.py:754: UserWarning:\n",
      "\n",
      "Possibly corrupt EXIF data.  Expecting to read 2555904 bytes but only got 0. Skipping tag 0\n",
      "\n"
     ]
    },
    {
     "name": "stdout",
     "output_type": "stream",
     "text": [
      "1/15 * Epoch (train):  24% 2406/10010 [11:44<24:20,  5.21it/s, _timers/_fps=3472.533, accuracy01=55.469, accuracy05=75.781, loss=2.401]  "
     ]
    },
    {
     "name": "stderr",
     "output_type": "stream",
     "text": [
      "/trinity/shared/opt/python-3.7.1/lib/python3.7/site-packages/PIL/TiffImagePlugin.py:754: UserWarning:\n",
      "\n",
      "Possibly corrupt EXIF data.  Expecting to read 1835008 bytes but only got 0. Skipping tag 0\n",
      "\n"
     ]
    },
    {
     "name": "stdout",
     "output_type": "stream",
     "text": [
      "1/15 * Epoch (train):  31% 3065/10010 [14:50<21:05,  5.49it/s, _timers/_fps=3308.015, accuracy01=52.344, accuracy05=75.781, loss=2.213]  "
     ]
    },
    {
     "name": "stderr",
     "output_type": "stream",
     "text": [
      "/trinity/shared/opt/python-3.7.1/lib/python3.7/site-packages/PIL/TiffImagePlugin.py:754: UserWarning:\n",
      "\n",
      "Possibly corrupt EXIF data.  Expecting to read 2555904 bytes but only got 0. Skipping tag 0\n",
      "\n"
     ]
    },
    {
     "name": "stdout",
     "output_type": "stream",
     "text": [
      "1/15 * Epoch (train):  39% 3878/10010 [18:45<37:25,  2.73it/s, _timers/_fps=6465.131, accuracy01=47.656, accuracy05=75.781, loss=2.151]  "
     ]
    },
    {
     "name": "stderr",
     "output_type": "stream",
     "text": [
      "/trinity/shared/opt/python-3.7.1/lib/python3.7/site-packages/PIL/TiffImagePlugin.py:771: UserWarning:\n",
      "\n",
      "Corrupt EXIF data.  Expecting to read 4 bytes but only got 0. \n",
      "\n"
     ]
    },
    {
     "name": "stdout",
     "output_type": "stream",
     "text": [
      "1/15 * Epoch (train):  60% 6010/10010 [29:17<12:20,  5.40it/s, _timers/_fps=3417.014, accuracy01=45.312, accuracy05=67.188, loss=2.542]  "
     ]
    },
    {
     "name": "stderr",
     "output_type": "stream",
     "text": [
      "/trinity/shared/opt/python-3.7.1/lib/python3.7/site-packages/PIL/TiffImagePlugin.py:754: UserWarning:\n",
      "\n",
      "Possibly corrupt EXIF data.  Expecting to read 2555904 bytes but only got 0. Skipping tag 0\n",
      "\n"
     ]
    },
    {
     "name": "stdout",
     "output_type": "stream",
     "text": [
      "1/15 * Epoch (train):  63% 6273/10010 [30:40<21:18,  2.92it/s, _timers/_fps=3144.432, accuracy01=50.000, accuracy05=79.688, loss=2.106]  "
     ]
    },
    {
     "name": "stderr",
     "output_type": "stream",
     "text": [
      "/trinity/shared/opt/python-3.7.1/lib/python3.7/site-packages/PIL/TiffImagePlugin.py:754: UserWarning:\n",
      "\n",
      "Possibly corrupt EXIF data.  Expecting to read 2555904 bytes but only got 0. Skipping tag 0\n",
      "\n"
     ]
    },
    {
     "name": "stdout",
     "output_type": "stream",
     "text": [
      "1/15 * Epoch (train):  70% 7016/10010 [34:19<30:53,  1.62it/s, _timers/_fps=91.700, accuracy01=49.219, accuracy05=76.562, loss=2.283]  "
     ]
    },
    {
     "name": "stderr",
     "output_type": "stream",
     "text": [
      "/trinity/shared/opt/python-3.7.1/lib/python3.7/site-packages/PIL/TiffImagePlugin.py:754: UserWarning:\n",
      "\n",
      "Possibly corrupt EXIF data.  Expecting to read 19660800 bytes but only got 0. Skipping tag 0\n",
      "\n",
      "/trinity/shared/opt/python-3.7.1/lib/python3.7/site-packages/PIL/TiffImagePlugin.py:754: UserWarning:\n",
      "\n",
      "Possibly corrupt EXIF data.  Expecting to read 18481152 bytes but only got 0. Skipping tag 0\n",
      "\n",
      "/trinity/shared/opt/python-3.7.1/lib/python3.7/site-packages/PIL/TiffImagePlugin.py:754: UserWarning:\n",
      "\n",
      "Possibly corrupt EXIF data.  Expecting to read 37093376 bytes but only got 0. Skipping tag 0\n",
      "\n",
      "/trinity/shared/opt/python-3.7.1/lib/python3.7/site-packages/PIL/TiffImagePlugin.py:754: UserWarning:\n",
      "\n",
      "Possibly corrupt EXIF data.  Expecting to read 39976960 bytes but only got 0. Skipping tag 0\n",
      "\n",
      "/trinity/shared/opt/python-3.7.1/lib/python3.7/site-packages/PIL/TiffImagePlugin.py:754: UserWarning:\n",
      "\n",
      "Possibly corrupt EXIF data.  Expecting to read 34865152 bytes but only got 0. Skipping tag 0\n",
      "\n",
      "/trinity/shared/opt/python-3.7.1/lib/python3.7/site-packages/PIL/TiffImagePlugin.py:771: UserWarning:\n",
      "\n",
      "Corrupt EXIF data.  Expecting to read 12 bytes but only got 10. \n",
      "\n"
     ]
    },
    {
     "name": "stdout",
     "output_type": "stream",
     "text": [
      "1/15 * Epoch (train):  89% 8952/10010 [44:28<03:33,  4.95it/s, _timers/_fps=3158.919, accuracy01=54.688, accuracy05=78.125, loss=2.142]  "
     ]
    },
    {
     "name": "stderr",
     "output_type": "stream",
     "text": [
      "/trinity/shared/opt/python-3.7.1/lib/python3.7/site-packages/PIL/TiffImagePlugin.py:754: UserWarning:\n",
      "\n",
      "Possibly corrupt EXIF data.  Expecting to read 2555904 bytes but only got 0. Skipping tag 0\n",
      "\n"
     ]
    },
    {
     "name": "stdout",
     "output_type": "stream",
     "text": [
      "1/15 * Epoch (train): 100% 10010/10010 [49:39<00:00,  3.36it/s, _timers/_fps=4145.721, accuracy01=53.333, accuracy05=86.667, loss=1.613]\n",
      "[2019-06-23 00:11:39,181] \n",
      "1/15 * Epoch 1 (valid): _base/lr=0.0020 | _base/momentum=0.9000 | _timers/_fps=8507.4241 | _timers/batch_time=0.1523 | _timers/data_time=0.1455 | _timers/model_time=0.0067 | accuracy01=48.9330 | accuracy05=74.6623 | loss=2.2308\n",
      "1/15 * Epoch 1 (train): _base/lr=0.0020 | _base/momentum=0.9000 | _timers/_fps=3079.7571 | _timers/batch_time=0.1524 | _timers/data_time=0.1439 | _timers/model_time=0.0084 | accuracy01=48.0436 | accuracy05=72.3060 | loss=2.3465\n",
      "2/15 * Epoch (valid): 100% 391/391 [01:18<00:00,  4.97it/s, _timers/_fps=11440.067, accuracy01=16.250, accuracy05=53.750, loss=3.848]\n",
      "2/15 * Epoch (train):  20% 1996/10010 [10:05<30:02,  4.45it/s, _timers/_fps=3043.434, accuracy01=47.656, accuracy05=74.219, loss=2.210]  "
     ]
    },
    {
     "name": "stderr",
     "output_type": "stream",
     "text": [
      "/trinity/shared/opt/python-3.7.1/lib/python3.7/site-packages/PIL/TiffImagePlugin.py:754: UserWarning:\n",
      "\n",
      "Possibly corrupt EXIF data.  Expecting to read 2555904 bytes but only got 0. Skipping tag 0\n",
      "\n"
     ]
    },
    {
     "name": "stdout",
     "output_type": "stream",
     "text": [
      "2/15 * Epoch (train):  25% 2464/10010 [12:39<22:57,  5.48it/s, _timers/_fps=3097.982, accuracy01=50.781, accuracy05=75.781, loss=2.232]  "
     ]
    },
    {
     "name": "stderr",
     "output_type": "stream",
     "text": [
      "/trinity/shared/opt/python-3.7.1/lib/python3.7/site-packages/PIL/TiffImagePlugin.py:771: UserWarning:\n",
      "\n",
      "Corrupt EXIF data.  Expecting to read 4 bytes but only got 0. \n",
      "\n"
     ]
    },
    {
     "name": "stdout",
     "output_type": "stream",
     "text": [
      "2/15 * Epoch (train):  26% 2560/10010 [13:09<48:59,  2.53it/s, _timers/_fps=3201.873, accuracy01=52.344, accuracy05=82.812, loss=1.865]  "
     ]
    },
    {
     "name": "stderr",
     "output_type": "stream",
     "text": [
      "/trinity/shared/opt/python-3.7.1/lib/python3.7/site-packages/PIL/TiffImagePlugin.py:754: UserWarning:\n",
      "\n",
      "Possibly corrupt EXIF data.  Expecting to read 2555904 bytes but only got 0. Skipping tag 0\n",
      "\n"
     ]
    },
    {
     "name": "stdout",
     "output_type": "stream",
     "text": [
      "2/15 * Epoch (train):  27% 2731/10010 [14:03<50:50,  2.39it/s, _timers/_fps=3264.348, accuracy01=50.000, accuracy05=67.969, loss=2.562]  "
     ]
    },
    {
     "name": "stderr",
     "output_type": "stream",
     "text": [
      "/trinity/shared/opt/python-3.7.1/lib/python3.7/site-packages/PIL/TiffImagePlugin.py:754: UserWarning:\n",
      "\n",
      "Possibly corrupt EXIF data.  Expecting to read 2555904 bytes but only got 0. Skipping tag 0\n",
      "\n"
     ]
    },
    {
     "name": "stdout",
     "output_type": "stream",
     "text": [
      "2/15 * Epoch (train):  27% 2740/10010 [14:05<22:52,  5.30it/s, _timers/_fps=3197.621, accuracy01=51.562, accuracy05=78.125, loss=2.062]"
     ]
    },
    {
     "name": "stderr",
     "output_type": "stream",
     "text": [
      "/trinity/shared/opt/python-3.7.1/lib/python3.7/site-packages/PIL/TiffImagePlugin.py:754: UserWarning:\n",
      "\n",
      "Possibly corrupt EXIF data.  Expecting to read 2555904 bytes but only got 0. Skipping tag 0\n",
      "\n"
     ]
    },
    {
     "name": "stdout",
     "output_type": "stream",
     "text": [
      "2/15 * Epoch (train):  57% 5748/10010 [29:49<22:10,  3.20it/s, _timers/_fps=3215.393, accuracy01=58.594, accuracy05=83.594, loss=1.748]  "
     ]
    },
    {
     "name": "stderr",
     "output_type": "stream",
     "text": [
      "/trinity/shared/opt/python-3.7.1/lib/python3.7/site-packages/PIL/TiffImagePlugin.py:754: UserWarning:\n",
      "\n",
      "Possibly corrupt EXIF data.  Expecting to read 19660800 bytes but only got 0. Skipping tag 0\n",
      "\n",
      "/trinity/shared/opt/python-3.7.1/lib/python3.7/site-packages/PIL/TiffImagePlugin.py:754: UserWarning:\n",
      "\n",
      "Possibly corrupt EXIF data.  Expecting to read 18481152 bytes but only got 0. Skipping tag 0\n",
      "\n",
      "/trinity/shared/opt/python-3.7.1/lib/python3.7/site-packages/PIL/TiffImagePlugin.py:754: UserWarning:\n",
      "\n",
      "Possibly corrupt EXIF data.  Expecting to read 37093376 bytes but only got 0. Skipping tag 0\n",
      "\n",
      "/trinity/shared/opt/python-3.7.1/lib/python3.7/site-packages/PIL/TiffImagePlugin.py:754: UserWarning:\n",
      "\n",
      "Possibly corrupt EXIF data.  Expecting to read 39976960 bytes but only got 0. Skipping tag 0\n",
      "\n",
      "/trinity/shared/opt/python-3.7.1/lib/python3.7/site-packages/PIL/TiffImagePlugin.py:754: UserWarning:\n",
      "\n",
      "Possibly corrupt EXIF data.  Expecting to read 34865152 bytes but only got 0. Skipping tag 0\n",
      "\n",
      "/trinity/shared/opt/python-3.7.1/lib/python3.7/site-packages/PIL/TiffImagePlugin.py:771: UserWarning:\n",
      "\n",
      "Corrupt EXIF data.  Expecting to read 12 bytes but only got 10. \n",
      "\n"
     ]
    },
    {
     "name": "stdout",
     "output_type": "stream",
     "text": [
      "2/15 * Epoch (train):  62% 6195/10010 [32:20<24:28,  2.60it/s, _timers/_fps=3468.024, accuracy01=46.094, accuracy05=73.438, loss=2.220]  "
     ]
    },
    {
     "name": "stderr",
     "output_type": "stream",
     "text": [
      "/trinity/shared/opt/python-3.7.1/lib/python3.7/site-packages/PIL/TiffImagePlugin.py:754: UserWarning:\n",
      "\n",
      "Possibly corrupt EXIF data.  Expecting to read 2555904 bytes but only got 0. Skipping tag 0\n",
      "\n"
     ]
    },
    {
     "name": "stdout",
     "output_type": "stream",
     "text": [
      "2/15 * Epoch (train):  75% 7502/10010 [39:31<07:29,  5.57it/s, _timers/_fps=3474.330, accuracy01=64.844, accuracy05=82.812, loss=1.464]  "
     ]
    },
    {
     "name": "stderr",
     "output_type": "stream",
     "text": [
      "/trinity/shared/opt/python-3.7.1/lib/python3.7/site-packages/PIL/TiffImagePlugin.py:754: UserWarning:\n",
      "\n",
      "Possibly corrupt EXIF data.  Expecting to read 2555904 bytes but only got 0. Skipping tag 0\n",
      "\n"
     ]
    },
    {
     "name": "stdout",
     "output_type": "stream",
     "text": [
      "2/15 * Epoch (train):  86% 8575/10010 [45:10<04:59,  4.80it/s, _timers/_fps=2522.309, accuracy01=53.125, accuracy05=78.125, loss=2.035]  "
     ]
    },
    {
     "name": "stderr",
     "output_type": "stream",
     "text": [
      "/trinity/shared/opt/python-3.7.1/lib/python3.7/site-packages/PIL/TiffImagePlugin.py:754: UserWarning:\n",
      "\n",
      "Possibly corrupt EXIF data.  Expecting to read 1835008 bytes but only got 0. Skipping tag 0\n",
      "\n"
     ]
    },
    {
     "name": "stdout",
     "output_type": "stream",
     "text": [
      "2/15 * Epoch (train): 100% 10010/10010 [52:21<00:00,  3.19it/s, _timers/_fps=5399.160, accuracy01=66.667, accuracy05=86.667, loss=1.558]\n",
      "[2019-06-23 01:05:24,585] \n",
      "2/15 * Epoch 2 (valid): _base/lr=0.0020 | _base/momentum=0.9000 | _timers/_fps=8556.2091 | _timers/batch_time=0.1524 | _timers/data_time=0.1456 | _timers/model_time=0.0068 | accuracy01=55.3844 | accuracy05=79.7410 | loss=1.9056\n",
      "2/15 * Epoch 2 (train): _base/lr=0.0020 | _base/momentum=0.9000 | _timers/_fps=3067.3903 | _timers/batch_time=0.1712 | _timers/data_time=0.1628 | _timers/model_time=0.0083 | accuracy01=52.3902 | accuracy05=75.8090 | loss=2.1191\n",
      "3/15 * Epoch (valid): 100% 391/391 [01:28<00:00,  4.43it/s, _timers/_fps=11682.535, accuracy01=26.250, accuracy05=60.000, loss=3.680]\n",
      "3/15 * Epoch (train):   1% 64/10010 [00:28<29:11,  5.68it/s, _timers/_fps=3457.861, accuracy01=53.125, accuracy05=76.562, loss=2.058]  "
     ]
    },
    {
     "name": "stderr",
     "output_type": "stream",
     "text": [
      "/trinity/shared/opt/python-3.7.1/lib/python3.7/site-packages/PIL/TiffImagePlugin.py:771: UserWarning:\n",
      "\n",
      "Corrupt EXIF data.  Expecting to read 4 bytes but only got 0. \n",
      "\n"
     ]
    },
    {
     "name": "stdout",
     "output_type": "stream",
     "text": [
      "3/15 * Epoch (train):   2% 153/10010 [00:54<29:17,  5.61it/s, _timers/_fps=3293.000, accuracy01=57.812, accuracy05=78.125, loss=1.922]  "
     ]
    },
    {
     "name": "stderr",
     "output_type": "stream",
     "text": [
      "/trinity/shared/opt/python-3.7.1/lib/python3.7/site-packages/PIL/TiffImagePlugin.py:754: UserWarning:\n",
      "\n",
      "Possibly corrupt EXIF data.  Expecting to read 19660800 bytes but only got 0. Skipping tag 0\n",
      "\n",
      "/trinity/shared/opt/python-3.7.1/lib/python3.7/site-packages/PIL/TiffImagePlugin.py:754: UserWarning:\n",
      "\n",
      "Possibly corrupt EXIF data.  Expecting to read 18481152 bytes but only got 0. Skipping tag 0\n",
      "\n",
      "/trinity/shared/opt/python-3.7.1/lib/python3.7/site-packages/PIL/TiffImagePlugin.py:754: UserWarning:\n",
      "\n",
      "Possibly corrupt EXIF data.  Expecting to read 37093376 bytes but only got 0. Skipping tag 0\n",
      "\n",
      "/trinity/shared/opt/python-3.7.1/lib/python3.7/site-packages/PIL/TiffImagePlugin.py:754: UserWarning:\n",
      "\n",
      "Possibly corrupt EXIF data.  Expecting to read 39976960 bytes but only got 0. Skipping tag 0\n",
      "\n",
      "/trinity/shared/opt/python-3.7.1/lib/python3.7/site-packages/PIL/TiffImagePlugin.py:754: UserWarning:\n",
      "\n",
      "Possibly corrupt EXIF data.  Expecting to read 34865152 bytes but only got 0. Skipping tag 0\n",
      "\n",
      "/trinity/shared/opt/python-3.7.1/lib/python3.7/site-packages/PIL/TiffImagePlugin.py:771: UserWarning:\n",
      "\n",
      "Corrupt EXIF data.  Expecting to read 12 bytes but only got 10. \n",
      "\n"
     ]
    },
    {
     "name": "stdout",
     "output_type": "stream",
     "text": [
      "3/15 * Epoch (train):   7% 734/10010 [03:36<28:02,  5.51it/s, _timers/_fps=3163.386, accuracy01=46.875, accuracy05=81.250, loss=2.042]  "
     ]
    },
    {
     "name": "stderr",
     "output_type": "stream",
     "text": [
      "/trinity/shared/opt/python-3.7.1/lib/python3.7/site-packages/PIL/TiffImagePlugin.py:754: UserWarning:\n",
      "\n",
      "Possibly corrupt EXIF data.  Expecting to read 2555904 bytes but only got 0. Skipping tag 0\n",
      "\n"
     ]
    },
    {
     "name": "stdout",
     "output_type": "stream",
     "text": [
      "3/15 * Epoch (train):  17% 1748/10010 [08:44<42:06,  3.27it/s, _timers/_fps=3429.346, accuracy01=56.250, accuracy05=74.219, loss=2.038]  "
     ]
    },
    {
     "name": "stderr",
     "output_type": "stream",
     "text": [
      "/trinity/shared/opt/python-3.7.1/lib/python3.7/site-packages/PIL/TiffImagePlugin.py:754: UserWarning:\n",
      "\n",
      "Possibly corrupt EXIF data.  Expecting to read 2555904 bytes but only got 0. Skipping tag 0\n",
      "\n"
     ]
    },
    {
     "name": "stdout",
     "output_type": "stream",
     "text": [
      "3/15 * Epoch (train):  21% 2056/10010 [10:14<23:49,  5.56it/s, _timers/_fps=3404.813, accuracy01=56.250, accuracy05=77.344, loss=2.057]  "
     ]
    },
    {
     "name": "stderr",
     "output_type": "stream",
     "text": [
      "/trinity/shared/opt/python-3.7.1/lib/python3.7/site-packages/PIL/TiffImagePlugin.py:754: UserWarning:\n",
      "\n",
      "Possibly corrupt EXIF data.  Expecting to read 2555904 bytes but only got 0. Skipping tag 0\n",
      "\n"
     ]
    },
    {
     "name": "stdout",
     "output_type": "stream",
     "text": [
      "3/15 * Epoch (train):  29% 2880/10010 [14:45<21:51,  5.44it/s, _timers/_fps=3238.630, accuracy01=54.688, accuracy05=71.875, loss=2.373]  "
     ]
    },
    {
     "name": "stderr",
     "output_type": "stream",
     "text": [
      "/trinity/shared/opt/python-3.7.1/lib/python3.7/site-packages/PIL/TiffImagePlugin.py:754: UserWarning:\n",
      "\n",
      "Possibly corrupt EXIF data.  Expecting to read 2555904 bytes but only got 0. Skipping tag 0\n",
      "\n"
     ]
    },
    {
     "name": "stdout",
     "output_type": "stream",
     "text": [
      "3/15 * Epoch (train):  33% 3336/10010 [17:17<19:52,  5.60it/s, _timers/_fps=3394.093, accuracy01=45.312, accuracy05=65.625, loss=2.548]  "
     ]
    },
    {
     "name": "stderr",
     "output_type": "stream",
     "text": [
      "/trinity/shared/opt/python-3.7.1/lib/python3.7/site-packages/PIL/TiffImagePlugin.py:754: UserWarning:\n",
      "\n",
      "Possibly corrupt EXIF data.  Expecting to read 1835008 bytes but only got 0. Skipping tag 0\n",
      "\n"
     ]
    },
    {
     "name": "stdout",
     "output_type": "stream",
     "text": [
      "3/15 * Epoch (train):  88% 8849/10010 [46:37<05:42,  3.39it/s, _timers/_fps=3513.484, accuracy01=45.312, accuracy05=71.875, loss=2.333]  "
     ]
    },
    {
     "name": "stderr",
     "output_type": "stream",
     "text": [
      "/trinity/shared/opt/python-3.7.1/lib/python3.7/site-packages/PIL/TiffImagePlugin.py:754: UserWarning:\n",
      "\n",
      "Possibly corrupt EXIF data.  Expecting to read 2555904 bytes but only got 0. Skipping tag 0\n",
      "\n"
     ]
    },
    {
     "name": "stdout",
     "output_type": "stream",
     "text": [
      "3/15 * Epoch (train): 100% 10010/10010 [52:23<00:00,  3.18it/s, _timers/_fps=4041.729, accuracy01=46.667, accuracy05=80.000, loss=2.348]\n",
      "[2019-06-23 01:59:21,295] \n",
      "3/15 * Epoch 3 (valid): _base/lr=0.0020 | _base/momentum=0.9000 | _timers/_fps=8692.8360 | _timers/batch_time=0.1778 | _timers/data_time=0.1714 | _timers/model_time=0.0064 | accuracy01=58.8167 | accuracy05=81.9689 | loss=1.7497\n",
      "3/15 * Epoch 3 (train): _base/lr=0.0020 | _base/momentum=0.9000 | _timers/_fps=3028.0140 | _timers/batch_time=0.1707 | _timers/data_time=0.1622 | _timers/model_time=0.0084 | accuracy01=55.0218 | accuracy05=77.8448 | loss=1.9810\n",
      "4/15 * Epoch (valid): 100% 391/391 [01:35<00:00, 14.75it/s, _timers/_fps=12892.225, accuracy01=31.250, accuracy05=62.500, loss=3.362]\n",
      "4/15 * Epoch (train):  14% 1397/10010 [07:03<49:58,  2.87it/s, _timers/_fps=725.361, accuracy01=58.594, accuracy05=76.562, loss=1.900]   "
     ]
    },
    {
     "name": "stderr",
     "output_type": "stream",
     "text": [
      "/trinity/shared/opt/python-3.7.1/lib/python3.7/site-packages/PIL/TiffImagePlugin.py:754: UserWarning:\n",
      "\n",
      "Possibly corrupt EXIF data.  Expecting to read 2555904 bytes but only got 0. Skipping tag 0\n",
      "\n"
     ]
    },
    {
     "name": "stdout",
     "output_type": "stream",
     "text": [
      "4/15 * Epoch (train):  19% 1925/10010 [09:46<24:36,  5.48it/s, _timers/_fps=3178.801, accuracy01=63.281, accuracy05=81.250, loss=1.743]  "
     ]
    },
    {
     "name": "stderr",
     "output_type": "stream",
     "text": [
      "/trinity/shared/opt/python-3.7.1/lib/python3.7/site-packages/PIL/TiffImagePlugin.py:754: UserWarning:\n",
      "\n",
      "Possibly corrupt EXIF data.  Expecting to read 19660800 bytes but only got 0. Skipping tag 0\n",
      "\n",
      "/trinity/shared/opt/python-3.7.1/lib/python3.7/site-packages/PIL/TiffImagePlugin.py:754: UserWarning:\n",
      "\n",
      "Possibly corrupt EXIF data.  Expecting to read 18481152 bytes but only got 0. Skipping tag 0\n",
      "\n",
      "/trinity/shared/opt/python-3.7.1/lib/python3.7/site-packages/PIL/TiffImagePlugin.py:754: UserWarning:\n",
      "\n",
      "Possibly corrupt EXIF data.  Expecting to read 37093376 bytes but only got 0. Skipping tag 0\n",
      "\n",
      "/trinity/shared/opt/python-3.7.1/lib/python3.7/site-packages/PIL/TiffImagePlugin.py:754: UserWarning:\n",
      "\n",
      "Possibly corrupt EXIF data.  Expecting to read 39976960 bytes but only got 0. Skipping tag 0\n",
      "\n",
      "/trinity/shared/opt/python-3.7.1/lib/python3.7/site-packages/PIL/TiffImagePlugin.py:754: UserWarning:\n",
      "\n",
      "Possibly corrupt EXIF data.  Expecting to read 34865152 bytes but only got 0. Skipping tag 0\n",
      "\n",
      "/trinity/shared/opt/python-3.7.1/lib/python3.7/site-packages/PIL/TiffImagePlugin.py:771: UserWarning:\n",
      "\n",
      "Corrupt EXIF data.  Expecting to read 12 bytes but only got 10. \n",
      "\n"
     ]
    },
    {
     "name": "stdout",
     "output_type": "stream",
     "text": [
      "4/15 * Epoch (train):  21% 2149/10010 [10:53<34:10,  3.83it/s, _timers/_fps=3322.982, accuracy01=60.938, accuracy05=80.469, loss=1.770]  "
     ]
    },
    {
     "name": "stderr",
     "output_type": "stream",
     "text": [
      "/trinity/shared/opt/python-3.7.1/lib/python3.7/site-packages/PIL/TiffImagePlugin.py:754: UserWarning:\n",
      "\n",
      "Possibly corrupt EXIF data.  Expecting to read 2555904 bytes but only got 0. Skipping tag 0\n",
      "\n"
     ]
    },
    {
     "name": "stdout",
     "output_type": "stream",
     "text": [
      "4/15 * Epoch (train):  27% 2713/10010 [13:53<35:35,  3.42it/s, _timers/_fps=3471.388, accuracy01=52.344, accuracy05=81.250, loss=1.987]  "
     ]
    },
    {
     "name": "stderr",
     "output_type": "stream",
     "text": [
      "/trinity/shared/opt/python-3.7.1/lib/python3.7/site-packages/PIL/TiffImagePlugin.py:754: UserWarning:\n",
      "\n",
      "Possibly corrupt EXIF data.  Expecting to read 2555904 bytes but only got 0. Skipping tag 0\n",
      "\n"
     ]
    },
    {
     "name": "stdout",
     "output_type": "stream",
     "text": [
      "4/15 * Epoch (train):  30% 2956/10010 [15:08<20:53,  5.63it/s, _timers/_fps=3458.796, accuracy01=58.594, accuracy05=78.125, loss=1.735]  "
     ]
    },
    {
     "name": "stderr",
     "output_type": "stream",
     "text": [
      "/trinity/shared/opt/python-3.7.1/lib/python3.7/site-packages/PIL/TiffImagePlugin.py:754: UserWarning:\n",
      "\n",
      "Possibly corrupt EXIF data.  Expecting to read 1835008 bytes but only got 0. Skipping tag 0\n",
      "\n"
     ]
    },
    {
     "name": "stdout",
     "output_type": "stream",
     "text": [
      "4/15 * Epoch (train):  32% 3246/10010 [16:38<32:43,  3.45it/s, _timers/_fps=3437.404, accuracy01=56.250, accuracy05=78.906, loss=1.842]  "
     ]
    },
    {
     "name": "stderr",
     "output_type": "stream",
     "text": [
      "/trinity/shared/opt/python-3.7.1/lib/python3.7/site-packages/PIL/TiffImagePlugin.py:754: UserWarning:\n",
      "\n",
      "Possibly corrupt EXIF data.  Expecting to read 2555904 bytes but only got 0. Skipping tag 0\n",
      "\n"
     ]
    },
    {
     "name": "stdout",
     "output_type": "stream",
     "text": [
      "4/15 * Epoch (train):  42% 4248/10010 [21:48<52:48,  1.82it/s, _timers/_fps=3397.401, accuracy01=53.125, accuracy05=76.562, loss=2.154]  "
     ]
    },
    {
     "name": "stderr",
     "output_type": "stream",
     "text": [
      "/trinity/shared/opt/python-3.7.1/lib/python3.7/site-packages/PIL/TiffImagePlugin.py:771: UserWarning:\n",
      "\n",
      "Corrupt EXIF data.  Expecting to read 4 bytes but only got 0. \n",
      "\n"
     ]
    },
    {
     "name": "stdout",
     "output_type": "stream",
     "text": [
      "4/15 * Epoch (train):  54% 5443/10010 [27:56<33:34,  2.27it/s, _timers/_fps=3324.731, accuracy01=52.344, accuracy05=75.000, loss=1.830]  "
     ]
    },
    {
     "name": "stderr",
     "output_type": "stream",
     "text": [
      "/trinity/shared/opt/python-3.7.1/lib/python3.7/site-packages/PIL/TiffImagePlugin.py:754: UserWarning:\n",
      "\n",
      "Possibly corrupt EXIF data.  Expecting to read 2555904 bytes but only got 0. Skipping tag 0\n",
      "\n"
     ]
    },
    {
     "name": "stdout",
     "output_type": "stream",
     "text": [
      "4/15 * Epoch (train): 100% 10010/10010 [47:07<00:00,  3.54it/s, _timers/_fps=4144.185, accuracy01=33.333, accuracy05=53.333, loss=2.964] \n",
      "[2019-06-23 02:48:09,696] \n",
      "4/15 * Epoch 4 (valid): _base/lr=0.0020 | _base/momentum=0.9000 | _timers/_fps=8163.8883 | _timers/batch_time=0.1946 | _timers/data_time=0.1874 | _timers/model_time=0.0071 | accuracy01=60.7916 | accuracy05=83.5138 | loss=1.6474\n",
      "4/15 * Epoch 4 (train): _base/lr=0.0020 | _base/momentum=0.9000 | _timers/_fps=3116.6613 | _timers/batch_time=0.1360 | _timers/data_time=0.1259 | _timers/model_time=0.0100 | accuracy01=57.0608 | accuracy05=79.3570 | loss=1.8796\n",
      "5/15 * Epoch (valid): 100% 391/391 [00:56<00:00,  6.88it/s, _timers/_fps=15806.127, accuracy01=25.000, accuracy05=67.500, loss=3.277]\n",
      "5/15 * Epoch (train):  21% 2121/10010 [06:35<23:22,  5.63it/s, _timers/_fps=3342.699, accuracy01=54.688, accuracy05=85.156, loss=1.735]  "
     ]
    },
    {
     "name": "stderr",
     "output_type": "stream",
     "text": [
      "/trinity/shared/opt/python-3.7.1/lib/python3.7/site-packages/PIL/TiffImagePlugin.py:754: UserWarning:\n",
      "\n",
      "Possibly corrupt EXIF data.  Expecting to read 2555904 bytes but only got 0. Skipping tag 0\n",
      "\n"
     ]
    },
    {
     "name": "stdout",
     "output_type": "stream",
     "text": [
      "5/15 * Epoch (train):  22% 2230/10010 [06:55<23:02,  5.63it/s, _timers/_fps=3430.069, accuracy01=56.250, accuracy05=78.906, loss=2.097]"
     ]
    },
    {
     "name": "stderr",
     "output_type": "stream",
     "text": [
      "/trinity/shared/opt/python-3.7.1/lib/python3.7/site-packages/PIL/TiffImagePlugin.py:754: UserWarning:\n",
      "\n",
      "Possibly corrupt EXIF data.  Expecting to read 2555904 bytes but only got 0. Skipping tag 0\n",
      "\n"
     ]
    },
    {
     "name": "stdout",
     "output_type": "stream",
     "text": [
      "5/15 * Epoch (train):  26% 2589/10010 [07:59<22:03,  5.61it/s, _timers/_fps=3704.602, accuracy01=52.344, accuracy05=78.125, loss=2.048]"
     ]
    },
    {
     "name": "stderr",
     "output_type": "stream",
     "text": [
      "/trinity/shared/opt/python-3.7.1/lib/python3.7/site-packages/PIL/TiffImagePlugin.py:754: UserWarning:\n",
      "\n",
      "Possibly corrupt EXIF data.  Expecting to read 1835008 bytes but only got 0. Skipping tag 0\n",
      "\n"
     ]
    },
    {
     "name": "stdout",
     "output_type": "stream",
     "text": [
      "5/15 * Epoch (train):  41% 4116/10010 [12:41<17:27,  5.62it/s, _timers/_fps=4864.107, accuracy01=50.000, accuracy05=75.781, loss=2.179]  "
     ]
    },
    {
     "name": "stderr",
     "output_type": "stream",
     "text": [
      "/trinity/shared/opt/python-3.7.1/lib/python3.7/site-packages/PIL/TiffImagePlugin.py:754: UserWarning:\n",
      "\n",
      "Possibly corrupt EXIF data.  Expecting to read 2555904 bytes but only got 0. Skipping tag 0\n",
      "\n"
     ]
    },
    {
     "name": "stdout",
     "output_type": "stream",
     "text": [
      "5/15 * Epoch (train):  45% 4511/10010 [14:00<16:22,  5.59it/s, _timers/_fps=3446.650, accuracy01=56.250, accuracy05=82.031, loss=1.687]  "
     ]
    },
    {
     "name": "stderr",
     "output_type": "stream",
     "text": [
      "/trinity/shared/opt/python-3.7.1/lib/python3.7/site-packages/PIL/TiffImagePlugin.py:754: UserWarning:\n",
      "\n",
      "Possibly corrupt EXIF data.  Expecting to read 2555904 bytes but only got 0. Skipping tag 0\n",
      "\n"
     ]
    },
    {
     "name": "stdout",
     "output_type": "stream",
     "text": [
      "5/15 * Epoch (train):  72% 7170/10010 [22:04<08:34,  5.52it/s, _timers/_fps=3210.989, accuracy01=60.938, accuracy05=85.938, loss=1.615]  "
     ]
    },
    {
     "name": "stderr",
     "output_type": "stream",
     "text": [
      "/trinity/shared/opt/python-3.7.1/lib/python3.7/site-packages/PIL/TiffImagePlugin.py:754: UserWarning:\n",
      "\n",
      "Possibly corrupt EXIF data.  Expecting to read 2555904 bytes but only got 0. Skipping tag 0\n",
      "\n"
     ]
    },
    {
     "name": "stdout",
     "output_type": "stream",
     "text": [
      "5/15 * Epoch (train):  77% 7706/10010 [23:41<06:49,  5.63it/s, _timers/_fps=3440.223, accuracy01=49.219, accuracy05=75.781, loss=2.264]"
     ]
    },
    {
     "name": "stderr",
     "output_type": "stream",
     "text": [
      "/trinity/shared/opt/python-3.7.1/lib/python3.7/site-packages/PIL/TiffImagePlugin.py:754: UserWarning:\n",
      "\n",
      "Possibly corrupt EXIF data.  Expecting to read 19660800 bytes but only got 0. Skipping tag 0\n",
      "\n",
      "/trinity/shared/opt/python-3.7.1/lib/python3.7/site-packages/PIL/TiffImagePlugin.py:754: UserWarning:\n",
      "\n",
      "Possibly corrupt EXIF data.  Expecting to read 18481152 bytes but only got 0. Skipping tag 0\n",
      "\n",
      "/trinity/shared/opt/python-3.7.1/lib/python3.7/site-packages/PIL/TiffImagePlugin.py:754: UserWarning:\n",
      "\n",
      "Possibly corrupt EXIF data.  Expecting to read 37093376 bytes but only got 0. Skipping tag 0\n",
      "\n",
      "/trinity/shared/opt/python-3.7.1/lib/python3.7/site-packages/PIL/TiffImagePlugin.py:754: UserWarning:\n",
      "\n",
      "Possibly corrupt EXIF data.  Expecting to read 39976960 bytes but only got 0. Skipping tag 0\n",
      "\n",
      "/trinity/shared/opt/python-3.7.1/lib/python3.7/site-packages/PIL/TiffImagePlugin.py:754: UserWarning:\n",
      "\n",
      "Possibly corrupt EXIF data.  Expecting to read 34865152 bytes but only got 0. Skipping tag 0\n",
      "\n",
      "/trinity/shared/opt/python-3.7.1/lib/python3.7/site-packages/PIL/TiffImagePlugin.py:771: UserWarning:\n",
      "\n",
      "Corrupt EXIF data.  Expecting to read 12 bytes but only got 10. \n",
      "\n"
     ]
    },
    {
     "name": "stdout",
     "output_type": "stream",
     "text": [
      "5/15 * Epoch (train):  82% 8195/10010 [25:17<05:24,  5.59it/s, _timers/_fps=3452.280, accuracy01=57.812, accuracy05=78.125, loss=2.024]  "
     ]
    },
    {
     "name": "stderr",
     "output_type": "stream",
     "text": [
      "/trinity/shared/opt/python-3.7.1/lib/python3.7/site-packages/PIL/TiffImagePlugin.py:754: UserWarning:\n",
      "\n",
      "Possibly corrupt EXIF data.  Expecting to read 2555904 bytes but only got 0. Skipping tag 0\n",
      "\n"
     ]
    },
    {
     "name": "stdout",
     "output_type": "stream",
     "text": [
      "5/15 * Epoch (train):  99% 9874/10010 [30:26<00:24,  5.63it/s, _timers/_fps=3451.214, accuracy01=49.219, accuracy05=82.031, loss=2.015]"
     ]
    },
    {
     "name": "stderr",
     "output_type": "stream",
     "text": [
      "/trinity/shared/opt/python-3.7.1/lib/python3.7/site-packages/PIL/TiffImagePlugin.py:771: UserWarning:\n",
      "\n",
      "Corrupt EXIF data.  Expecting to read 4 bytes but only got 0. \n",
      "\n"
     ]
    },
    {
     "name": "stdout",
     "output_type": "stream",
     "text": [
      "5/15 * Epoch (train): 100% 10010/10010 [30:51<00:00,  5.41it/s, _timers/_fps=4031.531, accuracy01=46.667, accuracy05=73.333, loss=3.234]\n",
      "[2019-06-23 03:20:02,940] \n",
      "5/15 * Epoch 5 (valid): _base/lr=0.0020 | _base/momentum=0.9000 | _timers/_fps=8970.4088 | _timers/batch_time=0.0956 | _timers/data_time=0.0893 | _timers/model_time=0.0062 | accuracy01=62.1443 | accuracy05=84.5456 | loss=1.5735\n",
      "5/15 * Epoch 5 (train): _base/lr=0.0020 | _base/momentum=0.9000 | _timers/_fps=3397.9462 | _timers/batch_time=0.0398 | _timers/data_time=0.0312 | _timers/model_time=0.0086 | accuracy01=58.4497 | accuracy05=80.3737 | loss=1.8069\n",
      "6/15 * Epoch (valid): 100% 391/391 [00:54<00:00,  7.24it/s, _timers/_fps=11862.453, accuracy01=37.500, accuracy05=68.750, loss=2.909]\n",
      "6/15 * Epoch (train):   5% 504/10010 [01:40<29:02,  5.45it/s, _timers/_fps=3199.297, accuracy01=57.031, accuracy05=82.031, loss=1.703] "
     ]
    },
    {
     "name": "stderr",
     "output_type": "stream",
     "text": [
      "/trinity/shared/opt/python-3.7.1/lib/python3.7/site-packages/PIL/TiffImagePlugin.py:754: UserWarning:\n",
      "\n",
      "Possibly corrupt EXIF data.  Expecting to read 2555904 bytes but only got 0. Skipping tag 0\n",
      "\n"
     ]
    },
    {
     "name": "stdout",
     "output_type": "stream",
     "text": [
      "6/15 * Epoch (train):  20% 2043/10010 [06:29<24:24,  5.44it/s, _timers/_fps=2765.508, accuracy01=58.594, accuracy05=78.125, loss=1.619] "
     ]
    },
    {
     "name": "stderr",
     "output_type": "stream",
     "text": [
      "/trinity/shared/opt/python-3.7.1/lib/python3.7/site-packages/PIL/TiffImagePlugin.py:754: UserWarning:\n",
      "\n",
      "Possibly corrupt EXIF data.  Expecting to read 2555904 bytes but only got 0. Skipping tag 0\n",
      "\n"
     ]
    },
    {
     "name": "stdout",
     "output_type": "stream",
     "text": [
      "6/15 * Epoch (train):  21% 2121/10010 [06:43<23:19,  5.64it/s, _timers/_fps=3427.266, accuracy01=56.250, accuracy05=76.562, loss=2.033]"
     ]
    },
    {
     "name": "stderr",
     "output_type": "stream",
     "text": [
      "/trinity/shared/opt/python-3.7.1/lib/python3.7/site-packages/PIL/TiffImagePlugin.py:754: UserWarning:\n",
      "\n",
      "Possibly corrupt EXIF data.  Expecting to read 19660800 bytes but only got 0. Skipping tag 0\n",
      "\n",
      "/trinity/shared/opt/python-3.7.1/lib/python3.7/site-packages/PIL/TiffImagePlugin.py:754: UserWarning:\n",
      "\n",
      "Possibly corrupt EXIF data.  Expecting to read 18481152 bytes but only got 0. Skipping tag 0\n",
      "\n",
      "/trinity/shared/opt/python-3.7.1/lib/python3.7/site-packages/PIL/TiffImagePlugin.py:754: UserWarning:\n",
      "\n",
      "Possibly corrupt EXIF data.  Expecting to read 37093376 bytes but only got 0. Skipping tag 0\n",
      "\n",
      "/trinity/shared/opt/python-3.7.1/lib/python3.7/site-packages/PIL/TiffImagePlugin.py:754: UserWarning:\n",
      "\n",
      "Possibly corrupt EXIF data.  Expecting to read 39976960 bytes but only got 0. Skipping tag 0\n",
      "\n",
      "/trinity/shared/opt/python-3.7.1/lib/python3.7/site-packages/PIL/TiffImagePlugin.py:754: UserWarning:\n",
      "\n",
      "Possibly corrupt EXIF data.  Expecting to read 34865152 bytes but only got 0. Skipping tag 0\n",
      "\n",
      "/trinity/shared/opt/python-3.7.1/lib/python3.7/site-packages/PIL/TiffImagePlugin.py:771: UserWarning:\n",
      "\n",
      "Corrupt EXIF data.  Expecting to read 12 bytes but only got 10. \n",
      "\n"
     ]
    },
    {
     "name": "stdout",
     "output_type": "stream",
     "text": [
      "6/15 * Epoch (train):  23% 2256/10010 [07:07<22:54,  5.64it/s, _timers/_fps=3542.954, accuracy01=66.406, accuracy05=82.812, loss=1.626]"
     ]
    },
    {
     "name": "stderr",
     "output_type": "stream",
     "text": [
      "/trinity/shared/opt/python-3.7.1/lib/python3.7/site-packages/PIL/TiffImagePlugin.py:754: UserWarning:\n",
      "\n",
      "Possibly corrupt EXIF data.  Expecting to read 2555904 bytes but only got 0. Skipping tag 0\n",
      "\n"
     ]
    },
    {
     "name": "stdout",
     "output_type": "stream",
     "text": [
      "6/15 * Epoch (train):  38% 3767/10010 [11:52<19:00,  5.48it/s, _timers/_fps=3412.257, accuracy01=56.250, accuracy05=77.344, loss=2.006]  "
     ]
    },
    {
     "name": "stderr",
     "output_type": "stream",
     "text": [
      "/trinity/shared/opt/python-3.7.1/lib/python3.7/site-packages/PIL/TiffImagePlugin.py:771: UserWarning:\n",
      "\n",
      "Corrupt EXIF data.  Expecting to read 4 bytes but only got 0. \n",
      "\n"
     ]
    },
    {
     "name": "stdout",
     "output_type": "stream",
     "text": [
      "6/15 * Epoch (train):  74% 7390/10010 [23:08<07:56,  5.49it/s, _timers/_fps=3409.224, accuracy01=58.594, accuracy05=81.250, loss=1.846]  "
     ]
    },
    {
     "name": "stderr",
     "output_type": "stream",
     "text": [
      "/trinity/shared/opt/python-3.7.1/lib/python3.7/site-packages/PIL/TiffImagePlugin.py:754: UserWarning:\n",
      "\n",
      "Possibly corrupt EXIF data.  Expecting to read 2555904 bytes but only got 0. Skipping tag 0\n",
      "\n"
     ]
    },
    {
     "name": "stdout",
     "output_type": "stream",
     "text": [
      "6/15 * Epoch (train):  76% 7581/10010 [23:43<07:14,  5.59it/s, _timers/_fps=3443.931, accuracy01=54.688, accuracy05=75.781, loss=2.183]"
     ]
    },
    {
     "name": "stderr",
     "output_type": "stream",
     "text": [
      "/trinity/shared/opt/python-3.7.1/lib/python3.7/site-packages/PIL/TiffImagePlugin.py:754: UserWarning:\n",
      "\n",
      "Possibly corrupt EXIF data.  Expecting to read 1835008 bytes but only got 0. Skipping tag 0\n",
      "\n"
     ]
    },
    {
     "name": "stdout",
     "output_type": "stream",
     "text": [
      "6/15 * Epoch (train):  81% 8087/10010 [25:25<05:45,  5.57it/s, _timers/_fps=3400.134, accuracy01=57.812, accuracy05=82.031, loss=1.717]  "
     ]
    },
    {
     "name": "stderr",
     "output_type": "stream",
     "text": [
      "/trinity/shared/opt/python-3.7.1/lib/python3.7/site-packages/PIL/TiffImagePlugin.py:754: UserWarning:\n",
      "\n",
      "Possibly corrupt EXIF data.  Expecting to read 2555904 bytes but only got 0. Skipping tag 0\n",
      "\n"
     ]
    },
    {
     "name": "stdout",
     "output_type": "stream",
     "text": [
      "6/15 * Epoch (train):  85% 8511/10010 [26:42<04:34,  5.46it/s, _timers/_fps=4061.942, accuracy01=60.938, accuracy05=85.156, loss=1.699]"
     ]
    },
    {
     "name": "stderr",
     "output_type": "stream",
     "text": [
      "/trinity/shared/opt/python-3.7.1/lib/python3.7/site-packages/PIL/TiffImagePlugin.py:754: UserWarning:\n",
      "\n",
      "Possibly corrupt EXIF data.  Expecting to read 2555904 bytes but only got 0. Skipping tag 0\n",
      "\n"
     ]
    },
    {
     "name": "stdout",
     "output_type": "stream",
     "text": [
      "6/15 * Epoch (train): 100% 10010/10010 [31:25<00:00,  5.31it/s, _timers/_fps=4017.713, accuracy01=33.333, accuracy05=80.000, loss=2.427]\n",
      "[2019-06-23 03:52:27,687] \n",
      "6/15 * Epoch 6 (valid): _base/lr=0.0020 | _base/momentum=0.9000 | _timers/_fps=8663.8442 | _timers/batch_time=0.0882 | _timers/data_time=0.0811 | _timers/model_time=0.0071 | accuracy01=63.0834 | accuracy05=85.1962 | loss=1.5379\n",
      "6/15 * Epoch 6 (train): _base/lr=0.0020 | _base/momentum=0.9000 | _timers/_fps=3382.2680 | _timers/batch_time=0.0409 | _timers/data_time=0.0307 | _timers/model_time=0.0102 | accuracy01=59.7014 | accuracy05=81.3011 | loss=1.7443\n",
      "7/15 * Epoch (valid): 100% 391/391 [00:55<00:00,  7.02it/s, _timers/_fps=11418.412, accuracy01=41.250, accuracy05=68.750, loss=2.863]\n",
      "7/15 * Epoch (train):  13% 1299/10010 [04:31<25:53,  5.61it/s, _timers/_fps=3486.016, accuracy01=66.406, accuracy05=81.250, loss=1.640] "
     ]
    },
    {
     "name": "stderr",
     "output_type": "stream",
     "text": [
      "/trinity/shared/opt/python-3.7.1/lib/python3.7/site-packages/PIL/TiffImagePlugin.py:754: UserWarning:\n",
      "\n",
      "Possibly corrupt EXIF data.  Expecting to read 1835008 bytes but only got 0. Skipping tag 0\n",
      "\n"
     ]
    },
    {
     "name": "stdout",
     "output_type": "stream",
     "text": [
      "7/15 * Epoch (train):  15% 1541/10010 [05:14<25:11,  5.60it/s, _timers/_fps=3362.715, accuracy01=60.938, accuracy05=80.469, loss=1.602]"
     ]
    },
    {
     "name": "stderr",
     "output_type": "stream",
     "text": [
      "/trinity/shared/opt/python-3.7.1/lib/python3.7/site-packages/PIL/TiffImagePlugin.py:771: UserWarning:\n",
      "\n",
      "Corrupt EXIF data.  Expecting to read 4 bytes but only got 0. \n",
      "\n"
     ]
    },
    {
     "name": "stdout",
     "output_type": "stream",
     "text": [
      "7/15 * Epoch (train):  20% 2002/10010 [06:39<25:37,  5.21it/s, _timers/_fps=3193.246, accuracy01=61.719, accuracy05=77.344, loss=1.934]"
     ]
    },
    {
     "name": "stderr",
     "output_type": "stream",
     "text": [
      "/trinity/shared/opt/python-3.7.1/lib/python3.7/site-packages/PIL/TiffImagePlugin.py:754: UserWarning:\n",
      "\n",
      "Possibly corrupt EXIF data.  Expecting to read 2555904 bytes but only got 0. Skipping tag 0\n",
      "\n"
     ]
    },
    {
     "name": "stdout",
     "output_type": "stream",
     "text": [
      "7/15 * Epoch (train):  29% 2876/10010 [09:28<21:10,  5.62it/s, _timers/_fps=3448.931, accuracy01=58.594, accuracy05=81.250, loss=1.725]  "
     ]
    },
    {
     "name": "stderr",
     "output_type": "stream",
     "text": [
      "/trinity/shared/opt/python-3.7.1/lib/python3.7/site-packages/PIL/TiffImagePlugin.py:754: UserWarning:\n",
      "\n",
      "Possibly corrupt EXIF data.  Expecting to read 2555904 bytes but only got 0. Skipping tag 0\n",
      "\n"
     ]
    },
    {
     "name": "stdout",
     "output_type": "stream",
     "text": [
      "7/15 * Epoch (train):  40% 4042/10010 [13:03<17:44,  5.61it/s, _timers/_fps=2483.019, accuracy01=53.906, accuracy05=81.250, loss=1.862]"
     ]
    },
    {
     "name": "stderr",
     "output_type": "stream",
     "text": [
      "/trinity/shared/opt/python-3.7.1/lib/python3.7/site-packages/PIL/TiffImagePlugin.py:754: UserWarning:\n",
      "\n",
      "Possibly corrupt EXIF data.  Expecting to read 2555904 bytes but only got 0. Skipping tag 0\n",
      "\n"
     ]
    },
    {
     "name": "stdout",
     "output_type": "stream",
     "text": [
      "7/15 * Epoch (train):  43% 4314/10010 [14:02<16:47,  5.65it/s, _timers/_fps=3533.580, accuracy01=62.500, accuracy05=84.375, loss=1.558]  "
     ]
    },
    {
     "name": "stderr",
     "output_type": "stream",
     "text": [
      "/trinity/shared/opt/python-3.7.1/lib/python3.7/site-packages/PIL/TiffImagePlugin.py:754: UserWarning:\n",
      "\n",
      "Possibly corrupt EXIF data.  Expecting to read 2555904 bytes but only got 0. Skipping tag 0\n",
      "\n"
     ]
    },
    {
     "name": "stdout",
     "output_type": "stream",
     "text": [
      "7/15 * Epoch (train):  62% 6161/10010 [19:56<11:31,  5.57it/s, _timers/_fps=3475.073, accuracy01=66.406, accuracy05=85.938, loss=1.437]  "
     ]
    },
    {
     "name": "stderr",
     "output_type": "stream",
     "text": [
      "/trinity/shared/opt/python-3.7.1/lib/python3.7/site-packages/PIL/TiffImagePlugin.py:754: UserWarning:\n",
      "\n",
      "Possibly corrupt EXIF data.  Expecting to read 2555904 bytes but only got 0. Skipping tag 0\n",
      "\n"
     ]
    },
    {
     "name": "stdout",
     "output_type": "stream",
     "text": [
      "7/15 * Epoch (train):  64% 6424/10010 [20:46<10:38,  5.61it/s, _timers/_fps=3470.692, accuracy01=54.688, accuracy05=75.781, loss=1.921]"
     ]
    },
    {
     "name": "stderr",
     "output_type": "stream",
     "text": [
      "/trinity/shared/opt/python-3.7.1/lib/python3.7/site-packages/PIL/TiffImagePlugin.py:754: UserWarning:\n",
      "\n",
      "Possibly corrupt EXIF data.  Expecting to read 2555904 bytes but only got 0. Skipping tag 0\n",
      "\n"
     ]
    },
    {
     "name": "stdout",
     "output_type": "stream",
     "text": [
      "7/15 * Epoch (train):  68% 6775/10010 [21:54<09:59,  5.40it/s, _timers/_fps=2923.592, accuracy01=62.500, accuracy05=81.250, loss=1.532]"
     ]
    }
   ],
   "source": [
    "lr = 0.002\n",
    "criterion = torch.nn.CrossEntropyLoss()\n",
    "optimizer = torch.optim.Adam(model.parameters(),weight_decay=1e-6,lr=lr)\n",
    "scheduler = torch.optim.lr_scheduler.ReduceLROnPlateau(optimizer)\n",
    "\n",
    "# model runner\n",
    "runner = SupervisedRunner()\n",
    "\n",
    "# model training\n",
    "runner.train(\n",
    "    model=model,\n",
    "    criterion=criterion,\n",
    "    callbacks=[\n",
    "        AccuracyCallback(accuracy_args = [1,5]), # top (1,5) accuracy  on batch\n",
    "#         ValCallback()\n",
    "    ],\n",
    "    optimizer=optimizer,\n",
    "    scheduler=scheduler,\n",
    "    loaders=loaders,\n",
    "    logdir='./logs',\n",
    "    num_epochs=15,\n",
    "    verbose=True,\n",
    "    valid_loader='valid'\n",
    "    \n",
    ")\n",
    "\n"
   ]
  },
  {
   "cell_type": "raw",
   "metadata": {},
   "source": [
    "import copy\n",
    "m = copy.deepcopy(model.cpu())"
   ]
  },
  {
   "cell_type": "code",
   "execution_count": 8,
   "metadata": {},
   "outputs": [
    {
     "name": "stdout",
     "output_type": "stream",
     "text": [
      "0/1 * Epoch (infer): 100% 391/391 [01:09<00:00,  6.08it/s, _timers/_fps=684.177, accuracy01=46.250, accuracy03=80.000, accuracy05=86.250]  \n"
     ]
    }
   ],
   "source": [
    "scores0 = run(model)"
   ]
  },
  {
   "cell_type": "code",
   "execution_count": 9,
   "metadata": {},
   "outputs": [
    {
     "data": {
      "text/plain": [
       "array([73.314   , 87.728004, 91.420006], dtype=float32)"
      ]
     },
     "execution_count": 9,
     "metadata": {},
     "output_type": "execute_result"
    }
   ],
   "source": [
    "scores0"
   ]
  }
 ],
 "metadata": {
  "kernelspec": {
   "display_name": "Python 3",
   "language": "python",
   "name": "python3"
  },
  "language_info": {
   "codemirror_mode": {
    "name": "ipython",
    "version": 3
   },
   "file_extension": ".py",
   "mimetype": "text/x-python",
   "name": "python",
   "nbconvert_exporter": "python",
   "pygments_lexer": "ipython3",
   "version": "3.6.8"
  }
 },
 "nbformat": 4,
 "nbformat_minor": 2
}
