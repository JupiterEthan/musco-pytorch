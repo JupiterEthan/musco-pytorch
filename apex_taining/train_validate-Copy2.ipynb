{
 "cells": [
  {
   "cell_type": "markdown",
   "metadata": {},
   "source": [
    "## Accuracy"
   ]
  },
  {
   "cell_type": "code",
   "execution_count": 1,
   "metadata": {},
   "outputs": [],
   "source": [
    "import os\n",
    "os.environ[\"CUDA_DEVICE_ORDER\"]=\"PCI_BUS_ID\"  \n",
    "os.environ[\"CUDA_VISIBLE_DEVICES\"]=\"1\" "
   ]
  },
  {
   "cell_type": "code",
   "execution_count": 2,
   "metadata": {},
   "outputs": [],
   "source": [
    "from catalyst.dl.callbacks import Callback, AccuracyCallback\n",
    "from catalyst.dl.experiments import SupervisedRunner\n",
    "\n",
    "from collections import OrderedDict, defaultdict\n",
    "\n",
    "import torch\n",
    "import numpy as np"
   ]
  },
  {
   "cell_type": "code",
   "execution_count": 3,
   "metadata": {},
   "outputs": [],
   "source": [
    "loaders = OrderedDict()"
   ]
  },
  {
   "cell_type": "code",
   "execution_count": 4,
   "metadata": {},
   "outputs": [
    {
     "name": "stdout",
     "output_type": "stream",
     "text": [
      "Building imagenet data loader with 32 workers\n",
      "Building imagenet data loader with 32 workers\n"
     ]
    }
   ],
   "source": [
    "import sys\n",
    "sys.path.append('../')\n",
    "import dataloaders\n",
    "\n",
    "import torchvision.datasets as datasets\n",
    "from torchvision import transforms\n",
    "\n",
    "# DATA_ROOT = \"/workspace/raid/data/datasets\"\n",
    "DATA_ROOT = \"/gpfs/gpfs0/e.ponomarev/\"\n",
    "dataset_name = 'imagenet'\n",
    "\n",
    "bs = 128\n",
    "num_workers = 32\n",
    "\n",
    "if dataset_name == 'cifar10':\n",
    "    normalize = transforms.Normalize(mean=[0.485, 0.456, 0.406],\n",
    "                                     std=[0.229, 0.224, 0.225])\n",
    "    DATA_PATH = \"{}/cifar10\".format(DATA_ROOT)\n",
    "\n",
    "    loaders[\"valid\"] = torch.utils.data.DataLoader(\n",
    "        datasets.CIFAR10(root=DATA_PATH, train=False, transform=transforms.Compose([\n",
    "            transforms.ToTensor(),\n",
    "            normalize,\n",
    "        ]),  download = True),\n",
    "        batch_size=bs, shuffle=False,\n",
    "        num_workers=num_workers, pin_memory=True)\n",
    "elif dataset_name == 'imagenet':\n",
    "    loaders[\"valid\"] = dataloaders.get_loader(batch_size=bs,\n",
    "                                        data_name = 'imagenet',\n",
    "                                        data_root = DATA_ROOT,\n",
    "                                        num_workers = num_workers, \n",
    "                                        pin_memory = True)['val']\n",
    "    loaders[\"train\"] = dataloaders.get_loader(batch_size=bs,\n",
    "                                    data_name = 'imagenet',\n",
    "                                    data_root = DATA_ROOT,\n",
    "                                    num_workers = num_workers, \n",
    "                                    pin_memory = True)['train']"
   ]
  },
  {
   "cell_type": "code",
   "execution_count": 5,
   "metadata": {},
   "outputs": [],
   "source": [
    "class ValCallback(Callback):\n",
    "    \n",
    "    \n",
    "    def __init__(self, out_dir=None, out_prefix=None):\n",
    "        self.out_dir = out_dir\n",
    "        self.out_prefix = out_prefix\n",
    "        self.predictions = defaultdict(lambda: [])\n",
    "        self._keys_from_state = [\"out_dir\", \"out_prefix\"]\n",
    "\n",
    "    def on_stage_start(self, state):\n",
    "        for key in self._keys_from_state:\n",
    "            value = getattr(state, key, None)\n",
    "            if value is not None:\n",
    "                setattr(self, key, value)\n",
    "        # assert self.out_prefix is not None\n",
    "        if self.out_dir is not None:\n",
    "            self.out_prefix = str(self.out_dir) + \"/\" + str(self.out_prefix)\n",
    "        if self.out_prefix is not None:\n",
    "            os.makedirs(os.path.dirname(self.out_prefix), exist_ok=True)\n",
    "\n",
    "    def on_loader_start(self, state):\n",
    "        self.predictions = defaultdict(lambda: [])\n",
    "        self.inputs = defaultdict(lambda: [])\n",
    "\n",
    "    def on_batch_end(self, state):\n",
    "        dct = state.output\n",
    "        dct = {key: value.detach().cpu().numpy() for key, value in dct.items()}\n",
    "        for key, value in dct.items():\n",
    "            self.predictions[key].append(value)\n",
    "            \n",
    "        dct = state.input\n",
    "        dct = {key: value.detach().cpu().numpy() for key, value in dct.items()}\n",
    "        for key, value in dct.items():\n",
    "            self.inputs[key].append(value)\n",
    "\n",
    "    def on_loader_end(self, state):\n",
    "        from catalyst.dl.metrics import accuracy\n",
    "        self.predictions = {\n",
    "            key: np.concatenate(value, axis=0)\n",
    "            for key, value in self.predictions.items()\n",
    "        }\n",
    "        self.inputs = {\n",
    "            key: np.concatenate(value, axis=0)\n",
    "            for key, value in self.inputs.items()\n",
    "        }\n",
    "        y_true = torch.tensor(self.inputs['targets'])\n",
    "        y_pred = torch.tensor(self.predictions['logits'])\n",
    "        self.accuracy_score = torch.stack(accuracy(y_pred,y_true,topk=(1,5))).numpy().astype('float32')\n",
    "        self.accuracy_score = np.squeeze(self.accuracy_score)"
   ]
  },
  {
   "cell_type": "code",
   "execution_count": 6,
   "metadata": {},
   "outputs": [],
   "source": [
    "import sys\n",
    "sys.path.append('../')\n",
    "\n",
    "from model_utils import load_model\n",
    "from torchvision.models import resnet34\n",
    "\n",
    "# MODEL_NAME = 'vgg16_imagenet'\n",
    "# MODEL_NAME = 'resnet50_imagenet'\n",
    "# MODEL_NAME = 'resnet18_imagenet'\n",
    "MODEL_NAME = 'resnet34_imagenet'\n",
    "\n",
    "# MODEL_NAME = 'faster_rcnn_vgg16\n",
    "# MODEL_NAME = 'faster_rcnn_resnet50'\n",
    "\n",
    "\n",
    "# # Uncomment if MODEL_NAME = 'faster_rcnn_resnet50'\n",
    "# sys.path.append('/workspace/home/jgusak/maxvol_objects/facebook_frcnn/')\n",
    "# import maskrcnn_benchmark\n",
    "\n",
    "# model = load_model(MODEL_NAME)\n",
    "\n",
    "model = resnet34(pretrained = True)"
   ]
  },
  {
   "cell_type": "code",
   "execution_count": 7,
   "metadata": {},
   "outputs": [
    {
     "name": "stdout",
     "output_type": "stream",
     "text": [
      "0/5 * Epoch (valid): 100% 391/391 [01:06<00:00,  9.35it/s, _timers/_fps=503.193, accuracy01=46.250, accuracy05=86.250, loss=1.938]  \n",
      "0/5 * Epoch (train):   9% 904/10010 [04:37<27:06,  5.60it/s, _timers/_fps=3444.328, accuracy01=18.750, accuracy05=35.938, loss=4.432]  "
     ]
    },
    {
     "name": "stderr",
     "output_type": "stream",
     "text": [
      "/trinity/shared/opt/python-3.7.1/lib/python3.7/site-packages/PIL/TiffImagePlugin.py:754: UserWarning:\n",
      "\n",
      "Possibly corrupt EXIF data.  Expecting to read 2555904 bytes but only got 0. Skipping tag 0\n",
      "\n"
     ]
    },
    {
     "name": "stdout",
     "output_type": "stream",
     "text": [
      "0/5 * Epoch (train):  20% 2027/10010 [09:58<24:35,  5.41it/s, _timers/_fps=3294.899, accuracy01=21.875, accuracy05=49.219, loss=3.895]  "
     ]
    },
    {
     "name": "stderr",
     "output_type": "stream",
     "text": [
      "/trinity/shared/opt/python-3.7.1/lib/python3.7/site-packages/PIL/TiffImagePlugin.py:754: UserWarning:\n",
      "\n",
      "Possibly corrupt EXIF data.  Expecting to read 2555904 bytes but only got 0. Skipping tag 0\n",
      "\n"
     ]
    },
    {
     "name": "stdout",
     "output_type": "stream",
     "text": [
      "0/5 * Epoch (train):  30% 3039/10010 [14:51<21:25,  5.42it/s, _timers/_fps=3140.716, accuracy01=32.812, accuracy05=57.812, loss=3.105]  "
     ]
    },
    {
     "name": "stderr",
     "output_type": "stream",
     "text": [
      "/trinity/shared/opt/python-3.7.1/lib/python3.7/site-packages/PIL/TiffImagePlugin.py:754: UserWarning:\n",
      "\n",
      "Possibly corrupt EXIF data.  Expecting to read 2555904 bytes but only got 0. Skipping tag 0\n",
      "\n"
     ]
    },
    {
     "name": "stdout",
     "output_type": "stream",
     "text": [
      "0/5 * Epoch (train):  65% 6523/10010 [32:15<13:55,  4.17it/s, _timers/_fps=3224.179, accuracy01=42.188, accuracy05=64.844, loss=2.733]  "
     ]
    },
    {
     "name": "stderr",
     "output_type": "stream",
     "text": [
      "/trinity/shared/opt/python-3.7.1/lib/python3.7/site-packages/PIL/TiffImagePlugin.py:754: UserWarning:\n",
      "\n",
      "Possibly corrupt EXIF data.  Expecting to read 1835008 bytes but only got 0. Skipping tag 0\n",
      "\n"
     ]
    },
    {
     "name": "stdout",
     "output_type": "stream",
     "text": [
      "0/5 * Epoch (train):  76% 7643/10010 [37:50<07:43,  5.11it/s, _timers/_fps=3443.997, accuracy01=39.844, accuracy05=72.656, loss=2.773]  "
     ]
    },
    {
     "name": "stderr",
     "output_type": "stream",
     "text": [
      "/trinity/shared/opt/python-3.7.1/lib/python3.7/site-packages/PIL/TiffImagePlugin.py:754: UserWarning:\n",
      "\n",
      "Possibly corrupt EXIF data.  Expecting to read 2555904 bytes but only got 0. Skipping tag 0\n",
      "\n"
     ]
    },
    {
     "name": "stdout",
     "output_type": "stream",
     "text": [
      "0/5 * Epoch (train):  80% 7985/10010 [39:22<06:52,  4.91it/s, _timers/_fps=2138.536, accuracy01=40.625, accuracy05=66.406, loss=2.699]"
     ]
    },
    {
     "name": "stderr",
     "output_type": "stream",
     "text": [
      "/trinity/shared/opt/python-3.7.1/lib/python3.7/site-packages/PIL/TiffImagePlugin.py:754: UserWarning:\n",
      "\n",
      "Possibly corrupt EXIF data.  Expecting to read 19660800 bytes but only got 0. Skipping tag 0\n",
      "\n",
      "/trinity/shared/opt/python-3.7.1/lib/python3.7/site-packages/PIL/TiffImagePlugin.py:754: UserWarning:\n",
      "\n",
      "Possibly corrupt EXIF data.  Expecting to read 18481152 bytes but only got 0. Skipping tag 0\n",
      "\n",
      "/trinity/shared/opt/python-3.7.1/lib/python3.7/site-packages/PIL/TiffImagePlugin.py:754: UserWarning:\n",
      "\n",
      "Possibly corrupt EXIF data.  Expecting to read 37093376 bytes but only got 0. Skipping tag 0\n",
      "\n",
      "/trinity/shared/opt/python-3.7.1/lib/python3.7/site-packages/PIL/TiffImagePlugin.py:754: UserWarning:\n",
      "\n",
      "Possibly corrupt EXIF data.  Expecting to read 39976960 bytes but only got 0. Skipping tag 0\n",
      "\n",
      "/trinity/shared/opt/python-3.7.1/lib/python3.7/site-packages/PIL/TiffImagePlugin.py:754: UserWarning:\n",
      "\n",
      "Possibly corrupt EXIF data.  Expecting to read 34865152 bytes but only got 0. Skipping tag 0\n",
      "\n",
      "/trinity/shared/opt/python-3.7.1/lib/python3.7/site-packages/PIL/TiffImagePlugin.py:771: UserWarning:\n",
      "\n",
      "Corrupt EXIF data.  Expecting to read 12 bytes but only got 10. \n",
      "\n"
     ]
    },
    {
     "name": "stdout",
     "output_type": "stream",
     "text": [
      "0/5 * Epoch (train):  88% 8785/10010 [43:27<03:44,  5.46it/s, _timers/_fps=3097.017, accuracy01=42.969, accuracy05=71.094, loss=2.630]"
     ]
    },
    {
     "name": "stderr",
     "output_type": "stream",
     "text": [
      "/trinity/shared/opt/python-3.7.1/lib/python3.7/site-packages/PIL/TiffImagePlugin.py:771: UserWarning:\n",
      "\n",
      "Corrupt EXIF data.  Expecting to read 4 bytes but only got 0. \n",
      "\n"
     ]
    },
    {
     "name": "stdout",
     "output_type": "stream",
     "text": [
      "0/5 * Epoch (train):  98% 9788/10010 [48:40<00:46,  4.79it/s, _timers/_fps=3582.627, accuracy01=32.812, accuracy05=58.594, loss=3.134]"
     ]
    },
    {
     "name": "stderr",
     "output_type": "stream",
     "text": [
      "/trinity/shared/opt/python-3.7.1/lib/python3.7/site-packages/PIL/TiffImagePlugin.py:754: UserWarning:\n",
      "\n",
      "Possibly corrupt EXIF data.  Expecting to read 2555904 bytes but only got 0. Skipping tag 0\n",
      "\n"
     ]
    },
    {
     "name": "stdout",
     "output_type": "stream",
     "text": [
      "0/5 * Epoch (train): 100% 10010/10010 [49:39<00:00,  4.82it/s, _timers/_fps=944.151, accuracy01=40.000, accuracy05=40.000, loss=3.139] \n",
      "[2019-06-22 23:17:00,348] \n",
      "0/5 * Epoch 0 (valid): _base/lr=0.0020 | _base/momentum=0.9000 | _timers/_fps=8305.6209 | _timers/batch_time=0.1209 | _timers/data_time=0.1106 | _timers/model_time=0.0102 | accuracy01=73.2880 | accuracy05=91.4150 | loss=1.0821\n",
      "0/5 * Epoch 0 (train): _base/lr=0.0020 | _base/momentum=0.9000 | _timers/_fps=3157.0569 | _timers/batch_time=0.1547 | _timers/data_time=0.1457 | _timers/model_time=0.0089 | accuracy01=33.7803 | accuracy05=57.5253 | loss=3.2158\n",
      "1/5 * Epoch (valid): 100% 391/391 [01:17<00:00,  5.08it/s, _timers/_fps=11555.054, accuracy01=6.250, accuracy05=31.250, loss=4.954] \n",
      "1/5 * Epoch (train):  20% 1959/10010 [09:28<38:42,  3.47it/s, _timers/_fps=3432.569, accuracy01=50.781, accuracy05=75.781, loss=2.179]  "
     ]
    },
    {
     "name": "stderr",
     "output_type": "stream",
     "text": [
      "/trinity/shared/opt/python-3.7.1/lib/python3.7/site-packages/PIL/TiffImagePlugin.py:754: UserWarning:\n",
      "\n",
      "Possibly corrupt EXIF data.  Expecting to read 2555904 bytes but only got 0. Skipping tag 0\n",
      "\n"
     ]
    },
    {
     "name": "stdout",
     "output_type": "stream",
     "text": [
      "1/5 * Epoch (train):  26% 2561/10010 [12:19<24:36,  5.05it/s, _timers/_fps=3395.124, accuracy01=42.969, accuracy05=64.844, loss=2.551]  "
     ]
    },
    {
     "name": "stderr",
     "output_type": "stream",
     "text": [
      "/trinity/shared/opt/python-3.7.1/lib/python3.7/site-packages/PIL/TiffImagePlugin.py:754: UserWarning:\n",
      "\n",
      "Possibly corrupt EXIF data.  Expecting to read 2555904 bytes but only got 0. Skipping tag 0\n",
      "\n"
     ]
    },
    {
     "name": "stdout",
     "output_type": "stream",
     "text": [
      "1/5 * Epoch (train):  42% 4191/10010 [20:01<19:44,  4.91it/s, _timers/_fps=3459.911, accuracy01=52.344, accuracy05=73.438, loss=2.274]  "
     ]
    },
    {
     "name": "stderr",
     "output_type": "stream",
     "text": [
      "/trinity/shared/opt/python-3.7.1/lib/python3.7/site-packages/PIL/TiffImagePlugin.py:771: UserWarning:\n",
      "\n",
      "Corrupt EXIF data.  Expecting to read 4 bytes but only got 0. \n",
      "\n"
     ]
    },
    {
     "name": "stdout",
     "output_type": "stream",
     "text": [
      "1/5 * Epoch (train):  44% 4436/10010 [21:09<17:00,  5.46it/s, _timers/_fps=3209.127, accuracy01=50.000, accuracy05=73.438, loss=2.217]  "
     ]
    },
    {
     "name": "stderr",
     "output_type": "stream",
     "text": [
      "/trinity/shared/opt/python-3.7.1/lib/python3.7/site-packages/PIL/TiffImagePlugin.py:754: UserWarning:\n",
      "\n",
      "Possibly corrupt EXIF data.  Expecting to read 19660800 bytes but only got 0. Skipping tag 0\n",
      "\n",
      "/trinity/shared/opt/python-3.7.1/lib/python3.7/site-packages/PIL/TiffImagePlugin.py:754: UserWarning:\n",
      "\n",
      "Possibly corrupt EXIF data.  Expecting to read 18481152 bytes but only got 0. Skipping tag 0\n",
      "\n",
      "/trinity/shared/opt/python-3.7.1/lib/python3.7/site-packages/PIL/TiffImagePlugin.py:754: UserWarning:\n",
      "\n",
      "Possibly corrupt EXIF data.  Expecting to read 37093376 bytes but only got 0. Skipping tag 0\n",
      "\n",
      "/trinity/shared/opt/python-3.7.1/lib/python3.7/site-packages/PIL/TiffImagePlugin.py:754: UserWarning:\n",
      "\n",
      "Possibly corrupt EXIF data.  Expecting to read 39976960 bytes but only got 0. Skipping tag 0\n",
      "\n",
      "/trinity/shared/opt/python-3.7.1/lib/python3.7/site-packages/PIL/TiffImagePlugin.py:754: UserWarning:\n",
      "\n",
      "Possibly corrupt EXIF data.  Expecting to read 34865152 bytes but only got 0. Skipping tag 0\n",
      "\n",
      "/trinity/shared/opt/python-3.7.1/lib/python3.7/site-packages/PIL/TiffImagePlugin.py:771: UserWarning:\n",
      "\n",
      "Corrupt EXIF data.  Expecting to read 12 bytes but only got 10. \n",
      "\n"
     ]
    },
    {
     "name": "stdout",
     "output_type": "stream",
     "text": [
      "1/5 * Epoch (train):  63% 6271/10010 [29:16<11:09,  5.59it/s, _timers/_fps=3420.213, accuracy01=46.875, accuracy05=69.531, loss=2.309]  "
     ]
    },
    {
     "name": "stderr",
     "output_type": "stream",
     "text": [
      "/trinity/shared/opt/python-3.7.1/lib/python3.7/site-packages/PIL/TiffImagePlugin.py:754: UserWarning:\n",
      "\n",
      "Possibly corrupt EXIF data.  Expecting to read 2555904 bytes but only got 0. Skipping tag 0\n",
      "\n"
     ]
    },
    {
     "name": "stdout",
     "output_type": "stream",
     "text": [
      "1/5 * Epoch (train):  80% 7987/10010 [37:25<06:13,  5.42it/s, _timers/_fps=3419.843, accuracy01=45.312, accuracy05=74.219, loss=2.331]  "
     ]
    },
    {
     "name": "stderr",
     "output_type": "stream",
     "text": [
      "/trinity/shared/opt/python-3.7.1/lib/python3.7/site-packages/PIL/TiffImagePlugin.py:754: UserWarning:\n",
      "\n",
      "Possibly corrupt EXIF data.  Expecting to read 1835008 bytes but only got 0. Skipping tag 0\n",
      "\n"
     ]
    },
    {
     "name": "stdout",
     "output_type": "stream",
     "text": [
      "1/5 * Epoch (train):  80% 8022/10010 [37:35<05:59,  5.54it/s, _timers/_fps=3449.374, accuracy01=46.094, accuracy05=74.219, loss=2.361]"
     ]
    },
    {
     "name": "stderr",
     "output_type": "stream",
     "text": [
      "/trinity/shared/opt/python-3.7.1/lib/python3.7/site-packages/PIL/TiffImagePlugin.py:754: UserWarning:\n",
      "\n",
      "Possibly corrupt EXIF data.  Expecting to read 2555904 bytes but only got 0. Skipping tag 0\n",
      "\n"
     ]
    },
    {
     "name": "stdout",
     "output_type": "stream",
     "text": [
      "1/5 * Epoch (train):  85% 8492/10010 [40:07<04:32,  5.57it/s, _timers/_fps=3433.513, accuracy01=49.219, accuracy05=72.656, loss=2.196]  "
     ]
    },
    {
     "name": "stderr",
     "output_type": "stream",
     "text": [
      "/trinity/shared/opt/python-3.7.1/lib/python3.7/site-packages/PIL/TiffImagePlugin.py:754: UserWarning:\n",
      "\n",
      "Possibly corrupt EXIF data.  Expecting to read 2555904 bytes but only got 0. Skipping tag 0\n",
      "\n"
     ]
    },
    {
     "name": "stdout",
     "output_type": "stream",
     "text": [
      "1/5 * Epoch (train):  86% 8654/10010 [40:47<05:49,  3.88it/s, _timers/_fps=3439.540, accuracy01=51.562, accuracy05=69.531, loss=2.344]"
     ]
    },
    {
     "name": "stderr",
     "output_type": "stream",
     "text": [
      "/trinity/shared/opt/python-3.7.1/lib/python3.7/site-packages/PIL/TiffImagePlugin.py:754: UserWarning:\n",
      "\n",
      "Possibly corrupt EXIF data.  Expecting to read 2555904 bytes but only got 0. Skipping tag 0\n",
      "\n"
     ]
    },
    {
     "name": "stdout",
     "output_type": "stream",
     "text": [
      "1/5 * Epoch (train): 100% 10010/10010 [47:19<00:00,  3.53it/s, _timers/_fps=4029.262, accuracy01=46.667, accuracy05=86.667, loss=2.386]\n",
      "[2019-06-23 00:05:41,842] \n",
      "1/5 * Epoch 1 (valid): _base/lr=0.0020 | _base/momentum=0.9000 | _timers/_fps=8436.1670 | _timers/batch_time=0.1467 | _timers/data_time=0.1402 | _timers/model_time=0.0064 | accuracy01=48.5973 | accuracy05=74.6124 | loss=2.2352\n",
      "1/5 * Epoch 1 (train): _base/lr=0.0020 | _base/momentum=0.9000 | _timers/_fps=3065.6883 | _timers/batch_time=0.1368 | _timers/data_time=0.1275 | _timers/model_time=0.0092 | accuracy01=47.8909 | accuracy05=72.1598 | loss=2.3558\n",
      "2/5 * Epoch (valid): 100% 391/391 [01:18<00:00,  7.68it/s, _timers/_fps=12880.162, accuracy01=17.500, accuracy05=47.500, loss=3.929]\n",
      "2/5 * Epoch (train):  16% 1617/10010 [07:47<31:37,  4.42it/s, _timers/_fps=2988.277, accuracy01=52.344, accuracy05=83.594, loss=1.892]  "
     ]
    },
    {
     "name": "stderr",
     "output_type": "stream",
     "text": [
      "/trinity/shared/opt/python-3.7.1/lib/python3.7/site-packages/PIL/TiffImagePlugin.py:754: UserWarning:\n",
      "\n",
      "Possibly corrupt EXIF data.  Expecting to read 2555904 bytes but only got 0. Skipping tag 0\n",
      "\n"
     ]
    },
    {
     "name": "stdout",
     "output_type": "stream",
     "text": [
      "2/5 * Epoch (train):  16% 1631/10010 [07:50<27:12,  5.13it/s, _timers/_fps=3200.098, accuracy01=51.562, accuracy05=78.906, loss=2.110]"
     ]
    },
    {
     "name": "stderr",
     "output_type": "stream",
     "text": [
      "/trinity/shared/opt/python-3.7.1/lib/python3.7/site-packages/PIL/TiffImagePlugin.py:754: UserWarning:\n",
      "\n",
      "Possibly corrupt EXIF data.  Expecting to read 2555904 bytes but only got 0. Skipping tag 0\n",
      "\n"
     ]
    },
    {
     "name": "stdout",
     "output_type": "stream",
     "text": [
      "2/5 * Epoch (train):  24% 2414/10010 [11:50<22:39,  5.59it/s, _timers/_fps=3415.818, accuracy01=55.469, accuracy05=74.219, loss=2.152]   "
     ]
    },
    {
     "name": "stderr",
     "output_type": "stream",
     "text": [
      "/trinity/shared/opt/python-3.7.1/lib/python3.7/site-packages/PIL/TiffImagePlugin.py:754: UserWarning:\n",
      "\n",
      "Possibly corrupt EXIF data.  Expecting to read 2555904 bytes but only got 0. Skipping tag 0\n",
      "\n"
     ]
    },
    {
     "name": "stdout",
     "output_type": "stream",
     "text": [
      "2/5 * Epoch (train):  24% 2441/10010 [11:55<22:36,  5.58it/s, _timers/_fps=3454.657, accuracy01=56.250, accuracy05=78.125, loss=2.249]"
     ]
    },
    {
     "name": "stderr",
     "output_type": "stream",
     "text": [
      "/trinity/shared/opt/python-3.7.1/lib/python3.7/site-packages/PIL/TiffImagePlugin.py:754: UserWarning:\n",
      "\n",
      "Possibly corrupt EXIF data.  Expecting to read 19660800 bytes but only got 0. Skipping tag 0\n",
      "\n",
      "/trinity/shared/opt/python-3.7.1/lib/python3.7/site-packages/PIL/TiffImagePlugin.py:754: UserWarning:\n",
      "\n",
      "Possibly corrupt EXIF data.  Expecting to read 18481152 bytes but only got 0. Skipping tag 0\n",
      "\n",
      "/trinity/shared/opt/python-3.7.1/lib/python3.7/site-packages/PIL/TiffImagePlugin.py:754: UserWarning:\n",
      "\n",
      "Possibly corrupt EXIF data.  Expecting to read 37093376 bytes but only got 0. Skipping tag 0\n",
      "\n",
      "/trinity/shared/opt/python-3.7.1/lib/python3.7/site-packages/PIL/TiffImagePlugin.py:754: UserWarning:\n",
      "\n",
      "Possibly corrupt EXIF data.  Expecting to read 39976960 bytes but only got 0. Skipping tag 0\n",
      "\n",
      "/trinity/shared/opt/python-3.7.1/lib/python3.7/site-packages/PIL/TiffImagePlugin.py:754: UserWarning:\n",
      "\n",
      "Possibly corrupt EXIF data.  Expecting to read 34865152 bytes but only got 0. Skipping tag 0\n",
      "\n",
      "/trinity/shared/opt/python-3.7.1/lib/python3.7/site-packages/PIL/TiffImagePlugin.py:771: UserWarning:\n",
      "\n",
      "Corrupt EXIF data.  Expecting to read 12 bytes but only got 10. \n",
      "\n"
     ]
    },
    {
     "name": "stdout",
     "output_type": "stream",
     "text": [
      "2/5 * Epoch (train):  78% 7799/10010 [37:56<06:38,  5.55it/s, _timers/_fps=3280.264, accuracy01=51.562, accuracy05=78.906, loss=2.103]  "
     ]
    },
    {
     "name": "stderr",
     "output_type": "stream",
     "text": [
      "/trinity/shared/opt/python-3.7.1/lib/python3.7/site-packages/PIL/TiffImagePlugin.py:754: UserWarning:\n",
      "\n",
      "Possibly corrupt EXIF data.  Expecting to read 1835008 bytes but only got 0. Skipping tag 0\n",
      "\n"
     ]
    },
    {
     "name": "stdout",
     "output_type": "stream",
     "text": [
      "2/5 * Epoch (train):  83% 8261/10010 [40:15<05:18,  5.49it/s, _timers/_fps=3311.933, accuracy01=46.094, accuracy05=75.000, loss=2.608]"
     ]
    },
    {
     "name": "stderr",
     "output_type": "stream",
     "text": [
      "/trinity/shared/opt/python-3.7.1/lib/python3.7/site-packages/PIL/TiffImagePlugin.py:754: UserWarning:\n",
      "\n",
      "Possibly corrupt EXIF data.  Expecting to read 2555904 bytes but only got 0. Skipping tag 0\n",
      "\n"
     ]
    },
    {
     "name": "stdout",
     "output_type": "stream",
     "text": [
      "2/5 * Epoch (train):  86% 8627/10010 [42:17<04:25,  5.21it/s, _timers/_fps=3207.996, accuracy01=57.812, accuracy05=77.344, loss=1.890]"
     ]
    },
    {
     "name": "stderr",
     "output_type": "stream",
     "text": [
      "/trinity/shared/opt/python-3.7.1/lib/python3.7/site-packages/PIL/TiffImagePlugin.py:754: UserWarning:\n",
      "\n",
      "Possibly corrupt EXIF data.  Expecting to read 2555904 bytes but only got 0. Skipping tag 0\n",
      "\n"
     ]
    },
    {
     "name": "stdout",
     "output_type": "stream",
     "text": [
      "2/5 * Epoch (train):  99% 9924/10010 [48:41<00:18,  4.62it/s, _timers/_fps=3165.363, accuracy01=60.938, accuracy05=79.688, loss=1.817]  "
     ]
    },
    {
     "name": "stderr",
     "output_type": "stream",
     "text": [
      "/trinity/shared/opt/python-3.7.1/lib/python3.7/site-packages/PIL/TiffImagePlugin.py:771: UserWarning:\n",
      "\n",
      "Corrupt EXIF data.  Expecting to read 4 bytes but only got 0. \n",
      "\n"
     ]
    },
    {
     "name": "stdout",
     "output_type": "stream",
     "text": [
      "2/5 * Epoch (train): 100% 10010/10010 [49:05<00:00,  3.40it/s, _timers/_fps=4036.441, accuracy01=46.667, accuracy05=80.000, loss=2.071]\n",
      "[2019-06-23 00:56:11,872] \n",
      "2/5 * Epoch 2 (valid): _base/lr=0.0020 | _base/momentum=0.9000 | _timers/_fps=8014.9967 | _timers/batch_time=0.1526 | _timers/data_time=0.1453 | _timers/model_time=0.0072 | accuracy01=55.1059 | accuracy05=79.7311 | loss=1.9110\n",
      "2/5 * Epoch 2 (train): _base/lr=0.0020 | _base/momentum=0.9000 | _timers/_fps=3060.4825 | _timers/batch_time=0.1477 | _timers/data_time=0.1386 | _timers/model_time=0.0090 | accuracy01=52.3485 | accuracy05=75.8000 | loss=2.1202\n",
      "3/5 * Epoch (valid): 100% 391/391 [01:26<00:00,  4.52it/s, _timers/_fps=9976.232, accuracy01=21.250, accuracy05=51.250, loss=3.604] \n",
      "3/5 * Epoch (train):   0% 0/10010 [00:00<?, ?it/s]"
     ]
    },
    {
     "name": "stderr",
     "output_type": "stream",
     "text": [
      "/trinity/shared/opt/python-3.7.1/lib/python3.7/site-packages/PIL/TiffImagePlugin.py:754: UserWarning:\n",
      "\n",
      "Possibly corrupt EXIF data.  Expecting to read 19660800 bytes but only got 0. Skipping tag 0\n",
      "\n",
      "/trinity/shared/opt/python-3.7.1/lib/python3.7/site-packages/PIL/TiffImagePlugin.py:754: UserWarning:\n",
      "\n",
      "Possibly corrupt EXIF data.  Expecting to read 18481152 bytes but only got 0. Skipping tag 0\n",
      "\n",
      "/trinity/shared/opt/python-3.7.1/lib/python3.7/site-packages/PIL/TiffImagePlugin.py:754: UserWarning:\n",
      "\n",
      "Possibly corrupt EXIF data.  Expecting to read 37093376 bytes but only got 0. Skipping tag 0\n",
      "\n",
      "/trinity/shared/opt/python-3.7.1/lib/python3.7/site-packages/PIL/TiffImagePlugin.py:754: UserWarning:\n",
      "\n",
      "Possibly corrupt EXIF data.  Expecting to read 39976960 bytes but only got 0. Skipping tag 0\n",
      "\n",
      "/trinity/shared/opt/python-3.7.1/lib/python3.7/site-packages/PIL/TiffImagePlugin.py:754: UserWarning:\n",
      "\n",
      "Possibly corrupt EXIF data.  Expecting to read 34865152 bytes but only got 0. Skipping tag 0\n",
      "\n",
      "/trinity/shared/opt/python-3.7.1/lib/python3.7/site-packages/PIL/TiffImagePlugin.py:771: UserWarning:\n",
      "\n",
      "Corrupt EXIF data.  Expecting to read 12 bytes but only got 10. \n",
      "\n"
     ]
    },
    {
     "name": "stdout",
     "output_type": "stream",
     "text": [
      "3/5 * Epoch (train):  10% 967/10010 [05:05<1:06:14,  2.28it/s, _timers/_fps=229.334, accuracy01=53.125, accuracy05=74.219, loss=2.028]  "
     ]
    },
    {
     "name": "stderr",
     "output_type": "stream",
     "text": [
      "/trinity/shared/opt/python-3.7.1/lib/python3.7/site-packages/PIL/TiffImagePlugin.py:754: UserWarning:\n",
      "\n",
      "Possibly corrupt EXIF data.  Expecting to read 2555904 bytes but only got 0. Skipping tag 0\n",
      "\n"
     ]
    },
    {
     "name": "stdout",
     "output_type": "stream",
     "text": [
      "3/5 * Epoch (train):  16% 1643/10010 [08:45<46:08,  3.02it/s, _timers/_fps=3249.431, accuracy01=49.219, accuracy05=74.219, loss=2.372]   "
     ]
    },
    {
     "name": "stderr",
     "output_type": "stream",
     "text": [
      "/trinity/shared/opt/python-3.7.1/lib/python3.7/site-packages/PIL/TiffImagePlugin.py:754: UserWarning:\n",
      "\n",
      "Possibly corrupt EXIF data.  Expecting to read 1835008 bytes but only got 0. Skipping tag 0\n",
      "\n"
     ]
    },
    {
     "name": "stdout",
     "output_type": "stream",
     "text": [
      "3/5 * Epoch (train):  36% 3582/10010 [17:45<19:13,  5.57it/s, _timers/_fps=3401.512, accuracy01=53.906, accuracy05=75.000, loss=2.202]   "
     ]
    },
    {
     "name": "stderr",
     "output_type": "stream",
     "text": [
      "/trinity/shared/opt/python-3.7.1/lib/python3.7/site-packages/PIL/TiffImagePlugin.py:771: UserWarning:\n",
      "\n",
      "Corrupt EXIF data.  Expecting to read 4 bytes but only got 0. \n",
      "\n"
     ]
    },
    {
     "name": "stdout",
     "output_type": "stream",
     "text": [
      "3/5 * Epoch (train):  51% 5100/10010 [25:24<26:50,  3.05it/s, _timers/_fps=750.309, accuracy01=48.438, accuracy05=77.344, loss=2.112]   "
     ]
    },
    {
     "name": "stderr",
     "output_type": "stream",
     "text": [
      "/trinity/shared/opt/python-3.7.1/lib/python3.7/site-packages/PIL/TiffImagePlugin.py:754: UserWarning:\n",
      "\n",
      "Possibly corrupt EXIF data.  Expecting to read 2555904 bytes but only got 0. Skipping tag 0\n",
      "\n"
     ]
    },
    {
     "name": "stdout",
     "output_type": "stream",
     "text": [
      "3/5 * Epoch (train):  51% 5136/10010 [25:38<50:54,  1.60it/s, _timers/_fps=2584.328, accuracy01=56.250, accuracy05=78.125, loss=1.968]  "
     ]
    },
    {
     "name": "stderr",
     "output_type": "stream",
     "text": [
      "/trinity/shared/opt/python-3.7.1/lib/python3.7/site-packages/PIL/TiffImagePlugin.py:754: UserWarning:\n",
      "\n",
      "Possibly corrupt EXIF data.  Expecting to read 2555904 bytes but only got 0. Skipping tag 0\n",
      "\n"
     ]
    },
    {
     "name": "stdout",
     "output_type": "stream",
     "text": [
      "3/5 * Epoch (train):  62% 6177/10010 [30:51<11:49,  5.41it/s, _timers/_fps=3267.069, accuracy01=57.812, accuracy05=75.000, loss=2.076]  "
     ]
    },
    {
     "name": "stderr",
     "output_type": "stream",
     "text": [
      "/trinity/shared/opt/python-3.7.1/lib/python3.7/site-packages/PIL/TiffImagePlugin.py:754: UserWarning:\n",
      "\n",
      "Possibly corrupt EXIF data.  Expecting to read 2555904 bytes but only got 0. Skipping tag 0\n",
      "\n"
     ]
    },
    {
     "name": "stdout",
     "output_type": "stream",
     "text": [
      "3/5 * Epoch (train):  75% 7524/10010 [37:45<07:30,  5.52it/s, _timers/_fps=3432.569, accuracy01=57.031, accuracy05=77.344, loss=2.028]  "
     ]
    },
    {
     "name": "stderr",
     "output_type": "stream",
     "text": [
      "/trinity/shared/opt/python-3.7.1/lib/python3.7/site-packages/PIL/TiffImagePlugin.py:754: UserWarning:\n",
      "\n",
      "Possibly corrupt EXIF data.  Expecting to read 2555904 bytes but only got 0. Skipping tag 0\n",
      "\n"
     ]
    },
    {
     "name": "stdout",
     "output_type": "stream",
     "text": [
      "3/5 * Epoch (train): 100% 10010/10010 [50:26<00:00,  3.31it/s, _timers/_fps=4100.317, accuracy01=66.667, accuracy05=86.667, loss=1.593] \n",
      "[2019-06-23 01:48:10,652] \n",
      "3/5 * Epoch 3 (valid): _base/lr=0.0020 | _base/momentum=0.9000 | _timers/_fps=7962.7850 | _timers/batch_time=0.1721 | _timers/data_time=0.1651 | _timers/model_time=0.0070 | accuracy01=54.5640 | accuracy05=79.1232 | loss=1.9446\n",
      "3/5 * Epoch 3 (train): _base/lr=0.0020 | _base/momentum=0.9000 | _timers/_fps=2984.3564 | _timers/batch_time=0.1597 | _timers/data_time=0.1508 | _timers/model_time=0.0089 | accuracy01=55.0312 | accuracy05=77.8633 | loss=1.9818\n",
      "4/5 * Epoch (valid): 100% 391/391 [01:21<00:00,  7.78it/s, _timers/_fps=12466.525, accuracy01=32.500, accuracy05=66.250, loss=2.866]\n",
      "4/5 * Epoch (train):  18% 1834/10010 [09:33<24:24,  5.58it/s, _timers/_fps=3346.700, accuracy01=54.688, accuracy05=79.688, loss=2.021]  "
     ]
    },
    {
     "name": "stderr",
     "output_type": "stream",
     "text": [
      "/trinity/shared/opt/python-3.7.1/lib/python3.7/site-packages/PIL/TiffImagePlugin.py:771: UserWarning:\n",
      "\n",
      "Corrupt EXIF data.  Expecting to read 4 bytes but only got 0. \n",
      "\n"
     ]
    },
    {
     "name": "stdout",
     "output_type": "stream",
     "text": [
      "4/5 * Epoch (train):  19% 1865/10010 [09:40<25:14,  5.38it/s, _timers/_fps=3333.877, accuracy01=51.562, accuracy05=76.562, loss=1.893]  "
     ]
    },
    {
     "name": "stderr",
     "output_type": "stream",
     "text": [
      "/trinity/shared/opt/python-3.7.1/lib/python3.7/site-packages/PIL/TiffImagePlugin.py:754: UserWarning:\n",
      "\n",
      "Possibly corrupt EXIF data.  Expecting to read 2555904 bytes but only got 0. Skipping tag 0\n",
      "\n"
     ]
    },
    {
     "name": "stdout",
     "output_type": "stream",
     "text": [
      "4/5 * Epoch (train):  37% 3689/10010 [19:11<19:09,  5.50it/s, _timers/_fps=3442.539, accuracy01=57.031, accuracy05=79.688, loss=1.946]   "
     ]
    },
    {
     "name": "stderr",
     "output_type": "stream",
     "text": [
      "/trinity/shared/opt/python-3.7.1/lib/python3.7/site-packages/PIL/TiffImagePlugin.py:754: UserWarning:\n",
      "\n",
      "Possibly corrupt EXIF data.  Expecting to read 2555904 bytes but only got 0. Skipping tag 0\n",
      "\n"
     ]
    },
    {
     "name": "stdout",
     "output_type": "stream",
     "text": [
      "4/5 * Epoch (train):  47% 4663/10010 [24:10<33:37,  2.65it/s, _timers/_fps=3301.769, accuracy01=58.594, accuracy05=80.469, loss=2.017]  "
     ]
    },
    {
     "name": "stderr",
     "output_type": "stream",
     "text": [
      "/trinity/shared/opt/python-3.7.1/lib/python3.7/site-packages/PIL/TiffImagePlugin.py:754: UserWarning:\n",
      "\n",
      "Possibly corrupt EXIF data.  Expecting to read 2555904 bytes but only got 0. Skipping tag 0\n",
      "\n"
     ]
    },
    {
     "name": "stdout",
     "output_type": "stream",
     "text": [
      "4/5 * Epoch (train):  51% 5127/10010 [26:38<14:41,  5.54it/s, _timers/_fps=3420.693, accuracy01=60.938, accuracy05=81.250, loss=1.733]  "
     ]
    },
    {
     "name": "stderr",
     "output_type": "stream",
     "text": [
      "/trinity/shared/opt/python-3.7.1/lib/python3.7/site-packages/PIL/TiffImagePlugin.py:754: UserWarning:\n",
      "\n",
      "Possibly corrupt EXIF data.  Expecting to read 1835008 bytes but only got 0. Skipping tag 0\n",
      "\n"
     ]
    },
    {
     "name": "stdout",
     "output_type": "stream",
     "text": [
      "4/5 * Epoch (train):  68% 6766/10010 [35:03<10:00,  5.41it/s, _timers/_fps=3251.536, accuracy01=46.094, accuracy05=75.781, loss=2.269]  "
     ]
    },
    {
     "name": "stderr",
     "output_type": "stream",
     "text": [
      "/trinity/shared/opt/python-3.7.1/lib/python3.7/site-packages/PIL/TiffImagePlugin.py:754: UserWarning:\n",
      "\n",
      "Possibly corrupt EXIF data.  Expecting to read 19660800 bytes but only got 0. Skipping tag 0\n",
      "\n",
      "/trinity/shared/opt/python-3.7.1/lib/python3.7/site-packages/PIL/TiffImagePlugin.py:754: UserWarning:\n",
      "\n",
      "Possibly corrupt EXIF data.  Expecting to read 18481152 bytes but only got 0. Skipping tag 0\n",
      "\n",
      "/trinity/shared/opt/python-3.7.1/lib/python3.7/site-packages/PIL/TiffImagePlugin.py:754: UserWarning:\n",
      "\n",
      "Possibly corrupt EXIF data.  Expecting to read 37093376 bytes but only got 0. Skipping tag 0\n",
      "\n",
      "/trinity/shared/opt/python-3.7.1/lib/python3.7/site-packages/PIL/TiffImagePlugin.py:754: UserWarning:\n",
      "\n",
      "Possibly corrupt EXIF data.  Expecting to read 39976960 bytes but only got 0. Skipping tag 0\n",
      "\n",
      "/trinity/shared/opt/python-3.7.1/lib/python3.7/site-packages/PIL/TiffImagePlugin.py:754: UserWarning:\n",
      "\n",
      "Possibly corrupt EXIF data.  Expecting to read 34865152 bytes but only got 0. Skipping tag 0\n",
      "\n",
      "/trinity/shared/opt/python-3.7.1/lib/python3.7/site-packages/PIL/TiffImagePlugin.py:771: UserWarning:\n",
      "\n",
      "Corrupt EXIF data.  Expecting to read 12 bytes but only got 10. \n",
      "\n"
     ]
    },
    {
     "name": "stdout",
     "output_type": "stream",
     "text": [
      "4/5 * Epoch (train):  74% 7450/10010 [38:31<17:22,  2.46it/s, _timers/_fps=216.370, accuracy01=55.469, accuracy05=79.688, loss=1.949]   "
     ]
    },
    {
     "name": "stderr",
     "output_type": "stream",
     "text": [
      "/trinity/shared/opt/python-3.7.1/lib/python3.7/site-packages/PIL/TiffImagePlugin.py:754: UserWarning:\n",
      "\n",
      "Possibly corrupt EXIF data.  Expecting to read 2555904 bytes but only got 0. Skipping tag 0\n",
      "\n"
     ]
    },
    {
     "name": "stdout",
     "output_type": "stream",
     "text": [
      "4/5 * Epoch (train):  84% 8440/10010 [43:32<08:54,  2.94it/s, _timers/_fps=307.607, accuracy01=56.250, accuracy05=78.125, loss=1.886]   "
     ]
    },
    {
     "name": "stderr",
     "output_type": "stream",
     "text": [
      "/trinity/shared/opt/python-3.7.1/lib/python3.7/site-packages/PIL/TiffImagePlugin.py:754: UserWarning:\n",
      "\n",
      "Possibly corrupt EXIF data.  Expecting to read 2555904 bytes but only got 0. Skipping tag 0\n",
      "\n"
     ]
    },
    {
     "name": "stdout",
     "output_type": "stream",
     "text": [
      "4/5 * Epoch (train):  97% 9667/10010 [49:48<01:13,  4.67it/s, _timers/_fps=3200.289, accuracy01=64.062, accuracy05=88.281, loss=1.498]"
     ]
    },
    {
     "name": "stderr",
     "output_type": "stream",
     "text": [
      "/trinity/shared/opt/python-3.7.1/lib/python3.7/site-packages/PIL/TiffImagePlugin.py:754: UserWarning:\n",
      "\n",
      "Possibly corrupt EXIF data.  Expecting to read 2555904 bytes but only got 0. Skipping tag 0\n",
      "\n"
     ]
    },
    {
     "name": "stdout",
     "output_type": "stream",
     "text": [
      "4/5 * Epoch (train): 100% 10010/10010 [51:31<00:00,  3.24it/s, _timers/_fps=3887.158, accuracy01=53.333, accuracy05=80.000, loss=2.552]\n",
      "[2019-06-23 02:41:09,435] \n",
      "4/5 * Epoch 4 (valid): _base/lr=0.0020 | _base/momentum=0.9000 | _timers/_fps=8395.0922 | _timers/batch_time=0.1591 | _timers/data_time=0.1521 | _timers/model_time=0.0069 | accuracy01=60.4072 | accuracy05=83.0039 | loss=1.6686\n",
      "4/5 * Epoch 4 (train): _base/lr=0.0020 | _base/momentum=0.9000 | _timers/_fps=3006.1626 | _timers/batch_time=0.1636 | _timers/data_time=0.1548 | _timers/model_time=0.0087 | accuracy01=56.8314 | accuracy05=79.2064 | loss=1.8900\n",
      "Top best models:\n",
      "logs3/checkpoints//train.0.pth\t1.0821\n",
      "logs3/checkpoints//train.4.pth\t1.6686\n",
      "logs3/checkpoints//train.2.pth\t1.9110\n"
     ]
    }
   ],
   "source": [
    "lr = 0.002\n",
    "criterion = torch.nn.CrossEntropyLoss()\n",
    "optimizer = torch.optim.Adam(model.parameters(),weight_decay=1e-6,lr=lr)\n",
    "scheduler = torch.optim.lr_scheduler.ReduceLROnPlateau(optimizer)\n",
    "\n",
    "# model runner\n",
    "runner = SupervisedRunner()\n",
    "\n",
    "# model training\n",
    "runner.train(\n",
    "    model=model,\n",
    "    criterion=criterion,\n",
    "    callbacks=[\n",
    "        AccuracyCallback(accuracy_args = [1,5]), # top (1,5) accuracy  on batch\n",
    "#         ValCallback()\n",
    "    ],\n",
    "    optimizer=optimizer,\n",
    "    scheduler=scheduler,\n",
    "    loaders=loaders,\n",
    "    logdir='./logs3',\n",
    "    num_epochs=5,\n",
    "    verbose=True,\n",
    "    valid_loader='valid'\n",
    "    \n",
    ")\n",
    "\n"
   ]
  },
  {
   "cell_type": "raw",
   "metadata": {},
   "source": [
    "import copy\n",
    "m = copy.deepcopy(model.cpu())"
   ]
  },
  {
   "cell_type": "code",
   "execution_count": 8,
   "metadata": {},
   "outputs": [
    {
     "name": "stdout",
     "output_type": "stream",
     "text": [
      "0/1 * Epoch (infer): 100% 391/391 [01:09<00:00,  6.08it/s, _timers/_fps=684.177, accuracy01=46.250, accuracy03=80.000, accuracy05=86.250]  \n"
     ]
    }
   ],
   "source": [
    "scores0 = run(model)"
   ]
  },
  {
   "cell_type": "code",
   "execution_count": 9,
   "metadata": {},
   "outputs": [
    {
     "data": {
      "text/plain": [
       "array([73.314   , 87.728004, 91.420006], dtype=float32)"
      ]
     },
     "execution_count": 9,
     "metadata": {},
     "output_type": "execute_result"
    }
   ],
   "source": [
    "scores0"
   ]
  }
 ],
 "metadata": {
  "kernelspec": {
   "display_name": "Python 3",
   "language": "python",
   "name": "python3"
  },
  "language_info": {
   "codemirror_mode": {
    "name": "ipython",
    "version": 3
   },
   "file_extension": ".py",
   "mimetype": "text/x-python",
   "name": "python",
   "nbconvert_exporter": "python",
   "pygments_lexer": "ipython3",
   "version": "3.7.1"
  }
 },
 "nbformat": 4,
 "nbformat_minor": 2
}
