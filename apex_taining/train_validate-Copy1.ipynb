{
 "cells": [
  {
   "cell_type": "markdown",
   "metadata": {},
   "source": [
    "## Accuracy"
   ]
  },
  {
   "cell_type": "code",
   "execution_count": 1,
   "metadata": {},
   "outputs": [],
   "source": [
    "import os\n",
    "os.environ[\"CUDA_DEVICE_ORDER\"]=\"PCI_BUS_ID\"  \n",
    "os.environ[\"CUDA_VISIBLE_DEVICES\"]=\"2\" "
   ]
  },
  {
   "cell_type": "code",
   "execution_count": 2,
   "metadata": {},
   "outputs": [],
   "source": [
    "from catalyst.dl.callbacks import Callback, AccuracyCallback\n",
    "from catalyst.dl.experiments import SupervisedRunner\n",
    "\n",
    "from collections import OrderedDict, defaultdict\n",
    "\n",
    "import torch\n",
    "import numpy as np"
   ]
  },
  {
   "cell_type": "code",
   "execution_count": 3,
   "metadata": {},
   "outputs": [],
   "source": [
    "loaders = OrderedDict()"
   ]
  },
  {
   "cell_type": "code",
   "execution_count": 4,
   "metadata": {},
   "outputs": [
    {
     "name": "stdout",
     "output_type": "stream",
     "text": [
      "Building imagenet data loader with 32 workers\n",
      "Building imagenet data loader with 32 workers\n"
     ]
    }
   ],
   "source": [
    "import sys\n",
    "sys.path.append('../')\n",
    "import dataloaders\n",
    "\n",
    "import torchvision.datasets as datasets\n",
    "from torchvision import transforms\n",
    "\n",
    "# DATA_ROOT = \"/workspace/raid/data/datasets\"\n",
    "DATA_ROOT = \"/gpfs/gpfs0/e.ponomarev/\"\n",
    "dataset_name = 'imagenet'\n",
    "\n",
    "bs = 128\n",
    "num_workers = 32\n",
    "\n",
    "if dataset_name == 'cifar10':\n",
    "    normalize = transforms.Normalize(mean=[0.485, 0.456, 0.406],\n",
    "                                     std=[0.229, 0.224, 0.225])\n",
    "    DATA_PATH = \"{}/cifar10\".format(DATA_ROOT)\n",
    "\n",
    "    loaders[\"valid\"] = torch.utils.data.DataLoader(\n",
    "        datasets.CIFAR10(root=DATA_PATH, train=False, transform=transforms.Compose([\n",
    "            transforms.ToTensor(),\n",
    "            normalize,\n",
    "        ]),  download = True),\n",
    "        batch_size=bs, shuffle=False,\n",
    "        num_workers=num_workers, pin_memory=True)\n",
    "elif dataset_name == 'imagenet':\n",
    "    loaders[\"valid\"] = dataloaders.get_loader(batch_size=bs,\n",
    "                                        data_name = 'imagenet',\n",
    "                                        data_root = DATA_ROOT,\n",
    "                                        num_workers = num_workers, \n",
    "                                        pin_memory = True)['val']\n",
    "    loaders[\"train\"] = dataloaders.get_loader(batch_size=bs,\n",
    "                                    data_name = 'imagenet',\n",
    "                                    data_root = DATA_ROOT,\n",
    "                                    num_workers = num_workers, \n",
    "                                    pin_memory = True)['train']"
   ]
  },
  {
   "cell_type": "code",
   "execution_count": 5,
   "metadata": {},
   "outputs": [],
   "source": [
    "class ValCallback(Callback):\n",
    "    \n",
    "    \n",
    "    def __init__(self, out_dir=None, out_prefix=None):\n",
    "        self.out_dir = out_dir\n",
    "        self.out_prefix = out_prefix\n",
    "        self.predictions = defaultdict(lambda: [])\n",
    "        self._keys_from_state = [\"out_dir\", \"out_prefix\"]\n",
    "\n",
    "    def on_stage_start(self, state):\n",
    "        for key in self._keys_from_state:\n",
    "            value = getattr(state, key, None)\n",
    "            if value is not None:\n",
    "                setattr(self, key, value)\n",
    "        # assert self.out_prefix is not None\n",
    "        if self.out_dir is not None:\n",
    "            self.out_prefix = str(self.out_dir) + \"/\" + str(self.out_prefix)\n",
    "        if self.out_prefix is not None:\n",
    "            os.makedirs(os.path.dirname(self.out_prefix), exist_ok=True)\n",
    "\n",
    "    def on_loader_start(self, state):\n",
    "        self.predictions = defaultdict(lambda: [])\n",
    "        self.inputs = defaultdict(lambda: [])\n",
    "\n",
    "    def on_batch_end(self, state):\n",
    "        dct = state.output\n",
    "        dct = {key: value.detach().cpu().numpy() for key, value in dct.items()}\n",
    "        for key, value in dct.items():\n",
    "            self.predictions[key].append(value)\n",
    "            \n",
    "        dct = state.input\n",
    "        dct = {key: value.detach().cpu().numpy() for key, value in dct.items()}\n",
    "        for key, value in dct.items():\n",
    "            self.inputs[key].append(value)\n",
    "\n",
    "    def on_loader_end(self, state):\n",
    "        from catalyst.dl.metrics import accuracy\n",
    "        self.predictions = {\n",
    "            key: np.concatenate(value, axis=0)\n",
    "            for key, value in self.predictions.items()\n",
    "        }\n",
    "        self.inputs = {\n",
    "            key: np.concatenate(value, axis=0)\n",
    "            for key, value in self.inputs.items()\n",
    "        }\n",
    "        y_true = torch.tensor(self.inputs['targets'])\n",
    "        y_pred = torch.tensor(self.predictions['logits'])\n",
    "        self.accuracy_score = torch.stack(accuracy(y_pred,y_true,topk=(1,5))).numpy().astype('float32')\n",
    "        self.accuracy_score = np.squeeze(self.accuracy_score)"
   ]
  },
  {
   "cell_type": "code",
   "execution_count": null,
   "metadata": {},
   "outputs": [],
   "source": [
    "import sys\n",
    "sys.path.append('../')\n",
    "\n",
    "from model_utils import load_model\n",
    "from torchvision.models import resnet34\n",
    "\n",
    "# MODEL_NAME = 'vgg16_imagenet'\n",
    "# MODEL_NAME = 'resnet50_imagenet'\n",
    "# MODEL_NAME = 'resnet18_imagenet'\n",
    "MODEL_NAME = 'resnet34_imagenet'\n",
    "\n",
    "# MODEL_NAME = 'faster_rcnn_vgg16\n",
    "# MODEL_NAME = 'faster_rcnn_resnet50'\n",
    "\n",
    "\n",
    "# # Uncomment if MODEL_NAME = 'faster_rcnn_resnet50'\n",
    "# sys.path.append('/workspace/home/jgusak/maxvol_objects/facebook_frcnn/')\n",
    "# import maskrcnn_benchmark\n",
    "\n",
    "# model = load_model(MODEL_NAME)\n",
    "\n",
    "model = resnet34(pretrained = True)"
   ]
  },
  {
   "cell_type": "code",
   "execution_count": null,
   "metadata": {},
   "outputs": [
    {
     "name": "stdout",
     "output_type": "stream",
     "text": [
      "0/15 * Epoch (valid): 100% 391/391 [01:04<00:00,  6.10it/s, _timers/_fps=567.967, accuracy01=46.250, accuracy05=86.250, loss=1.938]   \n",
      "0/15 * Epoch (train):  19% 1886/10010 [10:09<49:14,  2.75it/s, _timers/_fps=3634.997, accuracy01=31.250, accuracy05=52.344, loss=3.495]   "
     ]
    },
    {
     "name": "stderr",
     "output_type": "stream",
     "text": [
      "/trinity/shared/opt/python-3.7.1/lib/python3.7/site-packages/PIL/TiffImagePlugin.py:754: UserWarning:\n",
      "\n",
      "Possibly corrupt EXIF data.  Expecting to read 19660800 bytes but only got 0. Skipping tag 0\n",
      "\n",
      "/trinity/shared/opt/python-3.7.1/lib/python3.7/site-packages/PIL/TiffImagePlugin.py:754: UserWarning:\n",
      "\n",
      "Possibly corrupt EXIF data.  Expecting to read 18481152 bytes but only got 0. Skipping tag 0\n",
      "\n",
      "/trinity/shared/opt/python-3.7.1/lib/python3.7/site-packages/PIL/TiffImagePlugin.py:754: UserWarning:\n",
      "\n",
      "Possibly corrupt EXIF data.  Expecting to read 37093376 bytes but only got 0. Skipping tag 0\n",
      "\n",
      "/trinity/shared/opt/python-3.7.1/lib/python3.7/site-packages/PIL/TiffImagePlugin.py:754: UserWarning:\n",
      "\n",
      "Possibly corrupt EXIF data.  Expecting to read 39976960 bytes but only got 0. Skipping tag 0\n",
      "\n",
      "/trinity/shared/opt/python-3.7.1/lib/python3.7/site-packages/PIL/TiffImagePlugin.py:754: UserWarning:\n",
      "\n",
      "Possibly corrupt EXIF data.  Expecting to read 34865152 bytes but only got 0. Skipping tag 0\n",
      "\n",
      "/trinity/shared/opt/python-3.7.1/lib/python3.7/site-packages/PIL/TiffImagePlugin.py:771: UserWarning:\n",
      "\n",
      "Corrupt EXIF data.  Expecting to read 12 bytes but only got 10. \n",
      "\n"
     ]
    },
    {
     "name": "stdout",
     "output_type": "stream",
     "text": [
      "0/15 * Epoch (train):  62% 6240/10010 [32:17<11:21,  5.53it/s, _timers/_fps=2959.662, accuracy01=38.281, accuracy05=60.938, loss=2.829]   "
     ]
    },
    {
     "name": "stderr",
     "output_type": "stream",
     "text": [
      "/trinity/shared/opt/python-3.7.1/lib/python3.7/site-packages/PIL/TiffImagePlugin.py:771: UserWarning:\n",
      "\n",
      "Corrupt EXIF data.  Expecting to read 4 bytes but only got 0. \n",
      "\n"
     ]
    },
    {
     "name": "stdout",
     "output_type": "stream",
     "text": [
      "0/15 * Epoch (train):  63% 6263/10010 [32:25<11:11,  5.58it/s, _timers/_fps=3340.453, accuracy01=42.188, accuracy05=69.531, loss=2.570]"
     ]
    },
    {
     "name": "stderr",
     "output_type": "stream",
     "text": [
      "/trinity/shared/opt/python-3.7.1/lib/python3.7/site-packages/PIL/TiffImagePlugin.py:754: UserWarning:\n",
      "\n",
      "Possibly corrupt EXIF data.  Expecting to read 2555904 bytes but only got 0. Skipping tag 0\n",
      "\n"
     ]
    },
    {
     "name": "stdout",
     "output_type": "stream",
     "text": [
      "0/15 * Epoch (train):  67% 6744/10010 [34:58<11:32,  4.72it/s, _timers/_fps=3884.430, accuracy01=44.531, accuracy05=67.188, loss=2.442]  "
     ]
    },
    {
     "name": "stderr",
     "output_type": "stream",
     "text": [
      "/trinity/shared/opt/python-3.7.1/lib/python3.7/site-packages/PIL/TiffImagePlugin.py:754: UserWarning:\n",
      "\n",
      "Possibly corrupt EXIF data.  Expecting to read 2555904 bytes but only got 0. Skipping tag 0\n",
      "\n"
     ]
    },
    {
     "name": "stdout",
     "output_type": "stream",
     "text": [
      "0/15 * Epoch (train):  70% 6986/10010 [36:12<17:21,  2.90it/s, _timers/_fps=221.589, accuracy01=42.188, accuracy05=60.156, loss=2.830] "
     ]
    },
    {
     "name": "stderr",
     "output_type": "stream",
     "text": [
      "/trinity/shared/opt/python-3.7.1/lib/python3.7/site-packages/PIL/TiffImagePlugin.py:754: UserWarning:\n",
      "\n",
      "Possibly corrupt EXIF data.  Expecting to read 1835008 bytes but only got 0. Skipping tag 0\n",
      "\n"
     ]
    },
    {
     "name": "stdout",
     "output_type": "stream",
     "text": [
      "0/15 * Epoch (train):  73% 7306/10010 [37:47<08:13,  5.48it/s, _timers/_fps=3008.321, accuracy01=44.531, accuracy05=67.969, loss=2.606]  "
     ]
    },
    {
     "name": "stderr",
     "output_type": "stream",
     "text": [
      "/trinity/shared/opt/python-3.7.1/lib/python3.7/site-packages/PIL/TiffImagePlugin.py:754: UserWarning:\n",
      "\n",
      "Possibly corrupt EXIF data.  Expecting to read 2555904 bytes but only got 0. Skipping tag 0\n",
      "\n"
     ]
    },
    {
     "name": "stdout",
     "output_type": "stream",
     "text": [
      "0/15 * Epoch (train):  78% 7808/10010 [40:21<08:23,  4.37it/s, _timers/_fps=3419.582, accuracy01=45.312, accuracy05=68.750, loss=2.343]  "
     ]
    },
    {
     "name": "stderr",
     "output_type": "stream",
     "text": [
      "/trinity/shared/opt/python-3.7.1/lib/python3.7/site-packages/PIL/TiffImagePlugin.py:754: UserWarning:\n",
      "\n",
      "Possibly corrupt EXIF data.  Expecting to read 2555904 bytes but only got 0. Skipping tag 0\n",
      "\n"
     ]
    },
    {
     "name": "stdout",
     "output_type": "stream",
     "text": [
      "0/15 * Epoch (train):  89% 8948/10010 [46:13<06:01,  2.94it/s, _timers/_fps=3045.005, accuracy01=44.531, accuracy05=75.000, loss=2.268]  "
     ]
    },
    {
     "name": "stderr",
     "output_type": "stream",
     "text": [
      "/trinity/shared/opt/python-3.7.1/lib/python3.7/site-packages/PIL/TiffImagePlugin.py:754: UserWarning:\n",
      "\n",
      "Possibly corrupt EXIF data.  Expecting to read 2555904 bytes but only got 0. Skipping tag 0\n",
      "\n"
     ]
    },
    {
     "name": "stdout",
     "output_type": "stream",
     "text": [
      "0/15 * Epoch (train): 100% 10010/10010 [51:41<00:00,  3.68it/s, _timers/_fps=683.203, accuracy01=46.667, accuracy05=53.333, loss=2.812] \n",
      "[2019-06-22 23:18:40,752] \n",
      "0/15 * Epoch 0 (valid): _base/lr=0.0020 | _base/momentum=0.9000 | _timers/_fps=9220.3730 | _timers/batch_time=0.1160 | _timers/data_time=0.1068 | _timers/model_time=0.0091 | accuracy01=73.2880 | accuracy05=91.4150 | loss=1.0821\n",
      "0/15 * Epoch 0 (train): _base/lr=0.0020 | _base/momentum=0.9000 | _timers/_fps=2962.8309 | _timers/batch_time=0.1656 | _timers/data_time=0.1554 | _timers/model_time=0.0102 | accuracy01=34.9072 | accuracy05=58.9128 | loss=3.1355\n",
      "1/15 * Epoch (valid): 100% 391/391 [01:16<00:00,  4.61it/s, _timers/_fps=11987.204, accuracy01=23.750, accuracy05=51.250, loss=3.964]\n",
      "1/15 * Epoch (train):   2% 160/10010 [00:50<29:53,  5.49it/s, _timers/_fps=3578.519, accuracy01=49.219, accuracy05=75.000, loss=2.198]  "
     ]
    },
    {
     "name": "stderr",
     "output_type": "stream",
     "text": [
      "/trinity/shared/opt/python-3.7.1/lib/python3.7/site-packages/PIL/TiffImagePlugin.py:754: UserWarning:\n",
      "\n",
      "Possibly corrupt EXIF data.  Expecting to read 2555904 bytes but only got 0. Skipping tag 0\n",
      "\n"
     ]
    },
    {
     "name": "stdout",
     "output_type": "stream",
     "text": [
      "1/15 * Epoch (train):   4% 417/10010 [02:14<36:46,  4.35it/s, _timers/_fps=574.603, accuracy01=46.094, accuracy05=74.219, loss=2.302]   "
     ]
    },
    {
     "name": "stderr",
     "output_type": "stream",
     "text": [
      "/trinity/shared/opt/python-3.7.1/lib/python3.7/site-packages/PIL/TiffImagePlugin.py:754: UserWarning:\n",
      "\n",
      "Possibly corrupt EXIF data.  Expecting to read 2555904 bytes but only got 0. Skipping tag 0\n",
      "\n"
     ]
    },
    {
     "name": "stdout",
     "output_type": "stream",
     "text": [
      "1/15 * Epoch (train):  19% 1859/10010 [09:21<24:09,  5.62it/s, _timers/_fps=3206.693, accuracy01=53.125, accuracy05=81.250, loss=2.000]  "
     ]
    },
    {
     "name": "stderr",
     "output_type": "stream",
     "text": [
      "/trinity/shared/opt/python-3.7.1/lib/python3.7/site-packages/PIL/TiffImagePlugin.py:754: UserWarning:\n",
      "\n",
      "Possibly corrupt EXIF data.  Expecting to read 2555904 bytes but only got 0. Skipping tag 0\n",
      "\n"
     ]
    },
    {
     "name": "stdout",
     "output_type": "stream",
     "text": [
      "1/15 * Epoch (train):  43% 4265/10010 [21:24<17:22,  5.51it/s, _timers/_fps=3261.670, accuracy01=47.656, accuracy05=69.531, loss=2.574]   "
     ]
    },
    {
     "name": "stderr",
     "output_type": "stream",
     "text": [
      "/trinity/shared/opt/python-3.7.1/lib/python3.7/site-packages/PIL/TiffImagePlugin.py:771: UserWarning:\n",
      "\n",
      "Corrupt EXIF data.  Expecting to read 4 bytes but only got 0. \n",
      "\n"
     ]
    },
    {
     "name": "stdout",
     "output_type": "stream",
     "text": [
      "1/15 * Epoch (train):  51% 5119/10010 [25:30<22:47,  3.58it/s, _timers/_fps=3374.127, accuracy01=46.094, accuracy05=71.875, loss=2.226]  "
     ]
    },
    {
     "name": "stderr",
     "output_type": "stream",
     "text": [
      "/trinity/shared/opt/python-3.7.1/lib/python3.7/site-packages/PIL/TiffImagePlugin.py:754: UserWarning:\n",
      "\n",
      "Possibly corrupt EXIF data.  Expecting to read 2555904 bytes but only got 0. Skipping tag 0\n",
      "\n"
     ]
    },
    {
     "name": "stdout",
     "output_type": "stream",
     "text": [
      "1/15 * Epoch (train):  52% 5178/10010 [25:44<18:43,  4.30it/s, _timers/_fps=3168.165, accuracy01=49.219, accuracy05=77.344, loss=2.378]  "
     ]
    },
    {
     "name": "stderr",
     "output_type": "stream",
     "text": [
      "/trinity/shared/opt/python-3.7.1/lib/python3.7/site-packages/PIL/TiffImagePlugin.py:754: UserWarning:\n",
      "\n",
      "Possibly corrupt EXIF data.  Expecting to read 2555904 bytes but only got 0. Skipping tag 0\n",
      "\n"
     ]
    },
    {
     "name": "stdout",
     "output_type": "stream",
     "text": [
      "1/15 * Epoch (train):  64% 6421/10010 [32:17<11:57,  5.00it/s, _timers/_fps=4011.259, accuracy01=51.562, accuracy05=70.312, loss=2.528]  "
     ]
    },
    {
     "name": "stderr",
     "output_type": "stream",
     "text": [
      "/trinity/shared/opt/python-3.7.1/lib/python3.7/site-packages/PIL/TiffImagePlugin.py:754: UserWarning:\n",
      "\n",
      "Possibly corrupt EXIF data.  Expecting to read 1835008 bytes but only got 0. Skipping tag 0\n",
      "\n"
     ]
    },
    {
     "name": "stdout",
     "output_type": "stream",
     "text": [
      "1/15 * Epoch (train):  65% 6551/10010 [32:53<12:35,  4.58it/s, _timers/_fps=3465.047, accuracy01=46.875, accuracy05=67.188, loss=2.655]"
     ]
    },
    {
     "name": "stderr",
     "output_type": "stream",
     "text": [
      "/trinity/shared/opt/python-3.7.1/lib/python3.7/site-packages/PIL/TiffImagePlugin.py:754: UserWarning:\n",
      "\n",
      "Possibly corrupt EXIF data.  Expecting to read 19660800 bytes but only got 0. Skipping tag 0\n",
      "\n",
      "/trinity/shared/opt/python-3.7.1/lib/python3.7/site-packages/PIL/TiffImagePlugin.py:754: UserWarning:\n",
      "\n",
      "Possibly corrupt EXIF data.  Expecting to read 18481152 bytes but only got 0. Skipping tag 0\n",
      "\n",
      "/trinity/shared/opt/python-3.7.1/lib/python3.7/site-packages/PIL/TiffImagePlugin.py:754: UserWarning:\n",
      "\n",
      "Possibly corrupt EXIF data.  Expecting to read 37093376 bytes but only got 0. Skipping tag 0\n",
      "\n",
      "/trinity/shared/opt/python-3.7.1/lib/python3.7/site-packages/PIL/TiffImagePlugin.py:754: UserWarning:\n",
      "\n",
      "Possibly corrupt EXIF data.  Expecting to read 39976960 bytes but only got 0. Skipping tag 0\n",
      "\n",
      "/trinity/shared/opt/python-3.7.1/lib/python3.7/site-packages/PIL/TiffImagePlugin.py:754: UserWarning:\n",
      "\n",
      "Possibly corrupt EXIF data.  Expecting to read 34865152 bytes but only got 0. Skipping tag 0\n",
      "\n",
      "/trinity/shared/opt/python-3.7.1/lib/python3.7/site-packages/PIL/TiffImagePlugin.py:771: UserWarning:\n",
      "\n",
      "Corrupt EXIF data.  Expecting to read 12 bytes but only got 10. \n",
      "\n"
     ]
    },
    {
     "name": "stdout",
     "output_type": "stream",
     "text": [
      "1/15 * Epoch (train):  82% 8230/10010 [41:26<07:50,  3.78it/s, _timers/_fps=3341.596, accuracy01=53.125, accuracy05=75.781, loss=2.210]  "
     ]
    },
    {
     "name": "stderr",
     "output_type": "stream",
     "text": [
      "/trinity/shared/opt/python-3.7.1/lib/python3.7/site-packages/PIL/TiffImagePlugin.py:754: UserWarning:\n",
      "\n",
      "Possibly corrupt EXIF data.  Expecting to read 2555904 bytes but only got 0. Skipping tag 0\n",
      "\n"
     ]
    },
    {
     "name": "stdout",
     "output_type": "stream",
     "text": [
      "1/15 * Epoch (train): 100% 10010/10010 [50:55<00:00,  3.28it/s, _timers/_fps=4426.159, accuracy01=46.667, accuracy05=60.000, loss=2.894] \n",
      "[2019-06-23 00:10:58,056] \n",
      "1/15 * Epoch 1 (valid): _base/lr=0.0020 | _base/momentum=0.9000 | _timers/_fps=9136.1623 | _timers/batch_time=0.1479 | _timers/data_time=0.1422 | _timers/model_time=0.0056 | accuracy01=48.7420 | accuracy05=74.5197 | loss=2.2282\n",
      "1/15 * Epoch 1 (train): _base/lr=0.0020 | _base/momentum=0.9000 | _timers/_fps=2965.7234 | _timers/batch_time=0.1642 | _timers/data_time=0.1554 | _timers/model_time=0.0087 | accuracy01=48.2863 | accuracy05=72.5106 | loss=2.3344\n",
      "2/15 * Epoch (valid): 100% 391/391 [01:24<00:00,  4.63it/s, _timers/_fps=10241.719, accuracy01=31.250, accuracy05=61.250, loss=3.150]\n",
      "2/15 * Epoch (train):   9% 856/10010 [04:21<49:44,  3.07it/s, _timers/_fps=3494.707, accuracy01=45.312, accuracy05=70.312, loss=2.394]  "
     ]
    },
    {
     "name": "stderr",
     "output_type": "stream",
     "text": [
      "/trinity/shared/opt/python-3.7.1/lib/python3.7/site-packages/PIL/TiffImagePlugin.py:754: UserWarning:\n",
      "\n",
      "Possibly corrupt EXIF data.  Expecting to read 19660800 bytes but only got 0. Skipping tag 0\n",
      "\n",
      "/trinity/shared/opt/python-3.7.1/lib/python3.7/site-packages/PIL/TiffImagePlugin.py:754: UserWarning:\n",
      "\n",
      "Possibly corrupt EXIF data.  Expecting to read 18481152 bytes but only got 0. Skipping tag 0\n",
      "\n",
      "/trinity/shared/opt/python-3.7.1/lib/python3.7/site-packages/PIL/TiffImagePlugin.py:754: UserWarning:\n",
      "\n",
      "Possibly corrupt EXIF data.  Expecting to read 37093376 bytes but only got 0. Skipping tag 0\n",
      "\n",
      "/trinity/shared/opt/python-3.7.1/lib/python3.7/site-packages/PIL/TiffImagePlugin.py:754: UserWarning:\n",
      "\n",
      "Possibly corrupt EXIF data.  Expecting to read 39976960 bytes but only got 0. Skipping tag 0\n",
      "\n",
      "/trinity/shared/opt/python-3.7.1/lib/python3.7/site-packages/PIL/TiffImagePlugin.py:754: UserWarning:\n",
      "\n",
      "Possibly corrupt EXIF data.  Expecting to read 34865152 bytes but only got 0. Skipping tag 0\n",
      "\n",
      "/trinity/shared/opt/python-3.7.1/lib/python3.7/site-packages/PIL/TiffImagePlugin.py:771: UserWarning:\n",
      "\n",
      "Corrupt EXIF data.  Expecting to read 12 bytes but only got 10. \n",
      "\n"
     ]
    },
    {
     "name": "stdout",
     "output_type": "stream",
     "text": [
      "2/15 * Epoch (train):   9% 888/10010 [04:32<49:38,  3.06it/s, _timers/_fps=3470.333, accuracy01=52.344, accuracy05=72.656, loss=2.133]  "
     ]
    },
    {
     "name": "stderr",
     "output_type": "stream",
     "text": [
      "/trinity/shared/opt/python-3.7.1/lib/python3.7/site-packages/PIL/TiffImagePlugin.py:754: UserWarning:\n",
      "\n",
      "Possibly corrupt EXIF data.  Expecting to read 2555904 bytes but only got 0. Skipping tag 0\n",
      "\n"
     ]
    },
    {
     "name": "stdout",
     "output_type": "stream",
     "text": [
      "2/15 * Epoch (train):  14% 1367/10010 [06:55<45:12,  3.19it/s, _timers/_fps=260.442, accuracy01=57.812, accuracy05=80.469, loss=1.994]   "
     ]
    },
    {
     "name": "stderr",
     "output_type": "stream",
     "text": [
      "/trinity/shared/opt/python-3.7.1/lib/python3.7/site-packages/PIL/TiffImagePlugin.py:754: UserWarning:\n",
      "\n",
      "Possibly corrupt EXIF data.  Expecting to read 2555904 bytes but only got 0. Skipping tag 0\n",
      "\n"
     ]
    },
    {
     "name": "stdout",
     "output_type": "stream",
     "text": [
      "2/15 * Epoch (train):  33% 3312/10010 [16:58<21:49,  5.11it/s, _timers/_fps=3217.474, accuracy01=50.000, accuracy05=75.781, loss=2.221]  "
     ]
    },
    {
     "name": "stderr",
     "output_type": "stream",
     "text": [
      "/trinity/shared/opt/python-3.7.1/lib/python3.7/site-packages/PIL/TiffImagePlugin.py:754: UserWarning:\n",
      "\n",
      "Possibly corrupt EXIF data.  Expecting to read 2555904 bytes but only got 0. Skipping tag 0\n",
      "\n"
     ]
    },
    {
     "name": "stdout",
     "output_type": "stream",
     "text": [
      "2/15 * Epoch (train):  34% 3435/10010 [17:39<57:35,  1.90it/s, _timers/_fps=107.487, accuracy01=51.562, accuracy05=75.781, loss=2.311]   "
     ]
    },
    {
     "name": "stderr",
     "output_type": "stream",
     "text": [
      "/trinity/shared/opt/python-3.7.1/lib/python3.7/site-packages/PIL/TiffImagePlugin.py:754: UserWarning:\n",
      "\n",
      "Possibly corrupt EXIF data.  Expecting to read 1835008 bytes but only got 0. Skipping tag 0\n",
      "\n"
     ]
    },
    {
     "name": "stdout",
     "output_type": "stream",
     "text": [
      "2/15 * Epoch (train):  39% 3887/10010 [19:56<48:11,  2.12it/s, _timers/_fps=3152.927, accuracy01=56.250, accuracy05=85.156, loss=1.773]  "
     ]
    },
    {
     "name": "stderr",
     "output_type": "stream",
     "text": [
      "/trinity/shared/opt/python-3.7.1/lib/python3.7/site-packages/PIL/TiffImagePlugin.py:754: UserWarning:\n",
      "\n",
      "Possibly corrupt EXIF data.  Expecting to read 2555904 bytes but only got 0. Skipping tag 0\n",
      "\n"
     ]
    },
    {
     "name": "stdout",
     "output_type": "stream",
     "text": [
      "2/15 * Epoch (train):  49% 4950/10010 [25:33<18:18,  4.60it/s, _timers/_fps=3221.760, accuracy01=54.688, accuracy05=70.312, loss=2.461]  "
     ]
    },
    {
     "name": "stderr",
     "output_type": "stream",
     "text": [
      "/trinity/shared/opt/python-3.7.1/lib/python3.7/site-packages/PIL/TiffImagePlugin.py:771: UserWarning:\n",
      "\n",
      "Corrupt EXIF data.  Expecting to read 4 bytes but only got 0. \n",
      "\n"
     ]
    },
    {
     "name": "stdout",
     "output_type": "stream",
     "text": [
      "2/15 * Epoch (train):  73% 7316/10010 [38:30<08:11,  5.48it/s, _timers/_fps=3018.622, accuracy01=47.656, accuracy05=76.562, loss=2.217]  "
     ]
    },
    {
     "name": "stderr",
     "output_type": "stream",
     "text": [
      "/trinity/shared/opt/python-3.7.1/lib/python3.7/site-packages/PIL/TiffImagePlugin.py:754: UserWarning:\n",
      "\n",
      "Possibly corrupt EXIF data.  Expecting to read 2555904 bytes but only got 0. Skipping tag 0\n",
      "\n"
     ]
    },
    {
     "name": "stdout",
     "output_type": "stream",
     "text": [
      "2/15 * Epoch (train):  93% 9316/10010 [48:48<08:11,  1.41it/s, _timers/_fps=71.092, accuracy01=53.125, accuracy05=75.000, loss=2.201]    "
     ]
    },
    {
     "name": "stderr",
     "output_type": "stream",
     "text": [
      "/trinity/shared/opt/python-3.7.1/lib/python3.7/site-packages/PIL/TiffImagePlugin.py:754: UserWarning:\n",
      "\n",
      "Possibly corrupt EXIF data.  Expecting to read 2555904 bytes but only got 0. Skipping tag 0\n",
      "\n"
     ]
    },
    {
     "name": "stdout",
     "output_type": "stream",
     "text": [
      "2/15 * Epoch (train): 100% 10010/10010 [52:28<00:00,  3.18it/s, _timers/_fps=3916.593, accuracy01=46.667, accuracy05=66.667, loss=2.537]\n",
      "[2019-06-23 01:04:56,095] \n",
      "2/15 * Epoch 2 (valid): _base/lr=0.0020 | _base/momentum=0.9000 | _timers/_fps=8056.6862 | _timers/batch_time=0.1677 | _timers/data_time=0.1605 | _timers/model_time=0.0072 | accuracy01=54.2759 | accuracy05=78.8751 | loss=1.9639\n",
      "2/15 * Epoch 2 (train): _base/lr=0.0020 | _base/momentum=0.9000 | _timers/_fps=3134.3919 | _timers/batch_time=0.1726 | _timers/data_time=0.1641 | _timers/model_time=0.0085 | accuracy01=52.6686 | accuracy05=76.0601 | loss=2.1029\n",
      "3/15 * Epoch (valid): 100% 391/391 [01:36<00:00,  4.03it/s, _timers/_fps=14449.882, accuracy01=31.250, accuracy05=68.750, loss=3.072]\n",
      "3/15 * Epoch (train):   0% 0/10010 [00:00<?, ?it/s]"
     ]
    },
    {
     "name": "stderr",
     "output_type": "stream",
     "text": [
      "/trinity/shared/opt/python-3.7.1/lib/python3.7/site-packages/PIL/TiffImagePlugin.py:754: UserWarning:\n",
      "\n",
      "Possibly corrupt EXIF data.  Expecting to read 2555904 bytes but only got 0. Skipping tag 0\n",
      "\n"
     ]
    },
    {
     "name": "stdout",
     "output_type": "stream",
     "text": [
      "3/15 * Epoch (train):   6% 570/10010 [02:51<27:37,  5.69it/s, _timers/_fps=3568.126, accuracy01=60.156, accuracy05=82.031, loss=1.957]  "
     ]
    },
    {
     "name": "stderr",
     "output_type": "stream",
     "text": [
      "/trinity/shared/opt/python-3.7.1/lib/python3.7/site-packages/PIL/TiffImagePlugin.py:771: UserWarning:\n",
      "\n",
      "Corrupt EXIF data.  Expecting to read 4 bytes but only got 0. \n",
      "\n"
     ]
    },
    {
     "name": "stdout",
     "output_type": "stream",
     "text": [
      "3/15 * Epoch (train):   8% 800/10010 [03:52<28:05,  5.46it/s, _timers/_fps=3458.284, accuracy01=53.906, accuracy05=75.000, loss=2.147]  "
     ]
    },
    {
     "name": "stderr",
     "output_type": "stream",
     "text": [
      "/trinity/shared/opt/python-3.7.1/lib/python3.7/site-packages/PIL/TiffImagePlugin.py:754: UserWarning:\n",
      "\n",
      "Possibly corrupt EXIF data.  Expecting to read 19660800 bytes but only got 0. Skipping tag 0\n",
      "\n",
      "/trinity/shared/opt/python-3.7.1/lib/python3.7/site-packages/PIL/TiffImagePlugin.py:754: UserWarning:\n",
      "\n",
      "Possibly corrupt EXIF data.  Expecting to read 18481152 bytes but only got 0. Skipping tag 0\n",
      "\n",
      "/trinity/shared/opt/python-3.7.1/lib/python3.7/site-packages/PIL/TiffImagePlugin.py:754: UserWarning:\n",
      "\n",
      "Possibly corrupt EXIF data.  Expecting to read 37093376 bytes but only got 0. Skipping tag 0\n",
      "\n",
      "/trinity/shared/opt/python-3.7.1/lib/python3.7/site-packages/PIL/TiffImagePlugin.py:754: UserWarning:\n",
      "\n",
      "Possibly corrupt EXIF data.  Expecting to read 39976960 bytes but only got 0. Skipping tag 0\n",
      "\n",
      "/trinity/shared/opt/python-3.7.1/lib/python3.7/site-packages/PIL/TiffImagePlugin.py:754: UserWarning:\n",
      "\n",
      "Possibly corrupt EXIF data.  Expecting to read 34865152 bytes but only got 0. Skipping tag 0\n",
      "\n",
      "/trinity/shared/opt/python-3.7.1/lib/python3.7/site-packages/PIL/TiffImagePlugin.py:771: UserWarning:\n",
      "\n",
      "Corrupt EXIF data.  Expecting to read 12 bytes but only got 10. \n",
      "\n"
     ]
    },
    {
     "name": "stdout",
     "output_type": "stream",
     "text": [
      "3/15 * Epoch (train):  14% 1436/10010 [06:51<33:40,  4.24it/s, _timers/_fps=3353.410, accuracy01=53.906, accuracy05=76.562, loss=1.989]  "
     ]
    },
    {
     "name": "stderr",
     "output_type": "stream",
     "text": [
      "/trinity/shared/opt/python-3.7.1/lib/python3.7/site-packages/PIL/TiffImagePlugin.py:754: UserWarning:\n",
      "\n",
      "Possibly corrupt EXIF data.  Expecting to read 1835008 bytes but only got 0. Skipping tag 0\n",
      "\n"
     ]
    },
    {
     "name": "stdout",
     "output_type": "stream",
     "text": [
      "3/15 * Epoch (train):  17% 1688/10010 [08:09<25:54,  5.35it/s, _timers/_fps=3477.796, accuracy01=53.125, accuracy05=78.906, loss=1.925]  "
     ]
    },
    {
     "name": "stderr",
     "output_type": "stream",
     "text": [
      "/trinity/shared/opt/python-3.7.1/lib/python3.7/site-packages/PIL/TiffImagePlugin.py:754: UserWarning:\n",
      "\n",
      "Possibly corrupt EXIF data.  Expecting to read 2555904 bytes but only got 0. Skipping tag 0\n",
      "\n"
     ]
    },
    {
     "name": "stdout",
     "output_type": "stream",
     "text": [
      "3/15 * Epoch (train):  17% 1731/10010 [08:22<1:09:59,  1.97it/s, _timers/_fps=192.608, accuracy01=50.781, accuracy05=72.656, loss=2.123] "
     ]
    },
    {
     "name": "stderr",
     "output_type": "stream",
     "text": [
      "/trinity/shared/opt/python-3.7.1/lib/python3.7/site-packages/PIL/TiffImagePlugin.py:754: UserWarning:\n",
      "\n",
      "Possibly corrupt EXIF data.  Expecting to read 2555904 bytes but only got 0. Skipping tag 0\n",
      "\n"
     ]
    },
    {
     "name": "stdout",
     "output_type": "stream",
     "text": [
      "3/15 * Epoch (train):  20% 2046/10010 [10:01<23:51,  5.56it/s, _timers/_fps=3760.627, accuracy01=48.438, accuracy05=73.438, loss=2.302]  "
     ]
    },
    {
     "name": "stderr",
     "output_type": "stream",
     "text": [
      "/trinity/shared/opt/python-3.7.1/lib/python3.7/site-packages/PIL/TiffImagePlugin.py:754: UserWarning:\n",
      "\n",
      "Possibly corrupt EXIF data.  Expecting to read 2555904 bytes but only got 0. Skipping tag 0\n",
      "\n"
     ]
    },
    {
     "name": "stdout",
     "output_type": "stream",
     "text": [
      "3/15 * Epoch (train):  36% 3560/10010 [18:20<19:11,  5.60it/s, _timers/_fps=3587.438, accuracy01=54.688, accuracy05=75.000, loss=1.987]  "
     ]
    },
    {
     "name": "stderr",
     "output_type": "stream",
     "text": [
      "/trinity/shared/opt/python-3.7.1/lib/python3.7/site-packages/PIL/TiffImagePlugin.py:754: UserWarning:\n",
      "\n",
      "Possibly corrupt EXIF data.  Expecting to read 2555904 bytes but only got 0. Skipping tag 0\n",
      "\n"
     ]
    },
    {
     "name": "stdout",
     "output_type": "stream",
     "text": [
      "3/15 * Epoch (train):  66% 6631/10010 [35:01<14:24,  3.91it/s, _timers/_fps=750.315, accuracy01=53.125, accuracy05=76.562, loss=2.028]    "
     ]
    },
    {
     "name": "stderr",
     "output_type": "stream",
     "text": [
      "/trinity/shared/opt/python-3.7.1/lib/python3.7/site-packages/PIL/TiffImagePlugin.py:754: UserWarning:\n",
      "\n",
      "Possibly corrupt EXIF data.  Expecting to read 2555904 bytes but only got 0. Skipping tag 0\n",
      "\n"
     ]
    },
    {
     "name": "stdout",
     "output_type": "stream",
     "text": [
      "3/15 * Epoch (train): 100% 10010/10010 [52:37<00:00,  3.17it/s, _timers/_fps=4043.768, accuracy01=60.000, accuracy05=93.333, loss=1.425] \n",
      "[2019-06-23 01:59:15,967] \n",
      "3/15 * Epoch 3 (valid): _base/lr=0.0020 | _base/momentum=0.9000 | _timers/_fps=8034.3483 | _timers/batch_time=0.1985 | _timers/data_time=0.1905 | _timers/model_time=0.0079 | accuracy01=58.4099 | accuracy05=81.9313 | loss=1.7514\n",
      "3/15 * Epoch 3 (train): _base/lr=0.0020 | _base/momentum=0.9000 | _timers/_fps=3021.7078 | _timers/batch_time=0.1729 | _timers/data_time=0.1644 | _timers/model_time=0.0085 | accuracy01=55.3172 | accuracy05=78.0923 | loss=1.9659\n",
      "4/15 * Epoch (valid): 100% 391/391 [01:32<00:00,  4.21it/s, _timers/_fps=7401.747, accuracy01=27.500, accuracy05=71.250, loss=2.920] \n",
      "4/15 * Epoch (train):  14% 1445/10010 [07:05<1:13:49,  1.93it/s, _timers/_fps=529.156, accuracy01=60.938, accuracy05=85.156, loss=1.611] "
     ]
    },
    {
     "name": "stderr",
     "output_type": "stream",
     "text": [
      "/trinity/shared/opt/python-3.7.1/lib/python3.7/site-packages/PIL/TiffImagePlugin.py:754: UserWarning:\n",
      "\n",
      "Possibly corrupt EXIF data.  Expecting to read 2555904 bytes but only got 0. Skipping tag 0\n",
      "\n"
     ]
    },
    {
     "name": "stdout",
     "output_type": "stream",
     "text": [
      "4/15 * Epoch (train):  48% 4756/10010 [23:48<15:24,  5.68it/s, _timers/_fps=3501.180, accuracy01=53.125, accuracy05=78.906, loss=2.027]  "
     ]
    },
    {
     "name": "stderr",
     "output_type": "stream",
     "text": [
      "/trinity/shared/opt/python-3.7.1/lib/python3.7/site-packages/PIL/TiffImagePlugin.py:754: UserWarning:\n",
      "\n",
      "Possibly corrupt EXIF data.  Expecting to read 1835008 bytes but only got 0. Skipping tag 0\n",
      "\n"
     ]
    },
    {
     "name": "stdout",
     "output_type": "stream",
     "text": [
      "4/15 * Epoch (train):  54% 5427/10010 [27:05<13:36,  5.61it/s, _timers/_fps=3205.640, accuracy01=57.031, accuracy05=78.906, loss=1.840]  "
     ]
    },
    {
     "name": "stderr",
     "output_type": "stream",
     "text": [
      "/trinity/shared/opt/python-3.7.1/lib/python3.7/site-packages/PIL/TiffImagePlugin.py:754: UserWarning:\n",
      "\n",
      "Possibly corrupt EXIF data.  Expecting to read 19660800 bytes but only got 0. Skipping tag 0\n",
      "\n",
      "/trinity/shared/opt/python-3.7.1/lib/python3.7/site-packages/PIL/TiffImagePlugin.py:754: UserWarning:\n",
      "\n",
      "Possibly corrupt EXIF data.  Expecting to read 18481152 bytes but only got 0. Skipping tag 0\n",
      "\n",
      "/trinity/shared/opt/python-3.7.1/lib/python3.7/site-packages/PIL/TiffImagePlugin.py:754: UserWarning:\n",
      "\n",
      "Possibly corrupt EXIF data.  Expecting to read 37093376 bytes but only got 0. Skipping tag 0\n",
      "\n",
      "/trinity/shared/opt/python-3.7.1/lib/python3.7/site-packages/PIL/TiffImagePlugin.py:754: UserWarning:\n",
      "\n",
      "Possibly corrupt EXIF data.  Expecting to read 39976960 bytes but only got 0. Skipping tag 0\n",
      "\n",
      "/trinity/shared/opt/python-3.7.1/lib/python3.7/site-packages/PIL/TiffImagePlugin.py:754: UserWarning:\n",
      "\n",
      "Possibly corrupt EXIF data.  Expecting to read 34865152 bytes but only got 0. Skipping tag 0\n",
      "\n",
      "/trinity/shared/opt/python-3.7.1/lib/python3.7/site-packages/PIL/TiffImagePlugin.py:771: UserWarning:\n",
      "\n",
      "Corrupt EXIF data.  Expecting to read 12 bytes but only got 10. \n",
      "\n"
     ]
    },
    {
     "name": "stdout",
     "output_type": "stream",
     "text": [
      "4/15 * Epoch (train):  56% 5654/10010 [28:14<12:46,  5.68it/s, _timers/_fps=3484.772, accuracy01=56.250, accuracy05=78.125, loss=1.844]  "
     ]
    },
    {
     "name": "stderr",
     "output_type": "stream",
     "text": [
      "/trinity/shared/opt/python-3.7.1/lib/python3.7/site-packages/PIL/TiffImagePlugin.py:754: UserWarning:\n",
      "\n",
      "Possibly corrupt EXIF data.  Expecting to read 2555904 bytes but only got 0. Skipping tag 0\n",
      "\n"
     ]
    },
    {
     "name": "stdout",
     "output_type": "stream",
     "text": [
      "4/15 * Epoch (train):  63% 6346/10010 [31:44<10:44,  5.69it/s, _timers/_fps=3473.589, accuracy01=60.156, accuracy05=82.812, loss=1.665]  "
     ]
    },
    {
     "name": "stderr",
     "output_type": "stream",
     "text": [
      "/trinity/shared/opt/python-3.7.1/lib/python3.7/site-packages/PIL/TiffImagePlugin.py:771: UserWarning:\n",
      "\n",
      "Corrupt EXIF data.  Expecting to read 4 bytes but only got 0. \n",
      "\n"
     ]
    },
    {
     "name": "stdout",
     "output_type": "stream",
     "text": [
      "4/15 * Epoch (train):  80% 8020/10010 [40:05<05:57,  5.56it/s, _timers/_fps=3483.393, accuracy01=55.469, accuracy05=79.688, loss=1.781]  "
     ]
    },
    {
     "name": "stderr",
     "output_type": "stream",
     "text": [
      "/trinity/shared/opt/python-3.7.1/lib/python3.7/site-packages/PIL/TiffImagePlugin.py:754: UserWarning:\n",
      "\n",
      "Possibly corrupt EXIF data.  Expecting to read 2555904 bytes but only got 0. Skipping tag 0\n",
      "\n"
     ]
    },
    {
     "name": "stdout",
     "output_type": "stream",
     "text": [
      "4/15 * Epoch (train):  84% 8416/10010 [41:21<04:43,  5.63it/s, _timers/_fps=3293.464, accuracy01=60.156, accuracy05=82.031, loss=1.711]"
     ]
    },
    {
     "name": "stderr",
     "output_type": "stream",
     "text": [
      "/trinity/shared/opt/python-3.7.1/lib/python3.7/site-packages/PIL/TiffImagePlugin.py:754: UserWarning:\n",
      "\n",
      "Possibly corrupt EXIF data.  Expecting to read 2555904 bytes but only got 0. Skipping tag 0\n",
      "\n"
     ]
    },
    {
     "name": "stdout",
     "output_type": "stream",
     "text": [
      "4/15 * Epoch (train):  86% 8650/10010 [42:06<04:05,  5.55it/s, _timers/_fps=3373.301, accuracy01=64.844, accuracy05=79.688, loss=1.692]"
     ]
    },
    {
     "name": "stderr",
     "output_type": "stream",
     "text": [
      "/trinity/shared/opt/python-3.7.1/lib/python3.7/site-packages/PIL/TiffImagePlugin.py:754: UserWarning:\n",
      "\n",
      "Possibly corrupt EXIF data.  Expecting to read 2555904 bytes but only got 0. Skipping tag 0\n",
      "\n"
     ]
    },
    {
     "name": "stdout",
     "output_type": "stream",
     "text": [
      "4/15 * Epoch (train): 100% 10010/10010 [46:10<00:00,  3.61it/s, _timers/_fps=4091.723, accuracy01=66.667, accuracy05=80.000, loss=1.680]\n",
      "[2019-06-23 02:47:04,701] \n",
      "4/15 * Epoch 4 (valid): _base/lr=0.0020 | _base/momentum=0.9000 | _timers/_fps=8390.0232 | _timers/batch_time=0.1876 | _timers/data_time=0.1808 | _timers/model_time=0.0067 | accuracy01=60.8340 | accuracy05=83.5782 | loss=1.6296\n",
      "4/15 * Epoch 4 (train): _base/lr=0.0020 | _base/momentum=0.9000 | _timers/_fps=3185.2103 | _timers/batch_time=0.1357 | _timers/data_time=0.1273 | _timers/model_time=0.0084 | accuracy01=57.3013 | accuracy05=79.5069 | loss=1.8675\n",
      "5/15 * Epoch (valid): 100% 391/391 [01:19<00:00,  4.91it/s, _timers/_fps=12914.864, accuracy01=31.250, accuracy05=61.250, loss=3.162]\n",
      "5/15 * Epoch (train):   4% 378/10010 [01:34<29:02,  5.53it/s, _timers/_fps=3473.252, accuracy01=59.375, accuracy05=84.375, loss=1.611]  "
     ]
    },
    {
     "name": "stderr",
     "output_type": "stream",
     "text": [
      "/trinity/shared/opt/python-3.7.1/lib/python3.7/site-packages/PIL/TiffImagePlugin.py:754: UserWarning:\n",
      "\n",
      "Possibly corrupt EXIF data.  Expecting to read 2555904 bytes but only got 0. Skipping tag 0\n",
      "\n"
     ]
    },
    {
     "name": "stdout",
     "output_type": "stream",
     "text": [
      "5/15 * Epoch (train):  20% 2031/10010 [06:34<23:40,  5.62it/s, _timers/_fps=3459.755, accuracy01=58.594, accuracy05=82.031, loss=1.755]  "
     ]
    },
    {
     "name": "stderr",
     "output_type": "stream",
     "text": [
      "/trinity/shared/opt/python-3.7.1/lib/python3.7/site-packages/PIL/TiffImagePlugin.py:771: UserWarning:\n",
      "\n",
      "Corrupt EXIF data.  Expecting to read 4 bytes but only got 0. \n",
      "\n"
     ]
    },
    {
     "name": "stdout",
     "output_type": "stream",
     "text": [
      "5/15 * Epoch (train):  27% 2708/10010 [08:35<21:53,  5.56it/s, _timers/_fps=6743.339, accuracy01=50.000, accuracy05=73.438, loss=2.231]"
     ]
    },
    {
     "name": "stderr",
     "output_type": "stream",
     "text": [
      "/trinity/shared/opt/python-3.7.1/lib/python3.7/site-packages/PIL/TiffImagePlugin.py:754: UserWarning:\n",
      "\n",
      "Possibly corrupt EXIF data.  Expecting to read 2555904 bytes but only got 0. Skipping tag 0\n",
      "\n"
     ]
    },
    {
     "name": "stdout",
     "output_type": "stream",
     "text": [
      "5/15 * Epoch (train):  34% 3397/10010 [10:38<19:32,  5.64it/s, _timers/_fps=2322.729, accuracy01=56.250, accuracy05=81.250, loss=1.778]"
     ]
    },
    {
     "name": "stderr",
     "output_type": "stream",
     "text": [
      "/trinity/shared/opt/python-3.7.1/lib/python3.7/site-packages/PIL/TiffImagePlugin.py:754: UserWarning:\n",
      "\n",
      "Possibly corrupt EXIF data.  Expecting to read 2555904 bytes but only got 0. Skipping tag 0\n",
      "\n"
     ]
    },
    {
     "name": "stdout",
     "output_type": "stream",
     "text": [
      "5/15 * Epoch (train):  55% 5508/10010 [17:03<13:19,  5.63it/s, _timers/_fps=3247.602, accuracy01=58.594, accuracy05=82.812, loss=1.652]  "
     ]
    },
    {
     "name": "stderr",
     "output_type": "stream",
     "text": [
      "/trinity/shared/opt/python-3.7.1/lib/python3.7/site-packages/PIL/TiffImagePlugin.py:754: UserWarning:\n",
      "\n",
      "Possibly corrupt EXIF data.  Expecting to read 2555904 bytes but only got 0. Skipping tag 0\n",
      "\n"
     ]
    },
    {
     "name": "stdout",
     "output_type": "stream",
     "text": [
      "5/15 * Epoch (train):  57% 5702/10010 [17:38<12:48,  5.61it/s, _timers/_fps=3415.905, accuracy01=65.625, accuracy05=84.375, loss=1.540]"
     ]
    },
    {
     "name": "stderr",
     "output_type": "stream",
     "text": [
      "/trinity/shared/opt/python-3.7.1/lib/python3.7/site-packages/PIL/TiffImagePlugin.py:754: UserWarning:\n",
      "\n",
      "Possibly corrupt EXIF data.  Expecting to read 1835008 bytes but only got 0. Skipping tag 0\n",
      "\n"
     ]
    },
    {
     "name": "stdout",
     "output_type": "stream",
     "text": [
      "5/15 * Epoch (train):  67% 6741/10010 [20:44<09:43,  5.61it/s, _timers/_fps=3086.618, accuracy01=56.250, accuracy05=82.812, loss=1.797]"
     ]
    },
    {
     "name": "stderr",
     "output_type": "stream",
     "text": [
      "/trinity/shared/opt/python-3.7.1/lib/python3.7/site-packages/PIL/TiffImagePlugin.py:754: UserWarning:\n",
      "\n",
      "Possibly corrupt EXIF data.  Expecting to read 19660800 bytes but only got 0. Skipping tag 0\n",
      "\n",
      "/trinity/shared/opt/python-3.7.1/lib/python3.7/site-packages/PIL/TiffImagePlugin.py:754: UserWarning:\n",
      "\n",
      "Possibly corrupt EXIF data.  Expecting to read 18481152 bytes but only got 0. Skipping tag 0\n",
      "\n",
      "/trinity/shared/opt/python-3.7.1/lib/python3.7/site-packages/PIL/TiffImagePlugin.py:754: UserWarning:\n",
      "\n",
      "Possibly corrupt EXIF data.  Expecting to read 37093376 bytes but only got 0. Skipping tag 0\n",
      "\n",
      "/trinity/shared/opt/python-3.7.1/lib/python3.7/site-packages/PIL/TiffImagePlugin.py:754: UserWarning:\n",
      "\n",
      "Possibly corrupt EXIF data.  Expecting to read 39976960 bytes but only got 0. Skipping tag 0\n",
      "\n",
      "/trinity/shared/opt/python-3.7.1/lib/python3.7/site-packages/PIL/TiffImagePlugin.py:754: UserWarning:\n",
      "\n",
      "Possibly corrupt EXIF data.  Expecting to read 34865152 bytes but only got 0. Skipping tag 0\n",
      "\n",
      "/trinity/shared/opt/python-3.7.1/lib/python3.7/site-packages/PIL/TiffImagePlugin.py:771: UserWarning:\n",
      "\n",
      "Corrupt EXIF data.  Expecting to read 12 bytes but only got 10. \n",
      "\n"
     ]
    },
    {
     "name": "stdout",
     "output_type": "stream",
     "text": [
      "5/15 * Epoch (train):  70% 7035/10010 [21:37<08:55,  5.56it/s, _timers/_fps=3173.840, accuracy01=59.375, accuracy05=79.688, loss=1.845]"
     ]
    },
    {
     "name": "stderr",
     "output_type": "stream",
     "text": [
      "/trinity/shared/opt/python-3.7.1/lib/python3.7/site-packages/PIL/TiffImagePlugin.py:754: UserWarning:\n",
      "\n",
      "Possibly corrupt EXIF data.  Expecting to read 2555904 bytes but only got 0. Skipping tag 0\n",
      "\n"
     ]
    },
    {
     "name": "stdout",
     "output_type": "stream",
     "text": [
      "5/15 * Epoch (train): 100% 10010/10010 [30:42<00:00,  5.43it/s, _timers/_fps=3922.144, accuracy01=46.667, accuracy05=60.000, loss=2.477] \n",
      "[2019-06-23 03:19:11,894] \n",
      "5/15 * Epoch 5 (valid): _base/lr=0.0020 | _base/momentum=0.9000 | _timers/_fps=8877.6333 | _timers/batch_time=0.1556 | _timers/data_time=0.1491 | _timers/model_time=0.0064 | accuracy01=62.1483 | accuracy05=84.5237 | loss=1.5788\n",
      "5/15 * Epoch 5 (train): _base/lr=0.0020 | _base/momentum=0.9000 | _timers/_fps=3391.6774 | _timers/batch_time=0.0422 | _timers/data_time=0.0334 | _timers/model_time=0.0088 | accuracy01=58.5467 | accuracy05=80.4834 | loss=1.8022\n",
      "6/15 * Epoch (valid): 100% 391/391 [01:19<00:00,  4.94it/s, _timers/_fps=12915.796, accuracy01=38.750, accuracy05=76.250, loss=2.844]\n",
      "6/15 * Epoch (train):   9% 851/10010 [03:01<27:37,  5.53it/s, _timers/_fps=3464.108, accuracy01=60.938, accuracy05=78.125, loss=1.678] "
     ]
    },
    {
     "name": "stderr",
     "output_type": "stream",
     "text": [
      "/trinity/shared/opt/python-3.7.1/lib/python3.7/site-packages/PIL/TiffImagePlugin.py:754: UserWarning:\n",
      "\n",
      "Possibly corrupt EXIF data.  Expecting to read 2555904 bytes but only got 0. Skipping tag 0\n",
      "\n"
     ]
    },
    {
     "name": "stdout",
     "output_type": "stream",
     "text": [
      "6/15 * Epoch (train):  22% 2210/10010 [07:09<23:26,  5.55it/s, _timers/_fps=3335.265, accuracy01=53.125, accuracy05=77.344, loss=1.955]  "
     ]
    },
    {
     "name": "stderr",
     "output_type": "stream",
     "text": [
      "/trinity/shared/opt/python-3.7.1/lib/python3.7/site-packages/PIL/TiffImagePlugin.py:754: UserWarning:\n",
      "\n",
      "Possibly corrupt EXIF data.  Expecting to read 1835008 bytes but only got 0. Skipping tag 0\n",
      "\n"
     ]
    },
    {
     "name": "stdout",
     "output_type": "stream",
     "text": [
      "6/15 * Epoch (train):  24% 2358/10010 [07:36<22:51,  5.58it/s, _timers/_fps=3472.555, accuracy01=63.281, accuracy05=85.938, loss=1.653]"
     ]
    },
    {
     "name": "stderr",
     "output_type": "stream",
     "text": [
      "/trinity/shared/opt/python-3.7.1/lib/python3.7/site-packages/PIL/TiffImagePlugin.py:754: UserWarning:\n",
      "\n",
      "Possibly corrupt EXIF data.  Expecting to read 2555904 bytes but only got 0. Skipping tag 0\n",
      "\n"
     ]
    },
    {
     "name": "stdout",
     "output_type": "stream",
     "text": [
      "6/15 * Epoch (train):  28% 2812/10010 [08:58<21:33,  5.57it/s, _timers/_fps=3493.184, accuracy01=60.156, accuracy05=78.125, loss=1.725]"
     ]
    },
    {
     "name": "stderr",
     "output_type": "stream",
     "text": [
      "/trinity/shared/opt/python-3.7.1/lib/python3.7/site-packages/PIL/TiffImagePlugin.py:771: UserWarning:\n",
      "\n",
      "Corrupt EXIF data.  Expecting to read 4 bytes but only got 0. \n",
      "\n"
     ]
    },
    {
     "name": "stdout",
     "output_type": "stream",
     "text": [
      "6/15 * Epoch (train):  35% 3503/10010 [11:06<19:17,  5.62it/s, _timers/_fps=3217.146, accuracy01=56.250, accuracy05=74.219, loss=1.998]  "
     ]
    },
    {
     "name": "stderr",
     "output_type": "stream",
     "text": [
      "/trinity/shared/opt/python-3.7.1/lib/python3.7/site-packages/PIL/TiffImagePlugin.py:754: UserWarning:\n",
      "\n",
      "Possibly corrupt EXIF data.  Expecting to read 19660800 bytes but only got 0. Skipping tag 0\n",
      "\n",
      "/trinity/shared/opt/python-3.7.1/lib/python3.7/site-packages/PIL/TiffImagePlugin.py:754: UserWarning:\n",
      "\n",
      "Possibly corrupt EXIF data.  Expecting to read 18481152 bytes but only got 0. Skipping tag 0\n",
      "\n",
      "/trinity/shared/opt/python-3.7.1/lib/python3.7/site-packages/PIL/TiffImagePlugin.py:754: UserWarning:\n",
      "\n",
      "Possibly corrupt EXIF data.  Expecting to read 37093376 bytes but only got 0. Skipping tag 0\n",
      "\n",
      "/trinity/shared/opt/python-3.7.1/lib/python3.7/site-packages/PIL/TiffImagePlugin.py:754: UserWarning:\n",
      "\n",
      "Possibly corrupt EXIF data.  Expecting to read 39976960 bytes but only got 0. Skipping tag 0\n",
      "\n",
      "/trinity/shared/opt/python-3.7.1/lib/python3.7/site-packages/PIL/TiffImagePlugin.py:754: UserWarning:\n",
      "\n",
      "Possibly corrupt EXIF data.  Expecting to read 34865152 bytes but only got 0. Skipping tag 0\n",
      "\n",
      "/trinity/shared/opt/python-3.7.1/lib/python3.7/site-packages/PIL/TiffImagePlugin.py:771: UserWarning:\n",
      "\n",
      "Corrupt EXIF data.  Expecting to read 12 bytes but only got 10. \n",
      "\n"
     ]
    },
    {
     "name": "stdout",
     "output_type": "stream",
     "text": [
      "6/15 * Epoch (train):  57% 5683/10010 [17:42<13:04,  5.51it/s, _timers/_fps=3349.561, accuracy01=57.031, accuracy05=84.375, loss=1.785]  "
     ]
    },
    {
     "name": "stderr",
     "output_type": "stream",
     "text": [
      "/trinity/shared/opt/python-3.7.1/lib/python3.7/site-packages/PIL/TiffImagePlugin.py:754: UserWarning:\n",
      "\n",
      "Possibly corrupt EXIF data.  Expecting to read 2555904 bytes but only got 0. Skipping tag 0\n",
      "\n"
     ]
    },
    {
     "name": "stdout",
     "output_type": "stream",
     "text": [
      "6/15 * Epoch (train):  58% 5821/10010 [18:07<12:24,  5.63it/s, _timers/_fps=3457.994, accuracy01=60.938, accuracy05=79.688, loss=1.756]"
     ]
    },
    {
     "name": "stderr",
     "output_type": "stream",
     "text": [
      "/trinity/shared/opt/python-3.7.1/lib/python3.7/site-packages/PIL/TiffImagePlugin.py:754: UserWarning:\n",
      "\n",
      "Possibly corrupt EXIF data.  Expecting to read 2555904 bytes but only got 0. Skipping tag 0\n",
      "\n"
     ]
    },
    {
     "name": "stdout",
     "output_type": "stream",
     "text": [
      "6/15 * Epoch (train):  79% 7918/10010 [24:29<06:13,  5.59it/s, _timers/_fps=3437.536, accuracy01=56.250, accuracy05=82.812, loss=1.832]  "
     ]
    },
    {
     "name": "stderr",
     "output_type": "stream",
     "text": [
      "/trinity/shared/opt/python-3.7.1/lib/python3.7/site-packages/PIL/TiffImagePlugin.py:754: UserWarning:\n",
      "\n",
      "Possibly corrupt EXIF data.  Expecting to read 2555904 bytes but only got 0. Skipping tag 0\n",
      "\n"
     ]
    },
    {
     "name": "stdout",
     "output_type": "stream",
     "text": [
      "6/15 * Epoch (train):  87% 8709/10010 [26:56<03:50,  5.63it/s, _timers/_fps=3482.850, accuracy01=58.594, accuracy05=85.938, loss=1.644]"
     ]
    },
    {
     "name": "stderr",
     "output_type": "stream",
     "text": [
      "/trinity/shared/opt/python-3.7.1/lib/python3.7/site-packages/PIL/TiffImagePlugin.py:754: UserWarning:\n",
      "\n",
      "Possibly corrupt EXIF data.  Expecting to read 2555904 bytes but only got 0. Skipping tag 0\n",
      "\n"
     ]
    },
    {
     "name": "stdout",
     "output_type": "stream",
     "text": [
      "6/15 * Epoch (train): 100% 10010/10010 [30:51<00:00,  5.41it/s, _timers/_fps=4067.543, accuracy01=53.333, accuracy05=80.000, loss=2.005]\n",
      "[2019-06-23 03:51:27,530] \n",
      "6/15 * Epoch 6 (valid): _base/lr=0.0020 | _base/momentum=0.9000 | _timers/_fps=8730.4519 | _timers/batch_time=0.1555 | _timers/data_time=0.1484 | _timers/model_time=0.0071 | accuracy01=62.9028 | accuracy05=85.0815 | loss=1.5429\n",
      "6/15 * Epoch 6 (train): _base/lr=0.0020 | _base/momentum=0.9000 | _timers/_fps=3416.2582 | _timers/batch_time=0.0412 | _timers/data_time=0.0318 | _timers/model_time=0.0094 | accuracy01=59.8357 | accuracy05=81.3759 | loss=1.7408\n",
      "7/15 * Epoch (valid): 100% 391/391 [01:15<00:00,  5.17it/s, _timers/_fps=11232.314, accuracy01=35.000, accuracy05=67.500, loss=2.954]\n",
      "7/15 * Epoch (train):   4% 394/10010 [01:48<31:02,  5.16it/s, _timers/_fps=3208.686, accuracy01=64.844, accuracy05=85.156, loss=1.352]  "
     ]
    },
    {
     "name": "stderr",
     "output_type": "stream",
     "text": [
      "/trinity/shared/opt/python-3.7.1/lib/python3.7/site-packages/PIL/TiffImagePlugin.py:754: UserWarning:\n",
      "\n",
      "Possibly corrupt EXIF data.  Expecting to read 2555904 bytes but only got 0. Skipping tag 0\n",
      "\n"
     ]
    },
    {
     "name": "stdout",
     "output_type": "stream",
     "text": [
      "7/15 * Epoch (train):  10% 1013/10010 [03:51<28:03,  5.35it/s, _timers/_fps=3200.385, accuracy01=61.719, accuracy05=78.125, loss=1.718] "
     ]
    },
    {
     "name": "stderr",
     "output_type": "stream",
     "text": [
      "/trinity/shared/opt/python-3.7.1/lib/python3.7/site-packages/PIL/TiffImagePlugin.py:754: UserWarning:\n",
      "\n",
      "Possibly corrupt EXIF data.  Expecting to read 2555904 bytes but only got 0. Skipping tag 0\n",
      "\n"
     ]
    },
    {
     "name": "stdout",
     "output_type": "stream",
     "text": [
      "7/15 * Epoch (train):  14% 1391/10010 [05:04<25:57,  5.53it/s, _timers/_fps=3533.975, accuracy01=60.156, accuracy05=78.906, loss=1.625]  "
     ]
    },
    {
     "name": "stderr",
     "output_type": "stream",
     "text": [
      "/trinity/shared/opt/python-3.7.1/lib/python3.7/site-packages/PIL/TiffImagePlugin.py:754: UserWarning:\n",
      "\n",
      "Possibly corrupt EXIF data.  Expecting to read 1835008 bytes but only got 0. Skipping tag 0\n",
      "\n"
     ]
    },
    {
     "name": "stdout",
     "output_type": "stream",
     "text": [
      "7/15 * Epoch (train):  17% 1687/10010 [05:57<25:14,  5.50it/s, _timers/_fps=3477.999, accuracy01=62.500, accuracy05=79.688, loss=1.897]"
     ]
    },
    {
     "name": "stderr",
     "output_type": "stream",
     "text": [
      "/trinity/shared/opt/python-3.7.1/lib/python3.7/site-packages/PIL/TiffImagePlugin.py:754: UserWarning:\n",
      "\n",
      "Possibly corrupt EXIF data.  Expecting to read 19660800 bytes but only got 0. Skipping tag 0\n",
      "\n",
      "/trinity/shared/opt/python-3.7.1/lib/python3.7/site-packages/PIL/TiffImagePlugin.py:754: UserWarning:\n",
      "\n",
      "Possibly corrupt EXIF data.  Expecting to read 18481152 bytes but only got 0. Skipping tag 0\n",
      "\n",
      "/trinity/shared/opt/python-3.7.1/lib/python3.7/site-packages/PIL/TiffImagePlugin.py:754: UserWarning:\n",
      "\n",
      "Possibly corrupt EXIF data.  Expecting to read 37093376 bytes but only got 0. Skipping tag 0\n",
      "\n",
      "/trinity/shared/opt/python-3.7.1/lib/python3.7/site-packages/PIL/TiffImagePlugin.py:754: UserWarning:\n",
      "\n",
      "Possibly corrupt EXIF data.  Expecting to read 39976960 bytes but only got 0. Skipping tag 0\n",
      "\n",
      "/trinity/shared/opt/python-3.7.1/lib/python3.7/site-packages/PIL/TiffImagePlugin.py:754: UserWarning:\n",
      "\n",
      "Possibly corrupt EXIF data.  Expecting to read 34865152 bytes but only got 0. Skipping tag 0\n",
      "\n",
      "/trinity/shared/opt/python-3.7.1/lib/python3.7/site-packages/PIL/TiffImagePlugin.py:771: UserWarning:\n",
      "\n",
      "Corrupt EXIF data.  Expecting to read 12 bytes but only got 10. \n",
      "\n"
     ]
    },
    {
     "name": "stdout",
     "output_type": "stream",
     "text": [
      "7/15 * Epoch (train):  29% 2949/10010 [09:56<20:53,  5.63it/s, _timers/_fps=3164.915, accuracy01=56.250, accuracy05=78.906, loss=2.002]  "
     ]
    },
    {
     "name": "stderr",
     "output_type": "stream",
     "text": [
      "/trinity/shared/opt/python-3.7.1/lib/python3.7/site-packages/PIL/TiffImagePlugin.py:754: UserWarning:\n",
      "\n",
      "Possibly corrupt EXIF data.  Expecting to read 2555904 bytes but only got 0. Skipping tag 0\n",
      "\n"
     ]
    },
    {
     "name": "stdout",
     "output_type": "stream",
     "text": [
      "7/15 * Epoch (train):  48% 4756/10010 [15:31<16:16,  5.38it/s, _timers/_fps=2623.913, accuracy01=64.844, accuracy05=83.594, loss=1.650]  "
     ]
    },
    {
     "name": "stderr",
     "output_type": "stream",
     "text": [
      "/trinity/shared/opt/python-3.7.1/lib/python3.7/site-packages/PIL/TiffImagePlugin.py:754: UserWarning:\n",
      "\n",
      "Possibly corrupt EXIF data.  Expecting to read 2555904 bytes but only got 0. Skipping tag 0\n",
      "\n"
     ]
    },
    {
     "name": "stdout",
     "output_type": "stream",
     "text": [
      "7/15 * Epoch (train):  55% 5520/10010 [17:54<17:10,  4.36it/s, _timers/_fps=3254.098, accuracy01=60.156, accuracy05=78.906, loss=1.681]"
     ]
    },
    {
     "name": "stderr",
     "output_type": "stream",
     "text": [
      "/trinity/shared/opt/python-3.7.1/lib/python3.7/site-packages/PIL/TiffImagePlugin.py:754: UserWarning:\n",
      "\n",
      "Possibly corrupt EXIF data.  Expecting to read 2555904 bytes but only got 0. Skipping tag 0\n",
      "\n"
     ]
    },
    {
     "name": "stdout",
     "output_type": "stream",
     "text": [
      "7/15 * Epoch (train):  67% 6728/10010 [21:48<09:57,  5.50it/s, _timers/_fps=3191.196, accuracy01=60.938, accuracy05=78.906, loss=1.763]  "
     ]
    },
    {
     "name": "stderr",
     "output_type": "stream",
     "text": [
      "/trinity/shared/opt/python-3.7.1/lib/python3.7/site-packages/PIL/TiffImagePlugin.py:771: UserWarning:\n",
      "\n",
      "Corrupt EXIF data.  Expecting to read 4 bytes but only got 0. \n",
      "\n"
     ]
    },
    {
     "name": "stdout",
     "output_type": "stream",
     "text": [
      "7/15 * Epoch (train):  70% 6995/10010 [22:40<08:50,  5.69it/s, _timers/_fps=3499.354, accuracy01=64.844, accuracy05=82.031, loss=1.490]"
     ]
    }
   ],
   "source": [
    "lr = 0.002\n",
    "criterion = torch.nn.CrossEntropyLoss()\n",
    "optimizer = torch.optim.Adam(model.parameters(),weight_decay=1e-6,lr=lr)\n",
    "scheduler = torch.optim.lr_scheduler.ReduceLROnPlateau(optimizer)\n",
    "\n",
    "# model runner\n",
    "runner = SupervisedRunner()\n",
    "\n",
    "# model training\n",
    "runner.train(\n",
    "    model=model,\n",
    "    criterion=criterion,\n",
    "    callbacks=[\n",
    "        AccuracyCallback(accuracy_args = [1,5]), # top (1,5) accuracy  on batch\n",
    "#         ValCallback()\n",
    "    ],\n",
    "    optimizer=optimizer,\n",
    "    scheduler=scheduler,\n",
    "    loaders=loaders,\n",
    "    logdir='./logs2',\n",
    "    num_epochs=15,\n",
    "    verbose=True,\n",
    "    valid_loader='valid'\n",
    "    \n",
    ")\n",
    "\n"
   ]
  },
  {
   "cell_type": "raw",
   "metadata": {},
   "source": [
    "import copy\n",
    "m = copy.deepcopy(model.cpu())"
   ]
  },
  {
   "cell_type": "code",
   "execution_count": 8,
   "metadata": {},
   "outputs": [
    {
     "name": "stdout",
     "output_type": "stream",
     "text": [
      "0/1 * Epoch (infer): 100% 391/391 [01:09<00:00,  6.08it/s, _timers/_fps=684.177, accuracy01=46.250, accuracy03=80.000, accuracy05=86.250]  \n"
     ]
    }
   ],
   "source": [
    "scores0 = run(model)"
   ]
  },
  {
   "cell_type": "code",
   "execution_count": 9,
   "metadata": {},
   "outputs": [
    {
     "data": {
      "text/plain": [
       "array([73.314   , 87.728004, 91.420006], dtype=float32)"
      ]
     },
     "execution_count": 9,
     "metadata": {},
     "output_type": "execute_result"
    }
   ],
   "source": [
    "scores0"
   ]
  }
 ],
 "metadata": {
  "kernelspec": {
   "display_name": "Python 3",
   "language": "python",
   "name": "python3"
  },
  "language_info": {
   "codemirror_mode": {
    "name": "ipython",
    "version": 3
   },
   "file_extension": ".py",
   "mimetype": "text/x-python",
   "name": "python",
   "nbconvert_exporter": "python",
   "pygments_lexer": "ipython3",
   "version": "3.6.8"
  }
 },
 "nbformat": 4,
 "nbformat_minor": 2
}
