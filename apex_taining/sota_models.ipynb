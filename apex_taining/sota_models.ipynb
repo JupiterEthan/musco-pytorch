{
 "cells": [
  {
   "cell_type": "code",
   "execution_count": 1,
   "metadata": {},
   "outputs": [],
   "source": [
    "import torch\n",
    "# torch.backends.cudnn.benchmark=False"
   ]
  },
  {
   "cell_type": "code",
   "execution_count": 2,
   "metadata": {},
   "outputs": [],
   "source": [
    "import os\n",
    "# os.environ[\"CUDA_DEVICE_ORDER\"]=\"PCI_BUS_ID\"  \n",
    "os.environ[\"CUDA_VISIBLE_DEVICES\"]=\"\""
   ]
  },
  {
   "cell_type": "code",
   "execution_count": 3,
   "metadata": {},
   "outputs": [],
   "source": [
    "from torchvision.models import resnet18\n",
    "\n",
    "mpath = \"/gpfs/gpfs0/y.gusak/musco_models/resnet18_imagenet/grschedule1/tucker2_vbmf_wf0.8/iter_1-0/beforeft.pth\"\n",
    "spath = \"/gpfs/gpfs0/y.gusak/musco_models/resnet18_imagenet/grschedule1/tucker2_vbmf_wf0.8/iter_1-0/best.pth.tar\"\n",
    "\n",
    "mym = torch.load(mpath)\n",
    "mym.load_state_dict(torch.load(spath, map_location = 'cpu')['state_dict'])\n",
    "\n",
    "\n",
    "m = resnet18(pretrained = True)\n"
   ]
  },
  {
   "cell_type": "code",
   "execution_count": 5,
   "metadata": {
    "collapsed": true
   },
   "outputs": [
    {
     "data": {
      "text/plain": [
       "ResNet(\n",
       "  (conv1): Conv2d(3, 64, kernel_size=(7, 7), stride=(2, 2), padding=(3, 3), bias=False)\n",
       "  (bn1): BatchNorm2d(64, eps=1e-05, momentum=0.1, affine=True, track_running_stats=True)\n",
       "  (relu): ReLU(inplace)\n",
       "  (maxpool): MaxPool2d(kernel_size=3, stride=2, padding=1, dilation=1, ceil_mode=False)\n",
       "  (layer1): Sequential(\n",
       "    (0): BasicBlock(\n",
       "      (conv1): Conv2d(64, 64, kernel_size=(3, 3), stride=(1, 1), padding=(1, 1), bias=False)\n",
       "      (bn1): BatchNorm2d(64, eps=1e-05, momentum=0.1, affine=True, track_running_stats=True)\n",
       "      (relu): ReLU(inplace)\n",
       "      (conv2): Conv2d(64, 64, kernel_size=(3, 3), stride=(1, 1), padding=(1, 1), bias=False)\n",
       "      (bn2): BatchNorm2d(64, eps=1e-05, momentum=0.1, affine=True, track_running_stats=True)\n",
       "    )\n",
       "    (1): BasicBlock(\n",
       "      (conv1): Conv2d(64, 64, kernel_size=(3, 3), stride=(1, 1), padding=(1, 1), bias=False)\n",
       "      (bn1): BatchNorm2d(64, eps=1e-05, momentum=0.1, affine=True, track_running_stats=True)\n",
       "      (relu): ReLU(inplace)\n",
       "      (conv2): Conv2d(64, 64, kernel_size=(3, 3), stride=(1, 1), padding=(1, 1), bias=False)\n",
       "      (bn2): BatchNorm2d(64, eps=1e-05, momentum=0.1, affine=True, track_running_stats=True)\n",
       "    )\n",
       "  )\n",
       "  (layer2): Sequential(\n",
       "    (0): BasicBlock(\n",
       "      (conv1): Conv2d(64, 128, kernel_size=(3, 3), stride=(2, 2), padding=(1, 1), bias=False)\n",
       "      (bn1): BatchNorm2d(128, eps=1e-05, momentum=0.1, affine=True, track_running_stats=True)\n",
       "      (relu): ReLU(inplace)\n",
       "      (conv2): Conv2d(128, 128, kernel_size=(3, 3), stride=(1, 1), padding=(1, 1), bias=False)\n",
       "      (bn2): BatchNorm2d(128, eps=1e-05, momentum=0.1, affine=True, track_running_stats=True)\n",
       "      (downsample): Sequential(\n",
       "        (0): Conv2d(64, 128, kernel_size=(1, 1), stride=(2, 2), bias=False)\n",
       "        (1): BatchNorm2d(128, eps=1e-05, momentum=0.1, affine=True, track_running_stats=True)\n",
       "      )\n",
       "    )\n",
       "    (1): BasicBlock(\n",
       "      (conv1): Conv2d(128, 128, kernel_size=(3, 3), stride=(1, 1), padding=(1, 1), bias=False)\n",
       "      (bn1): BatchNorm2d(128, eps=1e-05, momentum=0.1, affine=True, track_running_stats=True)\n",
       "      (relu): ReLU(inplace)\n",
       "      (conv2): Conv2d(128, 128, kernel_size=(3, 3), stride=(1, 1), padding=(1, 1), bias=False)\n",
       "      (bn2): BatchNorm2d(128, eps=1e-05, momentum=0.1, affine=True, track_running_stats=True)\n",
       "    )\n",
       "  )\n",
       "  (layer3): Sequential(\n",
       "    (0): BasicBlock(\n",
       "      (conv1): Conv2d(128, 256, kernel_size=(3, 3), stride=(2, 2), padding=(1, 1), bias=False)\n",
       "      (bn1): BatchNorm2d(256, eps=1e-05, momentum=0.1, affine=True, track_running_stats=True)\n",
       "      (relu): ReLU(inplace)\n",
       "      (conv2): Conv2d(256, 256, kernel_size=(3, 3), stride=(1, 1), padding=(1, 1), bias=False)\n",
       "      (bn2): BatchNorm2d(256, eps=1e-05, momentum=0.1, affine=True, track_running_stats=True)\n",
       "      (downsample): Sequential(\n",
       "        (0): Conv2d(128, 256, kernel_size=(1, 1), stride=(2, 2), bias=False)\n",
       "        (1): BatchNorm2d(256, eps=1e-05, momentum=0.1, affine=True, track_running_stats=True)\n",
       "      )\n",
       "    )\n",
       "    (1): BasicBlock(\n",
       "      (conv1): Conv2d(256, 256, kernel_size=(3, 3), stride=(1, 1), padding=(1, 1), bias=False)\n",
       "      (bn1): BatchNorm2d(256, eps=1e-05, momentum=0.1, affine=True, track_running_stats=True)\n",
       "      (relu): ReLU(inplace)\n",
       "      (conv2): Conv2d(256, 256, kernel_size=(3, 3), stride=(1, 1), padding=(1, 1), bias=False)\n",
       "      (bn2): BatchNorm2d(256, eps=1e-05, momentum=0.1, affine=True, track_running_stats=True)\n",
       "    )\n",
       "  )\n",
       "  (layer4): Sequential(\n",
       "    (0): BasicBlock(\n",
       "      (conv1): Conv2d(256, 512, kernel_size=(3, 3), stride=(2, 2), padding=(1, 1), bias=False)\n",
       "      (bn1): BatchNorm2d(512, eps=1e-05, momentum=0.1, affine=True, track_running_stats=True)\n",
       "      (relu): ReLU(inplace)\n",
       "      (conv2): Conv2d(512, 512, kernel_size=(3, 3), stride=(1, 1), padding=(1, 1), bias=False)\n",
       "      (bn2): BatchNorm2d(512, eps=1e-05, momentum=0.1, affine=True, track_running_stats=True)\n",
       "      (downsample): Sequential(\n",
       "        (0): Conv2d(256, 512, kernel_size=(1, 1), stride=(2, 2), bias=False)\n",
       "        (1): BatchNorm2d(512, eps=1e-05, momentum=0.1, affine=True, track_running_stats=True)\n",
       "      )\n",
       "    )\n",
       "    (1): BasicBlock(\n",
       "      (conv1): Conv2d(512, 512, kernel_size=(3, 3), stride=(1, 1), padding=(1, 1), bias=False)\n",
       "      (bn1): BatchNorm2d(512, eps=1e-05, momentum=0.1, affine=True, track_running_stats=True)\n",
       "      (relu): ReLU(inplace)\n",
       "      (conv2): Conv2d(512, 512, kernel_size=(3, 3), stride=(1, 1), padding=(1, 1), bias=False)\n",
       "      (bn2): BatchNorm2d(512, eps=1e-05, momentum=0.1, affine=True, track_running_stats=True)\n",
       "    )\n",
       "  )\n",
       "  (avgpool): AvgPool2d(kernel_size=7, stride=1, padding=0)\n",
       "  (fc): Linear(in_features=512, out_features=1000, bias=True)\n",
       ")"
      ]
     },
     "execution_count": 5,
     "metadata": {},
     "output_type": "execute_result"
    }
   ],
   "source": [
    "device = 'cpu'\n",
    "x = torch.randn(1, 3, 224, 224).to(device)\n",
    "\n",
    "mym.to(device)\n",
    "m.to(device)"
   ]
  },
  {
   "cell_type": "code",
   "execution_count": 8,
   "metadata": {},
   "outputs": [
    {
     "name": "stdout",
     "output_type": "stream",
     "text": [
      "99.7 ms ± 498 µs per loop (mean ± std. dev. of 10 runs, 20 loops each)\n"
     ]
    },
    {
     "data": {
      "text/plain": [
       "<TimeitResult : 99.7 ms ± 498 µs per loop (mean ± std. dev. of 10 runs, 20 loops each)>"
      ]
     },
     "execution_count": 8,
     "metadata": {},
     "output_type": "execute_result"
    }
   ],
   "source": [
    "%timeit  -o -n 20 -r 10 m(x)"
   ]
  },
  {
   "cell_type": "code",
   "execution_count": 9,
   "metadata": {},
   "outputs": [
    {
     "name": "stdout",
     "output_type": "stream",
     "text": [
      "102 ms ± 93.6 µs per loop (mean ± std. dev. of 10 runs, 20 loops each)\n"
     ]
    },
    {
     "data": {
      "text/plain": [
       "<TimeitResult : 102 ms ± 93.6 µs per loop (mean ± std. dev. of 10 runs, 20 loops each)>"
      ]
     },
     "execution_count": 9,
     "metadata": {},
     "output_type": "execute_result"
    }
   ],
   "source": [
    "%timeit  -o -n 20 -r 10 mym(x)"
   ]
  },
  {
   "cell_type": "code",
   "execution_count": 7,
   "metadata": {},
   "outputs": [
    {
     "data": {
      "text/plain": [
       "1.25"
      ]
     },
     "execution_count": 7,
     "metadata": {},
     "output_type": "execute_result"
    }
   ],
   "source": [
    "10.2/8.16"
   ]
  },
  {
   "cell_type": "code",
   "execution_count": 4,
   "metadata": {},
   "outputs": [],
   "source": [
    "from collections import OrderedDict, defaultdict\n",
    "\n",
    "import torch\n",
    "import numpy as np\n",
    "\n",
    "import sys\n",
    "sys.path.append('../../ReducedOrderNet/src')\n",
    "from models.dcp.pruned_resnet import PrunedResNet\n",
    "\n",
    "sys.path.append('../')\n",
    "from flopco import FlopCo\n",
    "import dataloaders\n",
    "\n",
    "from mobilenetv2 import MobileNetV2\n",
    "\n",
    "\n",
    "def count_params(model):\n",
    "    params = 0\n",
    "    for p in model.parameters():\n",
    "        params += p.numel()\n",
    "        \n",
    "    return params"
   ]
  },
  {
   "cell_type": "markdown",
   "metadata": {},
   "source": [
    "## DCP models"
   ]
  },
  {
   "cell_type": "code",
   "execution_count": 5,
   "metadata": {},
   "outputs": [],
   "source": [
    "def load_dcpmodel(initialdcpmodels_path, depth, pruning_rate):\n",
    "\n",
    "    model = PrunedResNet(depth=depth, pruning_rate = pruning_rate, num_classes=1000)\n",
    "    model_weights_path = \"{}/resnet{}_pruned{}.pth\".format(initialdcpmodels_path, depth, pruning_rate)                     \n",
    "\n",
    "    model.eval()\n",
    "    model_dict = model.state_dict() \n",
    "\n",
    "    pretrained_dict = torch.load(model_weights_path, map_location = 'cpu')\n",
    "\n",
    "    model_dict.update(pretrained_dict)\n",
    "    model.load_state_dict(model_dict)\n",
    "    \n",
    "    return model\n",
    "\n",
    "def get_dcp_flops_params(initialdcpmodels_path):\n",
    "    \n",
    "    flops = defaultdict()\n",
    "    params = defaultdict()\n",
    "    \n",
    "    \n",
    "    for depth in [18, 50]:\n",
    "        for pruning_rate in [0.3, 0.5, 0.7]:\n",
    "            model_name = 'resnet{}_pruned{}'.format(depth, pruning_rate)\n",
    "            \n",
    "            m = load_dcpmodel(initialdcpmodels_path, depth, pruning_rate)\n",
    "            \n",
    "            flopco_m = FlopCo(m)\n",
    "            flops[model_name] = flopco_m.total_flops\n",
    "            params[model_name] = count_params(m)\n",
    "            \n",
    "    \n",
    "    return flops, params   "
   ]
  },
  {
   "cell_type": "markdown",
   "metadata": {},
   "source": [
    "## MobileNet models"
   ]
  },
  {
   "cell_type": "code",
   "execution_count": 6,
   "metadata": {},
   "outputs": [],
   "source": [
    "def load_mbmodel(mb_profile, mb_path, path_to_mbnet):\n",
    "    mbnet = MobileNetV2(profile = mb_profile)\n",
    "\n",
    "    model_dict = mbnet.state_dict()\n",
    "    pretrained_dict = torch.load('{}/{}'.format(path_to_mbnet, mb_path),\n",
    "                                 map_location='cpu')['state_dict']\n",
    "    pretrained_dict = {k.strip('.module') : v for k,v in pretrained_dict.items()}\n",
    "    model_dict.update(pretrained_dict)\n",
    "\n",
    "    mbnet.load_state_dict(model_dict)\n",
    "    \n",
    "    return mbnet\n",
    "\n",
    "\n",
    "\n",
    "def get_mb_flops_params(mb_profiles, mb_paths, path_to_mbnet):\n",
    "    mb_flops = defaultdict()\n",
    "    mb_params = defaultdict()\n",
    "    \n",
    "    \n",
    "    for mb_profile, mb_path in zip(mb_profiles[::-1], mb_pathes[::-1]):\n",
    "\n",
    "        mbnet = load_mbmodel(mb_profile, mb_path, path_to_mbnet)\n",
    "        flopco_mbnet = FlopCo(model=mbnet)\n",
    "        \n",
    "        mb_flops[mb_profile] = flopco_mbnet.total_flops\n",
    "        mb_params[mb_profile] = count_params(mbnet)\n",
    "        \n",
    "        \n",
    "\n",
    "    return mb_flops, mb_params "
   ]
  },
  {
   "cell_type": "markdown",
   "metadata": {},
   "source": [
    "## Compute Flops"
   ]
  },
  {
   "cell_type": "code",
   "execution_count": 7,
   "metadata": {},
   "outputs": [],
   "source": [
    "def get_baseline_flops_params(model_names, initialmodels_path):\n",
    "    flops = defaultdict()\n",
    "    params = defaultdict()\n",
    "    \n",
    "    \n",
    "    for model_name in model_names:\n",
    "        m = torch.load('{}/{}.pth'.format(initialmodels_path, model_name))\n",
    "        \n",
    "        flopco_m = FlopCo(m)\n",
    "        flops[model_name] = flopco_m.total_flops\n",
    "        params[model_name] = count_params(m)\n",
    "        \n",
    "        \n",
    "    return flops, params\n",
    "\n",
    "      "
   ]
  },
  {
   "cell_type": "code",
   "execution_count": 8,
   "metadata": {},
   "outputs": [],
   "source": [
    "initialdcpmodels_path = \"/gpfs/gpfs0/y.gusak/pretrained/DCP/imagenet\"\n",
    "\n",
    "dcp_names = ['resnet{}_pruned{}'.format(depth, pruning_rate) \\\n",
    "             for depth in [18, 50] for pruning_rate in [0.3, 0.5, 0.7]]\n",
    "\n",
    "mb_profiles = ['normal', '0.7flops']\n",
    "mb_pathes = ['mobilenetv2_imagenet_71.814.pth.tar',\\\n",
    "             'mobilenetv2_imagenet_0.7amc_70.854.pth.tar',\\\n",
    "#              'mobilenet_imagenet_0.5flops_70.5.pth.tar', \\\n",
    "#              'mobilenet_imagenet_0.5time_70.2.pth.tar'\n",
    "            ]\n",
    "path_to_mbnet = \"/gpfs/gpfs0/y.gusak/pretrained/amc-compressed-models/checkpoints/torch\"\n",
    "\n",
    "initialmodels_path = \"/gpfs/gpfs0/y.gusak/pretrained/torchvision/models_torch_1-0-1\"\n",
    "baseline_names = ['resnet18_imagenet', 'resnet50_imagenet']"
   ]
  },
  {
   "cell_type": "code",
   "execution_count": 9,
   "metadata": {},
   "outputs": [],
   "source": [
    "dcp_flops, dcp_params = get_dcp_flops_params(initialdcpmodels_path) \n",
    "mb_flops, mb_params = get_mb_flops_params(mb_profiles, mb_pathes, path_to_mbnet)\n",
    "baseline_flops, baseline_params = get_baseline_flops_params(baseline_names, initialmodels_path)"
   ]
  },
  {
   "cell_type": "code",
   "execution_count": 10,
   "metadata": {},
   "outputs": [
    {
     "name": "stdout",
     "output_type": "stream",
     "text": [
      "resnet18_pruned0.3 1.3774212305389981 1.3898005071497461\n",
      "resnet18_pruned0.5 1.854434829531902 1.8869707383028758\n",
      "resnet18_pruned0.7 2.78150178438904 2.915578870074985\n",
      "resnet50_pruned0.3 1.5504817817680177 1.5014889144231705\n",
      "resnet50_pruned0.5 2.230428380489107 2.06406983633482\n",
      "resnet50_pruned0.7 3.410479885382879 2.932876381888326\n"
     ]
    }
   ],
   "source": [
    "for k in dcp_flops.keys():\n",
    "    if '18' in k:\n",
    "        print(k, baseline_flops['resnet18_imagenet']/dcp_flops[k],\n",
    "              baseline_params['resnet18_imagenet']/dcp_params[k])\n",
    "    elif '50' in k:\n",
    "        print(k, baseline_flops['resnet50_imagenet']/dcp_flops[k],\n",
    "              baseline_params['resnet50_imagenet']/dcp_params[k])"
   ]
  },
  {
   "cell_type": "code",
   "execution_count": 11,
   "metadata": {},
   "outputs": [
    {
     "data": {
      "text/plain": [
       "defaultdict(None,\n",
       "            {'resnet18_pruned0.3': 2644232198,\n",
       "             'resnet18_pruned0.5': 1964060160,\n",
       "             'resnet18_pruned0.7': 1309444268,\n",
       "             'resnet50_pruned0.3': 5310827889,\n",
       "             'resnet50_pruned0.5': 3691820800,\n",
       "             'resnet50_pruned0.7': 2414423238})"
      ]
     },
     "execution_count": 11,
     "metadata": {},
     "output_type": "execute_result"
    }
   ],
   "source": [
    "dcp_flops"
   ]
  },
  {
   "cell_type": "code",
   "execution_count": 12,
   "metadata": {},
   "outputs": [
    {
     "name": "stdout",
     "output_type": "stream",
     "text": [
      "0.7flops\n",
      "resnet18_imagenet/0.7flops 8.253542389808542 5.0163723376498535\n",
      "resnet50_imagenet/0.7flops 18.659625329192522 10.967402946952115\n",
      "resnet18_pruned0.3/0.7flops 5.992024957085097 3.6094189862814297\n",
      "resnet18_pruned0.5/0.7flops 4.450705011775425 2.65842614081103\n",
      "resnet18_pruned0.7/0.7flops 2.967297175982737 1.7205407780722595\n",
      "resnet50_pruned0.3/0.7flops 12.034727236791465 7.304351595006935\n",
      "resnet50_pruned0.5/0.7flops 8.365937903417764 5.3134844344351215\n",
      "resnet50_pruned0.7/0.7flops 5.471260924061333 3.7394698987929305\n",
      "normal\n",
      "resnet18_imagenet/normal 5.797294745083786 3.335217948044893\n",
      "resnet50_imagenet/normal 13.106535685784424 7.291858875302721\n",
      "resnet18_pruned0.3/normal 4.208803099989426 2.399781789463353\n",
      "resnet18_pruned0.5/normal 3.1261787433895125 1.7674984992319263\n",
      "resnet18_pruned0.7/normal 2.084231898617016 1.1439299352444254\n",
      "resnet50_pruned0.3/normal 8.45320199173125 4.8564187222814414\n",
      "resnet50_pruned0.5/normal 5.876241443318754 3.5327578296725246\n",
      "resnet50_pruned0.7/normal 3.843018028623562 2.4862482852440833\n"
     ]
    }
   ],
   "source": [
    "for k in mb_flops.keys():\n",
    "    print(k)\n",
    "    \n",
    "    for name in baseline_names:\n",
    "        print('{}/{}'.format(name, k), baseline_flops[name]/mb_flops[k], baseline_params[name]/mb_params[k])\n",
    "        \n",
    "    for name in dcp_names:\n",
    "        print('{}/{}'.format(name, k), dcp_flops[name]/mb_flops[k], dcp_params[name]/mb_params[k])"
   ]
  },
  {
   "cell_type": "markdown",
   "metadata": {},
   "source": [
    "## Evaluate"
   ]
  },
  {
   "cell_type": "code",
   "execution_count": 16,
   "metadata": {},
   "outputs": [
    {
     "name": "stdout",
     "output_type": "stream",
     "text": [
      "Building imagenet data loader with 16 workers\n"
     ]
    }
   ],
   "source": [
    "# DATA_ROOT = \"/workspace/raid/data/datasets\"\n",
    "DATA_ROOT = \"/gpfs/gpfs0/e.ponomarev/\"\n",
    "dataset_name = 'imagenet'\n",
    "\n",
    "bs = 128\n",
    "num_workers = 16\n",
    "\n",
    "loaders = OrderedDict()\n",
    "loaders[\"valid\"] = dataloaders.get_loader(batch_size=bs,\n",
    "                                    data_name = 'imagenet',\n",
    "                                    data_root = DATA_ROOT,\n",
    "                                    num_workers = num_workers, \n",
    "                                    pin_memory = True)['val']\n",
    "# loaders[\"train\"] = dataloaders.get_loader(batch_size=bs,\n",
    "#                                 data_name = 'imagenet',\n",
    "#                                 data_root = DATA_ROOT,\n",
    "#                                 num_workers = num_workers, \n",
    "#                                 pin_memory = True)['train']"
   ]
  },
  {
   "cell_type": "code",
   "execution_count": 17,
   "metadata": {},
   "outputs": [],
   "source": [
    "mpath = \"/gpfs/gpfs0/y.gusak/musco_models/resnet18_imagenet/grschedule1/tucker2_vbmf_wf0.8/iter_1-0/beforeft.pth\"\n",
    "spath = \"/gpfs/gpfs0/y.gusak/musco_models/resnet18_imagenet/grschedule1/tucker2_vbmf_wf0.8/iter_1-0/best.pth.tar\"\n",
    "\n",
    "mym = torch.load(mpath)"
   ]
  },
  {
   "cell_type": "code",
   "execution_count": 18,
   "metadata": {},
   "outputs": [],
   "source": [
    "mym.load_state_dict(torch.load(spath, map_location = 'cpu')['state_dict'])"
   ]
  },
  {
   "cell_type": "code",
   "execution_count": 19,
   "metadata": {},
   "outputs": [],
   "source": [
    "import train_validate"
   ]
  },
  {
   "cell_type": "code",
   "execution_count": 22,
   "metadata": {},
   "outputs": [
    {
     "name": "stdout",
     "output_type": "stream",
     "text": [
      "Test: [1/391]\tElapsedTime 0.097490 (0.097490)\tLoss 0.6316 (0.6316)\tPrec@1 85.937500 (85.937500)\tPrec@5 94.531250 (94.531250)\n",
      "\n",
      "Test: [10/391]\tElapsedTime 0.004148 (0.134069)\tLoss 0.4596 (0.6559)\tPrec@1 89.062500 (83.906250)\tPrec@5 96.875000 (94.921875)\n",
      "\n",
      "Test: [20/391]\tElapsedTime 0.004322 (0.129873)\tLoss 1.2478 (0.9756)\tPrec@1 68.750000 (75.781250)\tPrec@5 89.062500 (92.031250)\n",
      "\n",
      "Test: [30/391]\tElapsedTime 0.015177 (0.126860)\tLoss 0.8981 (1.1152)\tPrec@1 74.218750 (71.718750)\tPrec@5 96.093750 (90.755211)\n",
      "\n",
      "Test: [40/391]\tElapsedTime 0.360417 (0.118999)\tLoss 0.7321 (1.0302)\tPrec@1 79.687500 (74.296875)\tPrec@5 94.531250 (91.464844)\n",
      "\n",
      "Test: [50/391]\tElapsedTime 0.004002 (0.111278)\tLoss 1.2641 (1.0533)\tPrec@1 72.656250 (74.000000)\tPrec@5 85.937500 (90.968750)\n",
      "\n",
      "Test: [60/391]\tElapsedTime 0.033031 (0.111871)\tLoss 1.1231 (0.9838)\tPrec@1 67.968750 (75.755211)\tPrec@5 92.968750 (91.679695)\n",
      "\n",
      "Test: [70/391]\tElapsedTime 0.004336 (0.100378)\tLoss 0.6969 (1.0178)\tPrec@1 79.687500 (74.486610)\tPrec@5 94.531250 (91.495537)\n",
      "\n",
      "Test: [80/391]\tElapsedTime 0.004407 (0.096669)\tLoss 0.9135 (1.0357)\tPrec@1 73.437500 (73.632812)\tPrec@5 94.531250 (91.621094)\n",
      "\n",
      "Test: [90/391]\tElapsedTime 0.278337 (0.096045)\tLoss 0.7492 (1.0371)\tPrec@1 82.031250 (73.454865)\tPrec@5 93.750000 (91.762154)\n",
      "\n",
      "Test: [100/391]\tElapsedTime 0.081022 (0.097815)\tLoss 0.3521 (1.0323)\tPrec@1 92.187500 (73.093750)\tPrec@5 99.218750 (92.054688)\n",
      "\n",
      "Test: [110/391]\tElapsedTime 0.152259 (0.101966)\tLoss 0.9773 (1.0272)\tPrec@1 74.218750 (73.082382)\tPrec@5 92.968750 (92.215904)\n",
      "\n",
      "Test: [120/391]\tElapsedTime 0.177840 (0.102947)\tLoss 0.8161 (1.0256)\tPrec@1 81.250000 (73.177086)\tPrec@5 96.093750 (92.337242)\n",
      "\n",
      "Test: [130/391]\tElapsedTime 0.004127 (0.102975)\tLoss 0.6455 (1.0188)\tPrec@1 82.031250 (73.479568)\tPrec@5 97.656250 (92.403847)\n",
      "\n",
      "Test: [140/391]\tElapsedTime 0.102690 (0.102784)\tLoss 1.7858 (1.0121)\tPrec@1 53.125000 (73.549110)\tPrec@5 89.062500 (92.466515)\n",
      "\n",
      "Test: [150/391]\tElapsedTime 0.092671 (0.103333)\tLoss 1.4140 (1.0179)\tPrec@1 64.062500 (73.473961)\tPrec@5 88.281250 (92.395836)\n",
      "\n",
      "Test: [160/391]\tElapsedTime 0.008876 (0.100580)\tLoss 1.0748 (1.0268)\tPrec@1 70.312500 (73.325195)\tPrec@5 95.312500 (92.260742)\n",
      "\n",
      "Test: [170/391]\tElapsedTime 0.244938 (0.100676)\tLoss 1.7115 (1.0569)\tPrec@1 56.250000 (72.642464)\tPrec@5 82.812500 (91.861214)\n",
      "\n",
      "Test: [180/391]\tElapsedTime 0.004315 (0.101059)\tLoss 1.8358 (1.0887)\tPrec@1 63.281250 (71.970490)\tPrec@5 78.906250 (91.432297)\n",
      "\n",
      "Test: [190/391]\tElapsedTime 0.158663 (0.103294)\tLoss 1.2631 (1.1208)\tPrec@1 66.406250 (71.282898)\tPrec@5 90.625000 (90.999184)\n",
      "\n",
      "Test: [200/391]\tElapsedTime 0.004338 (0.104336)\tLoss 0.8523 (1.1558)\tPrec@1 75.781250 (70.589844)\tPrec@5 95.312500 (90.574219)\n",
      "\n",
      "Test: [210/391]\tElapsedTime 0.132572 (0.103226)\tLoss 1.0254 (1.1742)\tPrec@1 70.312500 (70.204613)\tPrec@5 95.312500 (90.386909)\n",
      "\n",
      "Test: [220/391]\tElapsedTime 0.147563 (0.102165)\tLoss 0.8804 (1.1889)\tPrec@1 76.562500 (69.978691)\tPrec@5 92.187500 (90.095879)\n",
      "\n",
      "Test: [230/391]\tElapsedTime 0.003973 (0.103509)\tLoss 1.9581 (1.1970)\tPrec@1 55.468750 (69.853935)\tPrec@5 78.906250 (89.962631)\n",
      "\n",
      "Test: [240/391]\tElapsedTime 0.283369 (0.104303)\tLoss 1.1597 (1.2095)\tPrec@1 73.437500 (69.700523)\tPrec@5 85.937500 (89.746101)\n",
      "\n",
      "Test: [250/391]\tElapsedTime 0.102949 (0.104024)\tLoss 1.7951 (1.2366)\tPrec@1 38.281250 (69.115631)\tPrec@5 88.281250 (89.368752)\n",
      "\n",
      "Test: [260/391]\tElapsedTime 0.178788 (0.104756)\tLoss 2.0365 (1.2533)\tPrec@1 40.625000 (68.777046)\tPrec@5 83.593750 (89.134613)\n",
      "\n",
      "Test: [270/391]\tElapsedTime 0.398989 (0.104100)\tLoss 1.8907 (1.2630)\tPrec@1 44.531250 (68.599533)\tPrec@5 80.468750 (88.964119)\n",
      "\n",
      "Test: [280/391]\tElapsedTime 0.137669 (0.103858)\tLoss 1.1644 (1.2735)\tPrec@1 75.781250 (68.415176)\tPrec@5 89.843750 (88.864395)\n",
      "\n",
      "Test: [290/391]\tElapsedTime 0.004411 (0.104408)\tLoss 2.3614 (1.2871)\tPrec@1 47.656250 (68.197739)\tPrec@5 69.531250 (88.639549)\n",
      "\n",
      "Test: [300/391]\tElapsedTime 0.072942 (0.105220)\tLoss 1.8359 (1.3028)\tPrec@1 60.937500 (67.859375)\tPrec@5 79.687500 (88.437500)\n",
      "\n",
      "Test: [310/391]\tElapsedTime 0.004246 (0.105192)\tLoss 1.6560 (1.3128)\tPrec@1 64.843750 (67.714211)\tPrec@5 83.593750 (88.263611)\n",
      "\n",
      "Test: [320/391]\tElapsedTime 0.223833 (0.107442)\tLoss 2.2747 (1.3248)\tPrec@1 42.968750 (67.512207)\tPrec@5 73.437500 (88.103027)\n",
      "\n",
      "Test: [330/391]\tElapsedTime 0.252237 (0.106551)\tLoss 1.5802 (1.3403)\tPrec@1 64.843750 (67.244316)\tPrec@5 82.031250 (87.845642)\n",
      "\n",
      "Test: [340/391]\tElapsedTime 0.175397 (0.108454)\tLoss 2.4844 (1.3507)\tPrec@1 44.531250 (66.985298)\tPrec@5 69.531250 (87.681526)\n",
      "\n",
      "Test: [350/391]\tElapsedTime 0.004073 (0.108027)\tLoss 1.3822 (1.3572)\tPrec@1 60.937500 (66.821426)\tPrec@5 88.281250 (87.551338)\n",
      "\n",
      "Test: [360/391]\tElapsedTime 0.168258 (0.107497)\tLoss 1.4088 (1.3669)\tPrec@1 69.531250 (66.638458)\tPrec@5 85.937500 (87.404518)\n",
      "\n",
      "Test: [370/391]\tElapsedTime 0.017994 (0.106490)\tLoss 0.8446 (1.3629)\tPrec@1 78.906250 (66.716637)\tPrec@5 95.312500 (87.476776)\n",
      "\n",
      "Test: [380/391]\tElapsedTime 0.004071 (0.104456)\tLoss 1.5235 (1.3640)\tPrec@1 58.593750 (66.671463)\tPrec@5 91.406250 (87.452721)\n",
      "\n",
      "Test: [390/391]\tElapsedTime 0.004320 (0.102092)\tLoss 1.0594 (1.3546)\tPrec@1 65.625000 (66.881012)\tPrec@5 89.843750 (87.566109)\n",
      "\n",
      " * Prec@1 66.837997 Prec@5 87.540001\n"
     ]
    },
    {
     "data": {
      "text/plain": [
       "(tensor(66.8380, device='cuda:0'),\n",
       " tensor(87.5400, device='cuda:0'),\n",
       " 1.3564993466186523)"
      ]
     },
     "execution_count": 22,
     "metadata": {},
     "output_type": "execute_result"
    }
   ],
   "source": [
    "train_validate.validate(loaders['valid'], mym, device = 'cuda')"
   ]
  },
  {
   "cell_type": "code",
   "execution_count": null,
   "metadata": {},
   "outputs": [],
   "source": [
    "\n"
   ]
  },
  {
   "cell_type": "code",
   "execution_count": 12,
   "metadata": {},
   "outputs": [],
   "source": [
    "import  torch.nn.functional as F\n",
    "\n",
    "def test(model, device, test_loader):\n",
    "    model.eval()\n",
    "    test_loss = 0\n",
    "    correct = 0\n",
    "    with torch.no_grad():\n",
    "        for i, (data, target) in enumerate(test_loader):\n",
    "            data, target = data.to(device), target.to(device)\n",
    "            output = model(data)\n",
    "            test_loss += F.nll_loss(output, target).item() # sum up batch loss\n",
    "            pred = output.max(1, keepdim=True)[1] # get the index of the max log-probability\n",
    "            correct += pred.eq(target.view_as(pred)).sum().item()\n",
    "            \n",
    "            if i%20 == 0:\n",
    "                print(i)\n",
    "            \n",
    "    test_loss /= len(test_loader.dataset)\n",
    "    print('\\nTest set: Average loss: {:.4f}, Accuracy: {}/{} ({:.0f}%)\\n'.format(\n",
    "        test_loss, correct, len(test_loader.dataset),\n",
    "        100. * correct / len(test_loader.dataset)))\n",
    "    \n",
    "    del data\n",
    "    torch.cuda.empty_cache()\n",
    "    \n",
    "    \n",
    "def test_dcp_models(initialdcpmodels_path, device = 'cpu'):\n",
    "    \n",
    "    for depth in [18, 50]:\n",
    "        for pruning_rate in [0.3, 0.5, 0.7]:\n",
    "            model_name = 'resnet{}_pruned{}'.format(depth, pruning_rate)\n",
    "            print(\"{}\".format(model_name))\n",
    "            \n",
    "            model = load_dcpmodel(initialdcpmodels_path, depth, pruning_rate)\n",
    "            \n",
    "            test(model.to(device), device, loaders['valid'])\n",
    "            \n",
    "            del model\n",
    "            torch.cuda.empty_cache()"
   ]
  },
  {
   "cell_type": "code",
   "execution_count": 13,
   "metadata": {},
   "outputs": [
    {
     "name": "stdout",
     "output_type": "stream",
     "text": [
      "resnet18_pruned0.3\n",
      "0\n",
      "20\n",
      "40\n",
      "60\n",
      "80\n",
      "100\n",
      "120\n",
      "140\n",
      "160\n",
      "180\n",
      "200\n",
      "220\n",
      "240\n",
      "260\n",
      "280\n",
      "300\n",
      "320\n",
      "340\n",
      "360\n",
      "380\n",
      "\n",
      "Test set: Average loss: -0.1136, Accuracy: 34591/50000 (69%)\n",
      "\n",
      "resnet18_pruned0.5\n",
      "0\n",
      "20\n",
      "40\n",
      "60\n",
      "80\n",
      "100\n",
      "120\n",
      "140\n",
      "160\n",
      "180\n",
      "200\n",
      "220\n",
      "240\n",
      "260\n",
      "280\n",
      "300\n",
      "320\n",
      "340\n",
      "360\n",
      "380\n",
      "\n",
      "Test set: Average loss: -0.1116, Accuracy: 33660/50000 (67%)\n",
      "\n",
      "resnet18_pruned0.7\n",
      "0\n",
      "20\n",
      "40\n",
      "60\n",
      "80\n",
      "100\n",
      "120\n",
      "140\n",
      "160\n",
      "180\n",
      "200\n",
      "220\n",
      "240\n",
      "260\n",
      "280\n",
      "300\n",
      "320\n",
      "340\n",
      "360\n",
      "380\n",
      "\n",
      "Test set: Average loss: -0.1086, Accuracy: 32045/50000 (64%)\n",
      "\n",
      "resnet50_pruned0.3\n",
      "0\n",
      "20\n",
      "40\n",
      "60\n"
     ]
    },
    {
     "ename": "KeyboardInterrupt",
     "evalue": "",
     "output_type": "error",
     "traceback": [
      "\u001b[0;31m---------------------------------------------------------------------------\u001b[0m",
      "\u001b[0;31mKeyboardInterrupt\u001b[0m                         Traceback (most recent call last)",
      "\u001b[0;32m<ipython-input-13-91ed01eab0a3>\u001b[0m in \u001b[0;36m<module>\u001b[0;34m\u001b[0m\n\u001b[0;32m----> 1\u001b[0;31m \u001b[0mtest_dcp_models\u001b[0m\u001b[0;34m(\u001b[0m\u001b[0minitialdcpmodels_path\u001b[0m\u001b[0;34m,\u001b[0m \u001b[0;34m'cuda'\u001b[0m\u001b[0;34m)\u001b[0m\u001b[0;34m\u001b[0m\u001b[0;34m\u001b[0m\u001b[0m\n\u001b[0m",
      "\u001b[0;32m<ipython-input-12-3ca1c061f74b>\u001b[0m in \u001b[0;36mtest_dcp_models\u001b[0;34m(initialdcpmodels_path, device)\u001b[0m\n\u001b[1;32m     34\u001b[0m             \u001b[0mmodel\u001b[0m \u001b[0;34m=\u001b[0m \u001b[0mload_dcpmodel\u001b[0m\u001b[0;34m(\u001b[0m\u001b[0minitialdcpmodels_path\u001b[0m\u001b[0;34m,\u001b[0m \u001b[0mdepth\u001b[0m\u001b[0;34m,\u001b[0m \u001b[0mpruning_rate\u001b[0m\u001b[0;34m)\u001b[0m\u001b[0;34m\u001b[0m\u001b[0;34m\u001b[0m\u001b[0m\n\u001b[1;32m     35\u001b[0m \u001b[0;34m\u001b[0m\u001b[0m\n\u001b[0;32m---> 36\u001b[0;31m             \u001b[0mtest\u001b[0m\u001b[0;34m(\u001b[0m\u001b[0mmodel\u001b[0m\u001b[0;34m.\u001b[0m\u001b[0mto\u001b[0m\u001b[0;34m(\u001b[0m\u001b[0mdevice\u001b[0m\u001b[0;34m)\u001b[0m\u001b[0;34m,\u001b[0m \u001b[0mdevice\u001b[0m\u001b[0;34m,\u001b[0m \u001b[0mloaders\u001b[0m\u001b[0;34m[\u001b[0m\u001b[0;34m'valid'\u001b[0m\u001b[0;34m]\u001b[0m\u001b[0;34m)\u001b[0m\u001b[0;34m\u001b[0m\u001b[0;34m\u001b[0m\u001b[0m\n\u001b[0m\u001b[1;32m     37\u001b[0m \u001b[0;34m\u001b[0m\u001b[0m\n\u001b[1;32m     38\u001b[0m             \u001b[0;32mdel\u001b[0m \u001b[0mmodel\u001b[0m\u001b[0;34m\u001b[0m\u001b[0;34m\u001b[0m\u001b[0m\n",
      "\u001b[0;32m<ipython-input-12-3ca1c061f74b>\u001b[0m in \u001b[0;36mtest\u001b[0;34m(model, device, test_loader)\u001b[0m\n\u001b[1;32m      6\u001b[0m     \u001b[0mcorrect\u001b[0m \u001b[0;34m=\u001b[0m \u001b[0;36m0\u001b[0m\u001b[0;34m\u001b[0m\u001b[0;34m\u001b[0m\u001b[0m\n\u001b[1;32m      7\u001b[0m     \u001b[0;32mwith\u001b[0m \u001b[0mtorch\u001b[0m\u001b[0;34m.\u001b[0m\u001b[0mno_grad\u001b[0m\u001b[0;34m(\u001b[0m\u001b[0;34m)\u001b[0m\u001b[0;34m:\u001b[0m\u001b[0;34m\u001b[0m\u001b[0;34m\u001b[0m\u001b[0m\n\u001b[0;32m----> 8\u001b[0;31m         \u001b[0;32mfor\u001b[0m \u001b[0mi\u001b[0m\u001b[0;34m,\u001b[0m \u001b[0;34m(\u001b[0m\u001b[0mdata\u001b[0m\u001b[0;34m,\u001b[0m \u001b[0mtarget\u001b[0m\u001b[0;34m)\u001b[0m \u001b[0;32min\u001b[0m \u001b[0menumerate\u001b[0m\u001b[0;34m(\u001b[0m\u001b[0mtest_loader\u001b[0m\u001b[0;34m)\u001b[0m\u001b[0;34m:\u001b[0m\u001b[0;34m\u001b[0m\u001b[0;34m\u001b[0m\u001b[0m\n\u001b[0m\u001b[1;32m      9\u001b[0m             \u001b[0mdata\u001b[0m\u001b[0;34m,\u001b[0m \u001b[0mtarget\u001b[0m \u001b[0;34m=\u001b[0m \u001b[0mdata\u001b[0m\u001b[0;34m.\u001b[0m\u001b[0mto\u001b[0m\u001b[0;34m(\u001b[0m\u001b[0mdevice\u001b[0m\u001b[0;34m)\u001b[0m\u001b[0;34m,\u001b[0m \u001b[0mtarget\u001b[0m\u001b[0;34m.\u001b[0m\u001b[0mto\u001b[0m\u001b[0;34m(\u001b[0m\u001b[0mdevice\u001b[0m\u001b[0;34m)\u001b[0m\u001b[0;34m\u001b[0m\u001b[0;34m\u001b[0m\u001b[0m\n\u001b[1;32m     10\u001b[0m             \u001b[0moutput\u001b[0m \u001b[0;34m=\u001b[0m \u001b[0mmodel\u001b[0m\u001b[0;34m(\u001b[0m\u001b[0mdata\u001b[0m\u001b[0;34m)\u001b[0m\u001b[0;34m\u001b[0m\u001b[0;34m\u001b[0m\u001b[0m\n",
      "\u001b[0;32m~/.local/lib/python3.6/site-packages/torch/utils/data/dataloader.py\u001b[0m in \u001b[0;36m__next__\u001b[0;34m(self)\u001b[0m\n\u001b[1;32m    629\u001b[0m         \u001b[0;32mwhile\u001b[0m \u001b[0;32mTrue\u001b[0m\u001b[0;34m:\u001b[0m\u001b[0;34m\u001b[0m\u001b[0;34m\u001b[0m\u001b[0m\n\u001b[1;32m    630\u001b[0m             \u001b[0;32massert\u001b[0m \u001b[0;34m(\u001b[0m\u001b[0;32mnot\u001b[0m \u001b[0mself\u001b[0m\u001b[0;34m.\u001b[0m\u001b[0mshutdown\u001b[0m \u001b[0;32mand\u001b[0m \u001b[0mself\u001b[0m\u001b[0;34m.\u001b[0m\u001b[0mbatches_outstanding\u001b[0m \u001b[0;34m>\u001b[0m \u001b[0;36m0\u001b[0m\u001b[0;34m)\u001b[0m\u001b[0;34m\u001b[0m\u001b[0;34m\u001b[0m\u001b[0m\n\u001b[0;32m--> 631\u001b[0;31m             \u001b[0midx\u001b[0m\u001b[0;34m,\u001b[0m \u001b[0mbatch\u001b[0m \u001b[0;34m=\u001b[0m \u001b[0mself\u001b[0m\u001b[0;34m.\u001b[0m\u001b[0m_get_batch\u001b[0m\u001b[0;34m(\u001b[0m\u001b[0;34m)\u001b[0m\u001b[0;34m\u001b[0m\u001b[0;34m\u001b[0m\u001b[0m\n\u001b[0m\u001b[1;32m    632\u001b[0m             \u001b[0mself\u001b[0m\u001b[0;34m.\u001b[0m\u001b[0mbatches_outstanding\u001b[0m \u001b[0;34m-=\u001b[0m \u001b[0;36m1\u001b[0m\u001b[0;34m\u001b[0m\u001b[0;34m\u001b[0m\u001b[0m\n\u001b[1;32m    633\u001b[0m             \u001b[0;32mif\u001b[0m \u001b[0midx\u001b[0m \u001b[0;34m!=\u001b[0m \u001b[0mself\u001b[0m\u001b[0;34m.\u001b[0m\u001b[0mrcvd_idx\u001b[0m\u001b[0;34m:\u001b[0m\u001b[0;34m\u001b[0m\u001b[0;34m\u001b[0m\u001b[0m\n",
      "\u001b[0;32m~/.local/lib/python3.6/site-packages/torch/utils/data/dataloader.py\u001b[0m in \u001b[0;36m_get_batch\u001b[0;34m(self)\u001b[0m\n\u001b[1;32m    599\u001b[0m             \u001b[0;32mwhile\u001b[0m \u001b[0mself\u001b[0m\u001b[0;34m.\u001b[0m\u001b[0mpin_memory_thread\u001b[0m\u001b[0;34m.\u001b[0m\u001b[0mis_alive\u001b[0m\u001b[0;34m(\u001b[0m\u001b[0;34m)\u001b[0m\u001b[0;34m:\u001b[0m\u001b[0;34m\u001b[0m\u001b[0;34m\u001b[0m\u001b[0m\n\u001b[1;32m    600\u001b[0m                 \u001b[0;32mtry\u001b[0m\u001b[0;34m:\u001b[0m\u001b[0;34m\u001b[0m\u001b[0;34m\u001b[0m\u001b[0m\n\u001b[0;32m--> 601\u001b[0;31m                     \u001b[0;32mreturn\u001b[0m \u001b[0mself\u001b[0m\u001b[0;34m.\u001b[0m\u001b[0mdata_queue\u001b[0m\u001b[0;34m.\u001b[0m\u001b[0mget\u001b[0m\u001b[0;34m(\u001b[0m\u001b[0mtimeout\u001b[0m\u001b[0;34m=\u001b[0m\u001b[0mMP_STATUS_CHECK_INTERVAL\u001b[0m\u001b[0;34m)\u001b[0m\u001b[0;34m\u001b[0m\u001b[0;34m\u001b[0m\u001b[0m\n\u001b[0m\u001b[1;32m    602\u001b[0m                 \u001b[0;32mexcept\u001b[0m \u001b[0mqueue\u001b[0m\u001b[0;34m.\u001b[0m\u001b[0mEmpty\u001b[0m\u001b[0;34m:\u001b[0m\u001b[0;34m\u001b[0m\u001b[0;34m\u001b[0m\u001b[0m\n\u001b[1;32m    603\u001b[0m                     \u001b[0;32mcontinue\u001b[0m\u001b[0;34m\u001b[0m\u001b[0;34m\u001b[0m\u001b[0m\n",
      "\u001b[0;32m/trinity/shared/opt/python-3.6.8/lib/python3.6/queue.py\u001b[0m in \u001b[0;36mget\u001b[0;34m(self, block, timeout)\u001b[0m\n\u001b[1;32m    171\u001b[0m                     \u001b[0;32mif\u001b[0m \u001b[0mremaining\u001b[0m \u001b[0;34m<=\u001b[0m \u001b[0;36m0.0\u001b[0m\u001b[0;34m:\u001b[0m\u001b[0;34m\u001b[0m\u001b[0;34m\u001b[0m\u001b[0m\n\u001b[1;32m    172\u001b[0m                         \u001b[0;32mraise\u001b[0m \u001b[0mEmpty\u001b[0m\u001b[0;34m\u001b[0m\u001b[0;34m\u001b[0m\u001b[0m\n\u001b[0;32m--> 173\u001b[0;31m                     \u001b[0mself\u001b[0m\u001b[0;34m.\u001b[0m\u001b[0mnot_empty\u001b[0m\u001b[0;34m.\u001b[0m\u001b[0mwait\u001b[0m\u001b[0;34m(\u001b[0m\u001b[0mremaining\u001b[0m\u001b[0;34m)\u001b[0m\u001b[0;34m\u001b[0m\u001b[0;34m\u001b[0m\u001b[0m\n\u001b[0m\u001b[1;32m    174\u001b[0m             \u001b[0mitem\u001b[0m \u001b[0;34m=\u001b[0m \u001b[0mself\u001b[0m\u001b[0;34m.\u001b[0m\u001b[0m_get\u001b[0m\u001b[0;34m(\u001b[0m\u001b[0;34m)\u001b[0m\u001b[0;34m\u001b[0m\u001b[0;34m\u001b[0m\u001b[0m\n\u001b[1;32m    175\u001b[0m             \u001b[0mself\u001b[0m\u001b[0;34m.\u001b[0m\u001b[0mnot_full\u001b[0m\u001b[0;34m.\u001b[0m\u001b[0mnotify\u001b[0m\u001b[0;34m(\u001b[0m\u001b[0;34m)\u001b[0m\u001b[0;34m\u001b[0m\u001b[0;34m\u001b[0m\u001b[0m\n",
      "\u001b[0;32m/trinity/shared/opt/python-3.6.8/lib/python3.6/threading.py\u001b[0m in \u001b[0;36mwait\u001b[0;34m(self, timeout)\u001b[0m\n\u001b[1;32m    297\u001b[0m             \u001b[0;32melse\u001b[0m\u001b[0;34m:\u001b[0m\u001b[0;34m\u001b[0m\u001b[0;34m\u001b[0m\u001b[0m\n\u001b[1;32m    298\u001b[0m                 \u001b[0;32mif\u001b[0m \u001b[0mtimeout\u001b[0m \u001b[0;34m>\u001b[0m \u001b[0;36m0\u001b[0m\u001b[0;34m:\u001b[0m\u001b[0;34m\u001b[0m\u001b[0;34m\u001b[0m\u001b[0m\n\u001b[0;32m--> 299\u001b[0;31m                     \u001b[0mgotit\u001b[0m \u001b[0;34m=\u001b[0m \u001b[0mwaiter\u001b[0m\u001b[0;34m.\u001b[0m\u001b[0macquire\u001b[0m\u001b[0;34m(\u001b[0m\u001b[0;32mTrue\u001b[0m\u001b[0;34m,\u001b[0m \u001b[0mtimeout\u001b[0m\u001b[0;34m)\u001b[0m\u001b[0;34m\u001b[0m\u001b[0;34m\u001b[0m\u001b[0m\n\u001b[0m\u001b[1;32m    300\u001b[0m                 \u001b[0;32melse\u001b[0m\u001b[0;34m:\u001b[0m\u001b[0;34m\u001b[0m\u001b[0;34m\u001b[0m\u001b[0m\n\u001b[1;32m    301\u001b[0m                     \u001b[0mgotit\u001b[0m \u001b[0;34m=\u001b[0m \u001b[0mwaiter\u001b[0m\u001b[0;34m.\u001b[0m\u001b[0macquire\u001b[0m\u001b[0;34m(\u001b[0m\u001b[0;32mFalse\u001b[0m\u001b[0;34m)\u001b[0m\u001b[0;34m\u001b[0m\u001b[0;34m\u001b[0m\u001b[0m\n",
      "\u001b[0;31mKeyboardInterrupt\u001b[0m: "
     ]
    }
   ],
   "source": [
    "test_dcp_models(initialdcpmodels_path, 'cuda')"
   ]
  },
  {
   "cell_type": "code",
   "execution_count": null,
   "metadata": {},
   "outputs": [],
   "source": [
    "!nvidia-smi"
   ]
  },
  {
   "cell_type": "code",
   "execution_count": 1,
   "metadata": {},
   "outputs": [
    {
     "ename": "NameError",
     "evalue": "name 'torch' is not defined",
     "output_type": "error",
     "traceback": [
      "\u001b[0;31m---------------------------------------------------------------------------\u001b[0m",
      "\u001b[0;31mNameError\u001b[0m                                 Traceback (most recent call last)",
      "\u001b[0;32m<ipython-input-1-1b6f8b3fe029>\u001b[0m in \u001b[0;36m<module>\u001b[0;34m\u001b[0m\n\u001b[0;32m----> 1\u001b[0;31m \u001b[0mtorch\u001b[0m\u001b[0;34m.\u001b[0m\u001b[0mbackends\u001b[0m\u001b[0;34m.\u001b[0m\u001b[0mcudnn\u001b[0m\u001b[0;34m.\u001b[0m\u001b[0mbenchmark\u001b[0m\u001b[0;34m=\u001b[0m\u001b[0;32mFalse\u001b[0m\u001b[0;34m\u001b[0m\u001b[0;34m\u001b[0m\u001b[0m\n\u001b[0m",
      "\u001b[0;31mNameError\u001b[0m: name 'torch' is not defined"
     ]
    }
   ],
   "source": []
  },
  {
   "cell_type": "code",
   "execution_count": null,
   "metadata": {},
   "outputs": [],
   "source": []
  }
 ],
 "metadata": {
  "kernelspec": {
   "display_name": "Python 3",
   "language": "python",
   "name": "python3"
  },
  "language_info": {
   "codemirror_mode": {
    "name": "ipython",
    "version": 3
   },
   "file_extension": ".py",
   "mimetype": "text/x-python",
   "name": "python",
   "nbconvert_exporter": "python",
   "pygments_lexer": "ipython3",
   "version": "3.6.8"
  }
 },
 "nbformat": 4,
 "nbformat_minor": 2
}
