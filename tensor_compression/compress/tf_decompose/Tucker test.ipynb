{
 "cells": [
  {
   "cell_type": "code",
   "execution_count": 1,
   "metadata": {},
   "outputs": [],
   "source": [
    "import matplotlib.pyplot as plt\n",
    "import numpy as np\n",
    "import tensorflow as tf\n",
    "import torch\n",
    "\n",
    "from tensorflow import keras\n",
    "from tensorflow.keras import layers"
   ]
  },
  {
   "cell_type": "code",
   "execution_count": 2,
   "metadata": {},
   "outputs": [],
   "source": [
    "cin = 3\n",
    "rank = [3, 3]\n",
    "kernel_size = [3, 3]\n",
    "filters = cout = 3\n",
    "classes = 10\n"
   ]
  },
  {
   "cell_type": "code",
   "execution_count": 3,
   "metadata": {},
   "outputs": [],
   "source": [
    "def get_dataset(take_first=None):\n",
    "    (train_images, train_labels), (test_images, test_labels) = keras.datasets.cifar10.load_data() \n",
    "\n",
    "    train_images = train_images / 255.0\n",
    "    test_images = test_images / 255.0\n",
    "\n",
    "    if take_first is not None:\n",
    "        train_images = train_images[:take_first, ...]\n",
    "        train_labels = train_labels[:take_first]\n",
    "    train_images = train_images\n",
    "\n",
    "    return train_images, train_labels, test_images, test_labels"
   ]
  },
  {
   "cell_type": "code",
   "execution_count": 4,
   "metadata": {},
   "outputs": [],
   "source": [
    "train_images, train_labels, test_images, test_labels = get_dataset()"
   ]
  },
  {
   "cell_type": "code",
   "execution_count": 5,
   "metadata": {},
   "outputs": [],
   "source": [
    "input_shape = train_images.shape[1:]"
   ]
  },
  {
   "cell_type": "code",
   "execution_count": 6,
   "metadata": {},
   "outputs": [],
   "source": [
    "tf_model = tf.keras.Sequential(\n",
    "    [\n",
    "        tf.keras.layers.Conv2D(filters=filters, kernel_size=kernel_size, padding='valid', activation='relu',\n",
    "                               input_shape=input_shape),\n",
    "        tf.keras.layers.Conv2D(filters=50, kernel_size=(3, 3), padding='valid', activation='relu'),\n",
    "        tf.keras.layers.Flatten(),\n",
    "        tf.keras.layers.Dense(classes, activation='softmax')\n",
    "    ]\n",
    ")\n"
   ]
  },
  {
   "cell_type": "code",
   "execution_count": 7,
   "metadata": {},
   "outputs": [
    {
     "name": "stdout",
     "output_type": "stream",
     "text": [
      "Train on 50000 samples\n",
      "WARNING:tensorflow:Entity <function Function._initialize_uninitialized_variables.<locals>.initialize_variables at 0x643152200> could not be transformed and will be executed as-is. Please report this to the AutoGraph team. When filing the bug, set the verbosity to 10 (on Linux, `export AUTOGRAPH_VERBOSITY=10`) and attach the full output. Cause: module 'gast' has no attribute 'Num'\n",
      "WARNING: Entity <function Function._initialize_uninitialized_variables.<locals>.initialize_variables at 0x643152200> could not be transformed and will be executed as-is. Please report this to the AutoGraph team. When filing the bug, set the verbosity to 10 (on Linux, `export AUTOGRAPH_VERBOSITY=10`) and attach the full output. Cause: module 'gast' has no attribute 'Num'\n",
      "50000/50000 [==============================] - 71s 1ms/sample - loss: 1.4449 - accuracy: 0.4914\n",
      "Model: \"sequential\"\n",
      "_________________________________________________________________\n",
      "Layer (type)                 Output Shape              Param #   \n",
      "=================================================================\n",
      "conv2d (Conv2D)              (None, 30, 30, 3)         84        \n",
      "_________________________________________________________________\n",
      "conv2d_1 (Conv2D)            (None, 28, 28, 50)        1400      \n",
      "_________________________________________________________________\n",
      "flatten (Flatten)            (None, 39200)             0         \n",
      "_________________________________________________________________\n",
      "dense (Dense)                (None, 10)                392010    \n",
      "=================================================================\n",
      "Total params: 393,494\n",
      "Trainable params: 393,494\n",
      "Non-trainable params: 0\n",
      "_________________________________________________________________\n"
     ]
    }
   ],
   "source": [
    "tf_model.compile(optimizer='adam',\n",
    "                  loss='sparse_categorical_crossentropy',\n",
    "                  metrics=['accuracy'])\n",
    "\n",
    "tf_model.fit(train_images,\n",
    "          train_labels,\n",
    "          epochs=1)\n",
    "tf_model.summary()"
   ]
  },
  {
   "cell_type": "code",
   "execution_count": 8,
   "metadata": {},
   "outputs": [
    {
     "name": "stdout",
     "output_type": "stream",
     "text": [
      "Evaluate source model\n",
      "Test accuracy: 0.5782\n"
     ]
    }
   ],
   "source": [
    "import torch.nn as nn\n",
    "\n",
    "conv_weight, conv_bias = tf_model.layers[0].get_weights()\n",
    "dense_weight, dense_bias = tf_model.layers[-1].get_weights()\n",
    "\n",
    "print('Evaluate source model')\n",
    "test_loss, test_acc = tf_model.evaluate(test_images,\n",
    "                                     test_labels,\n",
    "                                     verbose=0)\n",
    "print('Test accuracy:', test_acc)"
   ]
  },
  {
   "cell_type": "code",
   "execution_count": 9,
   "metadata": {},
   "outputs": [],
   "source": [
    "def to_tf_kernel_order(tensor):\n",
    "    \"\"\"Change conv.kernel axis order from PyTorch to Tensoflow.\n",
    "\n",
    "    :param tensor: tensor with conv.kernel weights.\n",
    "    :return: tensor with the Tensoflow-like exis order.\n",
    "    []\n",
    "    \"\"\"\n",
    "    return np.transpose(tensor, (2, 3, 1, 0))\n",
    "\n",
    "\n",
    "def to_pytorch_kernel_order(tensor):\n",
    "    \"\"\"Change conv.kernel axis order from Tensoflow to PyTorch.\n",
    "\n",
    "    :param tensor: tensor with conv.kernel weights.\n",
    "    :return: tensor with the Pytorch-like exis order.\n",
    "    []\n",
    "    \"\"\"\n",
    "    return np.transpose(tensor, (3, 2, 0, 1))"
   ]
  },
  {
   "cell_type": "code",
   "execution_count": 10,
   "metadata": {},
   "outputs": [
    {
     "name": "stdout",
     "output_type": "stream",
     "text": [
      "(3, 3, 3, 3)\n",
      "(10, 39200)\n"
     ]
    }
   ],
   "source": [
    "torch_model_original = nn.Sequential(\n",
    "                            nn.Conv2d(in_channels=cin,\n",
    "                                      out_channels=filters,\n",
    "                                      kernel_size=kernel_size),\n",
    "                            nn.ReLU(),\n",
    "                            nn.Flatten(),\n",
    "                            nn.Linear(39200, classes),\n",
    "                           )\n",
    "\n",
    "torch_test = torch.from_numpy(np.transpose(test_images, (0, 3, 1, 2)).astype(np.float32)).float()\n",
    "\n",
    "# _ = torch_model_original(torch_test)\n",
    "\n",
    "print(torch_model_original[0].weight.data.numpy().shape)\n",
    "print(torch_model_original[-1].weight.data.numpy().shape)\n",
    "torch_model_original[0].weight.data = torch.from_numpy(to_pytorch_kernel_order(conv_weight.astype(np.float32))).float()\n",
    "torch_model_original[0].bias.data = torch.from_numpy(conv_bias.astype(np.float32)).float()\n",
    "torch_model_original[-1].weight.data = torch.from_numpy(dense_weight.astype(np.float32)).T.float()\n",
    "torch_model_original[-1].bias.data = torch.from_numpy(dense_bias.astype(np.float32)).float()\n"
   ]
  },
  {
   "cell_type": "code",
   "execution_count": 11,
   "metadata": {},
   "outputs": [
    {
     "data": {
      "text/plain": [
       "((3, 3, 3, 3), (39200, 10))"
      ]
     },
     "execution_count": 11,
     "metadata": {},
     "output_type": "execute_result"
    }
   ],
   "source": [
    "to_pytorch_kernel_order(conv_weight).shape, dense_weight.shape"
   ]
  },
  {
   "cell_type": "code",
   "execution_count": 12,
   "metadata": {},
   "outputs": [],
   "source": [
    "torch_answer = np.transpose(torch_model_original[0](torch_test).data.numpy(), (0, 2, 3, 1))\n",
    "torch_answer = torch_model_original[1](torch.from_numpy(torch_answer).float()).data.numpy()\n",
    "tf_answer = tf_model.layers[0](test_images.astype(np.float32))"
   ]
  },
  {
   "cell_type": "code",
   "execution_count": 13,
   "metadata": {},
   "outputs": [
    {
     "data": {
      "image/png": "[encoded data removed]",
      "text/plain": [
       "<Figure size 288x288 with 2 Axes>"
      ]
     },
     "metadata": {
      "needs_background": "light"
     },
     "output_type": "display_data"
    },
    {
     "data": {
      "image/png": "[encoded data removed]",
      "text/plain": [
       "<Figure size 288x288 with 2 Axes>"
      ]
     },
     "metadata": {
      "needs_background": "light"
     },
     "output_type": "display_data"
    },
    {
     "data": {
      "image/png": "[encoded data removed]",
      "text/plain": [
       "<Figure size 288x288 with 2 Axes>"
      ]
     },
     "metadata": {
      "needs_background": "light"
     },
     "output_type": "display_data"
    }
   ],
   "source": [
    "plt.matshow(torch_answer[0, ..., 0])\n",
    "plt.colorbar()\n",
    "plt.show()\n",
    "\n",
    "plt.matshow(tf_answer[0, ..., 0])\n",
    "plt.colorbar()\n",
    "plt.show()\n",
    "\n",
    "\n",
    "plt.matshow(tf_answer[0, ..., 0] - torch_answer[0, ..., 0])\n",
    "plt.colorbar()\n",
    "plt.show()"
   ]
  },
  {
   "cell_type": "code",
   "execution_count": 14,
   "metadata": {},
   "outputs": [
    {
     "name": "stderr",
     "output_type": "stream",
     "text": [
      "100%|██████████| 10000/10000 [00:02<00:00, 3453.89it/s]\n"
     ]
    }
   ],
   "source": [
    "from tqdm import tqdm\n",
    "norms = []\n",
    "for idx in tqdm(range(torch_answer.shape[0])):\n",
    "    norms.append(np.linalg.norm(torch_answer[idx, ...] - tf_answer[idx, ...]))"
   ]
  },
  {
   "cell_type": "code",
   "execution_count": 15,
   "metadata": {},
   "outputs": [
    {
     "data": {
      "image/png": "[encoded data removed]",
      "text/plain": [
       "<Figure size 432x288 with 1 Axes>"
      ]
     },
     "metadata": {
      "needs_background": "light"
     },
     "output_type": "display_data"
    }
   ],
   "source": [
    "%matplotlib inline\n",
    "import matplotlib.pyplot as plt\n",
    "\n",
    "\n",
    "plt.hist(norms)\n",
    "plt.show()"
   ]
  },
  {
   "cell_type": "code",
   "execution_count": 16,
   "metadata": {},
   "outputs": [
    {
     "data": {
      "text/plain": [
       "[3, 3]"
      ]
     },
     "execution_count": 16,
     "metadata": {},
     "output_type": "execute_result"
    }
   ],
   "source": [
    "rank"
   ]
  },
  {
   "cell_type": "code",
   "execution_count": 17,
   "metadata": {},
   "outputs": [
    {
     "name": "stderr",
     "output_type": "stream",
     "text": [
      "/anaconda2/envs/tf-2-n/lib/python3.7/site-packages/sktensor/tucker.py:113: RuntimeWarning: invalid value encountered in sqrt\n",
      "  normresidual = np.sqrt(normX ** 2 - norm(core) ** 2)\n"
     ]
    }
   ],
   "source": [
    "from sktensor import dtensor, tucker\n",
    "\n",
    "\n",
    "pytorch_weight  = to_pytorch_kernel_order(conv_weight)\n",
    "pytorch_weight = pytorch_weight.reshape((*pytorch_weight.shape[:2], -1))\n",
    "\n",
    "core, (U_cout, U_cin, U_dd) = tucker.hooi(dtensor(pytorch_weight),\n",
    "                                            [rank[0],\n",
    "                                             rank[1],\n",
    "                                             pytorch_weight.shape[-1]], init='nvecs')\n",
    "core = core.dot(U_dd.T)\n",
    "\n",
    "w_cin = np.array(U_cin)\n",
    "w_core = np.array(core)\n",
    "w_cout = np.array(U_cout)\n",
    "\n",
    "w_cin = np.reshape(w_cin.T, [rank[1], cin, 1, 1])\n",
    "w_core = np.reshape(w_core, [rank[0], rank[1], *kernel_size])\n",
    "w_cout = np.reshape(w_cout, [cout, rank[0], 1, 1])"
   ]
  },
  {
   "cell_type": "code",
   "execution_count": 18,
   "metadata": {},
   "outputs": [],
   "source": [
    "torch_model = nn.Sequential(\n",
    "                            nn.Conv2d(in_channels=cin,\n",
    "                                      out_channels=rank[1],\n",
    "                                      kernel_size=(1, 1),\n",
    "                                      bias=False),\n",
    "                            nn.Conv2d(in_channels=rank[1],\n",
    "                                      out_channels=rank[0],\n",
    "                                      kernel_size=kernel_size,\n",
    "                                      bias=False),\n",
    "                            nn.Conv2d(in_channels=rank[0],\n",
    "                                      out_channels=cout,\n",
    "                                      kernel_size=(1, 1)),\n",
    "                            nn.ReLU(),\n",
    "                            nn.Flatten(),\n",
    "                            nn.Linear(39200, classes),\n",
    "                           )"
   ]
  },
  {
   "cell_type": "code",
   "execution_count": 19,
   "metadata": {},
   "outputs": [],
   "source": [
    "torch_model[0].weight.data = torch.from_numpy(w_cin).float()\n",
    "torch_model[1].weight.data = torch.from_numpy(w_core).float()\n",
    "torch_model[2].weight.data = torch.from_numpy(w_cout).float()\n",
    "torch_model[2].bias.data = torch.from_numpy(conv_bias).float()\n",
    "torch_model[-1].weight.data = torch.from_numpy(dense_weight.T).float()\n",
    "torch_model[-1].bias.data = torch.from_numpy(dense_bias).float()"
   ]
  },
  {
   "cell_type": "code",
   "execution_count": 20,
   "metadata": {},
   "outputs": [],
   "source": [
    "original_answer = torch_model_original[0](torch_test).data.numpy()\n",
    "\n",
    "x = torch_test\n",
    "for idx in range(3):\n",
    "    x = torch_model[idx](x)\n",
    "x = x.data.numpy()"
   ]
  },
  {
   "cell_type": "code",
   "execution_count": 21,
   "metadata": {},
   "outputs": [
    {
     "data": {
      "text/plain": [
       "array([[[[ 9.55597535e-02,  7.75422752e-02,  9.70978588e-02, ...,\n",
       "           1.15480199e-01,  1.03676781e-01,  9.78944376e-02],\n",
       "         [ 1.01742126e-01,  8.16808119e-02,  8.72753486e-02, ...,\n",
       "           1.18090652e-01,  1.15569957e-01,  1.10028423e-01],\n",
       "         [ 1.30175695e-01,  1.33136615e-01,  1.35543227e-01, ...,\n",
       "           7.44858980e-02,  1.09875515e-01,  1.14890344e-01],\n",
       "         ...,\n",
       "         [ 8.27720687e-02,  2.49706004e-02,  2.01124381e-02, ...,\n",
       "           7.97593147e-02,  6.23693280e-02, -4.04498167e-02],\n",
       "         [ 5.13380989e-02,  8.21702182e-03, -1.05754733e-02, ...,\n",
       "           1.38901860e-01,  1.03520878e-01,  6.94601331e-03],\n",
       "         [ 1.50137339e-02,  1.72747131e-02, -1.10093167e-03, ...,\n",
       "           9.42592621e-02, -1.07597392e-02,  2.07469258e-02]],\n",
       "\n",
       "        [[ 7.14781359e-02,  6.78543821e-02,  4.59812731e-02, ...,\n",
       "           4.28043492e-02,  2.85563171e-02,  2.32939869e-02],\n",
       "         [ 7.49026090e-02,  7.35468939e-02,  4.43972386e-02, ...,\n",
       "           6.26742914e-02,  5.49873970e-02,  4.05002721e-02],\n",
       "         [ 1.09918140e-01,  1.02438010e-01,  7.18242750e-02, ...,\n",
       "           8.69222358e-02,  5.37885129e-02,  4.82437573e-02],\n",
       "         ...,\n",
       "         [ 3.54666531e-01,  3.64314288e-01,  3.37553144e-01, ...,\n",
       "           2.40689680e-01,  1.54814363e-01,  3.79080802e-01],\n",
       "         [ 3.36685210e-01,  3.68610859e-01,  3.39049011e-01, ...,\n",
       "           3.09497416e-01,  3.03830266e-01,  3.20381403e-01],\n",
       "         [ 3.61992359e-01,  3.63341480e-01,  3.18165451e-01, ...,\n",
       "           2.47116148e-01,  3.42373848e-01,  2.93660283e-01]],\n",
       "\n",
       "        [[ 2.71600097e-01,  2.80080825e-01,  2.18026042e-01, ...,\n",
       "           2.08941355e-01,  2.12613255e-01,  2.05021605e-01],\n",
       "         [ 2.63191044e-01,  2.95742691e-01,  2.34965011e-01, ...,\n",
       "           1.95527941e-01,  2.01523125e-01,  1.99234068e-01],\n",
       "         [ 2.35841945e-01,  2.66942263e-01,  2.28201821e-01, ...,\n",
       "           1.72117770e-01,  1.78063050e-01,  1.87926561e-01],\n",
       "         ...,\n",
       "         [-1.34188741e-01, -1.03029594e-01, -1.12209551e-01, ...,\n",
       "          -1.31490588e-01, -2.20560640e-01, -5.09005925e-03],\n",
       "         [-1.45536005e-01, -7.01064765e-02, -1.07248336e-01, ...,\n",
       "          -2.02670693e-01, -2.07308903e-01, -5.85234426e-02],\n",
       "         [-1.69699326e-01, -6.47961125e-02, -8.58543813e-02, ...,\n",
       "          -1.97521538e-01, -1.22977406e-01, -1.53239623e-01]]],\n",
       "\n",
       "\n",
       "       [[[ 1.08914025e-01,  1.03973061e-01,  1.02871589e-01, ...,\n",
       "           1.00679621e-01,  1.01359867e-01,  1.05326742e-01],\n",
       "         [ 1.04900233e-01,  9.95754004e-02,  9.95754004e-02, ...,\n",
       "           9.48357359e-02,  9.55160186e-02,  9.83010903e-02],\n",
       "         [ 1.02950364e-01,  9.77622196e-02,  1.01355091e-01, ...,\n",
       "           9.98328701e-02,  1.02326833e-01,  1.02083750e-01],\n",
       "         ...,\n",
       "         [ 2.04317495e-01,  8.14723074e-02,  7.96684325e-02, ...,\n",
       "           2.32761651e-02,  1.68141238e-02,  3.60355563e-02],\n",
       "         [ 1.24500148e-01,  7.19284937e-02,  1.00127488e-01, ...,\n",
       "           2.89071836e-02,  2.44721733e-02,  5.70232868e-02],\n",
       "         [ 1.15390413e-01,  1.07147701e-01,  1.25601321e-01, ...,\n",
       "           2.00448595e-02,  1.33344550e-02,  2.62350142e-02]],\n",
       "\n",
       "        [[ 6.72990143e-01,  6.63164198e-01,  6.64792597e-01, ...,\n",
       "           6.69764459e-01,  6.66144550e-01,  6.62964821e-01],\n",
       "         [ 6.67622805e-01,  6.62245870e-01,  6.62245870e-01, ...,\n",
       "           6.63649142e-01,  6.60029113e-01,  6.60332680e-01],\n",
       "         [ 6.70382857e-01,  6.64910138e-01,  6.65091336e-01, ...,\n",
       "           6.68110132e-01,  6.65300250e-01,  6.67467833e-01],\n",
       "         ...,\n",
       "         [-5.29565029e-02,  4.09057923e-03, -7.36562386e-02, ...,\n",
       "           4.65362161e-01,  4.98620301e-01,  5.34653127e-01],\n",
       "         [ 1.74010526e-02,  5.71523942e-02, -2.30612885e-02, ...,\n",
       "           4.93445933e-01,  5.22303998e-01,  5.19256294e-01],\n",
       "         [ 1.26871884e-01,  9.44940895e-02,  6.11748137e-02, ...,\n",
       "           4.67809677e-01,  5.00116944e-01,  5.09566128e-01]],\n",
       "\n",
       "        [[ 1.08927511e-01,  1.11158051e-01,  1.10551350e-01, ...,\n",
       "           1.15151711e-01,  1.11463808e-01,  1.06323853e-01],\n",
       "         [ 1.11543477e-01,  1.13162182e-01,  1.13162182e-01, ...,\n",
       "           1.17641278e-01,  1.13953456e-01,  1.10224403e-01],\n",
       "         [ 1.11714192e-01,  1.12037741e-01,  1.12043306e-01, ...,\n",
       "           1.16232410e-01,  1.12719454e-01,  1.11562945e-01],\n",
       "         ...,\n",
       "         [-1.59642339e-01, -7.71804043e-05,  3.81547287e-02, ...,\n",
       "           1.82419389e-01,  1.71984956e-01,  1.38695106e-01],\n",
       "         [-7.77309388e-02,  1.55123288e-03,  4.79571223e-02, ...,\n",
       "           1.70530587e-01,  1.62035301e-01,  1.28462613e-01],\n",
       "         [-1.80528648e-02,  3.23255099e-02,  5.09018674e-02, ...,\n",
       "           1.67639673e-01,  1.57297358e-01,  1.19102664e-01]]],\n",
       "\n",
       "\n",
       "       [[[ 1.22140110e-01,  1.40797958e-01,  6.88010768e-04, ...,\n",
       "           1.40198916e-01,  7.92894885e-02,  7.19800219e-02],\n",
       "         [ 1.06884539e-01,  1.16848595e-01, -1.25399157e-02, ...,\n",
       "           1.42346114e-01,  6.77325353e-02,  6.69609904e-02],\n",
       "         [ 1.19091973e-01,  1.38965040e-01, -1.01274089e-03, ...,\n",
       "           1.19055890e-01,  4.79238145e-02,  9.33514610e-02],\n",
       "         ...,\n",
       "         [ 1.87467020e-02,  1.25511913e-02, -1.05865544e-03, ...,\n",
       "           2.78553274e-02,  8.69841948e-02,  7.79744536e-02],\n",
       "         [ 1.41515872e-02,  2.47453731e-02,  1.50615154e-02, ...,\n",
       "           5.64131215e-02,  1.14596523e-01,  1.54021941e-03],\n",
       "         [ 4.13818844e-02,  4.22236919e-02,  5.14548905e-02, ...,\n",
       "           1.08203910e-01,  5.77784814e-02, -1.33604053e-02]],\n",
       "\n",
       "        [[ 5.38518250e-01,  5.22194564e-01,  7.07980990e-01, ...,\n",
       "           6.64184749e-01,  7.63500214e-01,  7.01339185e-01],\n",
       "         [ 5.09481251e-01,  5.09249687e-01,  7.07485735e-01, ...,\n",
       "           6.54679596e-01,  7.49285161e-01,  6.62389994e-01],\n",
       "         [ 5.04946649e-01,  4.84618992e-01,  6.94619417e-01, ...,\n",
       "           6.59410894e-01,  7.50711381e-01,  6.36917531e-01],\n",
       "         ...,\n",
       "         [ 4.56502736e-02,  5.94042167e-02,  5.87855093e-02, ...,\n",
       "           8.61515403e-02, -4.28029783e-02, -8.51826295e-02],\n",
       "         [ 4.00122926e-02,  6.44150674e-02,  6.61429912e-02, ...,\n",
       "           3.50320898e-03, -1.15566462e-01, -6.06372543e-02],\n",
       "         [ 7.22486451e-02,  9.80802849e-02,  9.68855247e-02, ...,\n",
       "          -9.15201083e-02, -1.00231998e-01, -1.87115162e-03]],\n",
       "\n",
       "        [[-8.69165733e-02, -5.98339289e-02,  1.91695765e-01, ...,\n",
       "           7.50312358e-02,  1.61338046e-01,  1.07039765e-01],\n",
       "         [-6.25859499e-02, -5.16789518e-02,  1.98440671e-01, ...,\n",
       "           6.68624938e-02,  1.90502837e-01,  1.06307812e-01],\n",
       "         [-5.06250337e-02, -4.31251451e-02,  2.08042756e-01, ...,\n",
       "           7.92856961e-02,  1.89017311e-01,  1.05486713e-01],\n",
       "         ...,\n",
       "         [ 9.98150208e-04,  2.23192498e-02,  3.81537452e-02, ...,\n",
       "           1.65007990e-02, -5.38976975e-02, -2.39201002e-02],\n",
       "         [ 3.49667179e-03,  2.56881081e-02,  3.23207639e-02, ...,\n",
       "          -2.64709182e-02, -7.56321922e-02, -1.32443348e-03],\n",
       "         [ 1.01279477e-02,  2.33232602e-02,  2.32640393e-02, ...,\n",
       "          -7.25170821e-02, -4.95192520e-02,  9.80958808e-03]]],\n",
       "\n",
       "\n",
       "       ...,\n",
       "\n",
       "\n",
       "       [[[ 4.27423753e-02,  4.06227782e-02,  4.53177989e-02, ...,\n",
       "           4.31815386e-02,  4.16683964e-02,  4.08798940e-02],\n",
       "         [ 4.27457355e-02,  4.39064428e-02,  4.39321510e-02, ...,\n",
       "           4.05421704e-02,  4.43884544e-02,  4.45610173e-02],\n",
       "         [ 4.74394448e-02,  5.03886119e-02,  4.97770421e-02, ...,\n",
       "           3.95352580e-02,  4.40255478e-02,  4.32665311e-02],\n",
       "         ...,\n",
       "         [ 5.03735319e-02,  5.36967404e-02,  5.30360341e-02, ...,\n",
       "           6.89939409e-02,  5.10908253e-02,  6.32050857e-02],\n",
       "         [ 5.04191071e-02,  5.25952913e-02,  5.34413196e-02, ...,\n",
       "           6.36345595e-02,  5.62644899e-02,  6.20568171e-02],\n",
       "         [ 4.42557223e-02,  4.64547127e-02,  5.03488965e-02, ...,\n",
       "           5.90499826e-02,  5.10504991e-02,  5.41854315e-02]],\n",
       "\n",
       "        [[-3.09553556e-02, -2.84107495e-02, -3.08669396e-02, ...,\n",
       "          -5.01229875e-02, -4.39600572e-02, -4.59199995e-02],\n",
       "         [-3.02620698e-02, -2.64946073e-02, -3.28770094e-02, ...,\n",
       "          -4.28724550e-02, -3.35669890e-02, -3.11324615e-02],\n",
       "         [-2.76847668e-02, -2.72277296e-02, -2.56077051e-02, ...,\n",
       "          -3.91428396e-02, -3.33830304e-02, -2.33800001e-02],\n",
       "         ...,\n",
       "         [-2.60384567e-02, -2.74825860e-02, -2.91689243e-02, ...,\n",
       "           9.79962945e-02,  1.20758578e-01,  6.64290935e-02],\n",
       "         [-2.81818677e-02, -2.58542057e-02, -2.71407142e-02, ...,\n",
       "           1.02991551e-01,  1.15940362e-01,  7.32258186e-02],\n",
       "         [-3.19810435e-02, -2.96040513e-02, -3.01882252e-02, ...,\n",
       "           1.00056730e-01,  1.02720343e-01,  7.99820349e-02]],\n",
       "\n",
       "        [[ 4.03192937e-02,  4.94291633e-02,  4.65389416e-02, ...,\n",
       "           2.75977012e-02,  3.49568464e-02,  4.25603837e-02],\n",
       "         [ 4.58496436e-02,  4.74019051e-02,  4.72491607e-02, ...,\n",
       "           3.15186568e-02,  3.29248421e-02,  3.87146287e-02],\n",
       "         [ 4.55352142e-02,  4.66194153e-02,  4.38920148e-02, ...,\n",
       "           3.37128229e-02,  3.70990671e-02,  3.95694673e-02],\n",
       "         ...,\n",
       "         [ 6.51007816e-02,  6.44836202e-02,  6.22825436e-02, ...,\n",
       "          -1.70110632e-02, -3.74634867e-03, -4.73508909e-02],\n",
       "         [ 6.45709410e-02,  6.38769343e-02,  6.14906847e-02, ...,\n",
       "          -1.59674808e-02, -3.16808815e-03, -5.14955223e-02],\n",
       "         [ 6.60572425e-02,  6.37501031e-02,  6.25939891e-02, ...,\n",
       "          -1.85474046e-02, -2.74566421e-03, -4.00692709e-02]]],\n",
       "\n",
       "\n",
       "       [[[-9.70965531e-03, -1.30880177e-01, -1.43915981e-01, ...,\n",
       "           1.11085316e-02,  1.83784634e-01,  3.54842663e-01],\n",
       "         [ 3.38488370e-02, -8.10382366e-02, -1.09793253e-01, ...,\n",
       "          -6.64699897e-02,  1.14685088e-01,  1.88768312e-01],\n",
       "         [ 6.24091998e-02,  2.19122618e-02, -1.17359094e-01, ...,\n",
       "          -3.77371944e-02,  1.44932780e-03,  7.26049170e-02],\n",
       "         ...,\n",
       "         [ 2.71323118e-02,  3.27923335e-02,  3.10620721e-02, ...,\n",
       "           8.92726518e-03,  3.70417498e-02,  5.46247065e-02],\n",
       "         [ 1.03164725e-02,  5.30187367e-03,  1.90574694e-02, ...,\n",
       "           1.13779726e-02,  2.46975087e-02,  4.99367490e-02],\n",
       "         [-8.25288240e-03, -2.56986450e-02, -8.19149241e-03, ...,\n",
       "           3.69920372e-03,  5.90251526e-03,  9.80075821e-03]],\n",
       "\n",
       "        [[ 7.07451673e-03,  2.58552194e-01,  5.30954540e-01, ...,\n",
       "           6.41248107e-01,  6.92552507e-01,  3.11832130e-01],\n",
       "         [-3.30866091e-02,  2.16644213e-01,  4.10292000e-01, ...,\n",
       "           5.76283216e-01,  5.22624791e-01,  2.91611314e-01],\n",
       "         [-8.82412568e-02, -9.67770144e-02, -9.06751156e-02, ...,\n",
       "           3.86735708e-01,  3.84869903e-01,  3.28466892e-01],\n",
       "         ...,\n",
       "         [ 1.40538961e-01,  1.40044123e-01,  1.47220418e-01, ...,\n",
       "           1.43126026e-01,  1.47057205e-01,  1.24083914e-01],\n",
       "         [ 1.46233127e-01,  1.61184296e-01,  1.80703253e-01, ...,\n",
       "           1.47293150e-01,  1.32322162e-01,  1.07331619e-01],\n",
       "         [ 1.25441998e-01,  1.59978017e-01,  1.68671459e-01, ...,\n",
       "           1.10752702e-01,  1.10227309e-01,  1.08736277e-01]],\n",
       "\n",
       "        [[ 8.95665437e-02,  2.00914264e-01,  2.11091056e-01, ...,\n",
       "          -3.81488837e-02,  9.84997228e-02, -1.62436768e-01],\n",
       "         [ 8.90698135e-02,  2.64219075e-01,  2.74627149e-01, ...,\n",
       "           3.36264893e-02,  7.23271817e-02, -1.20959267e-01],\n",
       "         [ 5.31248823e-02,  2.18340456e-01,  3.36833537e-01, ...,\n",
       "           1.16276726e-01,  4.23135646e-02, -5.91409169e-02],\n",
       "         ...,\n",
       "         [ 1.28728002e-01,  1.19012475e-01,  1.28012270e-01, ...,\n",
       "           1.18941128e-01,  1.13593876e-01,  1.03001960e-01],\n",
       "         [ 1.37141943e-01,  1.23017199e-01,  1.28526077e-01, ...,\n",
       "           1.30528212e-01,  1.11086510e-01,  9.46658030e-02],\n",
       "         [ 1.43620938e-01,  1.39764950e-01,  1.30397230e-01, ...,\n",
       "           1.34957835e-01,  1.11440346e-01,  9.10524800e-02]]],\n",
       "\n",
       "\n",
       "       [[[ 1.70501992e-02,  3.63778695e-02,  3.98324616e-02, ...,\n",
       "          -2.96263862e-02, -5.51142469e-02, -1.81496292e-01],\n",
       "         [ 2.34186687e-02, -1.42257893e-04,  7.31379315e-02, ...,\n",
       "          -1.45067185e-01, -8.26115627e-03, -9.07124579e-03],\n",
       "         [-2.79847085e-02, -4.75777462e-02,  4.59458232e-02, ...,\n",
       "          -3.21423635e-02,  2.75446940e-02,  1.56518966e-02],\n",
       "         ...,\n",
       "         [ 5.22128008e-02,  6.71772882e-02,  5.85148819e-02, ...,\n",
       "           2.95050312e-02,  1.34970650e-01,  1.70768782e-01],\n",
       "         [ 3.70581411e-02,  4.60308529e-02,  6.55694902e-02, ...,\n",
       "           5.80644123e-02,  1.74845755e-01,  2.03647137e-01],\n",
       "         [ 3.01728435e-02,  4.58309948e-02,  7.59722888e-02, ...,\n",
       "           7.81633258e-02,  1.65149331e-01,  2.05789372e-01]],\n",
       "\n",
       "        [[ 3.02153453e-02,  1.80498466e-01,  8.54817107e-02, ...,\n",
       "           1.45539358e-01,  7.57383881e-03,  8.75215754e-02],\n",
       "         [ 4.69334498e-02,  2.31323048e-01,  4.84252349e-02, ...,\n",
       "           2.12805584e-01,  1.04427367e-01,  8.92130136e-02],\n",
       "         [ 1.60114281e-02,  1.83682263e-01, -2.38970388e-03, ...,\n",
       "           1.36636779e-01,  1.14627011e-01,  1.25593200e-01],\n",
       "         ...,\n",
       "         [ 2.12760195e-01,  2.09286511e-01,  1.97923601e-01, ...,\n",
       "           1.81937724e-01, -4.02426720e-02, -2.53435574e-03],\n",
       "         [ 2.00489998e-01,  2.14300707e-01,  2.08829343e-01, ...,\n",
       "           2.07111031e-01, -2.62974724e-02, -1.34144782e-03],\n",
       "         [ 2.07151040e-01,  2.14847654e-01,  2.04664081e-01, ...,\n",
       "           2.28756130e-01, -7.97198899e-03, -2.13729497e-02]],\n",
       "\n",
       "        [[ 1.94906816e-02,  6.29322603e-02, -8.93294513e-02, ...,\n",
       "          -7.08663315e-02,  5.26034236e-02,  3.14156920e-01],\n",
       "         [-1.82580799e-02,  9.22580287e-02, -8.62413719e-02, ...,\n",
       "          -5.47255650e-02, -3.66381602e-03,  1.61496937e-01],\n",
       "         [ 3.07907816e-02,  9.12268460e-02, -4.47638817e-02, ...,\n",
       "           1.10991737e-02,  7.49874860e-03,  5.03577329e-02],\n",
       "         ...,\n",
       "         [ 1.13802843e-01,  1.33674175e-01,  1.26513436e-01, ...,\n",
       "           1.27531424e-01, -1.13227196e-01, -9.67910737e-02],\n",
       "         [ 1.17422827e-01,  1.12084404e-01,  1.21296801e-01, ...,\n",
       "           1.30450130e-01, -9.65520665e-02, -1.02298796e-01],\n",
       "         [ 1.36799961e-01,  1.05163999e-01,  1.04745597e-01, ...,\n",
       "           1.10787578e-01, -1.01596646e-01, -1.09154344e-01]]]],\n",
       "      dtype=float32)"
      ]
     },
     "execution_count": 21,
     "metadata": {},
     "output_type": "execute_result"
    }
   ],
   "source": [
    "x"
   ]
  },
  {
   "cell_type": "code",
   "execution_count": 22,
   "metadata": {},
   "outputs": [
    {
     "data": {
      "text/plain": [
       "array([[[[ 9.55598131e-02,  7.75422677e-02,  9.70979333e-02, ...,\n",
       "           1.15480222e-01,  1.03676908e-01,  9.78944898e-02],\n",
       "         [ 1.01742215e-01,  8.16808417e-02,  8.72753933e-02, ...,\n",
       "           1.18090764e-01,  1.15569994e-01,  1.10028461e-01],\n",
       "         [ 1.30175725e-01,  1.33136645e-01,  1.35543332e-01, ...,\n",
       "           7.44859055e-02,  1.09875560e-01,  1.14890441e-01],\n",
       "         ...,\n",
       "         [ 8.27721730e-02,  2.49706618e-02,  2.01124828e-02, ...,\n",
       "           7.97593296e-02,  6.23693056e-02, -4.04497720e-02],\n",
       "         [ 5.13381697e-02,  8.21708143e-03, -1.05754323e-02, ...,\n",
       "           1.38901904e-01,  1.03520945e-01,  6.94598164e-03],\n",
       "         [ 1.50137851e-02,  1.72747970e-02, -1.10092119e-03, ...,\n",
       "           9.42592844e-02, -1.07597280e-02,  2.07469594e-02]],\n",
       "\n",
       "        [[ 7.14781359e-02,  6.78543299e-02,  4.59812395e-02, ...,\n",
       "           4.28043343e-02,  2.85563599e-02,  2.32939478e-02],\n",
       "         [ 7.49025345e-02,  7.35469237e-02,  4.43972424e-02, ...,\n",
       "           6.26743510e-02,  5.49872927e-02,  4.05003205e-02],\n",
       "         [ 1.09918073e-01,  1.02437891e-01,  7.18243122e-02, ...,\n",
       "           8.69222507e-02,  5.37885875e-02,  4.82437536e-02],\n",
       "         ...,\n",
       "         [ 3.54666412e-01,  3.64314198e-01,  3.37553054e-01, ...,\n",
       "           2.40689442e-01,  1.54814109e-01,  3.79080743e-01],\n",
       "         [ 3.36685032e-01,  3.68610770e-01,  3.39048922e-01, ...,\n",
       "           3.09497237e-01,  3.03830147e-01,  3.20381284e-01],\n",
       "         [ 3.61992210e-01,  3.63341391e-01,  3.18165332e-01, ...,\n",
       "           2.47115985e-01,  3.42373729e-01,  2.93660223e-01]],\n",
       "\n",
       "        [[ 2.71599978e-01,  2.80080765e-01,  2.18025967e-01, ...,\n",
       "           2.08941326e-01,  2.12613195e-01,  2.05021530e-01],\n",
       "         [ 2.63191044e-01,  2.95742631e-01,  2.34964982e-01, ...,\n",
       "           1.95527926e-01,  2.01523110e-01,  1.99234039e-01],\n",
       "         [ 2.35841915e-01,  2.66942233e-01,  2.28201807e-01, ...,\n",
       "           1.72117755e-01,  1.78063035e-01,  1.87926516e-01],\n",
       "         ...,\n",
       "         [-1.34188786e-01, -1.03029557e-01, -1.12209529e-01, ...,\n",
       "          -1.31490603e-01, -2.20560774e-01, -5.09014120e-03],\n",
       "         [-1.45535991e-01, -7.01064691e-02, -1.07248351e-01, ...,\n",
       "          -2.02670753e-01, -2.07308903e-01, -5.85234277e-02],\n",
       "         [-1.69699326e-01, -6.47961795e-02, -8.58544856e-02, ...,\n",
       "          -1.97521597e-01, -1.22977436e-01, -1.53239682e-01]]],\n",
       "\n",
       "\n",
       "       [[[ 1.08914241e-01,  1.03973225e-01,  1.02871791e-01, ...,\n",
       "           1.00679822e-01,  1.01360209e-01,  1.05327055e-01],\n",
       "         [ 1.04900427e-01,  9.95754972e-02,  9.95754972e-02, ...,\n",
       "           9.48358849e-02,  9.55162719e-02,  9.83012691e-02],\n",
       "         [ 1.02950610e-01,  9.77624729e-02,  1.01355352e-01, ...,\n",
       "           9.98329595e-02,  1.02327026e-01,  1.02083959e-01],\n",
       "         ...,\n",
       "         [ 2.04317600e-01,  8.14722925e-02,  7.96684548e-02, ...,\n",
       "           2.32764091e-02,  1.68142393e-02,  3.60356420e-02],\n",
       "         [ 1.24500133e-01,  7.19284713e-02,  1.00127511e-01, ...,\n",
       "           2.89072674e-02,  2.44722366e-02,  5.70234433e-02],\n",
       "         [ 1.15390480e-01,  1.07147761e-01,  1.25601366e-01, ...,\n",
       "           2.00449172e-02,  1.33346161e-02,  2.62351409e-02]],\n",
       "\n",
       "        [[ 6.72989964e-01,  6.63164198e-01,  6.64792597e-01, ...,\n",
       "           6.69764459e-01,  6.66144371e-01,  6.62964821e-01],\n",
       "         [ 6.67622626e-01,  6.62245750e-01,  6.62245750e-01, ...,\n",
       "           6.63648903e-01,  6.60028994e-01,  6.60332620e-01],\n",
       "         [ 6.70382679e-01,  6.64910138e-01,  6.65091276e-01, ...,\n",
       "           6.68110073e-01,  6.65300250e-01,  6.67467833e-01],\n",
       "         ...,\n",
       "         [-5.29565960e-02,  4.09057410e-03, -7.36562237e-02, ...,\n",
       "           4.65362221e-01,  4.98620182e-01,  5.34652889e-01],\n",
       "         [ 1.74009744e-02,  5.71524240e-02, -2.30612773e-02, ...,\n",
       "           4.93445992e-01,  5.22303939e-01,  5.19256353e-01],\n",
       "         [ 1.26871884e-01,  9.44941267e-02,  6.11748472e-02, ...,\n",
       "           4.67809647e-01,  5.00116825e-01,  5.09565949e-01]],\n",
       "\n",
       "        [[ 1.08927414e-01,  1.11157954e-01,  1.10551238e-01, ...,\n",
       "           1.15151629e-01,  1.11463681e-01,  1.06323719e-01],\n",
       "         [ 1.11543462e-01,  1.13162130e-01,  1.13162130e-01, ...,\n",
       "           1.17641211e-01,  1.13953277e-01,  1.10224277e-01],\n",
       "         [ 1.11714125e-01,  1.12037584e-01,  1.12043127e-01, ...,\n",
       "           1.16232298e-01,  1.12719364e-01,  1.11562841e-01],\n",
       "         ...,\n",
       "         [-1.59642383e-01, -7.71995838e-05,  3.81547250e-02, ...,\n",
       "           1.82419285e-01,  1.71984851e-01,  1.38695061e-01],\n",
       "         [-7.77309984e-02,  1.55123603e-03,  4.79571335e-02, ...,\n",
       "           1.70530587e-01,  1.62035272e-01,  1.28462553e-01],\n",
       "         [-1.80528704e-02,  3.23255323e-02,  5.09018861e-02, ...,\n",
       "           1.67639598e-01,  1.57297283e-01,  1.19102605e-01]]],\n",
       "\n",
       "\n",
       "       [[[ 1.22140199e-01,  1.40798211e-01,  6.88060070e-04, ...,\n",
       "           1.40199035e-01,  7.92895108e-02,  7.19801858e-02],\n",
       "         [ 1.06884651e-01,  1.16848759e-01, -1.25398543e-02, ...,\n",
       "           1.42346263e-01,  6.77326620e-02,  6.69610798e-02],\n",
       "         [ 1.19092174e-01,  1.38965175e-01, -1.01278198e-03, ...,\n",
       "           1.19056091e-01,  4.79239263e-02,  9.33515653e-02],\n",
       "         ...,\n",
       "         [ 1.87467262e-02,  1.25512192e-02, -1.05863600e-03, ...,\n",
       "           2.78553199e-02,  8.69842395e-02,  7.79744759e-02],\n",
       "         [ 1.41516114e-02,  2.47453917e-02,  1.50615331e-02, ...,\n",
       "           5.64131401e-02,  1.14596583e-01,  1.54018833e-03],\n",
       "         [ 4.13818844e-02,  4.22236994e-02,  5.14549166e-02, ...,\n",
       "           1.08203948e-01,  5.77784926e-02, -1.33604407e-02]],\n",
       "\n",
       "        [[ 5.38518071e-01,  5.22194445e-01,  7.07981050e-01, ...,\n",
       "           6.64184511e-01,  7.63500273e-01,  7.01339006e-01],\n",
       "         [ 5.09481072e-01,  5.09249389e-01,  7.07485735e-01, ...,\n",
       "           6.54679418e-01,  7.49285042e-01,  6.62389994e-01],\n",
       "         [ 5.04946291e-01,  4.84618902e-01,  6.94619536e-01, ...,\n",
       "           6.59410775e-01,  7.50711322e-01,  6.36917233e-01],\n",
       "         ...,\n",
       "         [ 4.56502177e-02,  5.94041571e-02,  5.87854795e-02, ...,\n",
       "           8.61515105e-02, -4.28030789e-02, -8.51827264e-02],\n",
       "         [ 4.00122441e-02,  6.44150153e-02,  6.61429688e-02, ...,\n",
       "           3.50312120e-03, -1.15566559e-01, -6.06373176e-02],\n",
       "         [ 7.22486153e-02,  9.80802923e-02,  9.68855023e-02, ...,\n",
       "          -9.15201902e-02, -1.00232065e-01, -1.87115604e-03]],\n",
       "\n",
       "        [[-8.69167224e-02, -5.98339699e-02,  1.91695750e-01, ...,\n",
       "           7.50311911e-02,  1.61338016e-01,  1.07039779e-01],\n",
       "         [-6.25859722e-02, -5.16790822e-02,  1.98440656e-01, ...,\n",
       "           6.68623149e-02,  1.90502733e-01,  1.06307782e-01],\n",
       "         [-5.06251417e-02, -4.31253053e-02,  2.08042726e-01, ...,\n",
       "           7.92856440e-02,  1.89017236e-01,  1.05486676e-01],\n",
       "         ...,\n",
       "         [ 9.98139847e-04,  2.23192219e-02,  3.81537192e-02, ...,\n",
       "           1.65008157e-02, -5.38977161e-02, -2.39201300e-02],\n",
       "         [ 3.49666341e-03,  2.56880987e-02,  3.23207490e-02, ...,\n",
       "          -2.64709257e-02, -7.56322294e-02, -1.32447400e-03],\n",
       "         [ 1.01279411e-02,  2.33232547e-02,  2.32640151e-02, ...,\n",
       "          -7.25171119e-02, -4.95192818e-02,  9.80957970e-03]]],\n",
       "\n",
       "\n",
       "       ...,\n",
       "\n",
       "\n",
       "       [[[ 4.27423827e-02,  4.06228118e-02,  4.53178175e-02, ...,\n",
       "           4.31815423e-02,  4.16683964e-02,  4.08799089e-02],\n",
       "         [ 4.27457467e-02,  4.39064540e-02,  4.39321660e-02, ...,\n",
       "           4.05421741e-02,  4.43884581e-02,  4.45610173e-02],\n",
       "         [ 4.74394597e-02,  5.03886268e-02,  4.97770570e-02, ...,\n",
       "           3.95352580e-02,  4.40255478e-02,  4.32665348e-02],\n",
       "         ...,\n",
       "         [ 5.03735505e-02,  5.36967553e-02,  5.30360602e-02, ...,\n",
       "           6.89939782e-02,  5.10908403e-02,  6.32050857e-02],\n",
       "         [ 5.04191183e-02,  5.25953136e-02,  5.34413420e-02, ...,\n",
       "           6.36345893e-02,  5.62644936e-02,  6.20568134e-02],\n",
       "         [ 4.42557447e-02,  4.64547239e-02,  5.03489114e-02, ...,\n",
       "           5.90500161e-02,  5.10505103e-02,  5.41854352e-02]],\n",
       "\n",
       "        [[-3.09553482e-02, -2.84107290e-02, -3.08669321e-02, ...,\n",
       "          -5.01229949e-02, -4.39600535e-02, -4.59200144e-02],\n",
       "         [-3.02620716e-02, -2.64946148e-02, -3.28770131e-02, ...,\n",
       "          -4.28724736e-02, -3.35669890e-02, -3.11324596e-02],\n",
       "         [-2.76847705e-02, -2.72277221e-02, -2.56076902e-02, ...,\n",
       "          -3.91428545e-02, -3.33830342e-02, -2.33800039e-02],\n",
       "         ...,\n",
       "         [-2.60384213e-02, -2.74825823e-02, -2.91689262e-02, ...,\n",
       "           9.79962572e-02,  1.20758556e-01,  6.64290115e-02],\n",
       "         [-2.81818490e-02, -2.58541908e-02, -2.71407217e-02, ...,\n",
       "           1.02991521e-01,  1.15940295e-01,  7.32257515e-02],\n",
       "         [-3.19810212e-02, -2.96040475e-02, -3.01882178e-02, ...,\n",
       "           1.00056686e-01,  1.02720313e-01,  7.99819976e-02]],\n",
       "\n",
       "        [[ 4.03192975e-02,  4.94291596e-02,  4.65389416e-02, ...,\n",
       "           2.75976956e-02,  3.49568427e-02,  4.25603725e-02],\n",
       "         [ 4.58496399e-02,  4.74019013e-02,  4.72491495e-02, ...,\n",
       "           3.15186568e-02,  3.29248421e-02,  3.87146212e-02],\n",
       "         [ 4.55352180e-02,  4.66194265e-02,  4.38920148e-02, ...,\n",
       "           3.37128229e-02,  3.70990597e-02,  3.95694673e-02],\n",
       "         ...,\n",
       "         [ 6.51007742e-02,  6.44836202e-02,  6.22825250e-02, ...,\n",
       "          -1.70110650e-02, -3.74635844e-03, -4.73508909e-02],\n",
       "         [ 6.45709336e-02,  6.38769194e-02,  6.14906624e-02, ...,\n",
       "          -1.59674902e-02, -3.16811097e-03, -5.14955334e-02],\n",
       "         [ 6.60572350e-02,  6.37500882e-02,  6.25939742e-02, ...,\n",
       "          -1.85474306e-02, -2.74568168e-03, -4.00692783e-02]]],\n",
       "\n",
       "\n",
       "       [[[-9.70965810e-03, -1.30880207e-01, -1.43915996e-01, ...,\n",
       "           1.11085791e-02,  1.83784738e-01,  3.54842722e-01],\n",
       "         [ 3.38488482e-02, -8.10382068e-02, -1.09793209e-01, ...,\n",
       "          -6.64699525e-02,  1.14685215e-01,  1.88768417e-01],\n",
       "         [ 6.24092147e-02,  2.19122674e-02, -1.17359079e-01, ...,\n",
       "          -3.77371348e-02,  1.44944608e-03,  7.26050436e-02],\n",
       "         ...,\n",
       "         [ 2.71323677e-02,  3.27924155e-02,  3.10622025e-02, ...,\n",
       "           8.92731640e-03,  3.70418318e-02,  5.46247698e-02],\n",
       "         [ 1.03165461e-02,  5.30199008e-03,  1.90575123e-02, ...,\n",
       "           1.13780769e-02,  2.46975385e-02,  4.99367751e-02],\n",
       "         [-8.25277809e-03, -2.56985631e-02, -8.19141511e-03, ...,\n",
       "           3.69921722e-03,  5.90264751e-03,  9.80082154e-03]],\n",
       "\n",
       "        [[ 7.07455864e-03,  2.58552372e-01,  5.30954838e-01, ...,\n",
       "           6.41248167e-01,  6.92552507e-01,  3.11831981e-01],\n",
       "         [-3.30865681e-02,  2.16644362e-01,  4.10292238e-01, ...,\n",
       "           5.76283276e-01,  5.22624850e-01,  2.91611105e-01],\n",
       "         [-8.82412717e-02, -9.67770517e-02, -9.06751603e-02, ...,\n",
       "           3.86735648e-01,  3.84869814e-01,  3.28466684e-01],\n",
       "         ...,\n",
       "         [ 1.40538990e-01,  1.40044138e-01,  1.47220358e-01, ...,\n",
       "           1.43126011e-01,  1.47057205e-01,  1.24083824e-01],\n",
       "         [ 1.46233037e-01,  1.61184296e-01,  1.80703193e-01, ...,\n",
       "           1.47293106e-01,  1.32322073e-01,  1.07331581e-01],\n",
       "         [ 1.25441894e-01,  1.59978032e-01,  1.68671533e-01, ...,\n",
       "           1.10752657e-01,  1.10227264e-01,  1.08736180e-01]],\n",
       "\n",
       "        [[ 8.95665288e-02,  2.00914279e-01,  2.11091161e-01, ...,\n",
       "          -3.81488539e-02,  9.84997824e-02, -1.62436724e-01],\n",
       "         [ 8.90697986e-02,  2.64219046e-01,  2.74627239e-01, ...,\n",
       "           3.36265676e-02,  7.23271444e-02, -1.20959193e-01],\n",
       "         [ 5.31248748e-02,  2.18340382e-01,  3.36833477e-01, ...,\n",
       "           1.16276659e-01,  4.23135199e-02, -5.91409765e-02],\n",
       "         ...,\n",
       "         [ 1.28727973e-01,  1.19012415e-01,  1.28012195e-01, ...,\n",
       "           1.18941076e-01,  1.13593861e-01,  1.03001952e-01],\n",
       "         [ 1.37141854e-01,  1.23017155e-01,  1.28525987e-01, ...,\n",
       "           1.30528182e-01,  1.11086480e-01,  9.46657807e-02],\n",
       "         [ 1.43620878e-01,  1.39764935e-01,  1.30397171e-01, ...,\n",
       "           1.34957835e-01,  1.11440271e-01,  9.10524204e-02]]],\n",
       "\n",
       "\n",
       "       [[[ 1.70502178e-02,  3.63779701e-02,  3.98324467e-02, ...,\n",
       "          -2.96264254e-02, -5.51142022e-02, -1.81496307e-01],\n",
       "         [ 2.34187394e-02, -1.42265519e-04,  7.31379613e-02, ...,\n",
       "          -1.45067260e-01, -8.26116186e-03, -9.07125417e-03],\n",
       "         [-2.79846732e-02, -4.75777425e-02,  4.59458679e-02, ...,\n",
       "          -3.21423970e-02,  2.75446903e-02,  1.56519171e-02],\n",
       "         ...,\n",
       "         [ 5.22128604e-02,  6.71774074e-02,  5.85149117e-02, ...,\n",
       "           2.95051187e-02,  1.34970725e-01,  1.70768782e-01],\n",
       "         [ 3.70582044e-02,  4.60309871e-02,  6.55695945e-02, ...,\n",
       "           5.80644533e-02,  1.74845815e-01,  2.03647196e-01],\n",
       "         [ 3.01729161e-02,  4.58310433e-02,  7.59723261e-02, ...,\n",
       "           7.81634003e-02,  1.65149450e-01,  2.05789447e-01]],\n",
       "\n",
       "        [[ 3.02152429e-02,  1.80498362e-01,  8.54816362e-02, ...,\n",
       "           1.45539105e-01,  7.57364044e-03,  8.75213593e-02],\n",
       "         [ 4.69333343e-02,  2.31322959e-01,  4.84251380e-02, ...,\n",
       "           2.12805465e-01,  1.04427263e-01,  8.92129913e-02],\n",
       "         [ 1.60113666e-02,  1.83682248e-01, -2.38979561e-03, ...,\n",
       "           1.36636689e-01,  1.14626981e-01,  1.25593185e-01],\n",
       "         ...,\n",
       "         [ 2.12760136e-01,  2.09286451e-01,  1.97923586e-01, ...,\n",
       "           1.81937635e-01, -4.02428098e-02, -2.53447704e-03],\n",
       "         [ 2.00489938e-01,  2.14300558e-01,  2.08829254e-01, ...,\n",
       "           2.07110956e-01, -2.62976829e-02, -1.34156516e-03],\n",
       "         [ 2.07151040e-01,  2.14847594e-01,  2.04664052e-01, ...,\n",
       "           2.28756100e-01, -7.97214638e-03, -2.13730708e-02]],\n",
       "\n",
       "        [[ 1.94906015e-02,  6.29321858e-02, -8.93294960e-02, ...,\n",
       "          -7.08664358e-02,  5.26032299e-02,  3.14156741e-01],\n",
       "         [-1.82581339e-02,  9.22579840e-02, -8.62413794e-02, ...,\n",
       "          -5.47256209e-02, -3.66391288e-03,  1.61496833e-01],\n",
       "         [ 3.07907425e-02,  9.12267938e-02, -4.47639227e-02, ...,\n",
       "           1.10990927e-02,  7.49870390e-03,  5.03577068e-02],\n",
       "         ...,\n",
       "         [ 1.13802813e-01,  1.33674115e-01,  1.26513362e-01, ...,\n",
       "           1.27531335e-01, -1.13227226e-01, -9.67911109e-02],\n",
       "         [ 1.17422774e-01,  1.12084366e-01,  1.21296726e-01, ...,\n",
       "           1.30450040e-01, -9.65521038e-02, -1.02298841e-01],\n",
       "         [ 1.36799902e-01,  1.05163932e-01,  1.04745530e-01, ...,\n",
       "           1.10787563e-01, -1.01596668e-01, -1.09154366e-01]]]],\n",
       "      dtype=float32)"
      ]
     },
     "execution_count": 22,
     "metadata": {},
     "output_type": "execute_result"
    }
   ],
   "source": [
    "original_answer"
   ]
  },
  {
   "cell_type": "code",
   "execution_count": 23,
   "metadata": {},
   "outputs": [
    {
     "data": {
      "text/plain": [
       "0.0005215441"
      ]
     },
     "execution_count": 23,
     "metadata": {},
     "output_type": "execute_result"
    }
   ],
   "source": [
    "np.linalg.norm(x - original_answer)"
   ]
  },
  {
   "cell_type": "code",
   "execution_count": 24,
   "metadata": {},
   "outputs": [
    {
     "data": {
      "text/plain": [
       "(10000, 3, 30, 30)"
      ]
     },
     "execution_count": 24,
     "metadata": {},
     "output_type": "execute_result"
    }
   ],
   "source": [
    "x.shape"
   ]
  },
  {
   "cell_type": "code",
   "execution_count": 25,
   "metadata": {},
   "outputs": [
    {
     "data": {
      "text/plain": [
       "(10000, 3, 30, 30)"
      ]
     },
     "execution_count": 25,
     "metadata": {},
     "output_type": "execute_result"
    }
   ],
   "source": [
    "original_answer.shape"
   ]
  },
  {
   "cell_type": "code",
   "execution_count": 26,
   "metadata": {},
   "outputs": [
    {
     "data": {
      "image/png": "[encoded data removed]",
      "text/plain": [
       "<Figure size 288x288 with 2 Axes>"
      ]
     },
     "metadata": {
      "needs_background": "light"
     },
     "output_type": "display_data"
    },
    {
     "data": {
      "image/png": "[encoded data removed]",
      "text/plain": [
       "<Figure size 288x288 with 2 Axes>"
      ]
     },
     "metadata": {
      "needs_background": "light"
     },
     "output_type": "display_data"
    },
    {
     "data": {
      "image/png": "[encoded data removed]",
      "text/plain": [
       "<Figure size 288x288 with 2 Axes>"
      ]
     },
     "metadata": {
      "needs_background": "light"
     },
     "output_type": "display_data"
    }
   ],
   "source": [
    "plt.matshow(original_answer[0, 0, :, :])\n",
    "plt.colorbar()\n",
    "plt.show()\n",
    "\n",
    "plt.matshow(x[0, 0, :, :])\n",
    "plt.colorbar()\n",
    "plt.show()\n",
    "\n",
    "plt.matshow(original_answer[0, 0, :, :] - x[0, 0, :, :])\n",
    "plt.colorbar()\n",
    "plt.show()"
   ]
  },
  {
   "cell_type": "code",
   "execution_count": 27,
   "metadata": {},
   "outputs": [
    {
     "data": {
      "text/plain": [
       "(3, 3, 1, 1)"
      ]
     },
     "execution_count": 27,
     "metadata": {},
     "output_type": "execute_result"
    }
   ],
   "source": [
    "w_cin.shape"
   ]
  },
  {
   "cell_type": "code",
   "execution_count": 28,
   "metadata": {},
   "outputs": [
    {
     "data": {
      "text/plain": [
       "2.4488745e-06"
      ]
     },
     "execution_count": 28,
     "metadata": {},
     "output_type": "execute_result"
    }
   ],
   "source": [
    "np.linalg.norm(original_answer[0, 0, :, :] - x[0, 0, :, :])"
   ]
  },
  {
   "cell_type": "code",
   "execution_count": null,
   "metadata": {},
   "outputs": [],
   "source": []
  }
 ],
 "metadata": {
  "kernelspec": {
   "display_name": "tf-2-n",
   "language": "python",
   "name": "tf-2-n"
  },
  "language_info": {
   "codemirror_mode": {
    "name": "ipython",
    "version": 3
   },
   "file_extension": ".py",
   "mimetype": "text/x-python",
   "name": "python",
   "nbconvert_exporter": "python",
   "pygments_lexer": "ipython3",
   "version": "3.7.4"
  }
 },
 "nbformat": 4,
 "nbformat_minor": 2
}
