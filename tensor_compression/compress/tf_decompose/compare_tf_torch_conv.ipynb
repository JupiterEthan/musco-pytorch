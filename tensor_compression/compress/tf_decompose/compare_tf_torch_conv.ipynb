{
 "cells": [
  {
   "cell_type": "code",
   "execution_count": 1,
   "metadata": {},
   "outputs": [],
   "source": [
    "import matplotlib.pyplot as plt\n",
    "import numpy as np\n",
    "import tensorflow as tf\n",
    "import torch\n",
    "\n",
    "from tensorflow import keras\n",
    "from tensorflow.keras import layers"
   ]
  },
  {
   "cell_type": "code",
   "execution_count": 2,
   "metadata": {},
   "outputs": [],
   "source": [
    "def get_dataset(take_first=None):\n",
    "    fashion_mnist = keras.datasets.fashion_mnist\n",
    "    (train_images, train_labels), (test_images, test_labels) = fashion_mnist.load_data()\n",
    "\n",
    "    train_images = train_images / 255.0\n",
    "    test_images = test_images / 255.0\n",
    "\n",
    "    if take_first is not None:\n",
    "        train_images = train_images[:take_first, ...]\n",
    "        train_labels = train_labels[:take_first]\n",
    "    train_images = train_images[:, :2, :3]\n",
    "    train_images = train_images\n",
    "    train_labels = np.array([0 if label%2 == 0 else 1.0-(1e-3) for label in train_labels])\n",
    "        \n",
    "    train_images = np.expand_dims(train_images, -1)\n",
    "    test_images = np.expand_dims(test_images[:,  :2, :3], -1)\n",
    "    test_images = np.expand_dims(test_images, -1)\n",
    "    test_labels = np.array([0 if label%2 == 0 else 1.0-(1e-3) for label in test_labels[:take_first]])\n",
    "        \n",
    "    return train_images, train_labels, test_images, test_labels"
   ]
  },
  {
   "cell_type": "code",
   "execution_count": 3,
   "metadata": {},
   "outputs": [],
   "source": [
    "train_images, train_labels, test_images, test_labels = get_dataset()"
   ]
  },
  {
   "cell_type": "code",
   "execution_count": 4,
   "metadata": {},
   "outputs": [
    {
     "data": {
      "text/plain": [
       "((60000, 2, 3, 1), (60000,), (10000, 2, 3, 1, 1), (10000,))"
      ]
     },
     "execution_count": 4,
     "metadata": {},
     "output_type": "execute_result"
    }
   ],
   "source": [
    "train_images.shape, train_labels.shape, test_images.shape, test_labels.shape"
   ]
  },
  {
   "cell_type": "code",
   "execution_count": 5,
   "metadata": {},
   "outputs": [],
   "source": [
    "model = tf.keras.Sequential(\n",
    "    [\n",
    "        tf.keras.layers.Conv2D(filters=2, kernel_size=2, padding='valid', activation='relu',\n",
    "#                                input_shape=(28, 28, 1)),\n",
    "                                input_shape=(2, 3, 1)),\n",
    "        tf.keras.layers.Flatten(),\n",
    "        tf.keras.layers.Dense(1)#, activation='softmax')\n",
    "    ]\n",
    ")\n"
   ]
  },
  {
   "cell_type": "code",
   "execution_count": 6,
   "metadata": {},
   "outputs": [
    {
     "name": "stdout",
     "output_type": "stream",
     "text": [
      "Train on 60000 samples\n",
      "WARNING:tensorflow:From /anaconda2/envs/tf-2-n/lib/python3.7/site-packages/tensorflow_core/python/ops/math_grad.py:1394: where (from tensorflow.python.ops.array_ops) is deprecated and will be removed in a future version.\n",
      "Instructions for updating:\n",
      "Use tf.where in 2.0, which has the same broadcast rule as np.where\n",
      "WARNING:tensorflow:Entity <function Function._initialize_uninitialized_variables.<locals>.initialize_variables at 0x65cbecb90> could not be transformed and will be executed as-is. Please report this to the AutoGraph team. When filing the bug, set the verbosity to 10 (on Linux, `export AUTOGRAPH_VERBOSITY=10`) and attach the full output. Cause: module 'gast' has no attribute 'Num'\n",
      "WARNING: Entity <function Function._initialize_uninitialized_variables.<locals>.initialize_variables at 0x65cbecb90> could not be transformed and will be executed as-is. Please report this to the AutoGraph team. When filing the bug, set the verbosity to 10 (on Linux, `export AUTOGRAPH_VERBOSITY=10`) and attach the full output. Cause: module 'gast' has no attribute 'Num'\n",
      "60000/60000 [==============================] - 4s 64us/sample - loss: 0.0000e+00 - accuracy: 0.5000s - loss: 0.0000e+00 - accuracy: 0.\n",
      "Model: \"sequential\"\n",
      "_________________________________________________________________\n",
      "Layer (type)                 Output Shape              Param #   \n",
      "=================================================================\n",
      "conv2d (Conv2D)              (None, 1, 2, 2)           10        \n",
      "_________________________________________________________________\n",
      "flatten (Flatten)            (None, 4)                 0         \n",
      "_________________________________________________________________\n",
      "dense (Dense)                (None, 1)                 5         \n",
      "=================================================================\n",
      "Total params: 15\n",
      "Trainable params: 15\n",
      "Non-trainable params: 0\n",
      "_________________________________________________________________\n"
     ]
    }
   ],
   "source": [
    "model.compile(optimizer='adam',\n",
    "                  loss='sparse_categorical_crossentropy',\n",
    "                  metrics=['accuracy'])\n",
    "\n",
    "model.fit(train_images,\n",
    "          train_labels,\n",
    "          epochs=1)\n",
    "model.summary()"
   ]
  },
  {
   "cell_type": "code",
   "execution_count": 7,
   "metadata": {},
   "outputs": [
    {
     "name": "stdout",
     "output_type": "stream",
     "text": [
      "(2, 2, 1, 2)\n",
      "(2,)\n",
      "(4, 1)\n",
      "(1,)\n"
     ]
    },
    {
     "data": {
      "text/plain": [
       "[1, 3, 2, 2]"
      ]
     },
     "execution_count": 7,
     "metadata": {},
     "output_type": "execute_result"
    }
   ],
   "source": [
    "for layer in model.layers:\n",
    "    for t in layer.get_weights():\n",
    "        print(t.shape)\n",
    "        \n",
    "[1, 3, 2, 2]"
   ]
  },
  {
   "cell_type": "code",
   "execution_count": 8,
   "metadata": {},
   "outputs": [],
   "source": [
    "# model.layers[0].set_weights([np.arange(4, dtype=np.float64).reshape((2, 2, 1, 1))/4.0, np.zeros((1,), dtype=np.float64)])\n",
    "# model.layers[2].set_weights([model.layers[2].get_weights()[0], np.zeros((1,), dtype=np.float64)])"
   ]
  },
  {
   "cell_type": "code",
   "execution_count": 9,
   "metadata": {},
   "outputs": [
    {
     "name": "stdout",
     "output_type": "stream",
     "text": [
      "[[[[-0.30620864 -0.41038486]]\n",
      "\n",
      "  [[ 0.35630637 -0.61224586]]]\n",
      "\n",
      "\n",
      " [[[-0.18085045 -0.3922209 ]]\n",
      "\n",
      "  [[-0.42864946 -0.4664648 ]]]]\n",
      "[0. 0.]\n",
      "[[ 0.60951674]\n",
      " [-0.34677386]\n",
      " [-0.72895676]\n",
      " [ 0.61610985]]\n",
      "[0.]\n"
     ]
    }
   ],
   "source": [
    "for layer in model.layers:\n",
    "    for t in layer.get_weights():\n",
    "        print(t)"
   ]
  },
  {
   "cell_type": "code",
   "execution_count": 10,
   "metadata": {},
   "outputs": [],
   "source": [
    "# print('Evaluate source model')\n",
    "# test_loss, test_acc = model.evaluate(test_images,\n",
    "#                                      test_labels,\n",
    "#                                      verbose=0)\n",
    "# print('Test accuracy:', test_acc)"
   ]
  },
  {
   "cell_type": "code",
   "execution_count": 11,
   "metadata": {},
   "outputs": [],
   "source": [
    "def to_tf_kernel_order(tensor):\n",
    "    \"\"\"Change conv.kernel axis order from PyTorch to Tensoflow.\n",
    "\n",
    "    :param tensor: tensor with conv.kernel weights.\n",
    "    :return: tensor with the Tensoflow-like exis order.\n",
    "    []\n",
    "    \"\"\"\n",
    "    return np.transpose(tensor, (2, 3, 1, 0))\n",
    "\n",
    "\n",
    "def to_pytorch_kernel_order(tensor):\n",
    "    \"\"\"Change conv.kernel axis order from Tensoflow to PyTorch.\n",
    "\n",
    "    :param tensor: tensor with conv.kernel weights.\n",
    "    :return: tensor with the Pytorch-like exis order.\n",
    "    []\n",
    "    \"\"\"\n",
    "#     (out_channels, in_channels/groups, kernel_size[0],kernel_size[1])\n",
    "    return np.transpose(tensor, (3, 2, 0, 1))"
   ]
  },
  {
   "cell_type": "code",
   "execution_count": 12,
   "metadata": {},
   "outputs": [],
   "source": [
    "import torch.nn as nn"
   ]
  },
  {
   "cell_type": "code",
   "execution_count": 13,
   "metadata": {},
   "outputs": [],
   "source": [
    "torch_model = nn.Sequential(\n",
    "                            nn.Conv2d(1, 2, kernel_size=2,),\n",
    "                            nn.ReLU(),\n",
    "                            nn.Flatten(),\n",
    "                            nn.Linear(10, 1),\n",
    "#                             nn.Softmax(dim=1)\n",
    "                           )"
   ]
  },
  {
   "cell_type": "code",
   "execution_count": 14,
   "metadata": {},
   "outputs": [],
   "source": [
    "con1, conv1_bias, dense, dense_bias = *model.layers[0].get_weights(), *model.layers[-1].get_weights()"
   ]
  },
  {
   "cell_type": "code",
   "execution_count": 15,
   "metadata": {},
   "outputs": [
    {
     "data": {
      "text/plain": [
       "(2, 2, 1, 2)"
      ]
     },
     "execution_count": 15,
     "metadata": {},
     "output_type": "execute_result"
    }
   ],
   "source": [
    "con1.shape"
   ]
  },
  {
   "cell_type": "code",
   "execution_count": 16,
   "metadata": {},
   "outputs": [],
   "source": [
    "torch_model[0].weight.data = torch.from_numpy(np.transpose(con1, (3, 2, 0, 1))).float()\n",
    "torch_model[0].bias.data = torch.from_numpy(conv1_bias).float() \n",
    "\n",
    "torch_model[-1].weight.data = torch.from_numpy(dense).reshape(-1, 1).T.float()\n",
    "torch_model[-1].bias.data = torch.from_numpy(dense_bias).float()"
   ]
  },
  {
   "cell_type": "code",
   "execution_count": 17,
   "metadata": {},
   "outputs": [
    {
     "data": {
      "text/plain": [
       "0.0"
      ]
     },
     "execution_count": 17,
     "metadata": {},
     "output_type": "execute_result"
    }
   ],
   "source": [
    "np.linalg.norm(con1.T - np.transpose(np.transpose(con1.T, [0, 3, 1, 2]), [0, 2, 3, 1]))"
   ]
  },
  {
   "cell_type": "code",
   "execution_count": 18,
   "metadata": {},
   "outputs": [
    {
     "name": "stdout",
     "output_type": "stream",
     "text": [
      "0 0.0\n",
      "0.0\n",
      "================\n"
     ]
    }
   ],
   "source": [
    "# torch_test_images = np.transpose(test_images.astype(np.float32), (0, 3, 1, 2))\n",
    "\n",
    "for idx in range(1):\n",
    "#     src = np.zeros((28*28))\n",
    "#     src[idx] = 1.0\n",
    "#     tf_test_image = src.reshape((-1, 28, 28, 1)).astype(np.float32)\n",
    "    src = np.zeros((6,))\n",
    "    tf_test_image = src.reshape((-1, 2, 3, 1)).astype(np.float32)\n",
    "    torch_test_image = np.transpose(tf_test_image, (0, 3, 1, 2))\n",
    "\n",
    "    tf_tensor = tf.keras.backend.get_value(model(tf_test_image))\n",
    "    torch_answer = torch_model(torch.from_numpy(torch_test_image).float()).data.numpy()\n",
    "    print(idx, np.linalg.norm(tf_tensor-torch_answer))\n",
    "    \n",
    "    conv_torch = tf.keras.backend.get_value(model.layers[0](tf_test_image))\n",
    "    x = torch_model[0](torch.from_numpy(torch_test_image).float()).data.numpy()\n",
    "    x = torch_model[1](torch.from_numpy(x).float()).data.numpy()\n",
    "    print(np.linalg.norm(conv_torch - np.transpose(x, (0, 2, 3, 1))))\n",
    "    print(\"================\")"
   ]
  },
  {
   "cell_type": "code",
   "execution_count": 19,
   "metadata": {},
   "outputs": [],
   "source": [
    "# conv_1, cov1_b = torch_model[0].weight.data, torch_model[0].bias.data\n",
    "# dense_1, bias_1 = torch_model[-1].weight.data, torch_model[-1].bias.data\n",
    "\n",
    "# conv_1 = np.transpose(conv_1, (2, 3, 1, 0))\n",
    "\n",
    "# model.layers[0].set_weights([conv_1, cov1_b])\n",
    "# model.layers[2].set_weights([dense_1.T, bias_1 ])"
   ]
  },
  {
   "cell_type": "code",
   "execution_count": 20,
   "metadata": {},
   "outputs": [
    {
     "name": "stderr",
     "output_type": "stream",
     "text": [
      "100%|██████████| 99/99 [00:00<00:00, 296.48it/s]"
     ]
    },
    {
     "name": "stdout",
     "output_type": "stream",
     "text": [
      "================\n"
     ]
    },
    {
     "name": "stderr",
     "output_type": "stream",
     "text": [
      "\n"
     ]
    }
   ],
   "source": [
    "from tqdm import tqdm\n",
    "# torch_test_images = np.transpose(test_images.astype(np.float32), (0, 3, 1, 2))\n",
    "\n",
    "norms = []\n",
    "for idx in tqdm(range(1, 100)):\n",
    "#     test = np.random.random([1, 28, 28, 1]).astype(np.float32)\n",
    "    test = np.random.random([1, 2, 3, 1]).astype(np.float32)\n",
    "    test_torch = np.transpose(test, (0, 3, 1, 2))\n",
    "    tf_tensor = tf.keras.backend.get_value(model(test))\n",
    "    \n",
    "    torch_answer = torch_model(torch.from_numpy(test_torch).float()).data.numpy()\n",
    "    norms.append(np.linalg.norm(tf_tensor-torch_answer))\n",
    "print(\"================\")"
   ]
  },
  {
   "cell_type": "code",
   "execution_count": 21,
   "metadata": {},
   "outputs": [
    {
     "data": {
      "image/png": "[encoded data removed]",
      "text/plain": [
       "<Figure size 432x288 with 1 Axes>"
      ]
     },
     "metadata": {
      "needs_background": "light"
     },
     "output_type": "display_data"
    }
   ],
   "source": [
    "plt.hist(norms)\n",
    "plt.show()"
   ]
  },
  {
   "cell_type": "markdown",
   "metadata": {},
   "source": [
    "# Let's compare decompositions"
   ]
  },
  {
   "cell_type": "code",
   "execution_count": 22,
   "metadata": {},
   "outputs": [],
   "source": [
    "rank = 2\n",
    "cin = 1\n",
    "cout = 2\n",
    "kernel_size = (2, 2)"
   ]
  },
  {
   "cell_type": "code",
   "execution_count": 23,
   "metadata": {},
   "outputs": [],
   "source": [
    "from sktensor import dtensor, ktensor, cp_als\n",
    "\n",
    "\n",
    "torch_conv = torch_model[0].weight.data\n",
    "# torch_conv = np.transpose(torch_model[0].weight.data, (2, 3, 1, 0))\n",
    "weight_torch = torch_conv.reshape(*torch_conv.shape[:2], -1)\n",
    "\n",
    "T = dtensor(weight_torch)\n",
    "np.random.seed(42)\n",
    "P, fit, itr = cp_als(T, rank, init='random')\n",
    "\n",
    "toch_cout = np.array(P.U[0]) \n",
    "toch_cin = np.array(P.U[1])\n",
    "toch_z = np.array(P.U[2]*P.lmbda)\n",
    "\n",
    "toch_cin = toch_cin.T.reshape((rank, cin, 1, 1))\n",
    "toch_z = toch_z.T.reshape((rank, 1, *kernel_size))\n",
    "toch_cout = toch_cout.reshape((cout, rank, 1, 1))"
   ]
  },
  {
   "cell_type": "code",
   "execution_count": 24,
   "metadata": {},
   "outputs": [
    {
     "data": {
      "text/plain": [
       "(array([[[[1.]]],\n",
       " \n",
       " \n",
       "        [[[1.]]]]), array([[[[ 0.15850137, -0.94159464],\n",
       "          [-0.01049626,  0.29692873]]],\n",
       " \n",
       " \n",
       "        [[[ 0.04226243,  0.98409467],\n",
       "          [ 0.16703463, -0.04325507]]]]), array([[[[-1.61612869]],\n",
       " \n",
       "         [[-1.18426792]]],\n",
       " \n",
       " \n",
       "        [[[-1.93070451]],\n",
       " \n",
       "         [[-2.46946453]]]]))"
      ]
     },
     "execution_count": 24,
     "metadata": {},
     "output_type": "execute_result"
    }
   ],
   "source": [
    "toch_cin, toch_z, toch_cout"
   ]
  },
  {
   "cell_type": "code",
   "execution_count": 25,
   "metadata": {},
   "outputs": [],
   "source": [
    "from sktensor import dtensor, ktensor, cp_als\n",
    "\n",
    "tf_conv = np.transpose(model.layers[0].get_weights()[0], (3, 2, 0, 1))\n",
    "# tf_conv = model.layers[0].get_weights()[0]\n",
    "weight_tf = tf_conv.reshape((*tf_conv.shape[:2], -1))\n",
    "\n",
    "T = dtensor(weight_tf)\n",
    "np.random.seed(42)\n",
    "P, fit, itr = cp_als(T, rank, init='random')\n",
    "\n",
    "tf_cout = np.array(P.U[0]) \n",
    "tf_cin = np.array(P.U[1])\n",
    "tf_z = np.array(P.U[2]*P.lmbda)\n",
    "\n",
    "tf_cin = tf_cin.T.reshape((rank, cin, 1, 1))\n",
    "tf_z = tf_z.T.reshape((rank, 1, *kernel_size))\n",
    "tf_cout = tf_cout.reshape((cout, rank, 1, 1))\n",
    "\n",
    "[tf_cin, tf_z, tf_cout]=[np.transpose(tensor, (2, 3, 1, 0)) for tensor in [tf_cin, tf_z, tf_cout]]"
   ]
  },
  {
   "cell_type": "code",
   "execution_count": 26,
   "metadata": {},
   "outputs": [
    {
     "data": {
      "text/plain": [
       "((1, 1, 1, 2), (2, 2, 1, 2), (1, 1, 2, 2))"
      ]
     },
     "execution_count": 26,
     "metadata": {},
     "output_type": "execute_result"
    }
   ],
   "source": [
    "tf_cin.shape, tf_z.shape, tf_cout.shape"
   ]
  },
  {
   "cell_type": "markdown",
   "metadata": {},
   "source": [
    "# Load decomposed layers back\n",
    "## Pytorch"
   ]
  },
  {
   "cell_type": "code",
   "execution_count": 27,
   "metadata": {},
   "outputs": [],
   "source": [
    "new_torch_model = nn.Sequential(\n",
    "                            nn.Conv2d(in_channels=cin,\n",
    "                                    out_channels=rank,\n",
    "                                    kernel_size = (1, 1)),\n",
    "                            nn.Conv2d(in_channels = rank, \n",
    "                                    out_channels=rank,\n",
    "                                    kernel_size = kernel_size,\n",
    "                                    groups = int(rank)),\n",
    "                            nn.Conv2d(in_channels = rank,\n",
    "                                    out_channels = cout, \n",
    "                                    kernel_size = (1, 1)),\n",
    "\n",
    "                           )\n",
    "\n",
    "new_torch_model[0].weight.data = torch.from_numpy(toch_cin).float()\n",
    "new_torch_model[0].bias.data = torch.zeros_like(new_torch_model[0].bias.data)\n",
    "\n",
    "new_torch_model[1].weight.data = torch.from_numpy(toch_z).float()\n",
    "new_torch_model[1].bias.data = torch.zeros_like(new_torch_model[1].bias.data)\n",
    "\n",
    "new_torch_model[2].weight.data = torch.from_numpy(toch_cout).float()\n",
    "new_torch_model[2].bias.data = torch_model[0].bias.data\n",
    "\n",
    "# new_torch_model[-1].weight.data = torch_model[-1].weight.data\n",
    "# new_torch_model[-1].bias.data = torch_model[-1].bias.data"
   ]
  },
  {
   "cell_type": "code",
   "execution_count": 28,
   "metadata": {},
   "outputs": [
    {
     "data": {
      "text/plain": [
       "1.7834766e-07"
      ]
     },
     "execution_count": 28,
     "metadata": {},
     "output_type": "execute_result"
    }
   ],
   "source": [
    "# test = torch.from_numpy(np.transpose(np.random.random([1, 28, 28, 1]).astype(np.float32), (0, 3, 1, 2))).float()\n",
    "test = torch.from_numpy(np.transpose(np.random.random([1, 2, 3, 1]).astype(np.float32), (0, 3, 1, 2))).float()\n",
    "\n",
    "old_answer = torch_model[0](test).data.numpy()\n",
    "new_answer = new_torch_model(test).data.numpy()\n",
    "\n",
    "np.linalg.norm(old_answer - new_answer)"
   ]
  },
  {
   "cell_type": "code",
   "execution_count": 29,
   "metadata": {},
   "outputs": [
    {
     "name": "stdout",
     "output_type": "stream",
     "text": [
      "(1, 2, 2, 3)\n"
     ]
    },
    {
     "data": {
      "image/png": "[encoded data removed]",
      "text/plain": [
       "<Figure size 432x288 with 2 Axes>"
      ]
     },
     "metadata": {
      "needs_background": "light"
     },
     "output_type": "display_data"
    },
    {
     "name": "stdout",
     "output_type": "stream",
     "text": [
      "(1, 2, 1, 2)\n"
     ]
    },
    {
     "data": {
      "image/png": "[encoded data removed]",
      "text/plain": [
       "<Figure size 576x288 with 2 Axes>"
      ]
     },
     "metadata": {
      "needs_background": "light"
     },
     "output_type": "display_data"
    },
    {
     "name": "stdout",
     "output_type": "stream",
     "text": [
      "(1, 2, 1, 2)\n"
     ]
    },
    {
     "data": {
      "image/png": "[encoded data removed]",
      "text/plain": [
       "<Figure size 576x288 with 2 Axes>"
      ]
     },
     "metadata": {
      "needs_background": "light"
     },
     "output_type": "display_data"
    }
   ],
   "source": [
    "# test = torch.from_numpy(np.transpose(np.random.random([1, 28, 28, 1]).astype(np.float32), (0, 3, 1, 2))).float()\n",
    "# tf_test = np.random.random([1, 28, 28, 1]).astype(np.float32)\n",
    "tf_test = np.random.random([1, 2, 3, 1]).astype(np.float32)\n",
    "torch_test = torch.from_numpy(np.transpose(tf_test, (0, 3, 1, 2))).float()\n",
    "\n",
    "inputs = torch_test\n",
    "conv_result = []\n",
    "for layer in  new_torch_model:\n",
    "    inputs = layer(inputs)\n",
    "    np_inputs = inputs.data.numpy()\n",
    "    conv_result.append(np_inputs)\n",
    "    print(np_inputs.shape)\n",
    "    plt.matshow(np_inputs[0, 0, ...])\n",
    "    plt.colorbar()\n",
    "    plt.show()"
   ]
  },
  {
   "cell_type": "code",
   "execution_count": 30,
   "metadata": {},
   "outputs": [
    {
     "data": {
      "image/png": "[encoded data removed]",
      "text/plain": [
       "<Figure size 432x288 with 2 Axes>"
      ]
     },
     "metadata": {
      "needs_background": "light"
     },
     "output_type": "display_data"
    },
    {
     "data": {
      "image/png": "[encoded data removed]",
      "text/plain": [
       "<Figure size 432x288 with 2 Axes>"
      ]
     },
     "metadata": {
      "needs_background": "light"
     },
     "output_type": "display_data"
    },
    {
     "data": {
      "image/png": "[encoded data removed]",
      "text/plain": [
       "<Figure size 432x288 with 2 Axes>"
      ]
     },
     "metadata": {
      "needs_background": "light"
     },
     "output_type": "display_data"
    }
   ],
   "source": [
    "plt.imshow(old_answer[0, 0, ...], cmap='Greys')\n",
    "plt.colorbar()\n",
    "plt.show()\n",
    "\n",
    "plt.imshow(new_answer[0, 0, ...], cmap='Greys')\n",
    "plt.colorbar()\n",
    "plt.show()\n",
    "\n",
    "plt.imshow(new_answer[0, 0, ...] - old_answer[0, 0, ...], cmap='Greys')\n",
    "plt.colorbar()\n",
    "plt.show()"
   ]
  },
  {
   "cell_type": "markdown",
   "metadata": {},
   "source": [
    "## TensorFlow"
   ]
  },
  {
   "cell_type": "code",
   "execution_count": 31,
   "metadata": {},
   "outputs": [],
   "source": [
    "con1, conv1_bias = model.layers[0].get_weights()\n",
    "dense, dense_bias = model.layers[-1].get_weights()"
   ]
  },
  {
   "cell_type": "code",
   "execution_count": 32,
   "metadata": {},
   "outputs": [
    {
     "data": {
      "text/plain": [
       "(2, 2, 2, 1)"
      ]
     },
     "execution_count": 32,
     "metadata": {},
     "output_type": "execute_result"
    }
   ],
   "source": [
    "np.transpose(tf_z, (0, 1, 3, 2)).shape\n",
    "# filter_height, filter_width, in_channels, channel_multiplier"
   ]
  },
  {
   "cell_type": "code",
   "execution_count": 33,
   "metadata": {},
   "outputs": [
    {
     "data": {
      "text/plain": [
       "(2, 2, 1, 2)"
      ]
     },
     "execution_count": 33,
     "metadata": {},
     "output_type": "execute_result"
    }
   ],
   "source": [
    "tf_z.shape"
   ]
  },
  {
   "cell_type": "code",
   "execution_count": 34,
   "metadata": {},
   "outputs": [
    {
     "data": {
      "text/plain": [
       "array([[[[ 0.15850137, -0.94159464],\n",
       "         [-0.01049626,  0.29692873]]],\n",
       "\n",
       "\n",
       "       [[[ 0.04226243,  0.98409467],\n",
       "         [ 0.16703463, -0.04325507]]]])"
      ]
     },
     "execution_count": 34,
     "metadata": {},
     "output_type": "execute_result"
    }
   ],
   "source": [
    "toch_z"
   ]
  },
  {
   "cell_type": "code",
   "execution_count": 141,
   "metadata": {},
   "outputs": [],
   "source": [
    "from tensorflow.python.framework import tensor_shape\n",
    "from tensorflow.python.keras import activations\n",
    "from tensorflow.python.keras import constraints\n",
    "from tensorflow.python.keras import initializers\n",
    "from tensorflow.python.keras import regularizers\n",
    "\n",
    "from tensorflow.python.keras.engine import InputSpec\n",
    "\n",
    "\n",
    "class GroupConv2D(layers.Layer):\n",
    "    def __init__(self, \n",
    "               rank,\n",
    "               n_group,\n",
    "               kernel_size,\n",
    "               strides=(1, 1),\n",
    "               padding='valid',\n",
    "               data_format=None,\n",
    "               dilation_rate=(1, 1),\n",
    "               activation=None,\n",
    "               use_bias=False,\n",
    "               kernel_initializer='glorot_uniform',\n",
    "               bias_initializer='zeros',\n",
    "               kernel_regularizer=None,\n",
    "               bias_regularizer=None,\n",
    "               activity_regularizer=None,\n",
    "               kernel_constraint=None,\n",
    "               bias_constraint=None,\n",
    "               **kwargs):\n",
    "        super(GroupConv2D, self).__init__(**kwargs)\n",
    "        \n",
    "        self.rank=rank\n",
    "        self.kernel_size=kernel_size\n",
    "        self.strides=strides\n",
    "        self.padding=padding\n",
    "        self.data_format=data_format\n",
    "        self.dilation_rate=dilation_rate\n",
    "        self.activation=activations.get(activation)\n",
    "        self.use_bias=use_bias\n",
    "        self.kernel_initializer=initializers.get(kernel_initializer)\n",
    "        self.bias_initializer=initializers.get(bias_initializer)\n",
    "        self.kernel_regularizer=regularizers.get(kernel_regularizer)\n",
    "        self.bias_regularizer=regularizers.get(bias_regularizer)\n",
    "        self.activity_regularizer=regularizers.get(activity_regularizer)\n",
    "        self.kernel_constraint=constraints.get(kernel_constraint)\n",
    "        self.bias_constraint=constraints.get(bias_constraint)\n",
    "        self.n_group = n_group\n",
    "        \n",
    "    def build(self, input_shape):\n",
    "        input_shape = tensor_shape.TensorShape(input_shape)\n",
    "     \n",
    "        channel_axis = -1\n",
    "\n",
    "        input_dim = int(input_shape[channel_axis])\n",
    "        kernel_shape = self.kernel_size + (input_shape[-1]/self.n_group, self.rank)\n",
    "\n",
    "        self.kernel = self.add_variable(name='kernel',\n",
    "                                        shape=kernel_shape,\n",
    "                                        initializer=self.kernel_initializer,\n",
    "                                        regularizer=self.kernel_regularizer,\n",
    "                                        constraint=self.kernel_constraint,\n",
    "                                        trainable=True,\n",
    "                                        dtype=self.dtype)\n",
    "#         print(\"!!!!!\", self.filters, kernel_shape)\n",
    "        if self.use_bias:\n",
    "            self.bias = self.add_variable(name='bias',\n",
    "                                        shape=(self.rank,),\n",
    "                                        initializer=self.bias_initializer,\n",
    "                                        regularizer=self.bias_regularizer,\n",
    "                                        constraint=self.bias_constraint,\n",
    "                                        trainable=True,\n",
    "                                        dtype=self.dtype)\n",
    "        else:\n",
    "            self.bias = None\n",
    "        self.input_spec = InputSpec(ndim=self.rank + 2,\n",
    "                                    axes={channel_axis: input_dim})\n",
    "        self.built = True\n",
    "\n",
    "        \n",
    "    def call(self, inputs):\n",
    "#         return inputs\n",
    "        groupConv = lambda i, k: tf.nn.conv2d(i, \n",
    "                                              k, \n",
    "                                              strides=[1, self.strides[0], self.strides[1], 1], \n",
    "                                              padding=self.padding.upper())        \n",
    "        if self.n_group == 1:\n",
    "                outputs = groupConv(inputs, self.kernel)\n",
    "        else:\n",
    "            inputGroups = tf.split(axis=3, num_or_size_splits=self.n_group, value=inputs)\n",
    "            weightsGroups = tf.split(axis=3, num_or_size_splits=self.n_group, value=self.kernel)\n",
    "            convGroups = [groupConv(i, k) for i, k in zip(inputGroups, weightsGroups)]\n",
    "\n",
    "            outputs = tf.concat(axis=3, values=convGroups)\n",
    "\n",
    "        if self.use_bias:\n",
    "            if layer.data_format != 'channel_last' is None:\n",
    "                raise ValueError('NHWC only.')\n",
    "            outputs = nn.bias_add(outputs, self.bias, data_format='NHWC')\n",
    "\n",
    "        if self.activation is not None:\n",
    "            return self.activation(outputs)\n",
    "\n",
    "        \n",
    "    def compute_output_shape(self, input_shape):\n",
    "        input_shape = tensor_shape.TensorShape(input_shape).as_list()\n",
    "   \n",
    "        space = input_shape[1:-1]\n",
    "        new_space = []\n",
    "        for i in range(len(space)):\n",
    "            new_dim = conv_utils.conv_output_length(\n",
    "                                                    space[i],\n",
    "                                                    self.kernel_size[i],\n",
    "                                                    padding=self.padding,\n",
    "                                                    stride=self.strides[i],\n",
    "                                                    dilation=self.dilation_rate[i])\n",
    "            new_space.append(new_dim)\n",
    "        \n",
    "        return tensor_shape.TensorShape([input_shape[0]] + new_space +[self.filters])\n",
    "    \n",
    "    def get_config(self):\n",
    "        config = {\n",
    "            \n",
    "            'n_group': self.n_group,\n",
    "            'kernel_size': self.kernel_size,\n",
    "            'strides': self.strides,\n",
    "            'padding': self.padding,\n",
    "            'data_format': self.data_format,\n",
    "            'dilation_rate': self.dilation_rate,\n",
    "            'activation': activations.serialize(self.activation),\n",
    "            'use_bias': self.use_bias,\n",
    "            'kernel_initializer': initializers.serialize(self.kernel_initializer),\n",
    "            'bias_initializer': initializers.serialize(self.bias_initializer),\n",
    "            'kernel_regularizer': regularizers.serialize(self.kernel_regularizer),\n",
    "            'bias_regularizer': regularizers.serialize(self.bias_regularizer),\n",
    "            'activity_regularizer':\n",
    "                regularizers.serialize(self.activity_regularizer),\n",
    "            'kernel_constraint': constraints.serialize(self.kernel_constraint),\n",
    "            'bias_constraint': constraints.serialize(self.bias_constraint)\n",
    "        }\n",
    "        base_config = super(Layer, self).get_config()\n",
    "        return dict(list(base_config.items()) + list(config.items()))\n",
    "\n",
    "        "
   ]
  },
  {
   "cell_type": "code",
   "execution_count": 142,
   "metadata": {},
   "outputs": [
    {
     "data": {
      "text/plain": [
       "(1, 2, 3, 1)"
      ]
     },
     "execution_count": 142,
     "metadata": {},
     "output_type": "execute_result"
    }
   ],
   "source": [
    "tf_test.shape"
   ]
  },
  {
   "cell_type": "code",
   "execution_count": 143,
   "metadata": {},
   "outputs": [],
   "source": [
    "group_layer = keras.Sequential([GroupConv2D(2, n_group=1, \n",
    "                          kernel_size=(2,2), \n",
    "                          padding='valid', \n",
    "                          kernel_initializer=tf.constant_initializer(tf_z))])\n",
    "\n",
    "group_layer.compile(optimizer='adam',\n",
    "                  loss='sparse_categorical_crossentropy',\n",
    "                  metrics=['accuracy'])"
   ]
  },
  {
   "cell_type": "code",
   "execution_count": 144,
   "metadata": {},
   "outputs": [],
   "source": [
    "new_tensor = tf_test\n",
    "new_tensor = tf.keras.backend.get_value(group_layer(new_tensor))"
   ]
  },
  {
   "cell_type": "code",
   "execution_count": 145,
   "metadata": {},
   "outputs": [
    {
     "data": {
      "text/plain": [
       "(1, 1, 2, 2)"
      ]
     },
     "execution_count": 145,
     "metadata": {},
     "output_type": "execute_result"
    }
   ],
   "source": [
    "new_tensor.shape"
   ]
  },
  {
   "cell_type": "code",
   "execution_count": 37,
   "metadata": {},
   "outputs": [
    {
     "name": "stdout",
     "output_type": "stream",
     "text": [
      "Collecting progressbar\n",
      "  Downloading https://files.pythonhosted.org/packages/a3/a6/b8e451f6cff1c99b4747a2f7235aa904d2d49e8e1464e0b798272aa84358/progressbar-2.5.tar.gz\n",
      "Building wheels for collected packages: progressbar\n",
      "  Building wheel for progressbar (setup.py) ... \u001b[?25ldone\n",
      "\u001b[?25h  Created wheel for progressbar: filename=progressbar-2.5-cp36-none-any.whl size=10703 sha256=1996f7b80111f7169e3e54590e8b2c81681b24cf313852a54966eae8d3dea144\n",
      "  Stored in directory: /Users/rayne/Library/Caches/pip/wheels/c0/e9/6b/ea01090205e285175842339aa3b491adeb4015206cda272ff0\n",
      "Successfully built progressbar\n",
      "Installing collected packages: progressbar\n",
      "Successfully installed progressbar-2.5\n",
      "\u001b[33mWARNING: You are using pip version 19.2.2, however version 19.2.3 is available.\n",
      "You should consider upgrading via the 'pip install --upgrade pip' command.\u001b[0m\n"
     ]
    }
   ],
   "source": [
    "!pip3 install progressbar"
   ]
  },
  {
   "cell_type": "code",
   "execution_count": 154,
   "metadata": {},
   "outputs": [
    {
     "name": "stdout",
     "output_type": "stream",
     "text": [
      "(1, 2, 3, 2) (1, 1, 1, 2)\n",
      "(1, 1, 2, 2) (1, 1, 2, 2)\n",
      "[[0. 0. 0.]\n",
      " [0. 0. 0.]]\n",
      "[[2.9802322e-08 0.0000000e+00]]\n",
      "[[-1.3411045e-07  7.4505806e-08]]\n"
     ]
    }
   ],
   "source": [
    "kernel_size=(2,2)\n",
    "\n",
    "import itertools\n",
    "\n",
    "\n",
    "\n",
    "new_tf_model =  tf.keras.Sequential([\n",
    "                                    tf.keras.layers.Conv2D(filters=rank,\n",
    "                                                          kernel_size=1,\n",
    "                                                          padding='same',\n",
    "                                                          kernel_initializer=tf.constant_initializer(tf_cin),\n",
    "                                                          bias_initializer='zeros',\n",
    "\n",
    "                                                          ),\n",
    "                                    GroupConv2D(2, \n",
    "                                                n_group=2, \n",
    "                                                kernel_size=(2,2), \n",
    "                                                padding='valid', \n",
    "                                                kernel_initializer=tf.constant_initializer(tf_z)),\n",
    "                                    tf.keras.layers.Conv2D(filters=2,\n",
    "                                                        kernel_size=1,\n",
    "                                                        padding='valid',\n",
    "                                                        kernel_initializer=tf.constant_initializer(tf_cout),\n",
    "                                                        bias_initializer=tf.constant_initializer(conv1_bias),\n",
    "                                                        ),\n",
    "]\n",
    ")\n",
    "\n",
    "\n",
    "new_tensors = []\n",
    "new_tensor = tf_test\n",
    "new_tensor = tf.keras.backend.get_value(new_tf_model.layers[0](new_tensor))\n",
    "new_tensors.append(np.transpose(new_tensor, (0, 3, 1, 2)))\n",
    "\n",
    "print(new_tensor.shape, tf_cin.shape)\n",
    "\n",
    "group_layer = keras.Sequential([])\n",
    "new_tensor = tf.keras.backend.get_value(new_tf_model.layers[1](new_tensor))\n",
    "new_tensors.append(np.transpose(new_tensor, (0, 3, 1, 2)))\n",
    "\n",
    "new_tensor = tf.keras.backend.get_value(new_tf_model.layers[2](new_tensor))\n",
    "new_tensors.append(np.transpose(new_tensor, (0, 3, 1, 2)))\n",
    "print(new_tensor.shape, tf_cout.shape)\n",
    "\n",
    "print(new_tensors[0][0, 0, ...]-conv_result[0][0, 0, ...])\n",
    "print(new_tensors[1][0, 0, ...]-conv_result[1][0, 0, ...])\n",
    "print(new_tensors[2][0, 0, ...]-conv_result[2][0, 0, ...])\n",
    "#     print(new_tensors[0][0, 0, ...]-conv_result[0][0, 0, ...])"
   ]
  },
  {
   "cell_type": "code",
   "execution_count": 155,
   "metadata": {},
   "outputs": [
    {
     "name": "stdout",
     "output_type": "stream",
     "text": [
      "[[-1.3411045e-07  7.4505806e-08]]\n"
     ]
    },
    {
     "data": {
      "image/png": "[encoded data removed]",
      "text/plain": [
       "<Figure size 576x288 with 2 Axes>"
      ]
     },
     "metadata": {
      "needs_background": "light"
     },
     "output_type": "display_data"
    },
    {
     "data": {
      "image/png": "[encoded data removed]",
      "text/plain": [
       "<Figure size 576x288 with 2 Axes>"
      ]
     },
     "metadata": {
      "needs_background": "light"
     },
     "output_type": "display_data"
    },
    {
     "data": {
      "image/png": "[encoded data removed]",
      "text/plain": [
       "<Figure size 576x288 with 2 Axes>"
      ]
     },
     "metadata": {
      "needs_background": "light"
     },
     "output_type": "display_data"
    }
   ],
   "source": [
    "idx = 2\n",
    "plt.matshow(conv_result[idx][0, 0, ...])\n",
    "plt.colorbar()\n",
    "plt.show()\n",
    "\n",
    "plt.matshow(new_tensors[idx][0, 0, ...])\n",
    "plt.colorbar()\n",
    "plt.show()\n",
    "\n",
    "plt.matshow(new_tensors[idx][0, 0, ...]-conv_result[idx][0, 0, ...])\n",
    "print(new_tensors[idx][0, 0, ...]-conv_result[idx][0, 0, ...])\n",
    "plt.colorbar()\n",
    "plt.show()"
   ]
  },
  {
   "cell_type": "code",
   "execution_count": 36,
   "metadata": {},
   "outputs": [
    {
     "name": "stdout",
     "output_type": "stream",
     "text": [
      "0 (0, 1, 2, 3)\n"
     ]
    },
    {
     "ename": "UnimplementedError",
     "evalue": "The Conv2D op currently does not support grouped convolutions on the CPU. A grouped convolution was attempted to be run because the input depth of 2 does not match the filter input depth of 1 [Op:Conv2D]",
     "output_type": "error",
     "traceback": [
      "\u001b[0;31m---------------------------------------------------------------------------\u001b[0m",
      "\u001b[0;31mUnimplementedError\u001b[0m                        Traceback (most recent call last)",
      "\u001b[0;32m<ipython-input-36-270f7548cca4>\u001b[0m in \u001b[0;36m<module>\u001b[0;34m\u001b[0m\n\u001b[1;32m     29\u001b[0m     \u001b[0mnew_tensors\u001b[0m\u001b[0;34m.\u001b[0m\u001b[0mappend\u001b[0m\u001b[0;34m(\u001b[0m\u001b[0mnp\u001b[0m\u001b[0;34m.\u001b[0m\u001b[0mtranspose\u001b[0m\u001b[0;34m(\u001b[0m\u001b[0mnew_tensor\u001b[0m\u001b[0;34m,\u001b[0m \u001b[0;34m(\u001b[0m\u001b[0;36m0\u001b[0m\u001b[0;34m,\u001b[0m \u001b[0;36m3\u001b[0m\u001b[0;34m,\u001b[0m \u001b[0;36m1\u001b[0m\u001b[0;34m,\u001b[0m \u001b[0;36m2\u001b[0m\u001b[0;34m)\u001b[0m\u001b[0;34m)\u001b[0m\u001b[0;34m)\u001b[0m\u001b[0;34m\u001b[0m\u001b[0;34m\u001b[0m\u001b[0m\n\u001b[1;32m     30\u001b[0m \u001b[0;34m\u001b[0m\u001b[0m\n\u001b[0;32m---> 31\u001b[0;31m     \u001b[0mnew_tensor\u001b[0m \u001b[0;34m=\u001b[0m \u001b[0mtf\u001b[0m\u001b[0;34m.\u001b[0m\u001b[0mkeras\u001b[0m\u001b[0;34m.\u001b[0m\u001b[0mbackend\u001b[0m\u001b[0;34m.\u001b[0m\u001b[0mget_value\u001b[0m\u001b[0;34m(\u001b[0m\u001b[0mtf\u001b[0m\u001b[0;34m.\u001b[0m\u001b[0mnn\u001b[0m\u001b[0;34m.\u001b[0m\u001b[0mconv2d\u001b[0m\u001b[0;34m(\u001b[0m\u001b[0mnew_tensor\u001b[0m\u001b[0;34m,\u001b[0m \u001b[0mtf_z\u001b[0m\u001b[0;34m,\u001b[0m \u001b[0mpadding\u001b[0m\u001b[0;34m=\u001b[0m\u001b[0;34m'VALID'\u001b[0m\u001b[0;34m,\u001b[0m \u001b[0mstrides\u001b[0m\u001b[0;34m=\u001b[0m\u001b[0;34m(\u001b[0m\u001b[0;36m1\u001b[0m\u001b[0;34m,\u001b[0m \u001b[0;36m1\u001b[0m\u001b[0;34m)\u001b[0m\u001b[0;34m)\u001b[0m\u001b[0;34m)\u001b[0m\u001b[0;34m\u001b[0m\u001b[0;34m\u001b[0m\u001b[0m\n\u001b[0m\u001b[1;32m     32\u001b[0m     \u001b[0mnew_tensors\u001b[0m\u001b[0;34m.\u001b[0m\u001b[0mappend\u001b[0m\u001b[0;34m(\u001b[0m\u001b[0mnp\u001b[0m\u001b[0;34m.\u001b[0m\u001b[0mtranspose\u001b[0m\u001b[0;34m(\u001b[0m\u001b[0mnew_tensor\u001b[0m\u001b[0;34m,\u001b[0m \u001b[0;34m(\u001b[0m\u001b[0;36m0\u001b[0m\u001b[0;34m,\u001b[0m \u001b[0;36m3\u001b[0m\u001b[0;34m,\u001b[0m \u001b[0;36m1\u001b[0m\u001b[0;34m,\u001b[0m \u001b[0;36m2\u001b[0m\u001b[0;34m)\u001b[0m\u001b[0;34m)\u001b[0m\u001b[0;34m)\u001b[0m\u001b[0;34m\u001b[0m\u001b[0;34m\u001b[0m\u001b[0m\n\u001b[1;32m     33\u001b[0m \u001b[0;34m\u001b[0m\u001b[0m\n",
      "\u001b[0;32m/anaconda2/envs/tf-2-n/lib/python3.7/site-packages/tensorflow_core/python/ops/nn_ops.py\u001b[0m in \u001b[0;36mconv2d_v2\u001b[0;34m(input, filters, strides, padding, data_format, dilations, name)\u001b[0m\n\u001b[1;32m   1911\u001b[0m                 \u001b[0mdata_format\u001b[0m\u001b[0;34m=\u001b[0m\u001b[0mdata_format\u001b[0m\u001b[0;34m,\u001b[0m\u001b[0;34m\u001b[0m\u001b[0;34m\u001b[0m\u001b[0m\n\u001b[1;32m   1912\u001b[0m                 \u001b[0mdilations\u001b[0m\u001b[0;34m=\u001b[0m\u001b[0mdilations\u001b[0m\u001b[0;34m,\u001b[0m\u001b[0;34m\u001b[0m\u001b[0;34m\u001b[0m\u001b[0m\n\u001b[0;32m-> 1913\u001b[0;31m                 name=name)\n\u001b[0m\u001b[1;32m   1914\u001b[0m \u001b[0;34m\u001b[0m\u001b[0m\n\u001b[1;32m   1915\u001b[0m \u001b[0;34m\u001b[0m\u001b[0m\n",
      "\u001b[0;32m/anaconda2/envs/tf-2-n/lib/python3.7/site-packages/tensorflow_core/python/ops/nn_ops.py\u001b[0m in \u001b[0;36mconv2d\u001b[0;34m(input, filter, strides, padding, use_cudnn_on_gpu, data_format, dilations, name, filters)\u001b[0m\n\u001b[1;32m   2008\u001b[0m                            \u001b[0mdata_format\u001b[0m\u001b[0;34m=\u001b[0m\u001b[0mdata_format\u001b[0m\u001b[0;34m,\u001b[0m\u001b[0;34m\u001b[0m\u001b[0;34m\u001b[0m\u001b[0m\n\u001b[1;32m   2009\u001b[0m                            \u001b[0mdilations\u001b[0m\u001b[0;34m=\u001b[0m\u001b[0mdilations\u001b[0m\u001b[0;34m,\u001b[0m\u001b[0;34m\u001b[0m\u001b[0;34m\u001b[0m\u001b[0m\n\u001b[0;32m-> 2010\u001b[0;31m                            name=name)\n\u001b[0m\u001b[1;32m   2011\u001b[0m \u001b[0;34m\u001b[0m\u001b[0m\n\u001b[1;32m   2012\u001b[0m \u001b[0;34m\u001b[0m\u001b[0m\n",
      "\u001b[0;32m/anaconda2/envs/tf-2-n/lib/python3.7/site-packages/tensorflow_core/python/ops/gen_nn_ops.py\u001b[0m in \u001b[0;36mconv2d\u001b[0;34m(input, filter, strides, padding, use_cudnn_on_gpu, explicit_paddings, data_format, dilations, name)\u001b[0m\n\u001b[1;32m   1037\u001b[0m       \u001b[0;32melse\u001b[0m\u001b[0;34m:\u001b[0m\u001b[0;34m\u001b[0m\u001b[0;34m\u001b[0m\u001b[0m\n\u001b[1;32m   1038\u001b[0m         \u001b[0mmessage\u001b[0m \u001b[0;34m=\u001b[0m \u001b[0me\u001b[0m\u001b[0;34m.\u001b[0m\u001b[0mmessage\u001b[0m\u001b[0;34m\u001b[0m\u001b[0;34m\u001b[0m\u001b[0m\n\u001b[0;32m-> 1039\u001b[0;31m       \u001b[0m_six\u001b[0m\u001b[0;34m.\u001b[0m\u001b[0mraise_from\u001b[0m\u001b[0;34m(\u001b[0m\u001b[0m_core\u001b[0m\u001b[0;34m.\u001b[0m\u001b[0m_status_to_exception\u001b[0m\u001b[0;34m(\u001b[0m\u001b[0me\u001b[0m\u001b[0;34m.\u001b[0m\u001b[0mcode\u001b[0m\u001b[0;34m,\u001b[0m \u001b[0mmessage\u001b[0m\u001b[0;34m)\u001b[0m\u001b[0;34m,\u001b[0m \u001b[0;32mNone\u001b[0m\u001b[0;34m)\u001b[0m\u001b[0;34m\u001b[0m\u001b[0;34m\u001b[0m\u001b[0m\n\u001b[0m\u001b[1;32m   1040\u001b[0m   \u001b[0;31m# Add nodes to the TensorFlow graph.\u001b[0m\u001b[0;34m\u001b[0m\u001b[0;34m\u001b[0m\u001b[0;34m\u001b[0m\u001b[0m\n\u001b[1;32m   1041\u001b[0m   \u001b[0;32mif\u001b[0m \u001b[0;32mnot\u001b[0m \u001b[0misinstance\u001b[0m\u001b[0;34m(\u001b[0m\u001b[0mstrides\u001b[0m\u001b[0;34m,\u001b[0m \u001b[0;34m(\u001b[0m\u001b[0mlist\u001b[0m\u001b[0;34m,\u001b[0m \u001b[0mtuple\u001b[0m\u001b[0;34m)\u001b[0m\u001b[0;34m)\u001b[0m\u001b[0;34m:\u001b[0m\u001b[0;34m\u001b[0m\u001b[0;34m\u001b[0m\u001b[0m\n",
      "\u001b[0;32m/anaconda2/envs/tf-2-n/lib/python3.7/site-packages/six.py\u001b[0m in \u001b[0;36mraise_from\u001b[0;34m(value, from_value)\u001b[0m\n",
      "\u001b[0;31mUnimplementedError\u001b[0m: The Conv2D op currently does not support grouped convolutions on the CPU. A grouped convolution was attempted to be run because the input depth of 2 does not match the filter input depth of 1 [Op:Conv2D]"
     ]
    }
   ],
   "source": [
    "kernel_size=(2,2)\n",
    "\n",
    "import itertools\n",
    "\n",
    "for idx, permute in enumerate(itertools.permutations([0, 1, 2, 3])):\n",
    "    print(idx, permute)\n",
    "    curr_z = np.transpose(tf_z, permute)\n",
    "    new_tf_model =  tf.keras.Sequential([\n",
    "                                    tf.keras.layers.Conv2D(filters=rank,\n",
    "                                                          kernel_size=1,\n",
    "                                                          padding='same',\n",
    "                                                          kernel_initializer=tf.constant_initializer(tf_cin),\n",
    "                                                          bias_initializer='zeros',\n",
    "                                                          \n",
    "                                                          ),\n",
    "#                                     tf.keras.layers.DepthwiseConv2D(\n",
    "#                                                            kernel_size=(2, 2),\n",
    "#                                                            padding=\"valid\",\n",
    "# #                                                            kernel_initializer=tf.constant_initializer(np.transpose(tf_z, (0, 1, 3, 2))),\n",
    "#                                                            use_bias=False\n",
    "#                                                           ),\n",
    "    ]\n",
    "    )\n",
    "    old_tensor = tf.keras.backend.get_value(model.layers[0](tf_test))\n",
    "\n",
    "    new_tensors = []\n",
    "    new_tensor = tf_test\n",
    "    new_tensor = tf.keras.backend.get_value(new_tf_model.layers[0](new_tensor))\n",
    "    new_tensors.append(np.transpose(new_tensor, (0, 3, 1, 2)))\n",
    "    \n",
    "    new_tensor = tf.keras.backend.get_value(tf.nn.conv2d(new_tensor, tf_z, padding='VALID', strides=(1, 1)))\n",
    "    new_tensors.append(np.transpose(new_tensor, (0, 3, 1, 2)))\n",
    "    \n",
    "\n",
    "    print(new_tensors[1][0, 0, ...]-conv_result[1][0, 0, ...])\n",
    "\n",
    "# new_tf_model =  tf.keras.Sequential([\n",
    "#                                     tf.keras.layers.Conv2D(filters=rank,\n",
    "#                                                           kernel_size=1,\n",
    "#                                                           padding='same',\n",
    "#                                                           kernel_initializer=tf.constant_initializer(tf_cin),\n",
    "#                                                           bias_initializer='zeros',\n",
    "                                                          \n",
    "#                                                           ),\n",
    "#                                     tf.keras.layers.DepthwiseConv2D(#filters=rank,\n",
    "#                                                            kernel_size=(2, 2),\n",
    "#                                                            padding=\"valid\",\n",
    "#                                                            kernel_initializer=tf.constant_initializer(np.transpose(tf_z, (0, 1, 3, 2)).T),\n",
    "#                                                            bias_initializer='zeros',\n",
    "# #                                                                     use_bias=False\n",
    "#                                                           ),\n",
    "#                                     tf.keras.layers.Conv2D(filters=2,\n",
    "#                                                           kernel_size=1,\n",
    "#                                                           padding='valid',\n",
    "#                                                           kernel_initializer=tf.constant_initializer(tf_cout),\n",
    "#                                                           bias_initializer=tf.constant_initializer(conv1_bias),\n",
    "#                                                           ),\n",
    "#                                     tf.keras.layers.Flatten(),\n",
    "#                                     tf.keras.layers.Dense(1, \n",
    "#                                                           kernel_initializer=tf.constant_initializer(dense),\n",
    "#                                                           bias_initializer=tf.constant_initializer(dense_bias))\n",
    "#     ]\n",
    "# )"
   ]
  },
  {
   "cell_type": "code",
   "execution_count": 152,
   "metadata": {},
   "outputs": [
    {
     "name": "stdout",
     "output_type": "stream",
     "text": [
      "[[-1.3411045e-07  7.4505806e-08]]\n"
     ]
    },
    {
     "data": {
      "image/png": "[encoded data removed]",
      "text/plain": [
       "<Figure size 576x288 with 2 Axes>"
      ]
     },
     "metadata": {
      "needs_background": "light"
     },
     "output_type": "display_data"
    },
    {
     "data": {
      "image/png": "[encoded data removed]",
      "text/plain": [
       "<Figure size 576x288 with 2 Axes>"
      ]
     },
     "metadata": {
      "needs_background": "light"
     },
     "output_type": "display_data"
    },
    {
     "data": {
      "image/png": "[encoded data removed]",
      "text/plain": [
       "<Figure size 576x288 with 2 Axes>"
      ]
     },
     "metadata": {
      "needs_background": "light"
     },
     "output_type": "display_data"
    }
   ],
   "source": [
    "idx = 2\n",
    "plt.matshow(conv_result[idx][0, 0, ...])\n",
    "plt.colorbar()\n",
    "plt.show()\n",
    "\n",
    "plt.matshow(new_tensors[idx][0, 0, ...])\n",
    "plt.colorbar()\n",
    "plt.show()\n",
    "\n",
    "plt.matshow(new_tensors[idx][0, 0, ...]-conv_result[idx][0, 0, ...])\n",
    "print(new_tensors[idx][0, 0, ...]-conv_result[idx][0, 0, ...])\n",
    "plt.colorbar()\n",
    "plt.show()"
   ]
  },
  {
   "cell_type": "code",
   "execution_count": 122,
   "metadata": {},
   "outputs": [
    {
     "data": {
      "text/plain": [
       "(2,)"
      ]
     },
     "execution_count": 122,
     "metadata": {},
     "output_type": "execute_result"
    }
   ],
   "source": [
    "conv1_bias.shape"
   ]
  },
  {
   "cell_type": "code",
   "execution_count": 143,
   "metadata": {},
   "outputs": [
    {
     "data": {
      "text/plain": [
       "'1.15.0-dev20190821'"
      ]
     },
     "execution_count": 143,
     "metadata": {},
     "output_type": "execute_result"
    }
   ],
   "source": [
    "tf.__version__"
   ]
  },
  {
   "cell_type": "code",
   "execution_count": 123,
   "metadata": {},
   "outputs": [
    {
     "name": "stdout",
     "output_type": "stream",
     "text": [
      "old_tensor (1, 1, 2, 2)\n",
      "0 (1, 2, 3, 2)\n",
      "1 (1, 1, 2, 2)\n"
     ]
    },
    {
     "data": {
      "text/plain": [
       "4.153657e-07"
      ]
     },
     "execution_count": 123,
     "metadata": {},
     "output_type": "execute_result"
    }
   ],
   "source": [
    "# test = np.random.uniform(-5, 5, [1, 28, 28, 1]).astype(np.float32)\n",
    "# test = np.arange(28*28).reshape([1, 28, 28, 1]).astype(np.float32)\n",
    "# 1, 2, 2, 3\n",
    "# 1, 2, 1, 2\n",
    "# 1, 2, 1, 2\n",
    "\n",
    "\n",
    "old_tensor = tf.keras.backend.get_value(model.layers[0](tf_test))\n",
    "print('old_tensor', old_tensor.shape)\n",
    "\n",
    "new_tensors = []\n",
    "new_tensor = tf_test\n",
    "for idx in range(2):\n",
    "    new_tensor = tf.keras.backend.get_value(new_tf_model.layers[idx](new_tensor))\n",
    "#     new_tensors.append(new_tensor)\n",
    "    new_tensors.append(np.transpose(new_tensor, (0, 3, 1, 2)))\n",
    "    print(idx, new_tensor.shape)\n",
    "\n",
    "np.linalg.norm(old_answer - new_answer)\n",
    "# (1, 3, 27, 27)"
   ]
  },
  {
   "cell_type": "code",
   "execution_count": 124,
   "metadata": {},
   "outputs": [
    {
     "data": {
      "text/plain": [
       "(2, 2, 1, 2)"
      ]
     },
     "execution_count": 124,
     "metadata": {},
     "output_type": "execute_result"
    }
   ],
   "source": [
    "tf_z.shape"
   ]
  },
  {
   "cell_type": "code",
   "execution_count": 125,
   "metadata": {},
   "outputs": [
    {
     "name": "stdout",
     "output_type": "stream",
     "text": [
      "(1, 1, 1, 2)\n",
      "(2, 2, 2, 2)\n"
     ]
    }
   ],
   "source": [
    "for layer in new_tf_model.layers:\n",
    "    print(layer.get_weights()[0].shape)"
   ]
  },
  {
   "cell_type": "code",
   "execution_count": 126,
   "metadata": {},
   "outputs": [
    {
     "data": {
      "text/plain": [
       "(2, 2, 2, 2)"
      ]
     },
     "execution_count": 126,
     "metadata": {},
     "output_type": "execute_result"
    }
   ],
   "source": [
    "new_tf_model.layers[1].get_weights()[0].shape"
   ]
  },
  {
   "cell_type": "code",
   "execution_count": 127,
   "metadata": {},
   "outputs": [
    {
     "data": {
      "image/png": "[encoded data removed]",
      "text/plain": [
       "<Figure size 576x288 with 2 Axes>"
      ]
     },
     "metadata": {
      "needs_background": "light"
     },
     "output_type": "display_data"
    },
    {
     "data": {
      "image/png": "[encoded data removed]",
      "text/plain": [
       "<Figure size 576x288 with 2 Axes>"
      ]
     },
     "metadata": {
      "needs_background": "light"
     },
     "output_type": "display_data"
    },
    {
     "name": "stdout",
     "output_type": "stream",
     "text": [
      "[[ 3.1643414 -1.3082263]]\n"
     ]
    },
    {
     "data": {
      "image/png": "[encoded data removed]",
      "text/plain": [
       "<Figure size 576x288 with 2 Axes>"
      ]
     },
     "metadata": {
      "needs_background": "light"
     },
     "output_type": "display_data"
    }
   ],
   "source": [
    "# print(conv_result[2].shape, new_tensors[2].shape)\n",
    "idx = 1\n",
    "plt.matshow(conv_result[idx][0, 0, ...])\n",
    "plt.colorbar()\n",
    "plt.show()\n",
    "\n",
    "plt.matshow(new_tensors[idx][0, 0, ...])\n",
    "plt.colorbar()\n",
    "plt.show()\n",
    "\n",
    "plt.matshow(new_tensors[idx][0, 0, ...]-conv_result[idx][0, 0, ...])\n",
    "print(new_tensors[idx][0, 0, ...]-conv_result[idx][0, 0, ...])\n",
    "plt.colorbar()\n",
    "plt.show()"
   ]
  },
  {
   "cell_type": "code",
   "execution_count": 49,
   "metadata": {},
   "outputs": [
    {
     "data": {
      "text/plain": [
       "(array([[[[ 0.02786279, -0.07061532]],\n",
       " \n",
       "         [[-0.32877654,  0.11491794]]]], dtype=float32),\n",
       " array([[[[-2.438583 ,  3.4809887]],\n",
       " \n",
       "         [[-0.2432504,  0.3238274]]]], dtype=float32))"
      ]
     },
     "execution_count": 49,
     "metadata": {},
     "output_type": "execute_result"
    }
   ],
   "source": [
    "new_tensors[1], conv_result[1]"
   ]
  },
  {
   "cell_type": "code",
   "execution_count": null,
   "metadata": {},
   "outputs": [],
   "source": []
  }
 ],
 "metadata": {
  "kernelspec": {
   "display_name": "tf-2-n",
   "language": "python",
   "name": "tf-2-n"
  },
  "language_info": {
   "codemirror_mode": {
    "name": "ipython",
    "version": 3
   },
   "file_extension": ".py",
   "mimetype": "text/x-python",
   "name": "python",
   "nbconvert_exporter": "python",
   "pygments_lexer": "ipython3",
   "version": "3.7.4"
  }
 },
 "nbformat": 4,
 "nbformat_minor": 2
}
