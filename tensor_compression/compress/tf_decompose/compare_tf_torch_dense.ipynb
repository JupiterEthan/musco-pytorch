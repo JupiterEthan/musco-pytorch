{
 "cells": [
  {
   "cell_type": "code",
   "execution_count": 1,
   "metadata": {},
   "outputs": [
    {
     "name": "stdout",
     "output_type": "stream",
     "text": [
      "WARNING:tensorflow:\n",
      "\n",
      "  TensorFlow's `tf-nightly` package will soon be updated to TensorFlow 2.0.\n",
      "\n",
      "  Please upgrade your code to TensorFlow 2.0:\n",
      "    * https://www.tensorflow.org/beta/guide/migration_guide\n",
      "\n",
      "  Or install the latest stable TensorFlow 1.X release:\n",
      "    * `pip install -U \"tensorflow==1.*\"`\n",
      "\n",
      "  Otherwise your code may be broken by the change.\n",
      "\n",
      "  \n"
     ]
    }
   ],
   "source": [
    "import numpy as np\n",
    "import tensorflow as tf\n",
    "import torch\n",
    "\n",
    "from tensorflow import keras\n",
    "from tensorflow.keras import layers"
   ]
  },
  {
   "cell_type": "code",
   "execution_count": 2,
   "metadata": {},
   "outputs": [],
   "source": [
    "def get_dataset(take_first=None):\n",
    "    fashion_mnist = keras.datasets.fashion_mnist\n",
    "    (train_images, train_labels), (test_images, test_labels) = fashion_mnist.load_data()\n",
    "\n",
    "    train_images = train_images / 255.0\n",
    "    test_images = test_images / 255.0\n",
    "\n",
    "    if take_first is not None:\n",
    "        train_images = train_images[:take_first, ...]\n",
    "        train_labels = train_labels[:take_first, ...]\n",
    "        \n",
    "    train_images = np.expand_dims(train_images, -1)\n",
    "    test_images = np.expand_dims(test_images, -1)\n",
    "        \n",
    "    return train_images, train_labels, test_images, test_labels"
   ]
  },
  {
   "cell_type": "code",
   "execution_count": 3,
   "metadata": {},
   "outputs": [],
   "source": [
    "train_images, train_labels, test_images, test_labels = get_dataset()"
   ]
  },
  {
   "cell_type": "code",
   "execution_count": 4,
   "metadata": {},
   "outputs": [],
   "source": [
    "model = tf.keras.Sequential(\n",
    "    [\n",
    "        tf.keras.layers.Flatten(),\n",
    "        tf.keras.layers.Dense(10, activation='softmax')\n",
    "    ]\n",
    ")\n"
   ]
  },
  {
   "cell_type": "code",
   "execution_count": 5,
   "metadata": {},
   "outputs": [
    {
     "name": "stdout",
     "output_type": "stream",
     "text": [
      "WARNING:tensorflow:From /anaconda2/envs/tf-2-n/lib/python3.7/site-packages/tensorflow_core/python/ops/resource_variable_ops.py:1630: calling BaseResourceVariable.__init__ (from tensorflow.python.ops.resource_variable_ops) with constraint is deprecated and will be removed in a future version.\n",
      "Instructions for updating:\n",
      "If using Keras pass *_constraint arguments to layers.\n",
      "Train on 60000 samples\n",
      "60000/60000 [==============================] - 3s 42us/sample - loss: 0.6057 - acc: 0.7958\n",
      "Model: \"sequential\"\n",
      "_________________________________________________________________\n",
      "Layer (type)                 Output Shape              Param #   \n",
      "=================================================================\n",
      "flatten (Flatten)            multiple                  0         \n",
      "_________________________________________________________________\n",
      "dense (Dense)                multiple                  7850      \n",
      "=================================================================\n",
      "Total params: 7,850\n",
      "Trainable params: 7,850\n",
      "Non-trainable params: 0\n",
      "_________________________________________________________________\n"
     ]
    }
   ],
   "source": [
    "model.compile(optimizer='adam',\n",
    "                  loss='sparse_categorical_crossentropy',\n",
    "                  metrics=['accuracy'])\n",
    "\n",
    "model.fit(train_images,\n",
    "          train_labels,\n",
    "          epochs=1)\n",
    "model.summary()"
   ]
  },
  {
   "cell_type": "code",
   "execution_count": 6,
   "metadata": {},
   "outputs": [
    {
     "name": "stdout",
     "output_type": "stream",
     "text": [
      "(784, 10)\n",
      "(10,)\n"
     ]
    }
   ],
   "source": [
    "for layer in model.layers:\n",
    "    for t in layer.get_weights():\n",
    "        print(t.shape)"
   ]
  },
  {
   "cell_type": "code",
   "execution_count": 8,
   "metadata": {},
   "outputs": [
    {
     "name": "stdout",
     "output_type": "stream",
     "text": [
      "[[-0.05207232 -0.06053626 -0.088627   ...  0.04087169  0.00027399\n",
      "  -0.03533357]\n",
      " [-0.00525151 -0.10244952 -0.03475771 ... -0.10097712 -0.06813363\n",
      "   0.02764581]\n",
      " [-0.01187083 -0.1721745   0.00821813 ... -0.10540718 -0.0481778\n",
      "  -0.15599594]\n",
      " ...\n",
      " [-0.21938357 -0.08349083  0.03218159 ... -0.17229213 -0.219569\n",
      "  -0.079087  ]\n",
      " [-0.25232586 -0.1365683   0.06303443 ... -0.09119022 -0.15364283\n",
      "   0.1139854 ]\n",
      " [-0.11826022 -0.12643188 -0.00184077 ... -0.04861708 -0.07183063\n",
      "  -0.026675  ]]\n",
      "[ 0.04497597 -0.12922743 -0.06494667  0.05529986 -0.25363752  0.6366494\n",
      "  0.15206626 -0.08180395 -0.24729791 -0.4335048 ]\n"
     ]
    }
   ],
   "source": [
    "for layer in model.layers:\n",
    "    for t in layer.get_weights():\n",
    "        print(t)"
   ]
  },
  {
   "cell_type": "code",
   "execution_count": 9,
   "metadata": {},
   "outputs": [
    {
     "name": "stdout",
     "output_type": "stream",
     "text": [
      "Evaluate source model\n",
      "Test accuracy: 0.8216\n"
     ]
    }
   ],
   "source": [
    "print('Evaluate source model')\n",
    "test_loss, test_acc = model.evaluate(test_images,\n",
    "                                     test_labels,\n",
    "                                     verbose=0)\n",
    "print('Test accuracy:', test_acc)"
   ]
  },
  {
   "cell_type": "code",
   "execution_count": 10,
   "metadata": {},
   "outputs": [],
   "source": [
    "def to_tf_kernel_order(tensor):\n",
    "    \"\"\"Change conv.kernel axis order from PyTorch to Tensoflow.\n",
    "\n",
    "    :param tensor: tensor with conv.kernel weights.\n",
    "    :return: tensor with the Tensoflow-like exis order.\n",
    "    []\n",
    "    \"\"\"\n",
    "    return np.transpose(tensor, (2, 3, 1, 0))\n",
    "\n",
    "\n",
    "def to_pytorch_kernel_order(tensor):\n",
    "    \"\"\"Change conv.kernel axis order from Tensoflow to PyTorch.\n",
    "\n",
    "    :param tensor: tensor with conv.kernel weights.\n",
    "    :return: tensor with the Pytorch-like exis order.\n",
    "    []\n",
    "    \"\"\"\n",
    "    return tensor.T"
   ]
  },
  {
   "cell_type": "code",
   "execution_count": 11,
   "metadata": {},
   "outputs": [],
   "source": [
    "result = np.max(tf.keras.backend.get_value(model.layers[0](test_images.astype(np.float32))), 1)"
   ]
  },
  {
   "cell_type": "code",
   "execution_count": 12,
   "metadata": {},
   "outputs": [
    {
     "data": {
      "text/plain": [
       "(10000,)"
      ]
     },
     "execution_count": 12,
     "metadata": {},
     "output_type": "execute_result"
    }
   ],
   "source": [
    "result.shape"
   ]
  },
  {
   "cell_type": "code",
   "execution_count": 13,
   "metadata": {},
   "outputs": [],
   "source": [
    "import torch.nn as nn"
   ]
  },
  {
   "cell_type": "code",
   "execution_count": 14,
   "metadata": {},
   "outputs": [],
   "source": [
    "torch_model = nn.Sequential(\n",
    "                            nn.Flatten(),\n",
    "                            nn.Linear(7850, 10),\n",
    "                            nn.Softmax(dim=1)\n",
    "                           )"
   ]
  },
  {
   "cell_type": "code",
   "execution_count": 16,
   "metadata": {},
   "outputs": [],
   "source": [
    "dense, dense_bias = model.layers[-1].get_weights()"
   ]
  },
  {
   "cell_type": "code",
   "execution_count": 20,
   "metadata": {},
   "outputs": [],
   "source": [
    "torch_model[-2].weight.data = torch.from_numpy(dense.T).float()\n",
    "torch_model[-2].bias.data = torch.from_numpy(dense_bias).float()"
   ]
  },
  {
   "cell_type": "code",
   "execution_count": 28,
   "metadata": {},
   "outputs": [
    {
     "name": "stdout",
     "output_type": "stream",
     "text": [
      "Accuracy: 0.8216\n"
     ]
    }
   ],
   "source": [
    "# [batch, h, w, c] -> [batch, c, h, w]\n",
    "torch_test_images = np.transpose(test_images, (0, 3, 1, 2))\n",
    "\n",
    "outputs = np.argmax(torch_model(torch.from_numpy(torch_test_images).float()).data.numpy(), 1)\n",
    "c = (outputs == test_labels).squeeze()\n",
    "\n",
    "print(\"Accuracy:\", np.sum(c.astype(np.int))/c.shape[0])"
   ]
  },
  {
   "cell_type": "code",
   "execution_count": 47,
   "metadata": {},
   "outputs": [
    {
     "name": "stdout",
     "output_type": "stream",
     "text": [
      "Accuracy: 0.8216\n"
     ]
    }
   ],
   "source": [
    "tf_outputs = np.argmax(tf.keras.backend.get_value(model(test_images.reshape((test_images.shape[0], -1)))), 1) == test_labels\n",
    "print(\"Accuracy:\", np.sum(tf_outputs.astype(np.int))/tf_outputs.shape[0])"
   ]
  },
  {
   "cell_type": "code",
   "execution_count": 50,
   "metadata": {},
   "outputs": [
    {
     "data": {
      "text/plain": [
       "array([9, 2, 1, ..., 8, 1, 5])"
      ]
     },
     "execution_count": 50,
     "metadata": {},
     "output_type": "execute_result"
    }
   ],
   "source": [
    "np.argmax(tf.keras.backend.get_value(model(test_images.reshape((test_images.shape[0], -1)))), 1)"
   ]
  },
  {
   "cell_type": "code",
   "execution_count": 51,
   "metadata": {},
   "outputs": [
    {
     "data": {
      "text/plain": [
       "array([9, 2, 1, ..., 8, 1, 5])"
      ]
     },
     "execution_count": 51,
     "metadata": {},
     "output_type": "execute_result"
    }
   ],
   "source": [
    "outputs"
   ]
  },
  {
   "cell_type": "code",
   "execution_count": 52,
   "metadata": {},
   "outputs": [
    {
     "data": {
      "image/png": "[encoded data removed]",
      "text/plain": [
       "<Figure size 288x288 with 2 Axes>"
      ]
     },
     "metadata": {
      "needs_background": "light"
     },
     "output_type": "display_data"
    }
   ],
   "source": [
    "%matplotlib inline\n",
    "import matplotlib.pyplot as plt\n",
    "\n",
    "\n",
    "plt.matshow(test_images[0, ...].reshape((28, 28)))\n",
    "plt.colorbar()\n",
    "plt.show()"
   ]
  },
  {
   "cell_type": "code",
   "execution_count": 53,
   "metadata": {},
   "outputs": [
    {
     "name": "stdout",
     "output_type": "stream",
     "text": [
      "2.070092e-05\n",
      "================\n"
     ]
    }
   ],
   "source": [
    "torch_test_images = np.transpose(test_images, (0, 3, 1, 2))\n",
    "\n",
    "# for idx in range(10):\n",
    "tf_tensor = tf.keras.backend.get_value(model(test_images.reshape((test_images.shape[0], -1))))\n",
    "torch_answer = torch_model(torch.from_numpy(torch_test_images).float()).data.numpy()\n",
    "print(np.linalg.norm(tf_tensor-torch_answer))\n",
    "print(\"================\")"
   ]
  },
  {
   "cell_type": "code",
   "execution_count": 54,
   "metadata": {},
   "outputs": [],
   "source": [
    "torch_weight = torch_model[-2].weight.data\n",
    "tf_weight = model.layers[-1].get_weights()[0]"
   ]
  },
  {
   "cell_type": "code",
   "execution_count": 55,
   "metadata": {},
   "outputs": [
    {
     "data": {
      "text/plain": [
       "0.0"
      ]
     },
     "execution_count": 55,
     "metadata": {},
     "output_type": "execute_result"
    }
   ],
   "source": [
    "np.linalg.norm(tf_weight - torch_weight.data.numpy().T)"
   ]
  },
  {
   "cell_type": "code",
   "execution_count": null,
   "metadata": {},
   "outputs": [],
   "source": []
  }
 ],
 "metadata": {
  "kernelspec": {
   "display_name": "tf-2-n",
   "language": "python",
   "name": "tf-2-n"
  },
  "language_info": {
   "codemirror_mode": {
    "name": "ipython",
    "version": 3
   },
   "file_extension": ".py",
   "mimetype": "text/x-python",
   "name": "python",
   "nbconvert_exporter": "python",
   "pygments_lexer": "ipython3",
   "version": "3.7.4"
  }
 },
 "nbformat": 4,
 "nbformat_minor": 2
}
